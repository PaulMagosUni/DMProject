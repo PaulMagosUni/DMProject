{
 "cells": [
  {
   "cell_type": "code",
   "execution_count": 1,
   "metadata": {},
   "outputs": [],
   "source": [
    "from IPython.core.interactiveshell import InteractiveShell\n",
    "InteractiveShell.ast_node_interactivity = 'all' # to print multiple outputs from the same cell\n",
    "import math\n",
    "import utils\n",
    "import numpy as np\n",
    "import pandas as pd\n",
    "import scipy.stats as stats\n",
    "import matplotlib.pyplot as plt\n",
    "import seaborn as sns\n",
    "import itertools\n",
    "from operator import index\n",
    "from collections import defaultdict\n",
    "from scipy.stats import pearsonr\n",
    "from datetime import datetime"
   ]
  },
  {
   "cell_type": "code",
   "execution_count": 2,
   "metadata": {},
   "outputs": [],
   "source": [
    "tweets_df = pd.read_csv(\"dataset/tweets.csv\")\n",
    "users_df = pd.read_csv(\"dataset/users_dataset_cleaned.csv\")"
   ]
  },
  {
   "cell_type": "markdown",
   "metadata": {},
   "source": [
    "## Tweets Data Understanding and Preparation\n",
    "\n"
   ]
  },
  {
   "cell_type": "markdown",
   "metadata": {},
   "source": [
    "In tweets.csv each row contains information about a single tweet. There are 10 columns and In this case the variables are:\n",
    "\n",
    "1. ID: a unique identifier for the tweet\n",
    "\n",
    "2. User Id: a unique identifier for the user who wrote the tweet\n",
    "\n",
    "3. Retweet count: number of retweets for the tweet in analysis\n",
    "\n",
    "4. Reply count: number of reply for the tweet in analysis\n",
    "\n",
    "5. Favorite count: number of favorites (likes) received by the tweet\n",
    "\n",
    "6. Num hashtags: number of hashtags used in the tweet\n",
    "\n",
    "7. Num urls: number of urls in the tweet\n",
    "\n",
    "8. Num mentions: number of mentions in the tweet\n",
    "\n",
    "9. Created at: when the tweet was created\n",
    "\n",
    "10. Text: the text of the tweet\n"
   ]
  },
  {
   "cell_type": "markdown",
   "metadata": {},
   "source": [
    "### Attribute type and quality"
   ]
  },
  {
   "cell_type": "code",
   "execution_count": 3,
   "metadata": {},
   "outputs": [
    {
     "name": "stdout",
     "output_type": "stream",
     "text": [
      "<class 'pandas.core.frame.DataFrame'>\n",
      "RangeIndex: 13664696 entries, 0 to 13664695\n",
      "Data columns (total 10 columns):\n",
      " #   Column          Non-Null Count     Dtype \n",
      "---  ------          --------------     ----- \n",
      " 0   id              13664694 non-null  object\n",
      " 1   user_id         13447413 non-null  object\n",
      " 2   retweet_count   13227562 non-null  object\n",
      " 3   reply_count     13016818 non-null  object\n",
      " 4   favorite_count  13017154 non-null  object\n",
      " 5   num_hashtags    12607172 non-null  object\n",
      " 6   num_urls        13016073 non-null  object\n",
      " 7   num_mentions    12810531 non-null  object\n",
      " 8   created_at      13664696 non-null  object\n",
      " 9   text            13126975 non-null  object\n",
      "dtypes: object(10)\n",
      "memory usage: 8.9 GB\n"
     ]
    }
   ],
   "source": [
    "tweets_df.info(verbose=True, show_counts=True, memory_usage= \"deep\") "
   ]
  },
  {
   "cell_type": "markdown",
   "metadata": {},
   "source": [
    "## 1. Tweet_id & User_id Columns\n",
    "\n",
    "keeping only the tweets with user_id in user dataset. As these are the ones we would like to study, and have the data to verify the validity of."
   ]
  },
  {
   "cell_type": "code",
   "execution_count": 4,
   "metadata": {},
   "outputs": [],
   "source": [
    "tweets_df.rename(columns= {\"id\" : \"tweet_id\"}, inplace=True)"
   ]
  },
  {
   "cell_type": "code",
   "execution_count": 5,
   "metadata": {},
   "outputs": [
    {
     "name": "stdout",
     "output_type": "stream",
     "text": [
      "Percentage of tweets whose author id isn't inside the users dataframe: 3.56021092602426\n"
     ]
    }
   ],
   "source": [
    "before_dropping_rows_number = len(tweets_df.index)\n",
    "\n",
    "numeric_ids = pd.to_numeric(tweets_df[\"user_id\"], errors=\"coerce\")\n",
    "ids_are_not_in_users_df = numeric_ids[numeric_ids.isin(users_df[\"user_id\"]) == False]\n",
    "tweets_df.drop(ids_are_not_in_users_df.index, inplace=True)\n",
    "\n",
    "tweets_df[\"user_id\"] = pd.to_numeric(tweets_df[\"user_id\"], errors=\"coerce\")\n",
    "\n",
    "after_dropping_rows_number = len(tweets_df.index)\n",
    "\n",
    "print(f\"Percentage of tweets whose author id isn't inside the users dataframe: {(100*(before_dropping_rows_number-after_dropping_rows_number))/(before_dropping_rows_number)}\")"
   ]
  },
  {
   "cell_type": "markdown",
   "metadata": {},
   "source": [
    "These tweets are dropped from the tweets dataframe."
   ]
  },
  {
   "cell_type": "markdown",
   "metadata": {},
   "source": [
    "clean id field by casting to int"
   ]
  },
  {
   "cell_type": "code",
   "execution_count": 6,
   "metadata": {},
   "outputs": [],
   "source": [
    "tweets_df[\"tweet_id\"] = pd.to_numeric(tweets_df[\"tweet_id\"], errors=\"coerce\") # cast field to int and set invalid values to NaN"
   ]
  },
  {
   "cell_type": "markdown",
   "metadata": {},
   "source": [
    "removing tweets which are duplicates on every attribute"
   ]
  },
  {
   "cell_type": "code",
   "execution_count": 7,
   "metadata": {
    "scrolled": true
   },
   "outputs": [
    {
     "name": "stdout",
     "output_type": "stream",
     "text": [
      "Percentage of tweets duplicated along all the columns that we are deleting(after keeping the first instance): 14.75545529572922\n"
     ]
    }
   ],
   "source": [
    "original_number_rows = len(tweets_df.index)\n",
    "\n",
    "all_columns_duplicated_df = tweets_df[tweets_df.duplicated(subset=None, keep=\"first\")]\n",
    "all_columns_duplicated_number = len(all_columns_duplicated_df.index)\n",
    "\n",
    "print(f\"Percentage of tweets duplicated along all the columns that we are deleting(after keeping the first instance): {(100*(all_columns_duplicated_number))/original_number_rows}\")\n",
    "\n",
    "tweets_df.drop(labels=all_columns_duplicated_df.index, inplace=True)"
   ]
  },
  {
   "cell_type": "markdown",
   "metadata": {},
   "source": [
    "Dropping tweets whose id is an invalid value (i.e. NaN, duplicate, inf)"
   ]
  },
  {
   "cell_type": "code",
   "execution_count": 8,
   "metadata": {},
   "outputs": [
    {
     "name": "stdout",
     "output_type": "stream",
     "text": [
      "Percentage of tweets with nan tweet_id dropped: 3.333923818510375\n"
     ]
    }
   ],
   "source": [
    "before = tweets_df.size\n",
    "tweets_df = tweets_df[tweets_df['tweet_id'].notna()]\n",
    "after= tweets_df.size\n",
    "print(f\"Percentage of tweets with nan tweet_id dropped: {(100*(before - after))/before}\")"
   ]
  },
  {
   "cell_type": "code",
   "execution_count": 9,
   "metadata": {},
   "outputs": [
    {
     "name": "stdout",
     "output_type": "stream",
     "text": [
      "Num of tweets with same tweet_id dropped: 5480\n"
     ]
    }
   ],
   "source": [
    "before = tweets_df.size\n",
    "tweets_df = tweets_df.drop_duplicates(subset=\"tweet_id\")\n",
    "after = tweets_df.size\n",
    "print(f\"Num of tweets with same tweet_id dropped: {(before - after)}\")"
   ]
  },
  {
   "cell_type": "code",
   "execution_count": 10,
   "metadata": {},
   "outputs": [
    {
     "name": "stdout",
     "output_type": "stream",
     "text": [
      "Num of tweets with inf tweet_id dropped: 10\n"
     ]
    }
   ],
   "source": [
    "before = tweets_df.size\n",
    "tweets_df = tweets_df[tweets_df['tweet_id']!=np.inf]\n",
    "after = tweets_df.size\n",
    "print(f\"Num of tweets with inf tweet_id dropped: {(before - after)}\")"
   ]
  },
  {
   "cell_type": "markdown",
   "metadata": {},
   "source": [
    "We have decided to drop all tweets with NaN values as their ID. As it is difficult for us to ensure their validity. We have also decided to drop all tweets with duplicated IDs. Keeping only its first instance. \n",
    "\n",
    "As we can see from the data above. Pandas treats tweets with fields containing NaN values as different from each other. Atleast when it comes to ID. \n",
    "\n",
    "Lets see if we can find the tweets with non-NaN user-id values."
   ]
  },
  {
   "cell_type": "code",
   "execution_count": 11,
   "metadata": {},
   "outputs": [
    {
     "name": "stdout",
     "output_type": "stream",
     "text": [
      "Percentage of tweets with nan user_id dropped: 0.0\n"
     ]
    }
   ],
   "source": [
    "before = tweets_df.size\n",
    "tweets_df = tweets_df[tweets_df['user_id'].notna()]\n",
    "after= tweets_df.size\n",
    "print(f\"Percentage of tweets with nan user_id dropped: {(100*(before - after))/before}\")"
   ]
  },
  {
   "cell_type": "markdown",
   "metadata": {},
   "source": [
    "Convert tweet_id attribute to int64"
   ]
  },
  {
   "cell_type": "code",
   "execution_count": 12,
   "metadata": {},
   "outputs": [
    {
     "name": "stdout",
     "output_type": "stream",
     "text": [
      "<class 'pandas.core.frame.DataFrame'>\n",
      "Int64Index: 10858628 entries, 0 to 13664695\n",
      "Data columns (total 10 columns):\n",
      " #   Column          Dtype \n",
      "---  ------          ----- \n",
      " 0   tweet_id        int64 \n",
      " 1   user_id         int64 \n",
      " 2   retweet_count   object\n",
      " 3   reply_count     object\n",
      " 4   favorite_count  object\n",
      " 5   num_hashtags    object\n",
      " 6   num_urls        object\n",
      " 7   num_mentions    object\n",
      " 8   created_at      object\n",
      " 9   text            object\n",
      "dtypes: int64(2), object(8)\n",
      "memory usage: 911.3+ MB\n"
     ]
    }
   ],
   "source": [
    "tweets_df[\"tweet_id\"] = tweets_df[\"tweet_id\"].astype(np.int64)\n",
    "tweets_df.info()"
   ]
  },
  {
   "cell_type": "markdown",
   "metadata": {},
   "source": [
    "## 3. Numerical columns\n",
    "\n",
    "- Retweet_count\n",
    "- Reply_count\n",
    "- favorite_count\n",
    "- Num_hashtags\n",
    "- Num_urls\n",
    "- num_mentions"
   ]
  },
  {
   "cell_type": "code",
   "execution_count": 13,
   "metadata": {},
   "outputs": [
    {
     "data": {
      "text/html": [
       "<div>\n",
       "<style scoped>\n",
       "    .dataframe tbody tr th:only-of-type {\n",
       "        vertical-align: middle;\n",
       "    }\n",
       "\n",
       "    .dataframe tbody tr th {\n",
       "        vertical-align: top;\n",
       "    }\n",
       "\n",
       "    .dataframe thead th {\n",
       "        text-align: right;\n",
       "    }\n",
       "</style>\n",
       "<table border=\"1\" class=\"dataframe\">\n",
       "  <thead>\n",
       "    <tr style=\"text-align: right;\">\n",
       "      <th></th>\n",
       "      <th>retweet_count</th>\n",
       "      <th>reply_count</th>\n",
       "      <th>favorite_count</th>\n",
       "      <th>num_hashtags</th>\n",
       "      <th>num_urls</th>\n",
       "      <th>num_mentions</th>\n",
       "    </tr>\n",
       "  </thead>\n",
       "  <tbody>\n",
       "    <tr>\n",
       "      <th>count</th>\n",
       "      <td>10589137</td>\n",
       "      <td>10480176</td>\n",
       "      <td>10479682</td>\n",
       "      <td>10259406</td>\n",
       "      <td>10479097</td>\n",
       "      <td>10369957</td>\n",
       "    </tr>\n",
       "    <tr>\n",
       "      <th>unique</th>\n",
       "      <td>181213</td>\n",
       "      <td>117598</td>\n",
       "      <td>117707</td>\n",
       "      <td>77700</td>\n",
       "      <td>116554</td>\n",
       "      <td>97775</td>\n",
       "    </tr>\n",
       "    <tr>\n",
       "      <th>top</th>\n",
       "      <td>0</td>\n",
       "      <td>0</td>\n",
       "      <td>0</td>\n",
       "      <td>0</td>\n",
       "      <td>0</td>\n",
       "      <td>0</td>\n",
       "    </tr>\n",
       "    <tr>\n",
       "      <th>freq</th>\n",
       "      <td>7540373</td>\n",
       "      <td>9803698</td>\n",
       "      <td>7866508</td>\n",
       "      <td>8704828</td>\n",
       "      <td>8223780</td>\n",
       "      <td>6116212</td>\n",
       "    </tr>\n",
       "  </tbody>\n",
       "</table>\n",
       "</div>"
      ],
      "text/plain": [
       "       retweet_count reply_count favorite_count num_hashtags  num_urls  \\\n",
       "count       10589137    10480176       10479682     10259406  10479097   \n",
       "unique        181213      117598         117707        77700    116554   \n",
       "top                0           0              0            0         0   \n",
       "freq         7540373     9803698        7866508      8704828   8223780   \n",
       "\n",
       "       num_mentions  \n",
       "count      10369957  \n",
       "unique        97775  \n",
       "top               0  \n",
       "freq        6116212  "
      ]
     },
     "execution_count": 13,
     "metadata": {},
     "output_type": "execute_result"
    }
   ],
   "source": [
    "columns = [\"retweet_count\", \"reply_count\", \"favorite_count\", \"num_hashtags\", \"num_urls\", \"num_mentions\"]\n",
    "tweets_df[columns].describe()"
   ]
  },
  {
   "cell_type": "markdown",
   "metadata": {},
   "source": [
    "The following thresholds are based on the most retweet and \"liked\" tweets on the twitter platform"
   ]
  },
  {
   "cell_type": "code",
   "execution_count": 14,
   "metadata": {},
   "outputs": [
    {
     "name": "stdout",
     "output_type": "stream",
     "text": [
      "Number of invalid values for the following columns:\n",
      "retweet_count\n",
      "\tnegative: 0\n"
     ]
    },
    {
     "name": "stderr",
     "output_type": "stream",
     "text": [
      "C:\\Users\\admin\\AppData\\Local\\Temp\\ipykernel_38968\\3643846531.py:19: SettingWithCopyWarning: \n",
      "A value is trying to be set on a copy of a slice from a DataFrame\n",
      "\n",
      "See the caveats in the documentation: https://pandas.pydata.org/pandas-docs/stable/user_guide/indexing.html#returning-a-view-versus-a-copy\n",
      "  tweets_df[column_name].loc[negative_series.index] = np.NaN # setting negative values to NaN\n"
     ]
    },
    {
     "name": "stdout",
     "output_type": "stream",
     "text": [
      "\tinf: 1\n"
     ]
    },
    {
     "name": "stderr",
     "output_type": "stream",
     "text": [
      "C:\\Users\\admin\\AppData\\Local\\Temp\\ipykernel_38968\\3643846531.py:24: SettingWithCopyWarning: \n",
      "A value is trying to be set on a copy of a slice from a DataFrame\n",
      "\n",
      "See the caveats in the documentation: https://pandas.pydata.org/pandas-docs/stable/user_guide/indexing.html#returning-a-view-versus-a-copy\n",
      "  tweets_df[column_name].loc[inf_series.index] = np.NaN # setting inf values to NaN\n"
     ]
    },
    {
     "name": "stdout",
     "output_type": "stream",
     "text": [
      "\tdecimals: 0\n",
      "\tvalues above threshold (3738380): 36\n"
     ]
    },
    {
     "name": "stderr",
     "output_type": "stream",
     "text": [
      "C:\\Users\\admin\\AppData\\Local\\Temp\\ipykernel_38968\\3643846531.py:36: SettingWithCopyWarning: \n",
      "A value is trying to be set on a copy of a slice from a DataFrame\n",
      "\n",
      "See the caveats in the documentation: https://pandas.pydata.org/pandas-docs/stable/user_guide/indexing.html#returning-a-view-versus-a-copy\n",
      "  tweets_df[column_name].loc[above_threshold_series.index] = np.NaN # setting values above threshold to nan\n"
     ]
    },
    {
     "name": "stdout",
     "output_type": "stream",
     "text": [
      "reply_count\n",
      "\tnegative: 0\n",
      "\tinf: 1\n",
      "\tdecimals: 0\n",
      "\tvalues above threshold (4000000): 42\n",
      "favorite_count\n",
      "\tnegative: 1\n",
      "\tinf: 0\n",
      "\tdecimals: 0\n",
      "\tvalues above threshold (7114892): 34\n",
      "num_hashtags\n",
      "\tnegative: 0\n",
      "\tinf: 0\n",
      "\tdecimals: 0\n",
      "\tvalues above threshold (93): 279\n",
      "num_urls\n",
      "\tnegative: 0\n",
      "\tinf: 0\n",
      "\tdecimals: 0\n",
      "\tvalues above threshold (23): 469\n",
      "num_mentions\n",
      "\tnegative: 0\n",
      "\tinf: 0\n",
      "\tdecimals: 0\n",
      "\tvalues above threshold (93): 381\n"
     ]
    }
   ],
   "source": [
    "thresholds = {\n",
    "   \"retweet_count\": 3738380,\n",
    "   \"favorite_count\": 7114892,\n",
    "   \"reply_count\" : 4000000,\n",
    "   \"num_hashtags\" : 93,\n",
    "   \"num_urls\" : 23,\n",
    "   \"num_mentions\": 93\n",
    "}\n",
    "\n",
    "print(\"Number of invalid values for the following columns:\")\n",
    "for column_name in columns:\n",
    "   # casting all the columns to numeric (and setting invalid value to null)\n",
    "   tweets_df[column_name] = pd.to_numeric(tweets_df[column_name], errors=\"coerce\")\n",
    "\n",
    "   print(f\"{column_name}\")\n",
    "   # evaluating the presence of negative values\n",
    "   negative_series = tweets_df[tweets_df[column_name] < 0][column_name]\n",
    "   print(f\"\\tnegative: {len(negative_series)}\")\n",
    "   tweets_df[column_name].loc[negative_series.index] = np.NaN # setting negative values to NaN\n",
    "   \n",
    "   # evaluating the presence of inf values\n",
    "   inf_series = utils.get_inf_elements(tweets_df[column_name])\n",
    "   print(f\"\\tinf: {len(inf_series)}\")\n",
    "   tweets_df[column_name].loc[inf_series.index] = np.NaN # setting inf values to NaN\n",
    "\n",
    "   # evaluating the presence of decimal values\n",
    "   is_float = lambda n: (not pd.isna(n)) and (not math.isinf(n)) and (not n.is_integer())\n",
    "   decimal_values_series =  tweets_df[column_name].apply(is_float)\n",
    "   print(f\"\\tdecimals: {len(tweets_df[column_name][decimal_values_series])}\")\n",
    "   \n",
    "   # finding values above given thresholds (if specified)\n",
    "   if column_name in thresholds:\n",
    "       threshold = thresholds[column_name]\n",
    "       above_threshold_series = tweets_df[tweets_df[column_name] > threshold ][column_name]\n",
    "       print(f\"\\tvalues above threshold ({threshold}): {len(above_threshold_series[above_threshold_series > threshold])}\") \n",
    "       tweets_df[column_name].loc[above_threshold_series.index] = np.NaN # setting values above threshold to nan\n",
    "\n"
   ]
  },
  {
   "cell_type": "markdown",
   "metadata": {},
   "source": [
    "The first observation that can be made is that \\*_count and num_\\* fields should contain only positive integers. Something that they do.\n",
    "We find some inf values in the following columns:\n",
    "- retweet_count\n",
    "- reply_count\n",
    "\n",
    "We also find values that are above our treshold range: \n",
    "- 36 tweets above the retweet_count treshold\n",
    "- 34 tweets above the favorite_count treshold\n",
    "\n",
    "\n",
    "All these values and the infinate values are set to NaN.\n"
   ]
  },
  {
   "cell_type": "markdown",
   "metadata": {},
   "source": [
    "### Parsing columns to integer"
   ]
  },
  {
   "cell_type": "markdown",
   "metadata": {},
   "source": [
    "Substituting NaN values with median"
   ]
  },
  {
   "cell_type": "code",
   "execution_count": 15,
   "metadata": {},
   "outputs": [
    {
     "data": {
      "text/plain": [
       "retweet_count     578.764273\n",
       "reply_count         1.115122\n",
       "favorite_count      3.557493\n",
       "num_hashtags        0.176419\n",
       "num_urls            0.164779\n",
       "num_mentions        0.527135\n",
       "dtype: float64"
      ]
     },
     "execution_count": 15,
     "metadata": {},
     "output_type": "execute_result"
    },
    {
     "data": {
      "text/plain": [
       "578.764273482879"
      ]
     },
     "execution_count": 15,
     "metadata": {},
     "output_type": "execute_result"
    },
    {
     "name": "stderr",
     "output_type": "stream",
     "text": [
      "C:\\Users\\admin\\AppData\\Local\\Temp\\ipykernel_38968\\1776047286.py:11: FutureWarning: Not prepending group keys to the result index of transform-like apply. In the future, the group keys will be included in the index, regardless of whether the applied function returns a like-indexed object.\n",
      "To preserve the previous behavior, use\n",
      "\n",
      "\t>>> .groupby(..., group_keys=False)\n",
      "\n",
      "To adopt the future behavior and silence this warning, use \n",
      "\n",
      "\t>>> .groupby(..., group_keys=True)\n",
      "  tweets_df[column] = tweets_df.groupby(\"user_id\")[column].apply(lambda x: x.fillna(int(x.median())))\n"
     ]
    },
    {
     "data": {
      "text/plain": [
       "1.1151221883193607"
      ]
     },
     "execution_count": 15,
     "metadata": {},
     "output_type": "execute_result"
    },
    {
     "name": "stderr",
     "output_type": "stream",
     "text": [
      "C:\\Users\\admin\\AppData\\Local\\Temp\\ipykernel_38968\\1776047286.py:11: FutureWarning: Not prepending group keys to the result index of transform-like apply. In the future, the group keys will be included in the index, regardless of whether the applied function returns a like-indexed object.\n",
      "To preserve the previous behavior, use\n",
      "\n",
      "\t>>> .groupby(..., group_keys=False)\n",
      "\n",
      "To adopt the future behavior and silence this warning, use \n",
      "\n",
      "\t>>> .groupby(..., group_keys=True)\n",
      "  tweets_df[column] = tweets_df.groupby(\"user_id\")[column].apply(lambda x: x.fillna(int(x.median())))\n"
     ]
    },
    {
     "data": {
      "text/plain": [
       "3.5574934363089374"
      ]
     },
     "execution_count": 15,
     "metadata": {},
     "output_type": "execute_result"
    },
    {
     "name": "stderr",
     "output_type": "stream",
     "text": [
      "C:\\Users\\admin\\AppData\\Local\\Temp\\ipykernel_38968\\1776047286.py:11: FutureWarning: Not prepending group keys to the result index of transform-like apply. In the future, the group keys will be included in the index, regardless of whether the applied function returns a like-indexed object.\n",
      "To preserve the previous behavior, use\n",
      "\n",
      "\t>>> .groupby(..., group_keys=False)\n",
      "\n",
      "To adopt the future behavior and silence this warning, use \n",
      "\n",
      "\t>>> .groupby(..., group_keys=True)\n",
      "  tweets_df[column] = tweets_df.groupby(\"user_id\")[column].apply(lambda x: x.fillna(int(x.median())))\n"
     ]
    },
    {
     "data": {
      "text/plain": [
       "0.17641917614218178"
      ]
     },
     "execution_count": 15,
     "metadata": {},
     "output_type": "execute_result"
    },
    {
     "name": "stderr",
     "output_type": "stream",
     "text": [
      "C:\\Users\\admin\\AppData\\Local\\Temp\\ipykernel_38968\\1776047286.py:11: FutureWarning: Not prepending group keys to the result index of transform-like apply. In the future, the group keys will be included in the index, regardless of whether the applied function returns a like-indexed object.\n",
      "To preserve the previous behavior, use\n",
      "\n",
      "\t>>> .groupby(..., group_keys=False)\n",
      "\n",
      "To adopt the future behavior and silence this warning, use \n",
      "\n",
      "\t>>> .groupby(..., group_keys=True)\n",
      "  tweets_df[column] = tweets_df.groupby(\"user_id\")[column].apply(lambda x: x.fillna(int(x.median())))\n"
     ]
    },
    {
     "data": {
      "text/plain": [
       "0.16477910204585905"
      ]
     },
     "execution_count": 15,
     "metadata": {},
     "output_type": "execute_result"
    },
    {
     "name": "stderr",
     "output_type": "stream",
     "text": [
      "C:\\Users\\admin\\AppData\\Local\\Temp\\ipykernel_38968\\1776047286.py:11: FutureWarning: Not prepending group keys to the result index of transform-like apply. In the future, the group keys will be included in the index, regardless of whether the applied function returns a like-indexed object.\n",
      "To preserve the previous behavior, use\n",
      "\n",
      "\t>>> .groupby(..., group_keys=False)\n",
      "\n",
      "To adopt the future behavior and silence this warning, use \n",
      "\n",
      "\t>>> .groupby(..., group_keys=True)\n",
      "  tweets_df[column] = tweets_df.groupby(\"user_id\")[column].apply(lambda x: x.fillna(int(x.median())))\n"
     ]
    },
    {
     "data": {
      "text/plain": [
       "0.5271345770921211"
      ]
     },
     "execution_count": 15,
     "metadata": {},
     "output_type": "execute_result"
    },
    {
     "name": "stderr",
     "output_type": "stream",
     "text": [
      "C:\\Users\\admin\\AppData\\Local\\Temp\\ipykernel_38968\\1776047286.py:11: FutureWarning: Not prepending group keys to the result index of transform-like apply. In the future, the group keys will be included in the index, regardless of whether the applied function returns a like-indexed object.\n",
      "To preserve the previous behavior, use\n",
      "\n",
      "\t>>> .groupby(..., group_keys=False)\n",
      "\n",
      "To adopt the future behavior and silence this warning, use \n",
      "\n",
      "\t>>> .groupby(..., group_keys=True)\n",
      "  tweets_df[column] = tweets_df.groupby(\"user_id\")[column].apply(lambda x: x.fillna(int(x.median())))\n"
     ]
    }
   ],
   "source": [
    "tweets_df[columns].mean()\n",
    "\n",
    "for column in columns:\n",
    "    # column_median_value = tweets_df[column].median()\n",
    "    # Set to nan the values higher than the max integer \n",
    "    # Probably noise values\n",
    "    tweets_df[column].mean()\n",
    "    tweets_df[tweets_df[column] > float(np.iinfo(np.int64).max)][column] = np.nan\n",
    "    # Nans to median\n",
    "    # tweets_df.replace( to_replace = np.nan, value = column_median_value, inplace = True )\n",
    "    tweets_df[column] = tweets_df.groupby(\"user_id\")[column].apply(lambda x: x.fillna(int(x.median())))\n",
    "    # Cast column to int\n",
    "    tweets_df[column] = tweets_df[column].astype(np.int64)"
   ]
  },
  {
   "cell_type": "code",
   "execution_count": 16,
   "metadata": {},
   "outputs": [
    {
     "data": {
      "text/html": [
       "<div>\n",
       "<style scoped>\n",
       "    .dataframe tbody tr th:only-of-type {\n",
       "        vertical-align: middle;\n",
       "    }\n",
       "\n",
       "    .dataframe tbody tr th {\n",
       "        vertical-align: top;\n",
       "    }\n",
       "\n",
       "    .dataframe thead th {\n",
       "        text-align: right;\n",
       "    }\n",
       "</style>\n",
       "<table border=\"1\" class=\"dataframe\">\n",
       "  <thead>\n",
       "    <tr style=\"text-align: right;\">\n",
       "      <th></th>\n",
       "      <th>retweet_count</th>\n",
       "      <th>reply_count</th>\n",
       "      <th>favorite_count</th>\n",
       "      <th>num_hashtags</th>\n",
       "      <th>num_urls</th>\n",
       "      <th>num_mentions</th>\n",
       "    </tr>\n",
       "  </thead>\n",
       "  <tbody>\n",
       "    <tr>\n",
       "      <th>0.250000</th>\n",
       "      <td>0.000000e+00</td>\n",
       "      <td>0.000000</td>\n",
       "      <td>0.0000</td>\n",
       "      <td>0.000000</td>\n",
       "      <td>0.0</td>\n",
       "      <td>0.00000</td>\n",
       "    </tr>\n",
       "    <tr>\n",
       "      <th>0.500000</th>\n",
       "      <td>0.000000e+00</td>\n",
       "      <td>0.000000</td>\n",
       "      <td>0.0000</td>\n",
       "      <td>0.000000</td>\n",
       "      <td>0.0</td>\n",
       "      <td>0.00000</td>\n",
       "    </tr>\n",
       "    <tr>\n",
       "      <th>0.750000</th>\n",
       "      <td>1.000000e+00</td>\n",
       "      <td>0.000000</td>\n",
       "      <td>0.0000</td>\n",
       "      <td>0.000000</td>\n",
       "      <td>0.0</td>\n",
       "      <td>1.00000</td>\n",
       "    </tr>\n",
       "    <tr>\n",
       "      <th>0.870000</th>\n",
       "      <td>5.000000e+00</td>\n",
       "      <td>0.000000</td>\n",
       "      <td>1.0000</td>\n",
       "      <td>0.000000</td>\n",
       "      <td>1.0</td>\n",
       "      <td>1.00000</td>\n",
       "    </tr>\n",
       "    <tr>\n",
       "      <th>0.950000</th>\n",
       "      <td>4.080000e+02</td>\n",
       "      <td>0.000000</td>\n",
       "      <td>2.0000</td>\n",
       "      <td>1.000000</td>\n",
       "      <td>1.0</td>\n",
       "      <td>2.00000</td>\n",
       "    </tr>\n",
       "    <tr>\n",
       "      <th>0.990000</th>\n",
       "      <td>7.125000e+03</td>\n",
       "      <td>0.000000</td>\n",
       "      <td>7.0000</td>\n",
       "      <td>3.000000</td>\n",
       "      <td>1.0</td>\n",
       "      <td>3.00000</td>\n",
       "    </tr>\n",
       "    <tr>\n",
       "      <th>0.999000</th>\n",
       "      <td>1.130110e+05</td>\n",
       "      <td>1.000000</td>\n",
       "      <td>44.0000</td>\n",
       "      <td>6.000000</td>\n",
       "      <td>2.0</td>\n",
       "      <td>7.00000</td>\n",
       "    </tr>\n",
       "    <tr>\n",
       "      <th>0.999900</th>\n",
       "      <td>3.849450e+05</td>\n",
       "      <td>19.000000</td>\n",
       "      <td>3036.1373</td>\n",
       "      <td>10.000000</td>\n",
       "      <td>3.0</td>\n",
       "      <td>10.00000</td>\n",
       "    </tr>\n",
       "    <tr>\n",
       "      <th>0.999990</th>\n",
       "      <td>3.350015e+06</td>\n",
       "      <td>3735.068650</td>\n",
       "      <td>18690.1190</td>\n",
       "      <td>15.000000</td>\n",
       "      <td>4.0</td>\n",
       "      <td>12.00000</td>\n",
       "    </tr>\n",
       "    <tr>\n",
       "      <th>0.999999</th>\n",
       "      <td>3.350106e+06</td>\n",
       "      <td>242214.402845</td>\n",
       "      <td>135299.0000</td>\n",
       "      <td>56.989611</td>\n",
       "      <td>6.0</td>\n",
       "      <td>49.41373</td>\n",
       "    </tr>\n",
       "  </tbody>\n",
       "</table>\n",
       "</div>"
      ],
      "text/plain": [
       "          retweet_count    reply_count  favorite_count  num_hashtags  \\\n",
       "0.250000   0.000000e+00       0.000000          0.0000      0.000000   \n",
       "0.500000   0.000000e+00       0.000000          0.0000      0.000000   \n",
       "0.750000   1.000000e+00       0.000000          0.0000      0.000000   \n",
       "0.870000   5.000000e+00       0.000000          1.0000      0.000000   \n",
       "0.950000   4.080000e+02       0.000000          2.0000      1.000000   \n",
       "0.990000   7.125000e+03       0.000000          7.0000      3.000000   \n",
       "0.999000   1.130110e+05       1.000000         44.0000      6.000000   \n",
       "0.999900   3.849450e+05      19.000000       3036.1373     10.000000   \n",
       "0.999990   3.350015e+06    3735.068650      18690.1190     15.000000   \n",
       "0.999999   3.350106e+06  242214.402845     135299.0000     56.989611   \n",
       "\n",
       "          num_urls  num_mentions  \n",
       "0.250000       0.0       0.00000  \n",
       "0.500000       0.0       0.00000  \n",
       "0.750000       0.0       1.00000  \n",
       "0.870000       1.0       1.00000  \n",
       "0.950000       1.0       2.00000  \n",
       "0.990000       1.0       3.00000  \n",
       "0.999000       2.0       7.00000  \n",
       "0.999900       3.0      10.00000  \n",
       "0.999990       4.0      12.00000  \n",
       "0.999999       6.0      49.41373  "
      ]
     },
     "execution_count": 16,
     "metadata": {},
     "output_type": "execute_result"
    },
    {
     "data": {
      "text/plain": [
       "retweet_count     557.356140\n",
       "reply_count         1.064020\n",
       "favorite_count      3.402434\n",
       "num_hashtags        0.167615\n",
       "num_urls            0.159207\n",
       "num_mentions        0.522796\n",
       "dtype: float64"
      ]
     },
     "execution_count": 16,
     "metadata": {},
     "output_type": "execute_result"
    },
    {
     "data": {
      "text/plain": [
       "retweet_count     0.0\n",
       "reply_count       0.0\n",
       "favorite_count    0.0\n",
       "num_hashtags      0.0\n",
       "num_urls          0.0\n",
       "num_mentions      0.0\n",
       "dtype: float64"
      ]
     },
     "execution_count": 16,
     "metadata": {},
     "output_type": "execute_result"
    },
    {
     "data": {
      "text/html": [
       "<div>\n",
       "<style scoped>\n",
       "    .dataframe tbody tr th:only-of-type {\n",
       "        vertical-align: middle;\n",
       "    }\n",
       "\n",
       "    .dataframe tbody tr th {\n",
       "        vertical-align: top;\n",
       "    }\n",
       "\n",
       "    .dataframe thead th {\n",
       "        text-align: right;\n",
       "    }\n",
       "</style>\n",
       "<table border=\"1\" class=\"dataframe\">\n",
       "  <thead>\n",
       "    <tr style=\"text-align: right;\">\n",
       "      <th></th>\n",
       "      <th>retweet_count</th>\n",
       "      <th>reply_count</th>\n",
       "      <th>favorite_count</th>\n",
       "      <th>num_hashtags</th>\n",
       "      <th>num_urls</th>\n",
       "      <th>num_mentions</th>\n",
       "    </tr>\n",
       "  </thead>\n",
       "  <tbody>\n",
       "    <tr>\n",
       "      <th>count</th>\n",
       "      <td>1.085863e+07</td>\n",
       "      <td>1.085863e+07</td>\n",
       "      <td>1.085863e+07</td>\n",
       "      <td>1.085863e+07</td>\n",
       "      <td>1.085863e+07</td>\n",
       "      <td>1.085863e+07</td>\n",
       "    </tr>\n",
       "    <tr>\n",
       "      <th>mean</th>\n",
       "      <td>5.573561e+02</td>\n",
       "      <td>1.064020e+00</td>\n",
       "      <td>3.402434e+00</td>\n",
       "      <td>1.676147e-01</td>\n",
       "      <td>1.592073e-01</td>\n",
       "      <td>5.227962e-01</td>\n",
       "    </tr>\n",
       "    <tr>\n",
       "      <th>std</th>\n",
       "      <td>1.401281e+04</td>\n",
       "      <td>9.719157e+02</td>\n",
       "      <td>3.043163e+03</td>\n",
       "      <td>6.108903e-01</td>\n",
       "      <td>3.725180e-01</td>\n",
       "      <td>8.061519e-01</td>\n",
       "    </tr>\n",
       "    <tr>\n",
       "      <th>min</th>\n",
       "      <td>0.000000e+00</td>\n",
       "      <td>0.000000e+00</td>\n",
       "      <td>0.000000e+00</td>\n",
       "      <td>0.000000e+00</td>\n",
       "      <td>0.000000e+00</td>\n",
       "      <td>0.000000e+00</td>\n",
       "    </tr>\n",
       "    <tr>\n",
       "      <th>25%</th>\n",
       "      <td>0.000000e+00</td>\n",
       "      <td>0.000000e+00</td>\n",
       "      <td>0.000000e+00</td>\n",
       "      <td>0.000000e+00</td>\n",
       "      <td>0.000000e+00</td>\n",
       "      <td>0.000000e+00</td>\n",
       "    </tr>\n",
       "    <tr>\n",
       "      <th>50%</th>\n",
       "      <td>0.000000e+00</td>\n",
       "      <td>0.000000e+00</td>\n",
       "      <td>0.000000e+00</td>\n",
       "      <td>0.000000e+00</td>\n",
       "      <td>0.000000e+00</td>\n",
       "      <td>0.000000e+00</td>\n",
       "    </tr>\n",
       "    <tr>\n",
       "      <th>75%</th>\n",
       "      <td>1.000000e+00</td>\n",
       "      <td>0.000000e+00</td>\n",
       "      <td>0.000000e+00</td>\n",
       "      <td>0.000000e+00</td>\n",
       "      <td>0.000000e+00</td>\n",
       "      <td>1.000000e+00</td>\n",
       "    </tr>\n",
       "    <tr>\n",
       "      <th>max</th>\n",
       "      <td>3.350111e+06</td>\n",
       "      <td>2.000000e+06</td>\n",
       "      <td>7.000000e+06</td>\n",
       "      <td>9.300000e+01</td>\n",
       "      <td>2.200000e+01</td>\n",
       "      <td>9.100000e+01</td>\n",
       "    </tr>\n",
       "  </tbody>\n",
       "</table>\n",
       "</div>"
      ],
      "text/plain": [
       "       retweet_count   reply_count  favorite_count  num_hashtags  \\\n",
       "count   1.085863e+07  1.085863e+07    1.085863e+07  1.085863e+07   \n",
       "mean    5.573561e+02  1.064020e+00    3.402434e+00  1.676147e-01   \n",
       "std     1.401281e+04  9.719157e+02    3.043163e+03  6.108903e-01   \n",
       "min     0.000000e+00  0.000000e+00    0.000000e+00  0.000000e+00   \n",
       "25%     0.000000e+00  0.000000e+00    0.000000e+00  0.000000e+00   \n",
       "50%     0.000000e+00  0.000000e+00    0.000000e+00  0.000000e+00   \n",
       "75%     1.000000e+00  0.000000e+00    0.000000e+00  0.000000e+00   \n",
       "max     3.350111e+06  2.000000e+06    7.000000e+06  9.300000e+01   \n",
       "\n",
       "           num_urls  num_mentions  \n",
       "count  1.085863e+07  1.085863e+07  \n",
       "mean   1.592073e-01  5.227962e-01  \n",
       "std    3.725180e-01  8.061519e-01  \n",
       "min    0.000000e+00  0.000000e+00  \n",
       "25%    0.000000e+00  0.000000e+00  \n",
       "50%    0.000000e+00  0.000000e+00  \n",
       "75%    0.000000e+00  1.000000e+00  \n",
       "max    2.200000e+01  9.100000e+01  "
      ]
     },
     "execution_count": 16,
     "metadata": {},
     "output_type": "execute_result"
    }
   ],
   "source": [
    "tweets_df[columns].quantile([0.25, 0.5, 0.75, 0.87, 0.95, 0.99, 0.999, 0.9999, 0.99999, 0.999999])\n",
    "tweets_df[columns].mean()\n",
    "tweets_df[columns].median()\n",
    "tweets_df[columns].describe()"
   ]
  },
  {
   "cell_type": "markdown",
   "metadata": {},
   "source": [
    "## 4. Created_at Column"
   ]
  },
  {
   "cell_type": "markdown",
   "metadata": {},
   "source": [
    "created_at should be datetime\n",
    "\n",
    "Checks if all the tweets were created after the first tweet published on twitter (so we don't have something strange like a tweet created in 01-01-1990)"
   ]
  },
  {
   "cell_type": "code",
   "execution_count": 17,
   "metadata": {},
   "outputs": [],
   "source": [
    "tweets_df[\"created_at\"] = pd.to_datetime(tweets_df[\"created_at\"], errors=\"coerce\")\n",
    "\n",
    "# finding tweets created before twitter first tweet\n",
    "before_time_tweets_df = tweets_df[tweets_df[\"created_at\"] < datetime(2006,3,21,12,50,0)]\n",
    "\n",
    "# finding tweets created after dataset release\n",
    "after_time_tweets_df = tweets_df[tweets_df[\"created_at\"] > datetime(2022,9,29,11,0,0)]\n",
    "\n",
    "# dropping out of range tweets\n",
    "tweets_df = tweets_df.drop(before_time_tweets_df.index)\n",
    "tweets_df = tweets_df.drop(after_time_tweets_df.index)"
   ]
  },
  {
   "cell_type": "markdown",
   "metadata": {},
   "source": [
    "## 5. Text Column"
   ]
  },
  {
   "cell_type": "code",
   "execution_count": 18,
   "metadata": {},
   "outputs": [
    {
     "name": "stdout",
     "output_type": "stream",
     "text": [
      "<class 'pandas.core.frame.DataFrame'>\n",
      "Int64Index: 10761030 entries, 0 to 13664695\n",
      "Data columns (total 10 columns):\n",
      " #   Column          Non-Null Count     Dtype         \n",
      "---  ------          --------------     -----         \n",
      " 0   tweet_id        10761030 non-null  int64         \n",
      " 1   user_id         10761030 non-null  int64         \n",
      " 2   retweet_count   10761030 non-null  int64         \n",
      " 3   reply_count     10761030 non-null  int64         \n",
      " 4   favorite_count  10761030 non-null  int64         \n",
      " 5   num_hashtags    10761030 non-null  int64         \n",
      " 6   num_urls        10761030 non-null  int64         \n",
      " 7   num_mentions    10761030 non-null  int64         \n",
      " 8   created_at      10761030 non-null  datetime64[ns]\n",
      " 9   text            10460638 non-null  object        \n",
      "dtypes: datetime64[ns](1), int64(8), object(1)\n",
      "memory usage: 2.2 GB\n"
     ]
    },
    {
     "data": {
      "text/html": [
       "<div>\n",
       "<style scoped>\n",
       "    .dataframe tbody tr th:only-of-type {\n",
       "        vertical-align: middle;\n",
       "    }\n",
       "\n",
       "    .dataframe tbody tr th {\n",
       "        vertical-align: top;\n",
       "    }\n",
       "\n",
       "    .dataframe thead th {\n",
       "        text-align: right;\n",
       "    }\n",
       "</style>\n",
       "<table border=\"1\" class=\"dataframe\">\n",
       "  <thead>\n",
       "    <tr style=\"text-align: right;\">\n",
       "      <th></th>\n",
       "      <th>tweet_id</th>\n",
       "      <th>user_id</th>\n",
       "      <th>retweet_count</th>\n",
       "      <th>reply_count</th>\n",
       "      <th>favorite_count</th>\n",
       "      <th>num_hashtags</th>\n",
       "      <th>num_urls</th>\n",
       "      <th>num_mentions</th>\n",
       "    </tr>\n",
       "  </thead>\n",
       "  <tbody>\n",
       "    <tr>\n",
       "      <th>count</th>\n",
       "      <td>1.076103e+07</td>\n",
       "      <td>1.076103e+07</td>\n",
       "      <td>1.076103e+07</td>\n",
       "      <td>1.076103e+07</td>\n",
       "      <td>1.076103e+07</td>\n",
       "      <td>1.076103e+07</td>\n",
       "      <td>1.076103e+07</td>\n",
       "      <td>1.076103e+07</td>\n",
       "    </tr>\n",
       "    <tr>\n",
       "      <th>mean</th>\n",
       "      <td>4.699847e+17</td>\n",
       "      <td>8.304019e+08</td>\n",
       "      <td>5.545169e+02</td>\n",
       "      <td>1.073670e+00</td>\n",
       "      <td>3.429698e+00</td>\n",
       "      <td>1.671050e-01</td>\n",
       "      <td>1.590993e-01</td>\n",
       "      <td>5.201065e-01</td>\n",
       "    </tr>\n",
       "    <tr>\n",
       "      <th>std</th>\n",
       "      <td>1.693284e+17</td>\n",
       "      <td>8.521113e+08</td>\n",
       "      <td>1.399424e+04</td>\n",
       "      <td>9.763131e+02</td>\n",
       "      <td>3.056932e+03</td>\n",
       "      <td>6.106673e-01</td>\n",
       "      <td>3.724185e-01</td>\n",
       "      <td>8.048175e-01</td>\n",
       "    </tr>\n",
       "    <tr>\n",
       "      <th>min</th>\n",
       "      <td>3.460000e+02</td>\n",
       "      <td>6.780330e+05</td>\n",
       "      <td>0.000000e+00</td>\n",
       "      <td>0.000000e+00</td>\n",
       "      <td>0.000000e+00</td>\n",
       "      <td>0.000000e+00</td>\n",
       "      <td>0.000000e+00</td>\n",
       "      <td>0.000000e+00</td>\n",
       "    </tr>\n",
       "    <tr>\n",
       "      <th>25%</th>\n",
       "      <td>4.614611e+17</td>\n",
       "      <td>2.371780e+08</td>\n",
       "      <td>0.000000e+00</td>\n",
       "      <td>0.000000e+00</td>\n",
       "      <td>0.000000e+00</td>\n",
       "      <td>0.000000e+00</td>\n",
       "      <td>0.000000e+00</td>\n",
       "      <td>0.000000e+00</td>\n",
       "    </tr>\n",
       "    <tr>\n",
       "      <th>50%</th>\n",
       "      <td>5.243933e+17</td>\n",
       "      <td>4.680662e+08</td>\n",
       "      <td>0.000000e+00</td>\n",
       "      <td>0.000000e+00</td>\n",
       "      <td>0.000000e+00</td>\n",
       "      <td>0.000000e+00</td>\n",
       "      <td>0.000000e+00</td>\n",
       "      <td>0.000000e+00</td>\n",
       "    </tr>\n",
       "    <tr>\n",
       "      <th>75%</th>\n",
       "      <td>5.773086e+17</td>\n",
       "      <td>1.200888e+09</td>\n",
       "      <td>1.000000e+00</td>\n",
       "      <td>0.000000e+00</td>\n",
       "      <td>0.000000e+00</td>\n",
       "      <td>0.000000e+00</td>\n",
       "      <td>0.000000e+00</td>\n",
       "      <td>1.000000e+00</td>\n",
       "    </tr>\n",
       "    <tr>\n",
       "      <th>max</th>\n",
       "      <td>9.999952e+17</td>\n",
       "      <td>3.164942e+09</td>\n",
       "      <td>3.350111e+06</td>\n",
       "      <td>2.000000e+06</td>\n",
       "      <td>7.000000e+06</td>\n",
       "      <td>9.300000e+01</td>\n",
       "      <td>2.200000e+01</td>\n",
       "      <td>9.100000e+01</td>\n",
       "    </tr>\n",
       "  </tbody>\n",
       "</table>\n",
       "</div>"
      ],
      "text/plain": [
       "           tweet_id       user_id  retweet_count   reply_count  \\\n",
       "count  1.076103e+07  1.076103e+07   1.076103e+07  1.076103e+07   \n",
       "mean   4.699847e+17  8.304019e+08   5.545169e+02  1.073670e+00   \n",
       "std    1.693284e+17  8.521113e+08   1.399424e+04  9.763131e+02   \n",
       "min    3.460000e+02  6.780330e+05   0.000000e+00  0.000000e+00   \n",
       "25%    4.614611e+17  2.371780e+08   0.000000e+00  0.000000e+00   \n",
       "50%    5.243933e+17  4.680662e+08   0.000000e+00  0.000000e+00   \n",
       "75%    5.773086e+17  1.200888e+09   1.000000e+00  0.000000e+00   \n",
       "max    9.999952e+17  3.164942e+09   3.350111e+06  2.000000e+06   \n",
       "\n",
       "       favorite_count  num_hashtags      num_urls  num_mentions  \n",
       "count    1.076103e+07  1.076103e+07  1.076103e+07  1.076103e+07  \n",
       "mean     3.429698e+00  1.671050e-01  1.590993e-01  5.201065e-01  \n",
       "std      3.056932e+03  6.106673e-01  3.724185e-01  8.048175e-01  \n",
       "min      0.000000e+00  0.000000e+00  0.000000e+00  0.000000e+00  \n",
       "25%      0.000000e+00  0.000000e+00  0.000000e+00  0.000000e+00  \n",
       "50%      0.000000e+00  0.000000e+00  0.000000e+00  0.000000e+00  \n",
       "75%      0.000000e+00  0.000000e+00  0.000000e+00  1.000000e+00  \n",
       "max      7.000000e+06  9.300000e+01  2.200000e+01  9.100000e+01  "
      ]
     },
     "execution_count": 18,
     "metadata": {},
     "output_type": "execute_result"
    }
   ],
   "source": [
    "tweets_df.info(verbose=True, show_counts=True, memory_usage= \"deep\") \n",
    "tweets_df.describe()"
   ]
  },
  {
   "cell_type": "markdown",
   "metadata": {},
   "source": [
    "Removing tweets with null text field, float text field or only spaces, because these are not allowed by twitter"
   ]
  },
  {
   "cell_type": "code",
   "execution_count": 19,
   "metadata": {},
   "outputs": [
    {
     "name": "stdout",
     "output_type": "stream",
     "text": [
      "<class 'pandas.core.frame.DataFrame'>\n",
      "Int64Index: 10460637 entries, 0 to 13664695\n",
      "Data columns (total 10 columns):\n",
      " #   Column          Non-Null Count     Dtype         \n",
      "---  ------          --------------     -----         \n",
      " 0   tweet_id        10460637 non-null  int64         \n",
      " 1   user_id         10460637 non-null  int64         \n",
      " 2   retweet_count   10460637 non-null  int64         \n",
      " 3   reply_count     10460637 non-null  int64         \n",
      " 4   favorite_count  10460637 non-null  int64         \n",
      " 5   num_hashtags    10460637 non-null  int64         \n",
      " 6   num_urls        10460637 non-null  int64         \n",
      " 7   num_mentions    10460637 non-null  int64         \n",
      " 8   created_at      10460637 non-null  datetime64[ns]\n",
      " 9   text            10460637 non-null  object        \n",
      "dtypes: datetime64[ns](1), int64(8), object(1)\n",
      "memory usage: 2.2 GB\n"
     ]
    },
    {
     "data": {
      "text/html": [
       "<div>\n",
       "<style scoped>\n",
       "    .dataframe tbody tr th:only-of-type {\n",
       "        vertical-align: middle;\n",
       "    }\n",
       "\n",
       "    .dataframe tbody tr th {\n",
       "        vertical-align: top;\n",
       "    }\n",
       "\n",
       "    .dataframe thead th {\n",
       "        text-align: right;\n",
       "    }\n",
       "</style>\n",
       "<table border=\"1\" class=\"dataframe\">\n",
       "  <thead>\n",
       "    <tr style=\"text-align: right;\">\n",
       "      <th></th>\n",
       "      <th>tweet_id</th>\n",
       "      <th>user_id</th>\n",
       "      <th>retweet_count</th>\n",
       "      <th>reply_count</th>\n",
       "      <th>favorite_count</th>\n",
       "      <th>num_hashtags</th>\n",
       "      <th>num_urls</th>\n",
       "      <th>num_mentions</th>\n",
       "    </tr>\n",
       "  </thead>\n",
       "  <tbody>\n",
       "    <tr>\n",
       "      <th>count</th>\n",
       "      <td>1.046064e+07</td>\n",
       "      <td>1.046064e+07</td>\n",
       "      <td>1.046064e+07</td>\n",
       "      <td>1.046064e+07</td>\n",
       "      <td>1.046064e+07</td>\n",
       "      <td>1.046064e+07</td>\n",
       "      <td>1.046064e+07</td>\n",
       "      <td>1.046064e+07</td>\n",
       "    </tr>\n",
       "    <tr>\n",
       "      <th>mean</th>\n",
       "      <td>4.797205e+17</td>\n",
       "      <td>8.292025e+08</td>\n",
       "      <td>5.590582e+02</td>\n",
       "      <td>9.936469e-01</td>\n",
       "      <td>3.405883e+00</td>\n",
       "      <td>1.703234e-01</td>\n",
       "      <td>1.609096e-01</td>\n",
       "      <td>5.228098e-01</td>\n",
       "    </tr>\n",
       "    <tr>\n",
       "      <th>std</th>\n",
       "      <td>1.562082e+17</td>\n",
       "      <td>8.513559e+08</td>\n",
       "      <td>1.394359e+04</td>\n",
       "      <td>9.726417e+02</td>\n",
       "      <td>3.099434e+03</td>\n",
       "      <td>6.166257e-01</td>\n",
       "      <td>3.741348e-01</td>\n",
       "      <td>8.112719e-01</td>\n",
       "    </tr>\n",
       "    <tr>\n",
       "      <th>min</th>\n",
       "      <td>3.460000e+02</td>\n",
       "      <td>6.780330e+05</td>\n",
       "      <td>0.000000e+00</td>\n",
       "      <td>0.000000e+00</td>\n",
       "      <td>0.000000e+00</td>\n",
       "      <td>0.000000e+00</td>\n",
       "      <td>0.000000e+00</td>\n",
       "      <td>0.000000e+00</td>\n",
       "    </tr>\n",
       "    <tr>\n",
       "      <th>25%</th>\n",
       "      <td>4.680207e+17</td>\n",
       "      <td>2.364496e+08</td>\n",
       "      <td>0.000000e+00</td>\n",
       "      <td>0.000000e+00</td>\n",
       "      <td>0.000000e+00</td>\n",
       "      <td>0.000000e+00</td>\n",
       "      <td>0.000000e+00</td>\n",
       "      <td>0.000000e+00</td>\n",
       "    </tr>\n",
       "    <tr>\n",
       "      <th>50%</th>\n",
       "      <td>5.257476e+17</td>\n",
       "      <td>4.680642e+08</td>\n",
       "      <td>0.000000e+00</td>\n",
       "      <td>0.000000e+00</td>\n",
       "      <td>0.000000e+00</td>\n",
       "      <td>0.000000e+00</td>\n",
       "      <td>0.000000e+00</td>\n",
       "      <td>0.000000e+00</td>\n",
       "    </tr>\n",
       "    <tr>\n",
       "      <th>75%</th>\n",
       "      <td>5.777142e+17</td>\n",
       "      <td>1.199715e+09</td>\n",
       "      <td>1.000000e+00</td>\n",
       "      <td>0.000000e+00</td>\n",
       "      <td>0.000000e+00</td>\n",
       "      <td>0.000000e+00</td>\n",
       "      <td>0.000000e+00</td>\n",
       "      <td>1.000000e+00</td>\n",
       "    </tr>\n",
       "    <tr>\n",
       "      <th>max</th>\n",
       "      <td>9.999952e+17</td>\n",
       "      <td>3.164942e+09</td>\n",
       "      <td>3.350111e+06</td>\n",
       "      <td>2.000000e+06</td>\n",
       "      <td>7.000000e+06</td>\n",
       "      <td>9.300000e+01</td>\n",
       "      <td>2.200000e+01</td>\n",
       "      <td>9.100000e+01</td>\n",
       "    </tr>\n",
       "  </tbody>\n",
       "</table>\n",
       "</div>"
      ],
      "text/plain": [
       "           tweet_id       user_id  retweet_count   reply_count  \\\n",
       "count  1.046064e+07  1.046064e+07   1.046064e+07  1.046064e+07   \n",
       "mean   4.797205e+17  8.292025e+08   5.590582e+02  9.936469e-01   \n",
       "std    1.562082e+17  8.513559e+08   1.394359e+04  9.726417e+02   \n",
       "min    3.460000e+02  6.780330e+05   0.000000e+00  0.000000e+00   \n",
       "25%    4.680207e+17  2.364496e+08   0.000000e+00  0.000000e+00   \n",
       "50%    5.257476e+17  4.680642e+08   0.000000e+00  0.000000e+00   \n",
       "75%    5.777142e+17  1.199715e+09   1.000000e+00  0.000000e+00   \n",
       "max    9.999952e+17  3.164942e+09   3.350111e+06  2.000000e+06   \n",
       "\n",
       "       favorite_count  num_hashtags      num_urls  num_mentions  \n",
       "count    1.046064e+07  1.046064e+07  1.046064e+07  1.046064e+07  \n",
       "mean     3.405883e+00  1.703234e-01  1.609096e-01  5.228098e-01  \n",
       "std      3.099434e+03  6.166257e-01  3.741348e-01  8.112719e-01  \n",
       "min      0.000000e+00  0.000000e+00  0.000000e+00  0.000000e+00  \n",
       "25%      0.000000e+00  0.000000e+00  0.000000e+00  0.000000e+00  \n",
       "50%      0.000000e+00  0.000000e+00  0.000000e+00  0.000000e+00  \n",
       "75%      0.000000e+00  0.000000e+00  0.000000e+00  1.000000e+00  \n",
       "max      7.000000e+06  9.300000e+01  2.200000e+01  9.100000e+01  "
      ]
     },
     "execution_count": 19,
     "metadata": {},
     "output_type": "execute_result"
    },
    {
     "data": {
      "text/plain": [
       "'\\nto_drop = []\\nfor index, row in tweets_df.iterrows():\\n    if row[\"text\"].isspace():\\n        tweets_df.drop(index)\\n'"
      ]
     },
     "execution_count": 19,
     "metadata": {},
     "output_type": "execute_result"
    }
   ],
   "source": [
    "tweets_df.dropna(subset=[\"text\"], inplace=True) # drop the tweets where the text field is null\n",
    "tweets_df[\"text\"] = tweets_df[\"text\"].astype(str) # cast the text field to string\n",
    "tweets_df = tweets_df[~tweets_df.text.str.isspace()]\n",
    "\n",
    "tweets_df.info(verbose=True, show_counts=True, memory_usage= \"deep\") \n",
    "tweets_df.describe()\n",
    "# Problem with memory usage, we have to find a more effient way to remove tweets with only spaces\n",
    "# We should also drop the tweets only containing the U+3164 HANGUL FILLER, or other invisible charackters.\n",
    "#Source: https://invisible-characters.com/\n",
    "\"\"\"\n",
    "to_drop = []\n",
    "for index, row in tweets_df.iterrows():\n",
    "    if row[\"text\"].isspace():\n",
    "        tweets_df.drop(index)\n",
    "\"\"\""
   ]
  },
  {
   "cell_type": "markdown",
   "metadata": {},
   "source": [
    "### Distribution of variables and statistics\n",
    "Let's study them!\n",
    "\n",
    "Histograms for numerical fields"
   ]
  },
  {
   "cell_type": "code",
   "execution_count": 20,
   "metadata": {},
   "outputs": [
    {
     "data": {
      "text/plain": [
       "array([[<AxesSubplot: title={'center': 'retweet_count'}>,\n",
       "        <AxesSubplot: title={'center': 'reply_count'}>],\n",
       "       [<AxesSubplot: title={'center': 'favorite_count'}>,\n",
       "        <AxesSubplot: title={'center': 'num_hashtags'}>],\n",
       "       [<AxesSubplot: title={'center': 'num_urls'}>,\n",
       "        <AxesSubplot: title={'center': 'num_mentions'}>]], dtype=object)"
      ]
     },
     "execution_count": 20,
     "metadata": {},
     "output_type": "execute_result"
    },
    {
     "data": {
      "image/png": "[encoded data removed]",
      "text/plain": [
       "<Figure size 1000x800 with 6 Axes>"
      ]
     },
     "metadata": {},
     "output_type": "display_data"
    }
   ],
   "source": [
    "columns = [\"retweet_count\", \"reply_count\", \"favorite_count\", \"num_hashtags\", \"num_urls\", \"num_mentions\"]\n",
    "\n",
    "tweets_df.hist(\n",
    "    column=columns, figsize=(10,8),\n",
    "    log=True,\n",
    "    #bins=utils.get_sturges_bins(tweets_df.size)\n",
    ")"
   ]
  },
  {
   "cell_type": "markdown",
   "metadata": {},
   "source": [
    "Boxplots for the numerical fields."
   ]
  },
  {
   "cell_type": "code",
   "execution_count": 21,
   "metadata": {},
   "outputs": [
    {
     "data": {
      "text/plain": [
       "<AxesSubplot: >"
      ]
     },
     "execution_count": 21,
     "metadata": {},
     "output_type": "execute_result"
    },
    {
     "data": {
      "text/plain": [
       "'\\nfor column in columns:\\n    tweets_df.plot(kind=\"box\",\\n        column=column,\\n        logy=True\\n    )\\n    '"
      ]
     },
     "execution_count": 21,
     "metadata": {},
     "output_type": "execute_result"
    },
    {
     "data": {
      "image/png": "[encoded data removed]",
      "text/plain": [
       "<Figure size 1000x800 with 1 Axes>"
      ]
     },
     "metadata": {},
     "output_type": "display_data"
    }
   ],
   "source": [
    "tweets_df[columns].plot(kind=\"box\",\n",
    "        figsize=(10,8),\n",
    "        logy=True, \n",
    "    )\n",
    "\"\"\"\n",
    "for column in columns:\n",
    "    tweets_df.plot(kind=\"box\",\n",
    "        column=column,\n",
    "        logy=True\n",
    "    )\n",
    "    \"\"\""
   ]
  },
  {
   "cell_type": "code",
   "execution_count": 22,
   "metadata": {},
   "outputs": [
    {
     "data": {
      "text/plain": [
       "retweet_count     559.058188\n",
       "reply_count         0.993647\n",
       "favorite_count      3.405883\n",
       "num_hashtags        0.170323\n",
       "num_urls            0.160910\n",
       "num_mentions        0.522810\n",
       "dtype: float64"
      ]
     },
     "execution_count": 22,
     "metadata": {},
     "output_type": "execute_result"
    },
    {
     "data": {
      "text/plain": [
       "retweet_count     0.0\n",
       "reply_count       0.0\n",
       "favorite_count    0.0\n",
       "num_hashtags      0.0\n",
       "num_urls          0.0\n",
       "num_mentions      0.0\n",
       "dtype: float64"
      ]
     },
     "execution_count": 22,
     "metadata": {},
     "output_type": "execute_result"
    }
   ],
   "source": [
    "# #tweets_df[columns].quantile([0.05,0.25,0.5,0.75,0.95, 0.97,0.99])\n",
    "# #tweets_df[tweets_df[columns] != np.nan][columns].mean()\n",
    "\n",
    "# tweets_df[tweets_df[\"retweet_count\"] == \"NaN\"]\n",
    "# tweets_df[tweets_df[\"reply_count\"] == np.nan]\n",
    "# tweets_df[tweets_df[\"favorite_count\"] == np.nan]\n",
    "# tweets_df[tweets_df[\"num_hashtags\"] == np.nan]#[\"retweet_count\"]\n",
    "# tweets_df[tweets_df[\"num_urls\"] == np.nan]\n",
    "# tweets_df[tweets_df[\"num_mentions\"] == np.nan]\n",
    "# #tweets_df[columns].loc[:, tweets_df[columns].isna().any()]\n",
    "\n",
    "# tweets_df.isna()\n",
    "\n",
    "tweets_df[columns].mean()\n",
    "tweets_df[columns].median()"
   ]
  },
  {
   "cell_type": "code",
   "execution_count": 23,
   "metadata": {},
   "outputs": [
    {
     "data": {
      "text/html": [
       "<div>\n",
       "<style scoped>\n",
       "    .dataframe tbody tr th:only-of-type {\n",
       "        vertical-align: middle;\n",
       "    }\n",
       "\n",
       "    .dataframe tbody tr th {\n",
       "        vertical-align: top;\n",
       "    }\n",
       "\n",
       "    .dataframe thead th {\n",
       "        text-align: right;\n",
       "    }\n",
       "</style>\n",
       "<table border=\"1\" class=\"dataframe\">\n",
       "  <thead>\n",
       "    <tr style=\"text-align: right;\">\n",
       "      <th></th>\n",
       "      <th>tweet_id</th>\n",
       "      <th>user_id</th>\n",
       "      <th>retweet_count</th>\n",
       "      <th>reply_count</th>\n",
       "      <th>favorite_count</th>\n",
       "      <th>num_hashtags</th>\n",
       "      <th>num_urls</th>\n",
       "      <th>num_mentions</th>\n",
       "      <th>created_at</th>\n",
       "      <th>text</th>\n",
       "    </tr>\n",
       "  </thead>\n",
       "  <tbody>\n",
       "  </tbody>\n",
       "</table>\n",
       "</div>"
      ],
      "text/plain": [
       "Empty DataFrame\n",
       "Columns: [tweet_id, user_id, retweet_count, reply_count, favorite_count, num_hashtags, num_urls, num_mentions, created_at, text]\n",
       "Index: []"
      ]
     },
     "execution_count": 23,
     "metadata": {},
     "output_type": "execute_result"
    }
   ],
   "source": [
    "tweets_df[tweets_df['reply_count'] < 0]"
   ]
  },
  {
   "cell_type": "code",
   "execution_count": 24,
   "metadata": {},
   "outputs": [
    {
     "data": {
      "text/html": [
       "<div>\n",
       "<style scoped>\n",
       "    .dataframe tbody tr th:only-of-type {\n",
       "        vertical-align: middle;\n",
       "    }\n",
       "\n",
       "    .dataframe tbody tr th {\n",
       "        vertical-align: top;\n",
       "    }\n",
       "\n",
       "    .dataframe thead th {\n",
       "        text-align: right;\n",
       "    }\n",
       "</style>\n",
       "<table border=\"1\" class=\"dataframe\">\n",
       "  <thead>\n",
       "    <tr style=\"text-align: right;\">\n",
       "      <th></th>\n",
       "      <th>tweet_id</th>\n",
       "      <th>user_id</th>\n",
       "      <th>retweet_count</th>\n",
       "      <th>reply_count</th>\n",
       "      <th>favorite_count</th>\n",
       "      <th>num_hashtags</th>\n",
       "      <th>num_urls</th>\n",
       "      <th>num_mentions</th>\n",
       "      <th>created_at</th>\n",
       "      <th>text</th>\n",
       "    </tr>\n",
       "  </thead>\n",
       "  <tbody>\n",
       "    <tr>\n",
       "      <th>0</th>\n",
       "      <td>509354017856950336</td>\n",
       "      <td>327746321</td>\n",
       "      <td>0</td>\n",
       "      <td>0</td>\n",
       "      <td>0</td>\n",
       "      <td>0</td>\n",
       "      <td>0</td>\n",
       "      <td>0</td>\n",
       "      <td>2019-09-11 14:53:55</td>\n",
       "      <td>If man is a little lower than angels, then ang...</td>\n",
       "    </tr>\n",
       "    <tr>\n",
       "      <th>1</th>\n",
       "      <td>583002592529121280</td>\n",
       "      <td>333722906</td>\n",
       "      <td>1</td>\n",
       "      <td>0</td>\n",
       "      <td>0</td>\n",
       "      <td>0</td>\n",
       "      <td>0</td>\n",
       "      <td>1</td>\n",
       "      <td>2020-04-01 20:27:04</td>\n",
       "      <td>\"@BestWSHHVids: how do you say these words wit...</td>\n",
       "    </tr>\n",
       "    <tr>\n",
       "      <th>2</th>\n",
       "      <td>461498835362013184</td>\n",
       "      <td>2379755827</td>\n",
       "      <td>0</td>\n",
       "      <td>0</td>\n",
       "      <td>0</td>\n",
       "      <td>0</td>\n",
       "      <td>0</td>\n",
       "      <td>1</td>\n",
       "      <td>2019-05-02 13:34:31</td>\n",
       "      <td>@LOLatComedy awsome</td>\n",
       "    </tr>\n",
       "    <tr>\n",
       "      <th>3</th>\n",
       "      <td>528808127366692864</td>\n",
       "      <td>466226882</td>\n",
       "      <td>0</td>\n",
       "      <td>0</td>\n",
       "      <td>0</td>\n",
       "      <td>0</td>\n",
       "      <td>0</td>\n",
       "      <td>0</td>\n",
       "      <td>2019-11-04 07:17:37</td>\n",
       "      <td>Stephen Hawkins: i buchi neri non esistono se ...</td>\n",
       "    </tr>\n",
       "    <tr>\n",
       "      <th>4</th>\n",
       "      <td>575336690904006656</td>\n",
       "      <td>1355537995</td>\n",
       "      <td>114</td>\n",
       "      <td>0</td>\n",
       "      <td>0</td>\n",
       "      <td>1</td>\n",
       "      <td>0</td>\n",
       "      <td>1</td>\n",
       "      <td>2020-03-11 16:45:31</td>\n",
       "      <td>RT @tibbs_montris: So ready for Wednesday!</td>\n",
       "    </tr>\n",
       "  </tbody>\n",
       "</table>\n",
       "</div>"
      ],
      "text/plain": [
       "             tweet_id     user_id  retweet_count  reply_count  favorite_count  \\\n",
       "0  509354017856950336   327746321              0            0               0   \n",
       "1  583002592529121280   333722906              1            0               0   \n",
       "2  461498835362013184  2379755827              0            0               0   \n",
       "3  528808127366692864   466226882              0            0               0   \n",
       "4  575336690904006656  1355537995            114            0               0   \n",
       "\n",
       "   num_hashtags  num_urls  num_mentions          created_at  \\\n",
       "0             0         0             0 2019-09-11 14:53:55   \n",
       "1             0         0             1 2020-04-01 20:27:04   \n",
       "2             0         0             1 2019-05-02 13:34:31   \n",
       "3             0         0             0 2019-11-04 07:17:37   \n",
       "4             1         0             1 2020-03-11 16:45:31   \n",
       "\n",
       "                                                text  \n",
       "0  If man is a little lower than angels, then ang...  \n",
       "1  \"@BestWSHHVids: how do you say these words wit...  \n",
       "2                                @LOLatComedy awsome  \n",
       "3  Stephen Hawkins: i buchi neri non esistono se ...  \n",
       "4        RT @tibbs_montris: So ready for Wednesday!   "
      ]
     },
     "execution_count": 24,
     "metadata": {},
     "output_type": "execute_result"
    }
   ],
   "source": [
    "tweets_df.head()"
   ]
  },
  {
   "cell_type": "markdown",
   "metadata": {},
   "source": [
    "By looking at the boxplots we can see that there is a very high variance for the data (an observation supported also by the previous histograms). Hence, we compute the whiskers upper and lower bounds analitically for each column."
   ]
  },
  {
   "cell_type": "code",
   "execution_count": 25,
   "metadata": {},
   "outputs": [
    {
     "name": "stdout",
     "output_type": "stream",
     "text": [
      "retweet_count: 1648136 outliers\n",
      "reply_count: 16939 outliers\n",
      "favorite_count: 2033412 outliers\n",
      "num_hashtags: 1147369 outliers\n",
      "num_urls: 1659939 outliers\n",
      "num_mentions: 231907 outliers\n"
     ]
    }
   ],
   "source": [
    "# outlier detection\n",
    "outlier_thresholds = {\n",
    "    column: utils.compute_whiskers(tweets_df[column])\n",
    "    for column in columns\n",
    "}\n",
    "\n",
    "outlier_dataframes = {\n",
    "    column: tweets_df[tweets_df[column] > outlier_thresholds[column][1]][column]\n",
    "    for column in columns\n",
    "}\n",
    "\n",
    "for column in columns:\n",
    "    print(f\"{column}: {len(outlier_dataframes[column])} outliers\")\n",
    "\n",
    "# Should add what percentage of the dataframe that this consists of.\n",
    "# In this way we get a feeling of how many outliers our cleaned dataset consists of\n"
   ]
  },
  {
   "cell_type": "markdown",
   "metadata": {},
   "source": [
    "These outliers may be removed from the dataframe by running the code block bellow."
   ]
  },
  {
   "cell_type": "code",
   "execution_count": 26,
   "metadata": {},
   "outputs": [],
   "source": [
    "# # removal of outliers\n",
    "# outlier_indexes_list = [outlier_dataframe.index for outlier_dataframe in outlier_dataframes.values()]\n",
    "# for indexes in outlier_indexes_list:\n",
    "#     tweets_df.drop(indexes, inplace=True, errors=\"ignore\")"
   ]
  },
  {
   "cell_type": "markdown",
   "metadata": {},
   "source": [
    "## Tweet Data Quality Summary"
   ]
  },
  {
   "cell_type": "code",
   "execution_count": 27,
   "metadata": {},
   "outputs": [
    {
     "name": "stdout",
     "output_type": "stream",
     "text": [
      "<class 'pandas.core.frame.DataFrame'>\n",
      "Int64Index: 10460637 entries, 0 to 13664695\n",
      "Data columns (total 10 columns):\n",
      " #   Column          Non-Null Count     Dtype         \n",
      "---  ------          --------------     -----         \n",
      " 0   tweet_id        10460637 non-null  int64         \n",
      " 1   user_id         10460637 non-null  int64         \n",
      " 2   retweet_count   10460637 non-null  int64         \n",
      " 3   reply_count     10460637 non-null  int64         \n",
      " 4   favorite_count  10460637 non-null  int64         \n",
      " 5   num_hashtags    10460637 non-null  int64         \n",
      " 6   num_urls        10460637 non-null  int64         \n",
      " 7   num_mentions    10460637 non-null  int64         \n",
      " 8   created_at      10460637 non-null  datetime64[ns]\n",
      " 9   text            10460637 non-null  object        \n",
      "dtypes: datetime64[ns](1), int64(8), object(1)\n",
      "memory usage: 2.2 GB\n"
     ]
    }
   ],
   "source": [
    "tweets_df.info(verbose=True, show_counts=True, memory_usage= \"deep\") "
   ]
  },
  {
   "cell_type": "code",
   "execution_count": 28,
   "metadata": {},
   "outputs": [],
   "source": [
    "# This codeblock should compute the number of tweets belonging to human and bot accounts\n",
    "# It should also compute the percentage of this data, to come up with a number for balance\n",
    "\n",
    "# We also have to decide if we should remove the remaining tweets that include NaN values.\n",
    "# These are around 400 thousand of our 10 million four hundred thousand remaining tweets.\n",
    "# So basically less than 4%\n",
    "\n",
    "# Number_of_users_in_dataset_that_are_bots = users_df.groupby(\"bot\").get_group(1)\n",
    "# Number_of_users_in_dataset_that_are_humans = users_df.groupby(\"bot\").get_group(0)\n",
    "# total = len(Number_of_users_in_dataset_that_are_bots) + len(Number_of_users_in_dataset_that_are_humans)\n",
    "# print(f\"Out of the {total} users in our dataset. {len(Number_of_users_in_dataset_that_are_humans)} are humans, and {len(Number_of_users_in_dataset_that_are_bots)} are bots.\")\n",
    "# print(f\"The dataset consists of {round(100*(len(Number_of_users_in_dataset_that_are_humans)/total),3)}% humans and {round(100*(len(Number_of_users_in_dataset_that_are_bots)/total),3)}% bots respectively.\")\n",
    "# print(f\"399 of our users are missing their statuses_count values. These humans consist of {round(100*(len(list_of_humans)/total),3)}% of our dataset.\")\n",
    "# print(f\"These users will be removed.\")"
   ]
  },
  {
   "cell_type": "markdown",
   "metadata": {},
   "source": [
    "This block should explain the the state of the cleaned and generalized dataset. Also stating how balanced it is.\n",
    "\n",
    "From the users cleaning notebook\n",
    ".......................................\n",
    "After cleaning we are left with a \"fairly\" balanced and generalized dataset, that is ready for further use. The dataset contains approx. 45% human and 55% bot users. \n",
    "......................................."
   ]
  },
  {
   "cell_type": "code",
   "execution_count": 29,
   "metadata": {},
   "outputs": [],
   "source": [
    "tweets_df.to_csv(\"./dataset/tweets_dataset_cleaned.csv\",index=False)\n"
   ]
  }
 ],
 "metadata": {
  "kernelspec": {
   "display_name": "Python 3.10.6 64-bit",
   "language": "python",
   "name": "python3"
  },
  "language_info": {
   "codemirror_mode": {
    "name": "ipython",
    "version": 3
   },
   "file_extension": ".py",
   "mimetype": "text/x-python",
   "name": "python",
   "nbconvert_exporter": "python",
   "pygments_lexer": "ipython3",
   "version": "3.10.6"
  },
  "vscode": {
   "interpreter": {
    "hash": "916dbcbb3f70747c44a77c7bcd40155683ae19c65e1c03b4aa3499c5328201f1"
   }
  }
 },
 "nbformat": 4,
 "nbformat_minor": 2
}
