{
 "cells": [
  {
   "cell_type": "code",
   "execution_count": 1,
   "id": "f52b18c7",
   "metadata": {},
   "outputs": [],
   "source": [
    "import numpy as np\n",
    "import pandas as pd\n",
    "import matplotlib.pyplot as plt\n",
    "from sklearn.preprocessing import StandardScaler, MinMaxScaler\n",
    "from sklearn.cluster import KMeans\n",
    "from sklearn.metrics import silhouette_score, davies_bouldin_score\n",
    "import clustering_utils\n",
    "from itertools import combinations"
   ]
  },
  {
   "cell_type": "code",
   "execution_count": 2,
   "id": "489c6305",
   "metadata": {
    "scrolled": true
   },
   "outputs": [
    {
     "name": "stdout",
     "output_type": "stream",
     "text": [
      "<class 'pandas.core.frame.DataFrame'>\n",
      "Int64Index: 11108 entries, 0 to 11108\n",
      "Data columns (total 33 columns):\n",
      " #   Column                                    Non-Null Count  Dtype  \n",
      "---  ------                                    --------------  -----  \n",
      " 0   user_id                                   11108 non-null  int64  \n",
      " 1   name                                      11108 non-null  object \n",
      " 2   lang                                      11108 non-null  object \n",
      " 3   bot                                       11108 non-null  int64  \n",
      " 4   created_at                                11108 non-null  object \n",
      " 5   statuses_count                            11108 non-null  int64  \n",
      " 6   account_age_in_days                       11108 non-null  int64  \n",
      " 7   number_of_tweets                          11108 non-null  int64  \n",
      " 8   account_average_tweets_per_day            11108 non-null  float64\n",
      " 9   avg_tweets_per_actual_day                 11108 non-null  float64\n",
      " 10  day_with_most_tweets                      11108 non-null  object \n",
      " 11  max_number_of_tweets_in_a_day             11108 non-null  int64  \n",
      " 12  entropy_for_day                           11108 non-null  float64\n",
      " 13  entropy_for_hour                          11108 non-null  float64\n",
      " 14  entropy_for_minute                        11108 non-null  float64\n",
      " 15  avg_hashtags                              11108 non-null  float64\n",
      " 16  avg_text_length                           11108 non-null  float64\n",
      " 17  avg_mentions                              11108 non-null  float64\n",
      " 18  avg_special_char_in_text                  11108 non-null  float64\n",
      " 19  total_likes                               11108 non-null  int64  \n",
      " 20  avg_favorite_count                        11108 non-null  float64\n",
      " 21  total_replies                             11108 non-null  int64  \n",
      " 22  avg_reply_count                           11108 non-null  float64\n",
      " 23  total_retweet_count                       11108 non-null  int64  \n",
      " 24  account_discussion_creation_ratio         11108 non-null  float64\n",
      " 25  tweet_num_likes_ratio                     11108 non-null  float64\n",
      " 26  tweet_num_replies_ratio                   11108 non-null  float64\n",
      " 27  entropy_original_text                     11108 non-null  float64\n",
      " 28  entropy_text                              11108 non-null  float64\n",
      " 29  mean_inactive_period_length_in_seconds    11108 non-null  float64\n",
      " 30  median_inactive_period_length_in_seconds  11108 non-null  float64\n",
      " 31  mode_inactive_period_length_in_seconds    11108 non-null  float64\n",
      " 32  mode_count                                11108 non-null  int64  \n",
      "dtypes: float64(19), int64(10), object(4)\n",
      "memory usage: 2.9+ MB\n"
     ]
    },
    {
     "data": {
      "text/html": [
       "<div>\n",
       "<style scoped>\n",
       "    .dataframe tbody tr th:only-of-type {\n",
       "        vertical-align: middle;\n",
       "    }\n",
       "\n",
       "    .dataframe tbody tr th {\n",
       "        vertical-align: top;\n",
       "    }\n",
       "\n",
       "    .dataframe thead th {\n",
       "        text-align: right;\n",
       "    }\n",
       "</style>\n",
       "<table border=\"1\" class=\"dataframe\">\n",
       "  <thead>\n",
       "    <tr style=\"text-align: right;\">\n",
       "      <th></th>\n",
       "      <th>user_id</th>\n",
       "      <th>bot</th>\n",
       "      <th>statuses_count</th>\n",
       "      <th>account_age_in_days</th>\n",
       "      <th>number_of_tweets</th>\n",
       "      <th>account_average_tweets_per_day</th>\n",
       "      <th>avg_tweets_per_actual_day</th>\n",
       "      <th>max_number_of_tweets_in_a_day</th>\n",
       "      <th>entropy_for_day</th>\n",
       "      <th>entropy_for_hour</th>\n",
       "      <th>...</th>\n",
       "      <th>total_retweet_count</th>\n",
       "      <th>account_discussion_creation_ratio</th>\n",
       "      <th>tweet_num_likes_ratio</th>\n",
       "      <th>tweet_num_replies_ratio</th>\n",
       "      <th>entropy_original_text</th>\n",
       "      <th>entropy_text</th>\n",
       "      <th>mean_inactive_period_length_in_seconds</th>\n",
       "      <th>median_inactive_period_length_in_seconds</th>\n",
       "      <th>mode_inactive_period_length_in_seconds</th>\n",
       "      <th>mode_count</th>\n",
       "    </tr>\n",
       "  </thead>\n",
       "  <tbody>\n",
       "    <tr>\n",
       "      <th>count</th>\n",
       "      <td>1.110800e+04</td>\n",
       "      <td>11108.000000</td>\n",
       "      <td>11108.000000</td>\n",
       "      <td>11108.000000</td>\n",
       "      <td>11108.000000</td>\n",
       "      <td>11108.000000</td>\n",
       "      <td>11108.000000</td>\n",
       "      <td>11108.000000</td>\n",
       "      <td>11108.000000</td>\n",
       "      <td>11108.000000</td>\n",
       "      <td>...</td>\n",
       "      <td>1.110800e+04</td>\n",
       "      <td>11108.000000</td>\n",
       "      <td>11108.000000</td>\n",
       "      <td>11108.000000</td>\n",
       "      <td>11108.000000</td>\n",
       "      <td>1.110800e+04</td>\n",
       "      <td>1.110800e+04</td>\n",
       "      <td>1.110800e+04</td>\n",
       "      <td>1.110800e+04</td>\n",
       "      <td>11108.000000</td>\n",
       "    </tr>\n",
       "    <tr>\n",
       "      <th>mean</th>\n",
       "      <td>1.263557e+09</td>\n",
       "      <td>0.550594</td>\n",
       "      <td>485.581023</td>\n",
       "      <td>1827.635938</td>\n",
       "      <td>941.462009</td>\n",
       "      <td>0.262567</td>\n",
       "      <td>13.375639</td>\n",
       "      <td>52.167267</td>\n",
       "      <td>2.795125</td>\n",
       "      <td>1.995850</td>\n",
       "      <td>...</td>\n",
       "      <td>5.260731e+05</td>\n",
       "      <td>19.516091</td>\n",
       "      <td>17.395740</td>\n",
       "      <td>4.134271</td>\n",
       "      <td>7.731713</td>\n",
       "      <td>4.480927e-06</td>\n",
       "      <td>6.240840e+05</td>\n",
       "      <td>3.192250e+05</td>\n",
       "      <td>1.657036e+05</td>\n",
       "      <td>75.145211</td>\n",
       "    </tr>\n",
       "    <tr>\n",
       "      <th>std</th>\n",
       "      <td>9.362939e+08</td>\n",
       "      <td>0.497456</td>\n",
       "      <td>1239.154853</td>\n",
       "      <td>555.101424</td>\n",
       "      <td>1199.280546</td>\n",
       "      <td>0.679668</td>\n",
       "      <td>37.978610</td>\n",
       "      <td>87.945867</td>\n",
       "      <td>1.459904</td>\n",
       "      <td>1.086835</td>\n",
       "      <td>...</td>\n",
       "      <td>2.930989e+06</td>\n",
       "      <td>80.966312</td>\n",
       "      <td>46.418556</td>\n",
       "      <td>29.054618</td>\n",
       "      <td>2.656620</td>\n",
       "      <td>1.077508e-05</td>\n",
       "      <td>3.885050e+06</td>\n",
       "      <td>3.610090e+06</td>\n",
       "      <td>3.235159e+06</td>\n",
       "      <td>119.629358</td>\n",
       "    </tr>\n",
       "    <tr>\n",
       "      <th>min</th>\n",
       "      <td>6.780330e+05</td>\n",
       "      <td>0.000000</td>\n",
       "      <td>0.000000</td>\n",
       "      <td>891.000000</td>\n",
       "      <td>1.000000</td>\n",
       "      <td>0.000000</td>\n",
       "      <td>1.000000</td>\n",
       "      <td>1.000000</td>\n",
       "      <td>0.000000</td>\n",
       "      <td>0.000000</td>\n",
       "      <td>...</td>\n",
       "      <td>0.000000e+00</td>\n",
       "      <td>0.000000</td>\n",
       "      <td>0.000000</td>\n",
       "      <td>0.000000</td>\n",
       "      <td>0.439497</td>\n",
       "      <td>1.321162e-07</td>\n",
       "      <td>4.300000e+01</td>\n",
       "      <td>0.000000e+00</td>\n",
       "      <td>0.000000e+00</td>\n",
       "      <td>1.000000</td>\n",
       "    </tr>\n",
       "    <tr>\n",
       "      <th>25%</th>\n",
       "      <td>4.662897e+08</td>\n",
       "      <td>0.000000</td>\n",
       "      <td>41.000000</td>\n",
       "      <td>1312.000000</td>\n",
       "      <td>67.000000</td>\n",
       "      <td>0.022468</td>\n",
       "      <td>1.844843</td>\n",
       "      <td>6.000000</td>\n",
       "      <td>1.426160</td>\n",
       "      <td>1.032655</td>\n",
       "      <td>...</td>\n",
       "      <td>3.000000e+00</td>\n",
       "      <td>0.001647</td>\n",
       "      <td>0.957845</td>\n",
       "      <td>0.000000</td>\n",
       "      <td>6.058814</td>\n",
       "      <td>2.710587e-07</td>\n",
       "      <td>5.758676e+04</td>\n",
       "      <td>2.400000e+01</td>\n",
       "      <td>0.000000e+00</td>\n",
       "      <td>5.000000</td>\n",
       "    </tr>\n",
       "    <tr>\n",
       "      <th>50%</th>\n",
       "      <td>1.127886e+09</td>\n",
       "      <td>1.000000</td>\n",
       "      <td>68.000000</td>\n",
       "      <td>1702.000000</td>\n",
       "      <td>132.000000</td>\n",
       "      <td>0.035088</td>\n",
       "      <td>4.777778</td>\n",
       "      <td>18.000000</td>\n",
       "      <td>2.921068</td>\n",
       "      <td>2.234410</td>\n",
       "      <td>...</td>\n",
       "      <td>7.650000e+01</td>\n",
       "      <td>0.040932</td>\n",
       "      <td>7.500000</td>\n",
       "      <td>0.000000</td>\n",
       "      <td>6.886985</td>\n",
       "      <td>7.783141e-07</td>\n",
       "      <td>1.116091e+05</td>\n",
       "      <td>8.410000e+02</td>\n",
       "      <td>0.000000e+00</td>\n",
       "      <td>11.000000</td>\n",
       "    </tr>\n",
       "    <tr>\n",
       "      <th>75%</th>\n",
       "      <td>2.356965e+09</td>\n",
       "      <td>1.000000</td>\n",
       "      <td>81.000000</td>\n",
       "      <td>2080.000000</td>\n",
       "      <td>1703.000000</td>\n",
       "      <td>0.058218</td>\n",
       "      <td>8.058232</td>\n",
       "      <td>75.000000</td>\n",
       "      <td>3.709885</td>\n",
       "      <td>2.788765</td>\n",
       "      <td>...</td>\n",
       "      <td>6.465900e+04</td>\n",
       "      <td>20.000000</td>\n",
       "      <td>20.800000</td>\n",
       "      <td>0.000000</td>\n",
       "      <td>10.492429</td>\n",
       "      <td>1.498555e-06</td>\n",
       "      <td>2.841188e+05</td>\n",
       "      <td>5.117075e+04</td>\n",
       "      <td>0.000000e+00</td>\n",
       "      <td>128.000000</td>\n",
       "    </tr>\n",
       "    <tr>\n",
       "      <th>max</th>\n",
       "      <td>3.164942e+09</td>\n",
       "      <td>1.000000</td>\n",
       "      <td>7226.000000</td>\n",
       "      <td>3901.000000</td>\n",
       "      <td>3668.000000</td>\n",
       "      <td>6.792821</td>\n",
       "      <td>1759.500000</td>\n",
       "      <td>2131.000000</td>\n",
       "      <td>5.706424</td>\n",
       "      <td>5.705947</td>\n",
       "      <td>...</td>\n",
       "      <td>9.638758e+07</td>\n",
       "      <td>3519.000000</td>\n",
       "      <td>2877.000000</td>\n",
       "      <td>1762.000000</td>\n",
       "      <td>11.684289</td>\n",
       "      <td>6.034724e-05</td>\n",
       "      <td>1.182533e+08</td>\n",
       "      <td>1.182533e+08</td>\n",
       "      <td>1.182533e+08</td>\n",
       "      <td>2634.000000</td>\n",
       "    </tr>\n",
       "  </tbody>\n",
       "</table>\n",
       "<p>8 rows × 29 columns</p>\n",
       "</div>"
      ],
      "text/plain": [
       "            user_id           bot  statuses_count  account_age_in_days  \\\n",
       "count  1.110800e+04  11108.000000    11108.000000         11108.000000   \n",
       "mean   1.263557e+09      0.550594      485.581023          1827.635938   \n",
       "std    9.362939e+08      0.497456     1239.154853           555.101424   \n",
       "min    6.780330e+05      0.000000        0.000000           891.000000   \n",
       "25%    4.662897e+08      0.000000       41.000000          1312.000000   \n",
       "50%    1.127886e+09      1.000000       68.000000          1702.000000   \n",
       "75%    2.356965e+09      1.000000       81.000000          2080.000000   \n",
       "max    3.164942e+09      1.000000     7226.000000          3901.000000   \n",
       "\n",
       "       number_of_tweets  account_average_tweets_per_day  \\\n",
       "count      11108.000000                    11108.000000   \n",
       "mean         941.462009                        0.262567   \n",
       "std         1199.280546                        0.679668   \n",
       "min            1.000000                        0.000000   \n",
       "25%           67.000000                        0.022468   \n",
       "50%          132.000000                        0.035088   \n",
       "75%         1703.000000                        0.058218   \n",
       "max         3668.000000                        6.792821   \n",
       "\n",
       "       avg_tweets_per_actual_day  max_number_of_tweets_in_a_day  \\\n",
       "count               11108.000000                   11108.000000   \n",
       "mean                   13.375639                      52.167267   \n",
       "std                    37.978610                      87.945867   \n",
       "min                     1.000000                       1.000000   \n",
       "25%                     1.844843                       6.000000   \n",
       "50%                     4.777778                      18.000000   \n",
       "75%                     8.058232                      75.000000   \n",
       "max                  1759.500000                    2131.000000   \n",
       "\n",
       "       entropy_for_day  entropy_for_hour  ...  total_retweet_count  \\\n",
       "count     11108.000000      11108.000000  ...         1.110800e+04   \n",
       "mean          2.795125          1.995850  ...         5.260731e+05   \n",
       "std           1.459904          1.086835  ...         2.930989e+06   \n",
       "min           0.000000          0.000000  ...         0.000000e+00   \n",
       "25%           1.426160          1.032655  ...         3.000000e+00   \n",
       "50%           2.921068          2.234410  ...         7.650000e+01   \n",
       "75%           3.709885          2.788765  ...         6.465900e+04   \n",
       "max           5.706424          5.705947  ...         9.638758e+07   \n",
       "\n",
       "       account_discussion_creation_ratio  tweet_num_likes_ratio  \\\n",
       "count                       11108.000000           11108.000000   \n",
       "mean                           19.516091              17.395740   \n",
       "std                            80.966312              46.418556   \n",
       "min                             0.000000               0.000000   \n",
       "25%                             0.001647               0.957845   \n",
       "50%                             0.040932               7.500000   \n",
       "75%                            20.000000              20.800000   \n",
       "max                          3519.000000            2877.000000   \n",
       "\n",
       "       tweet_num_replies_ratio  entropy_original_text  entropy_text  \\\n",
       "count             11108.000000           11108.000000  1.110800e+04   \n",
       "mean                  4.134271               7.731713  4.480927e-06   \n",
       "std                  29.054618               2.656620  1.077508e-05   \n",
       "min                   0.000000               0.439497  1.321162e-07   \n",
       "25%                   0.000000               6.058814  2.710587e-07   \n",
       "50%                   0.000000               6.886985  7.783141e-07   \n",
       "75%                   0.000000              10.492429  1.498555e-06   \n",
       "max                1762.000000              11.684289  6.034724e-05   \n",
       "\n",
       "       mean_inactive_period_length_in_seconds  \\\n",
       "count                            1.110800e+04   \n",
       "mean                             6.240840e+05   \n",
       "std                              3.885050e+06   \n",
       "min                              4.300000e+01   \n",
       "25%                              5.758676e+04   \n",
       "50%                              1.116091e+05   \n",
       "75%                              2.841188e+05   \n",
       "max                              1.182533e+08   \n",
       "\n",
       "       median_inactive_period_length_in_seconds  \\\n",
       "count                              1.110800e+04   \n",
       "mean                               3.192250e+05   \n",
       "std                                3.610090e+06   \n",
       "min                                0.000000e+00   \n",
       "25%                                2.400000e+01   \n",
       "50%                                8.410000e+02   \n",
       "75%                                5.117075e+04   \n",
       "max                                1.182533e+08   \n",
       "\n",
       "       mode_inactive_period_length_in_seconds    mode_count  \n",
       "count                            1.110800e+04  11108.000000  \n",
       "mean                             1.657036e+05     75.145211  \n",
       "std                              3.235159e+06    119.629358  \n",
       "min                              0.000000e+00      1.000000  \n",
       "25%                              0.000000e+00      5.000000  \n",
       "50%                              0.000000e+00     11.000000  \n",
       "75%                              0.000000e+00    128.000000  \n",
       "max                              1.182533e+08   2634.000000  \n",
       "\n",
       "[8 rows x 29 columns]"
      ]
     },
     "execution_count": 2,
     "metadata": {},
     "output_type": "execute_result"
    }
   ],
   "source": [
    "users_df = pd.read_csv(\"dataset/users_df_dataset_cleaned_with_indicators.csv\")\n",
    "users_df.dropna(inplace=True)\n",
    "users_df.info(verbose=True)\n",
    "users_df.describe()"
   ]
  },
  {
   "cell_type": "markdown",
   "id": "7fe66930",
   "metadata": {},
   "source": [
    "# K-MEANS"
   ]
  },
  {
   "cell_type": "code",
   "execution_count": 3,
   "id": "3a999141",
   "metadata": {},
   "outputs": [],
   "source": [
    "indicator_columns_users = ['account_average_tweets_per_day', 'avg_tweets_per_actual_day', 'covid19_num_of_tweets', 'avg_hashtags', \n",
    "                            'avg_text_length', 'avg_mentions', 'avg_special_char_in_text', 'avt_favorite_count', 'total_replies',\n",
    "                            'avt_reply_count', 'total_retweet_count', 'account_discussion_creation_ratio', 'tweet_num_likes_ratio',\n",
    "                            'tweet_num_replies_ratio']\n",
    "\n",
    "all_possible_combinations = list(combinations(indicator_columns_users, 2))\n",
    "combination = all_possible_combinations[43]"
   ]
  },
  {
   "cell_type": "code",
   "execution_count": 4,
   "id": "341e97a6",
   "metadata": {},
   "outputs": [],
   "source": [
    "subset_df = users_df[list(combination)]\n",
    "scaler = StandardScaler()\n",
    "scaler.fit(subset_df.values)\n",
    "transform_result = scaler.fit_transform(subset_df.values)"
   ]
  },
  {
   "cell_type": "code",
   "execution_count": 8,
   "id": "ce4cbebc",
   "metadata": {},
   "outputs": [
    {
     "data": {
      "text/plain": [
       "avg_hashtags                         False\n",
       "account_discussion_creation_ratio    False\n",
       "dtype: bool"
      ]
     },
     "execution_count": 8,
     "metadata": {},
     "output_type": "execute_result"
    }
   ],
   "source": [
    "subset_df.isna().any()"
   ]
  },
  {
   "cell_type": "code",
   "execution_count": 5,
   "id": "4dea1ffd",
   "metadata": {},
   "outputs": [
    {
     "ename": "AttributeError",
     "evalue": "'NoneType' object has no attribute 'split'",
     "output_type": "error",
     "traceback": [
      "\u001b[0;31m---------------------------------------------------------------------------\u001b[0m",
      "\u001b[0;31mAttributeError\u001b[0m                            Traceback (most recent call last)",
      "Cell \u001b[0;32mIn[5], line 2\u001b[0m\n\u001b[1;32m      1\u001b[0m kmeans \u001b[39m=\u001b[39m KMeans(n_clusters\u001b[39m=\u001b[39m\u001b[39m5\u001b[39m, n_init\u001b[39m=\u001b[39m\u001b[39m10\u001b[39m, max_iter\u001b[39m=\u001b[39m\u001b[39m100\u001b[39m)\n\u001b[0;32m----> 2\u001b[0m kmeans\u001b[39m.\u001b[39;49mfit(transform_result)\n",
      "File \u001b[0;32m/opt/homebrew/Caskroom/miniconda/base/envs/tf/lib/python3.9/site-packages/sklearn/cluster/_kmeans.py:1417\u001b[0m, in \u001b[0;36mKMeans.fit\u001b[0;34m(self, X, y, sample_weight)\u001b[0m\n\u001b[1;32m   1414\u001b[0m     \u001b[39mprint\u001b[39m(\u001b[39m\"\u001b[39m\u001b[39mInitialization complete\u001b[39m\u001b[39m\"\u001b[39m)\n\u001b[1;32m   1416\u001b[0m \u001b[39m# run a k-means once\u001b[39;00m\n\u001b[0;32m-> 1417\u001b[0m labels, inertia, centers, n_iter_ \u001b[39m=\u001b[39m kmeans_single(\n\u001b[1;32m   1418\u001b[0m     X,\n\u001b[1;32m   1419\u001b[0m     sample_weight,\n\u001b[1;32m   1420\u001b[0m     centers_init,\n\u001b[1;32m   1421\u001b[0m     max_iter\u001b[39m=\u001b[39;49m\u001b[39mself\u001b[39;49m\u001b[39m.\u001b[39;49mmax_iter,\n\u001b[1;32m   1422\u001b[0m     verbose\u001b[39m=\u001b[39;49m\u001b[39mself\u001b[39;49m\u001b[39m.\u001b[39;49mverbose,\n\u001b[1;32m   1423\u001b[0m     tol\u001b[39m=\u001b[39;49m\u001b[39mself\u001b[39;49m\u001b[39m.\u001b[39;49m_tol,\n\u001b[1;32m   1424\u001b[0m     x_squared_norms\u001b[39m=\u001b[39;49mx_squared_norms,\n\u001b[1;32m   1425\u001b[0m     n_threads\u001b[39m=\u001b[39;49m\u001b[39mself\u001b[39;49m\u001b[39m.\u001b[39;49m_n_threads,\n\u001b[1;32m   1426\u001b[0m )\n\u001b[1;32m   1428\u001b[0m \u001b[39m# determine if these results are the best so far\u001b[39;00m\n\u001b[1;32m   1429\u001b[0m \u001b[39m# we chose a new run if it has a better inertia and the clustering is\u001b[39;00m\n\u001b[1;32m   1430\u001b[0m \u001b[39m# different from the best so far (it's possible that the inertia is\u001b[39;00m\n\u001b[1;32m   1431\u001b[0m \u001b[39m# slightly better even if the clustering is the same with potentially\u001b[39;00m\n\u001b[1;32m   1432\u001b[0m \u001b[39m# permuted labels, due to rounding errors)\u001b[39;00m\n\u001b[1;32m   1433\u001b[0m \u001b[39mif\u001b[39;00m best_inertia \u001b[39mis\u001b[39;00m \u001b[39mNone\u001b[39;00m \u001b[39mor\u001b[39;00m (\n\u001b[1;32m   1434\u001b[0m     inertia \u001b[39m<\u001b[39m best_inertia\n\u001b[1;32m   1435\u001b[0m     \u001b[39mand\u001b[39;00m \u001b[39mnot\u001b[39;00m _is_same_clustering(labels, best_labels, \u001b[39mself\u001b[39m\u001b[39m.\u001b[39mn_clusters)\n\u001b[1;32m   1436\u001b[0m ):\n",
      "File \u001b[0;32m/opt/homebrew/Caskroom/miniconda/base/envs/tf/lib/python3.9/site-packages/sklearn/cluster/_kmeans.py:646\u001b[0m, in \u001b[0;36m_kmeans_single_lloyd\u001b[0;34m(X, sample_weight, centers_init, max_iter, verbose, x_squared_norms, tol, n_threads)\u001b[0m\n\u001b[1;32m    642\u001b[0m strict_convergence \u001b[39m=\u001b[39m \u001b[39mFalse\u001b[39;00m\n\u001b[1;32m    644\u001b[0m \u001b[39m# Threadpoolctl context to limit the number of threads in second level of\u001b[39;00m\n\u001b[1;32m    645\u001b[0m \u001b[39m# nested parallelism (i.e. BLAS) to avoid oversubscription.\u001b[39;00m\n\u001b[0;32m--> 646\u001b[0m \u001b[39mwith\u001b[39;00m threadpool_limits(limits\u001b[39m=\u001b[39;49m\u001b[39m1\u001b[39;49m, user_api\u001b[39m=\u001b[39;49m\u001b[39m\"\u001b[39;49m\u001b[39mblas\u001b[39;49m\u001b[39m\"\u001b[39;49m):\n\u001b[1;32m    647\u001b[0m     \u001b[39mfor\u001b[39;00m i \u001b[39min\u001b[39;00m \u001b[39mrange\u001b[39m(max_iter):\n\u001b[1;32m    648\u001b[0m         lloyd_iter(\n\u001b[1;32m    649\u001b[0m             X,\n\u001b[1;32m    650\u001b[0m             sample_weight,\n\u001b[0;32m   (...)\u001b[0m\n\u001b[1;32m    657\u001b[0m             n_threads,\n\u001b[1;32m    658\u001b[0m         )\n",
      "File \u001b[0;32m/opt/homebrew/Caskroom/miniconda/base/envs/tf/lib/python3.9/site-packages/sklearn/utils/fixes.py:151\u001b[0m, in \u001b[0;36mthreadpool_limits\u001b[0;34m(limits, user_api)\u001b[0m\n\u001b[1;32m    149\u001b[0m     \u001b[39mreturn\u001b[39;00m controller\u001b[39m.\u001b[39mlimit(limits\u001b[39m=\u001b[39mlimits, user_api\u001b[39m=\u001b[39muser_api)\n\u001b[1;32m    150\u001b[0m \u001b[39melse\u001b[39;00m:\n\u001b[0;32m--> 151\u001b[0m     \u001b[39mreturn\u001b[39;00m threadpoolctl\u001b[39m.\u001b[39;49mthreadpool_limits(limits\u001b[39m=\u001b[39;49mlimits, user_api\u001b[39m=\u001b[39;49muser_api)\n",
      "File \u001b[0;32m/opt/homebrew/Caskroom/miniconda/base/envs/tf/lib/python3.9/site-packages/threadpoolctl.py:171\u001b[0m, in \u001b[0;36mthreadpool_limits.__init__\u001b[0;34m(self, limits, user_api)\u001b[0m\n\u001b[1;32m    167\u001b[0m \u001b[39mdef\u001b[39;00m \u001b[39m__init__\u001b[39m(\u001b[39mself\u001b[39m, limits\u001b[39m=\u001b[39m\u001b[39mNone\u001b[39;00m, user_api\u001b[39m=\u001b[39m\u001b[39mNone\u001b[39;00m):\n\u001b[1;32m    168\u001b[0m     \u001b[39mself\u001b[39m\u001b[39m.\u001b[39m_limits, \u001b[39mself\u001b[39m\u001b[39m.\u001b[39m_user_api, \u001b[39mself\u001b[39m\u001b[39m.\u001b[39m_prefixes \u001b[39m=\u001b[39m \\\n\u001b[1;32m    169\u001b[0m         \u001b[39mself\u001b[39m\u001b[39m.\u001b[39m_check_params(limits, user_api)\n\u001b[0;32m--> 171\u001b[0m     \u001b[39mself\u001b[39m\u001b[39m.\u001b[39m_original_info \u001b[39m=\u001b[39m \u001b[39mself\u001b[39;49m\u001b[39m.\u001b[39;49m_set_threadpool_limits()\n",
      "File \u001b[0;32m/opt/homebrew/Caskroom/miniconda/base/envs/tf/lib/python3.9/site-packages/threadpoolctl.py:268\u001b[0m, in \u001b[0;36mthreadpool_limits._set_threadpool_limits\u001b[0;34m(self)\u001b[0m\n\u001b[1;32m    265\u001b[0m \u001b[39mif\u001b[39;00m \u001b[39mself\u001b[39m\u001b[39m.\u001b[39m_limits \u001b[39mis\u001b[39;00m \u001b[39mNone\u001b[39;00m:\n\u001b[1;32m    266\u001b[0m     \u001b[39mreturn\u001b[39;00m \u001b[39mNone\u001b[39;00m\n\u001b[0;32m--> 268\u001b[0m modules \u001b[39m=\u001b[39m _ThreadpoolInfo(prefixes\u001b[39m=\u001b[39;49m\u001b[39mself\u001b[39;49m\u001b[39m.\u001b[39;49m_prefixes,\n\u001b[1;32m    269\u001b[0m                           user_api\u001b[39m=\u001b[39;49m\u001b[39mself\u001b[39;49m\u001b[39m.\u001b[39;49m_user_api)\n\u001b[1;32m    270\u001b[0m \u001b[39mfor\u001b[39;00m module \u001b[39min\u001b[39;00m modules:\n\u001b[1;32m    271\u001b[0m     \u001b[39m# self._limits is a dict {key: num_threads} where key is either\u001b[39;00m\n\u001b[1;32m    272\u001b[0m     \u001b[39m# a prefix or a user_api. If a module matches both, the limit\u001b[39;00m\n\u001b[1;32m    273\u001b[0m     \u001b[39m# corresponding to the prefix is chosed.\u001b[39;00m\n\u001b[1;32m    274\u001b[0m     \u001b[39mif\u001b[39;00m module\u001b[39m.\u001b[39mprefix \u001b[39min\u001b[39;00m \u001b[39mself\u001b[39m\u001b[39m.\u001b[39m_limits:\n",
      "File \u001b[0;32m/opt/homebrew/Caskroom/miniconda/base/envs/tf/lib/python3.9/site-packages/threadpoolctl.py:340\u001b[0m, in \u001b[0;36m_ThreadpoolInfo.__init__\u001b[0;34m(self, user_api, prefixes, modules)\u001b[0m\n\u001b[1;32m    337\u001b[0m     \u001b[39mself\u001b[39m\u001b[39m.\u001b[39muser_api \u001b[39m=\u001b[39m [] \u001b[39mif\u001b[39;00m user_api \u001b[39mis\u001b[39;00m \u001b[39mNone\u001b[39;00m \u001b[39melse\u001b[39;00m user_api\n\u001b[1;32m    339\u001b[0m     \u001b[39mself\u001b[39m\u001b[39m.\u001b[39mmodules \u001b[39m=\u001b[39m []\n\u001b[0;32m--> 340\u001b[0m     \u001b[39mself\u001b[39;49m\u001b[39m.\u001b[39;49m_load_modules()\n\u001b[1;32m    341\u001b[0m     \u001b[39mself\u001b[39m\u001b[39m.\u001b[39m_warn_if_incompatible_openmp()\n\u001b[1;32m    342\u001b[0m \u001b[39melse\u001b[39;00m:\n",
      "File \u001b[0;32m/opt/homebrew/Caskroom/miniconda/base/envs/tf/lib/python3.9/site-packages/threadpoolctl.py:371\u001b[0m, in \u001b[0;36m_ThreadpoolInfo._load_modules\u001b[0;34m(self)\u001b[0m\n\u001b[1;32m    369\u001b[0m \u001b[39m\"\"\"Loop through loaded libraries and store supported ones\"\"\"\u001b[39;00m\n\u001b[1;32m    370\u001b[0m \u001b[39mif\u001b[39;00m sys\u001b[39m.\u001b[39mplatform \u001b[39m==\u001b[39m \u001b[39m\"\u001b[39m\u001b[39mdarwin\u001b[39m\u001b[39m\"\u001b[39m:\n\u001b[0;32m--> 371\u001b[0m     \u001b[39mself\u001b[39;49m\u001b[39m.\u001b[39;49m_find_modules_with_dyld()\n\u001b[1;32m    372\u001b[0m \u001b[39melif\u001b[39;00m sys\u001b[39m.\u001b[39mplatform \u001b[39m==\u001b[39m \u001b[39m\"\u001b[39m\u001b[39mwin32\u001b[39m\u001b[39m\"\u001b[39m:\n\u001b[1;32m    373\u001b[0m     \u001b[39mself\u001b[39m\u001b[39m.\u001b[39m_find_modules_with_enum_process_module_ex()\n",
      "File \u001b[0;32m/opt/homebrew/Caskroom/miniconda/base/envs/tf/lib/python3.9/site-packages/threadpoolctl.py:428\u001b[0m, in \u001b[0;36m_ThreadpoolInfo._find_modules_with_dyld\u001b[0;34m(self)\u001b[0m\n\u001b[1;32m    425\u001b[0m filepath \u001b[39m=\u001b[39m filepath\u001b[39m.\u001b[39mdecode(\u001b[39m\"\u001b[39m\u001b[39mutf-8\u001b[39m\u001b[39m\"\u001b[39m)\n\u001b[1;32m    427\u001b[0m \u001b[39m# Store the module if it is supported and selected\u001b[39;00m\n\u001b[0;32m--> 428\u001b[0m \u001b[39mself\u001b[39;49m\u001b[39m.\u001b[39;49m_make_module_from_path(filepath)\n",
      "File \u001b[0;32m/opt/homebrew/Caskroom/miniconda/base/envs/tf/lib/python3.9/site-packages/threadpoolctl.py:515\u001b[0m, in \u001b[0;36m_ThreadpoolInfo._make_module_from_path\u001b[0;34m(self, filepath)\u001b[0m\n\u001b[1;32m    513\u001b[0m \u001b[39mif\u001b[39;00m prefix \u001b[39min\u001b[39;00m \u001b[39mself\u001b[39m\u001b[39m.\u001b[39mprefixes \u001b[39mor\u001b[39;00m user_api \u001b[39min\u001b[39;00m \u001b[39mself\u001b[39m\u001b[39m.\u001b[39muser_api:\n\u001b[1;32m    514\u001b[0m     module_class \u001b[39m=\u001b[39m \u001b[39mglobals\u001b[39m()[module_class]\n\u001b[0;32m--> 515\u001b[0m     module \u001b[39m=\u001b[39m module_class(filepath, prefix, user_api, internal_api)\n\u001b[1;32m    516\u001b[0m     \u001b[39mself\u001b[39m\u001b[39m.\u001b[39mmodules\u001b[39m.\u001b[39mappend(module)\n",
      "File \u001b[0;32m/opt/homebrew/Caskroom/miniconda/base/envs/tf/lib/python3.9/site-packages/threadpoolctl.py:606\u001b[0m, in \u001b[0;36m_Module.__init__\u001b[0;34m(self, filepath, prefix, user_api, internal_api)\u001b[0m\n\u001b[1;32m    604\u001b[0m \u001b[39mself\u001b[39m\u001b[39m.\u001b[39minternal_api \u001b[39m=\u001b[39m internal_api\n\u001b[1;32m    605\u001b[0m \u001b[39mself\u001b[39m\u001b[39m.\u001b[39m_dynlib \u001b[39m=\u001b[39m ctypes\u001b[39m.\u001b[39mCDLL(filepath, mode\u001b[39m=\u001b[39m_RTLD_NOLOAD)\n\u001b[0;32m--> 606\u001b[0m \u001b[39mself\u001b[39m\u001b[39m.\u001b[39mversion \u001b[39m=\u001b[39m \u001b[39mself\u001b[39;49m\u001b[39m.\u001b[39;49mget_version()\n\u001b[1;32m    607\u001b[0m \u001b[39mself\u001b[39m\u001b[39m.\u001b[39mnum_threads \u001b[39m=\u001b[39m \u001b[39mself\u001b[39m\u001b[39m.\u001b[39mget_num_threads()\n\u001b[1;32m    608\u001b[0m \u001b[39mself\u001b[39m\u001b[39m.\u001b[39m_get_extra_info()\n",
      "File \u001b[0;32m/opt/homebrew/Caskroom/miniconda/base/envs/tf/lib/python3.9/site-packages/threadpoolctl.py:646\u001b[0m, in \u001b[0;36m_OpenBLASModule.get_version\u001b[0;34m(self)\u001b[0m\n\u001b[1;32m    643\u001b[0m get_config \u001b[39m=\u001b[39m \u001b[39mgetattr\u001b[39m(\u001b[39mself\u001b[39m\u001b[39m.\u001b[39m_dynlib, \u001b[39m\"\u001b[39m\u001b[39mopenblas_get_config\u001b[39m\u001b[39m\"\u001b[39m,\n\u001b[1;32m    644\u001b[0m                      \u001b[39mlambda\u001b[39;00m: \u001b[39mNone\u001b[39;00m)\n\u001b[1;32m    645\u001b[0m get_config\u001b[39m.\u001b[39mrestype \u001b[39m=\u001b[39m ctypes\u001b[39m.\u001b[39mc_char_p\n\u001b[0;32m--> 646\u001b[0m config \u001b[39m=\u001b[39m get_config()\u001b[39m.\u001b[39;49msplit()\n\u001b[1;32m    647\u001b[0m \u001b[39mif\u001b[39;00m config[\u001b[39m0\u001b[39m] \u001b[39m==\u001b[39m \u001b[39mb\u001b[39m\u001b[39m\"\u001b[39m\u001b[39mOpenBLAS\u001b[39m\u001b[39m\"\u001b[39m:\n\u001b[1;32m    648\u001b[0m     \u001b[39mreturn\u001b[39;00m config[\u001b[39m1\u001b[39m]\u001b[39m.\u001b[39mdecode(\u001b[39m\"\u001b[39m\u001b[39mutf-8\u001b[39m\u001b[39m\"\u001b[39m)\n",
      "\u001b[0;31mAttributeError\u001b[0m: 'NoneType' object has no attribute 'split'"
     ]
    }
   ],
   "source": [
    "kmeans = KMeans(n_clusters=5, n_init=10, max_iter=100)\n",
    "kmeans.fit(transform_result)"
   ]
  },
  {
   "cell_type": "markdown",
   "id": "a1010335",
   "metadata": {},
   "source": [
    "Plotting the sizes of the clusters"
   ]
  },
  {
   "cell_type": "code",
   "execution_count": null,
   "id": "39494f7f",
   "metadata": {
    "scrolled": true
   },
   "outputs": [
    {
     "data": {
      "image/png": "[encoded data removed]",
      "text/plain": [
       "<Figure size 640x480 with 1 Axes>"
      ]
     },
     "metadata": {},
     "output_type": "display_data"
    }
   ],
   "source": [
    "clusters_id, clusters_sizes = np.unique(kmeans.labels_, return_counts=True)\n",
    "\n",
    "plt.bar(x=clusters_id, height=clusters_sizes, log=True)\n",
    "plt.show()"
   ]
  },
  {
   "cell_type": "markdown",
   "id": "6ea9191a",
   "metadata": {},
   "source": [
    "Plotting the distribution of bot and non-bots inside each cluster (TO BE DONE - Gianluca)"
   ]
  },
  {
   "cell_type": "markdown",
   "id": "cab161ab",
   "metadata": {},
   "source": [
    "Plotting the scatterplot to show relations about the clustering attributes"
   ]
  },
  {
   "cell_type": "code",
   "execution_count": null,
   "id": "8594fe2c",
   "metadata": {
    "scrolled": true
   },
   "outputs": [
    {
     "name": "stdout",
     "output_type": "stream",
     "text": [
      "('avg_hashtags', 'account_discussion_creation_ratio')\n"
     ]
    },
    {
     "data": {
      "image/png": "[encoded data removed]",
      "text/plain": [
       "<Figure size 640x480 with 1 Axes>"
      ]
     },
     "metadata": {},
     "output_type": "display_data"
    }
   ],
   "source": [
    "plt.scatter(data=users_df, x=combination[1], y=combination[0],c=kmeans.labels_)\n",
    "plt.show()"
   ]
  },
  {
   "cell_type": "code",
   "execution_count": null,
   "id": "bdddae87",
   "metadata": {
    "scrolled": true
   },
   "outputs": [
    {
     "name": "stdout",
     "output_type": "stream",
     "text": [
      "SSE 3122.9412727107974\n",
      "Silhouette 0.9040207411745843\n",
      "Separation 0.3951739044756486\n"
     ]
    }
   ],
   "source": [
    "clustering_utils.print_clustering_metrics(kmeans, transform_result)"
   ]
  },
  {
   "cell_type": "markdown",
   "id": "4083a2cb",
   "metadata": {},
   "source": [
    "\n",
    "## Running multiple K-means and plotting SSE"
   ]
  },
  {
   "cell_type": "markdown",
   "id": "d17949fb",
   "metadata": {},
   "source": [
    "Trying to plot the relation between K centroids and SSE. The main problem is: what indica"
   ]
  },
  {
   "cell_type": "code",
   "execution_count": null,
   "id": "ed2e717c",
   "metadata": {},
   "outputs": [
    {
     "data": {
      "text/plain": [
       "<AxesSubplot: xlabel='K'>"
      ]
     },
     "execution_count": 6,
     "metadata": {},
     "output_type": "execute_result"
    },
    {
     "data": {
      "image/png": "[encoded data removed]",
      "text/plain": [
       "<Figure size 640x480 with 1 Axes>"
      ]
     },
     "metadata": {},
     "output_type": "display_data"
    }
   ],
   "source": [
    "results = []\n",
    "for k in range(1,30):\n",
    "    kmeans = KMeans(n_clusters=k, n_init=10, max_iter=100)\n",
    "    kmeans.fit(transform_result)\n",
    "    SSE = kmeans.inertia_\n",
    "    results.append([k, SSE])\n",
    "    \n",
    "results_df = pd.DataFrame(results, columns=[\"K\", \"SSE\"])\n",
    "results_df.plot(x=\"K\", y=\"SSE\")"
   ]
  },
  {
   "cell_type": "code",
   "execution_count": null,
   "id": "4c58cc1e",
   "metadata": {},
   "outputs": [],
   "source": []
  }
 ],
 "metadata": {
  "kernelspec": {
   "display_name": "tf",
   "language": "python",
   "name": "python3"
  },
  "language_info": {
   "codemirror_mode": {
    "name": "ipython",
    "version": 3
   },
   "file_extension": ".py",
   "mimetype": "text/x-python",
   "name": "python",
   "nbconvert_exporter": "python",
   "pygments_lexer": "ipython3",
   "version": "3.9.15"
  },
  "vscode": {
   "interpreter": {
    "hash": "40527a5e21a0fe71350810bdaf893be95d4327fbe99858a2d25f6483c406c492"
   }
  }
 },
 "nbformat": 4,
 "nbformat_minor": 5
}
