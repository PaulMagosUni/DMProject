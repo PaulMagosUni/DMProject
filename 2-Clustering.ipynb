{
 "cells": [
  {
   "cell_type": "code",
   "execution_count": 1,
   "id": "f52b18c7",
   "metadata": {},
   "outputs": [],
   "source": [
    "import numpy as np\n",
    "import pandas as pd\n",
    "import matplotlib.pyplot as plt\n",
    "from sklearn.preprocessing import StandardScaler, MinMaxScaler\n",
    "from sklearn.cluster import KMeans\n",
    "from sklearn.metrics import silhouette_score, davies_bouldin_score\n",
    "import clustering_utils\n",
    "from itertools import combinations"
   ]
  },
  {
   "cell_type": "code",
   "execution_count": 2,
   "id": "489c6305",
   "metadata": {
    "scrolled": true
   },
   "outputs": [
    {
     "name": "stdout",
     "output_type": "stream",
     "text": [
      "<class 'pandas.core.frame.DataFrame'>\n",
      "Int64Index: 11108 entries, 0 to 11108\n",
      "Data columns (total 25 columns):\n",
      " #   Column                             Non-Null Count  Dtype \n",
      "---  ------                             --------------  ----- \n",
      " 0   user_id                            11108 non-null  int64 \n",
      " 1   name                               11108 non-null  object\n",
      " 2   lang                               11108 non-null  object\n",
      " 3   bot                                11108 non-null  int64 \n",
      " 4   created_at                         11108 non-null  object\n",
      " 5   statuses_count                     11108 non-null  int64 \n",
      " 6   account_age_in_days                11108 non-null  int64 \n",
      " 7   number_of_tweets                   11108 non-null  int64 \n",
      " 8   account_average_tweets_per_day     11108 non-null  int64 \n",
      " 9   avg_tweets_per_actual_day          11108 non-null  int64 \n",
      " 10  day_with_most_tweets               11108 non-null  object\n",
      " 11  max_number_of_tweet_in_a_day       11108 non-null  int64 \n",
      " 12  covid19_num_of_tweets              11108 non-null  int64 \n",
      " 13  avg_hashtags                       11108 non-null  int64 \n",
      " 14  avg_text_length                    11108 non-null  int64 \n",
      " 15  avg_mentions                       11108 non-null  int64 \n",
      " 16  avg_special_char_in_text           11108 non-null  int64 \n",
      " 17  total_likes                        11108 non-null  int64 \n",
      " 18  avt_favorite_count                 11108 non-null  int64 \n",
      " 19  total_replies                      11108 non-null  int64 \n",
      " 20  avt_reply_count                    11108 non-null  int64 \n",
      " 21  total_retweet_count                11108 non-null  int64 \n",
      " 22  account_discussion_creation_ratio  11108 non-null  int64 \n",
      " 23  tweet_num_likes_ratio              11108 non-null  int64 \n",
      " 24  tweet_num_replies_ratio            11108 non-null  int64 \n",
      "dtypes: int64(21), object(4)\n",
      "memory usage: 2.2+ MB\n"
     ]
    },
    {
     "data": {
      "text/html": [
       "<div>\n",
       "<style scoped>\n",
       "    .dataframe tbody tr th:only-of-type {\n",
       "        vertical-align: middle;\n",
       "    }\n",
       "\n",
       "    .dataframe tbody tr th {\n",
       "        vertical-align: top;\n",
       "    }\n",
       "\n",
       "    .dataframe thead th {\n",
       "        text-align: right;\n",
       "    }\n",
       "</style>\n",
       "<table border=\"1\" class=\"dataframe\">\n",
       "  <thead>\n",
       "    <tr style=\"text-align: right;\">\n",
       "      <th></th>\n",
       "      <th>user_id</th>\n",
       "      <th>bot</th>\n",
       "      <th>statuses_count</th>\n",
       "      <th>account_age_in_days</th>\n",
       "      <th>number_of_tweets</th>\n",
       "      <th>account_average_tweets_per_day</th>\n",
       "      <th>avg_tweets_per_actual_day</th>\n",
       "      <th>max_number_of_tweet_in_a_day</th>\n",
       "      <th>covid19_num_of_tweets</th>\n",
       "      <th>avg_hashtags</th>\n",
       "      <th>...</th>\n",
       "      <th>avg_mentions</th>\n",
       "      <th>avg_special_char_in_text</th>\n",
       "      <th>total_likes</th>\n",
       "      <th>avt_favorite_count</th>\n",
       "      <th>total_replies</th>\n",
       "      <th>avt_reply_count</th>\n",
       "      <th>total_retweet_count</th>\n",
       "      <th>account_discussion_creation_ratio</th>\n",
       "      <th>tweet_num_likes_ratio</th>\n",
       "      <th>tweet_num_replies_ratio</th>\n",
       "    </tr>\n",
       "  </thead>\n",
       "  <tbody>\n",
       "    <tr>\n",
       "      <th>count</th>\n",
       "      <td>1.110800e+04</td>\n",
       "      <td>11108.000000</td>\n",
       "      <td>11108.000000</td>\n",
       "      <td>11108.000000</td>\n",
       "      <td>11108.000000</td>\n",
       "      <td>11108.000000</td>\n",
       "      <td>11108.000000</td>\n",
       "      <td>11108.000000</td>\n",
       "      <td>11108.000000</td>\n",
       "      <td>11108.000000</td>\n",
       "      <td>...</td>\n",
       "      <td>11108.000000</td>\n",
       "      <td>11108.000000</td>\n",
       "      <td>1.110800e+04</td>\n",
       "      <td>11108.000000</td>\n",
       "      <td>1.110800e+04</td>\n",
       "      <td>11108.000000</td>\n",
       "      <td>1.110800e+04</td>\n",
       "      <td>11108.000000</td>\n",
       "      <td>11108.000000</td>\n",
       "      <td>11108.000000</td>\n",
       "    </tr>\n",
       "    <tr>\n",
       "      <th>mean</th>\n",
       "      <td>1.263557e+09</td>\n",
       "      <td>0.550594</td>\n",
       "      <td>485.581023</td>\n",
       "      <td>1827.635938</td>\n",
       "      <td>941.462099</td>\n",
       "      <td>0.153493</td>\n",
       "      <td>12.950756</td>\n",
       "      <td>52.167267</td>\n",
       "      <td>273.983885</td>\n",
       "      <td>0.017465</td>\n",
       "      <td>...</td>\n",
       "      <td>0.069680</td>\n",
       "      <td>15.491538</td>\n",
       "      <td>3.207350e+03</td>\n",
       "      <td>17.557076</td>\n",
       "      <td>9.357382e+02</td>\n",
       "      <td>0.573281</td>\n",
       "      <td>5.260731e+05</td>\n",
       "      <td>19.342636</td>\n",
       "      <td>17.052575</td>\n",
       "      <td>4.088315</td>\n",
       "    </tr>\n",
       "    <tr>\n",
       "      <th>std</th>\n",
       "      <td>9.362939e+08</td>\n",
       "      <td>0.497456</td>\n",
       "      <td>1239.154853</td>\n",
       "      <td>555.101424</td>\n",
       "      <td>1199.280505</td>\n",
       "      <td>0.567041</td>\n",
       "      <td>37.965445</td>\n",
       "      <td>87.945867</td>\n",
       "      <td>732.176632</td>\n",
       "      <td>0.156090</td>\n",
       "      <td>...</td>\n",
       "      <td>0.269059</td>\n",
       "      <td>5.579211</td>\n",
       "      <td>9.749861e+04</td>\n",
       "      <td>335.746036</td>\n",
       "      <td>2.983883e+04</td>\n",
       "      <td>12.386150</td>\n",
       "      <td>2.930989e+06</td>\n",
       "      <td>80.930592</td>\n",
       "      <td>46.417057</td>\n",
       "      <td>29.038074</td>\n",
       "    </tr>\n",
       "    <tr>\n",
       "      <th>min</th>\n",
       "      <td>6.780330e+05</td>\n",
       "      <td>0.000000</td>\n",
       "      <td>0.000000</td>\n",
       "      <td>891.000000</td>\n",
       "      <td>1.000000</td>\n",
       "      <td>0.000000</td>\n",
       "      <td>1.000000</td>\n",
       "      <td>1.000000</td>\n",
       "      <td>0.000000</td>\n",
       "      <td>0.000000</td>\n",
       "      <td>...</td>\n",
       "      <td>0.000000</td>\n",
       "      <td>0.000000</td>\n",
       "      <td>0.000000e+00</td>\n",
       "      <td>0.000000</td>\n",
       "      <td>0.000000e+00</td>\n",
       "      <td>0.000000</td>\n",
       "      <td>0.000000e+00</td>\n",
       "      <td>0.000000</td>\n",
       "      <td>0.000000</td>\n",
       "      <td>0.000000</td>\n",
       "    </tr>\n",
       "    <tr>\n",
       "      <th>25%</th>\n",
       "      <td>4.662897e+08</td>\n",
       "      <td>0.000000</td>\n",
       "      <td>41.000000</td>\n",
       "      <td>1312.000000</td>\n",
       "      <td>67.000000</td>\n",
       "      <td>0.000000</td>\n",
       "      <td>1.000000</td>\n",
       "      <td>6.000000</td>\n",
       "      <td>0.000000</td>\n",
       "      <td>0.000000</td>\n",
       "      <td>...</td>\n",
       "      <td>0.000000</td>\n",
       "      <td>13.000000</td>\n",
       "      <td>3.000000e+00</td>\n",
       "      <td>0.000000</td>\n",
       "      <td>0.000000e+00</td>\n",
       "      <td>0.000000</td>\n",
       "      <td>3.000000e+00</td>\n",
       "      <td>0.000000</td>\n",
       "      <td>0.000000</td>\n",
       "      <td>0.000000</td>\n",
       "    </tr>\n",
       "    <tr>\n",
       "      <th>50%</th>\n",
       "      <td>1.127886e+09</td>\n",
       "      <td>1.000000</td>\n",
       "      <td>68.000000</td>\n",
       "      <td>1702.000000</td>\n",
       "      <td>132.000000</td>\n",
       "      <td>0.000000</td>\n",
       "      <td>4.000000</td>\n",
       "      <td>18.000000</td>\n",
       "      <td>0.000000</td>\n",
       "      <td>0.000000</td>\n",
       "      <td>...</td>\n",
       "      <td>0.000000</td>\n",
       "      <td>15.000000</td>\n",
       "      <td>1.000000e+01</td>\n",
       "      <td>0.000000</td>\n",
       "      <td>0.000000e+00</td>\n",
       "      <td>0.000000</td>\n",
       "      <td>7.650000e+01</td>\n",
       "      <td>0.000000</td>\n",
       "      <td>7.000000</td>\n",
       "      <td>0.000000</td>\n",
       "    </tr>\n",
       "    <tr>\n",
       "      <th>75%</th>\n",
       "      <td>2.356965e+09</td>\n",
       "      <td>1.000000</td>\n",
       "      <td>81.000000</td>\n",
       "      <td>2080.000000</td>\n",
       "      <td>1703.000000</td>\n",
       "      <td>0.000000</td>\n",
       "      <td>8.000000</td>\n",
       "      <td>75.000000</td>\n",
       "      <td>78.250000</td>\n",
       "      <td>0.000000</td>\n",
       "      <td>...</td>\n",
       "      <td>0.000000</td>\n",
       "      <td>17.000000</td>\n",
       "      <td>3.892500e+02</td>\n",
       "      <td>0.000000</td>\n",
       "      <td>0.000000e+00</td>\n",
       "      <td>0.000000</td>\n",
       "      <td>6.465900e+04</td>\n",
       "      <td>20.000000</td>\n",
       "      <td>20.000000</td>\n",
       "      <td>0.000000</td>\n",
       "    </tr>\n",
       "    <tr>\n",
       "      <th>max</th>\n",
       "      <td>3.164942e+09</td>\n",
       "      <td>1.000000</td>\n",
       "      <td>7226.000000</td>\n",
       "      <td>3901.000000</td>\n",
       "      <td>3668.000000</td>\n",
       "      <td>6.000000</td>\n",
       "      <td>1759.000000</td>\n",
       "      <td>2131.000000</td>\n",
       "      <td>3559.000000</td>\n",
       "      <td>6.000000</td>\n",
       "      <td>...</td>\n",
       "      <td>5.000000</td>\n",
       "      <td>149.000000</td>\n",
       "      <td>7.006348e+06</td>\n",
       "      <td>13542.000000</td>\n",
       "      <td>2.000000e+06</td>\n",
       "      <td>603.000000</td>\n",
       "      <td>9.638758e+07</td>\n",
       "      <td>3519.000000</td>\n",
       "      <td>2877.000000</td>\n",
       "      <td>1762.000000</td>\n",
       "    </tr>\n",
       "  </tbody>\n",
       "</table>\n",
       "<p>8 rows × 21 columns</p>\n",
       "</div>"
      ],
      "text/plain": [
       "            user_id           bot  statuses_count  account_age_in_days  \\\n",
       "count  1.110800e+04  11108.000000    11108.000000         11108.000000   \n",
       "mean   1.263557e+09      0.550594      485.581023          1827.635938   \n",
       "std    9.362939e+08      0.497456     1239.154853           555.101424   \n",
       "min    6.780330e+05      0.000000        0.000000           891.000000   \n",
       "25%    4.662897e+08      0.000000       41.000000          1312.000000   \n",
       "50%    1.127886e+09      1.000000       68.000000          1702.000000   \n",
       "75%    2.356965e+09      1.000000       81.000000          2080.000000   \n",
       "max    3.164942e+09      1.000000     7226.000000          3901.000000   \n",
       "\n",
       "       number_of_tweets  account_average_tweets_per_day  \\\n",
       "count      11108.000000                    11108.000000   \n",
       "mean         941.462099                        0.153493   \n",
       "std         1199.280505                        0.567041   \n",
       "min            1.000000                        0.000000   \n",
       "25%           67.000000                        0.000000   \n",
       "50%          132.000000                        0.000000   \n",
       "75%         1703.000000                        0.000000   \n",
       "max         3668.000000                        6.000000   \n",
       "\n",
       "       avg_tweets_per_actual_day  max_number_of_tweet_in_a_day  \\\n",
       "count               11108.000000                  11108.000000   \n",
       "mean                   12.950756                     52.167267   \n",
       "std                    37.965445                     87.945867   \n",
       "min                     1.000000                      1.000000   \n",
       "25%                     1.000000                      6.000000   \n",
       "50%                     4.000000                     18.000000   \n",
       "75%                     8.000000                     75.000000   \n",
       "max                  1759.000000                   2131.000000   \n",
       "\n",
       "       covid19_num_of_tweets  avg_hashtags  ...  avg_mentions  \\\n",
       "count           11108.000000  11108.000000  ...  11108.000000   \n",
       "mean              273.983885      0.017465  ...      0.069680   \n",
       "std               732.176632      0.156090  ...      0.269059   \n",
       "min                 0.000000      0.000000  ...      0.000000   \n",
       "25%                 0.000000      0.000000  ...      0.000000   \n",
       "50%                 0.000000      0.000000  ...      0.000000   \n",
       "75%                78.250000      0.000000  ...      0.000000   \n",
       "max              3559.000000      6.000000  ...      5.000000   \n",
       "\n",
       "       avg_special_char_in_text   total_likes  avt_favorite_count  \\\n",
       "count              11108.000000  1.110800e+04        11108.000000   \n",
       "mean                  15.491538  3.207350e+03           17.557076   \n",
       "std                    5.579211  9.749861e+04          335.746036   \n",
       "min                    0.000000  0.000000e+00            0.000000   \n",
       "25%                   13.000000  3.000000e+00            0.000000   \n",
       "50%                   15.000000  1.000000e+01            0.000000   \n",
       "75%                   17.000000  3.892500e+02            0.000000   \n",
       "max                  149.000000  7.006348e+06        13542.000000   \n",
       "\n",
       "       total_replies  avt_reply_count  total_retweet_count  \\\n",
       "count   1.110800e+04     11108.000000         1.110800e+04   \n",
       "mean    9.357382e+02         0.573281         5.260731e+05   \n",
       "std     2.983883e+04        12.386150         2.930989e+06   \n",
       "min     0.000000e+00         0.000000         0.000000e+00   \n",
       "25%     0.000000e+00         0.000000         3.000000e+00   \n",
       "50%     0.000000e+00         0.000000         7.650000e+01   \n",
       "75%     0.000000e+00         0.000000         6.465900e+04   \n",
       "max     2.000000e+06       603.000000         9.638758e+07   \n",
       "\n",
       "       account_discussion_creation_ratio  tweet_num_likes_ratio  \\\n",
       "count                       11108.000000           11108.000000   \n",
       "mean                           19.342636              17.052575   \n",
       "std                            80.930592              46.417057   \n",
       "min                             0.000000               0.000000   \n",
       "25%                             0.000000               0.000000   \n",
       "50%                             0.000000               7.000000   \n",
       "75%                            20.000000              20.000000   \n",
       "max                          3519.000000            2877.000000   \n",
       "\n",
       "       tweet_num_replies_ratio  \n",
       "count             11108.000000  \n",
       "mean                  4.088315  \n",
       "std                  29.038074  \n",
       "min                   0.000000  \n",
       "25%                   0.000000  \n",
       "50%                   0.000000  \n",
       "75%                   0.000000  \n",
       "max                1762.000000  \n",
       "\n",
       "[8 rows x 21 columns]"
      ]
     },
     "execution_count": 2,
     "metadata": {},
     "output_type": "execute_result"
    }
   ],
   "source": [
    "users_df = pd.read_csv(\"dataset/users_df_dataset_cleaned_with_indicators.csv\")\n",
    "users_df.dropna(inplace=True)\n",
    "users_df.info(verbose=True)\n",
    "users_df.describe()"
   ]
  },
  {
   "cell_type": "markdown",
   "id": "7fe66930",
   "metadata": {},
   "source": [
    "# K-MEANS"
   ]
  },
  {
   "cell_type": "code",
   "execution_count": 18,
   "id": "3a999141",
   "metadata": {},
   "outputs": [],
   "source": [
    "indicator_columns_users = ['account_average_tweets_per_day', 'avg_tweets_per_actual_day', 'covid19_num_of_tweets', 'avg_hashtags', \n",
    "                            'avg_text_length', 'avg_mentions', 'avg_special_char_in_text', 'avt_favorite_count', 'total_replies',\n",
    "                            'avt_reply_count', 'total_retweet_count', 'account_discussion_creation_ratio', 'tweet_num_likes_ratio',\n",
    "                            'tweet_num_replies_ratio']\n",
    "\n",
    "all_possible_combinations = list(combinations(indicator_columns_users, 2))\n",
    "combination = all_possible_combinations[43]"
   ]
  },
  {
   "cell_type": "code",
   "execution_count": 4,
   "id": "341e97a6",
   "metadata": {},
   "outputs": [],
   "source": [
    "subset_df = users_df[list(combination)]\n",
    "scaler = StandardScaler()\n",
    "scaler.fit(subset_df.values)\n",
    "transform_result = scaler.fit_transform(subset_df.values)"
   ]
  },
  {
   "cell_type": "code",
   "execution_count": 5,
   "id": "4dea1ffd",
   "metadata": {},
   "outputs": [
    {
     "data": {
      "text/html": [
       "<style>#sk-container-id-1 {color: black;background-color: white;}#sk-container-id-1 pre{padding: 0;}#sk-container-id-1 div.sk-toggleable {background-color: white;}#sk-container-id-1 label.sk-toggleable__label {cursor: pointer;display: block;width: 100%;margin-bottom: 0;padding: 0.3em;box-sizing: border-box;text-align: center;}#sk-container-id-1 label.sk-toggleable__label-arrow:before {content: \"▸\";float: left;margin-right: 0.25em;color: #696969;}#sk-container-id-1 label.sk-toggleable__label-arrow:hover:before {color: black;}#sk-container-id-1 div.sk-estimator:hover label.sk-toggleable__label-arrow:before {color: black;}#sk-container-id-1 div.sk-toggleable__content {max-height: 0;max-width: 0;overflow: hidden;text-align: left;background-color: #f0f8ff;}#sk-container-id-1 div.sk-toggleable__content pre {margin: 0.2em;color: black;border-radius: 0.25em;background-color: #f0f8ff;}#sk-container-id-1 input.sk-toggleable__control:checked~div.sk-toggleable__content {max-height: 200px;max-width: 100%;overflow: auto;}#sk-container-id-1 input.sk-toggleable__control:checked~label.sk-toggleable__label-arrow:before {content: \"▾\";}#sk-container-id-1 div.sk-estimator input.sk-toggleable__control:checked~label.sk-toggleable__label {background-color: #d4ebff;}#sk-container-id-1 div.sk-label input.sk-toggleable__control:checked~label.sk-toggleable__label {background-color: #d4ebff;}#sk-container-id-1 input.sk-hidden--visually {border: 0;clip: rect(1px 1px 1px 1px);clip: rect(1px, 1px, 1px, 1px);height: 1px;margin: -1px;overflow: hidden;padding: 0;position: absolute;width: 1px;}#sk-container-id-1 div.sk-estimator {font-family: monospace;background-color: #f0f8ff;border: 1px dotted black;border-radius: 0.25em;box-sizing: border-box;margin-bottom: 0.5em;}#sk-container-id-1 div.sk-estimator:hover {background-color: #d4ebff;}#sk-container-id-1 div.sk-parallel-item::after {content: \"\";width: 100%;border-bottom: 1px solid gray;flex-grow: 1;}#sk-container-id-1 div.sk-label:hover label.sk-toggleable__label {background-color: #d4ebff;}#sk-container-id-1 div.sk-serial::before {content: \"\";position: absolute;border-left: 1px solid gray;box-sizing: border-box;top: 0;bottom: 0;left: 50%;z-index: 0;}#sk-container-id-1 div.sk-serial {display: flex;flex-direction: column;align-items: center;background-color: white;padding-right: 0.2em;padding-left: 0.2em;position: relative;}#sk-container-id-1 div.sk-item {position: relative;z-index: 1;}#sk-container-id-1 div.sk-parallel {display: flex;align-items: stretch;justify-content: center;background-color: white;position: relative;}#sk-container-id-1 div.sk-item::before, #sk-container-id-1 div.sk-parallel-item::before {content: \"\";position: absolute;border-left: 1px solid gray;box-sizing: border-box;top: 0;bottom: 0;left: 50%;z-index: -1;}#sk-container-id-1 div.sk-parallel-item {display: flex;flex-direction: column;z-index: 1;position: relative;background-color: white;}#sk-container-id-1 div.sk-parallel-item:first-child::after {align-self: flex-end;width: 50%;}#sk-container-id-1 div.sk-parallel-item:last-child::after {align-self: flex-start;width: 50%;}#sk-container-id-1 div.sk-parallel-item:only-child::after {width: 0;}#sk-container-id-1 div.sk-dashed-wrapped {border: 1px dashed gray;margin: 0 0.4em 0.5em 0.4em;box-sizing: border-box;padding-bottom: 0.4em;background-color: white;}#sk-container-id-1 div.sk-label label {font-family: monospace;font-weight: bold;display: inline-block;line-height: 1.2em;}#sk-container-id-1 div.sk-label-container {text-align: center;}#sk-container-id-1 div.sk-container {/* jupyter's `normalize.less` sets `[hidden] { display: none; }` but bootstrap.min.css set `[hidden] { display: none !important; }` so we also need the `!important` here to be able to override the default hidden behavior on the sphinx rendered scikit-learn.org. See: https://github.com/scikit-learn/scikit-learn/issues/21755 */display: inline-block !important;position: relative;}#sk-container-id-1 div.sk-text-repr-fallback {display: none;}</style><div id=\"sk-container-id-1\" class=\"sk-top-container\"><div class=\"sk-text-repr-fallback\"><pre>KMeans(max_iter=100, n_clusters=5)</pre><b>In a Jupyter environment, please rerun this cell to show the HTML representation or trust the notebook. <br />On GitHub, the HTML representation is unable to render, please try loading this page with nbviewer.org.</b></div><div class=\"sk-container\" hidden><div class=\"sk-item\"><div class=\"sk-estimator sk-toggleable\"><input class=\"sk-toggleable__control sk-hidden--visually\" id=\"sk-estimator-id-1\" type=\"checkbox\" checked><label for=\"sk-estimator-id-1\" class=\"sk-toggleable__label sk-toggleable__label-arrow\">KMeans</label><div class=\"sk-toggleable__content\"><pre>KMeans(max_iter=100, n_clusters=5)</pre></div></div></div></div></div>"
      ],
      "text/plain": [
       "KMeans(max_iter=100, n_clusters=5)"
      ]
     },
     "execution_count": 5,
     "metadata": {},
     "output_type": "execute_result"
    }
   ],
   "source": [
    "kmeans = KMeans(n_clusters=5, n_init=10, max_iter=100)\n",
    "kmeans.fit(transform_result)"
   ]
  },
  {
   "cell_type": "markdown",
   "id": "a1010335",
   "metadata": {},
   "source": [
    "Plotting the sizes of the clusters"
   ]
  },
  {
   "cell_type": "code",
   "execution_count": 16,
   "id": "39494f7f",
   "metadata": {
    "scrolled": true
   },
   "outputs": [
    {
     "data": {
      "image/png": "[encoded data removed]",
      "text/plain": [
       "<Figure size 640x480 with 1 Axes>"
      ]
     },
     "metadata": {},
     "output_type": "display_data"
    }
   ],
   "source": [
    "clusters_id, clusters_sizes = np.unique(kmeans.labels_, return_counts=True)\n",
    "\n",
    "plt.bar(x=clusters_id, height=clusters_sizes, log=True)\n",
    "plt.show()"
   ]
  },
  {
   "cell_type": "markdown",
   "id": "6ea9191a",
   "metadata": {},
   "source": [
    "Plotting the distribution of bot and non-bots inside each cluster (TO BE DONE - Gianluca)"
   ]
  },
  {
   "cell_type": "markdown",
   "id": "cab161ab",
   "metadata": {},
   "source": [
    "Plotting the scatterplot to show relations about the clustering attributes"
   ]
  },
  {
   "cell_type": "code",
   "execution_count": 7,
   "id": "8594fe2c",
   "metadata": {
    "scrolled": true
   },
   "outputs": [
    {
     "name": "stdout",
     "output_type": "stream",
     "text": [
      "('avg_hashtags', 'account_discussion_creation_ratio')\n"
     ]
    },
    {
     "data": {
      "image/png": "[encoded data removed]",
      "text/plain": [
       "<Figure size 640x480 with 1 Axes>"
      ]
     },
     "metadata": {},
     "output_type": "display_data"
    }
   ],
   "source": [
    "plt.scatter(data=users_df, x=combination[1], y=combination[0],c=kmeans.labels_)\n",
    "plt.show()"
   ]
  },
  {
   "cell_type": "code",
   "execution_count": 8,
   "id": "bdddae87",
   "metadata": {},
   "outputs": [
    {
     "name": "stdout",
     "output_type": "stream",
     "text": [
      "SSE 3122.9412727107974\n",
      "Silhouette 0.9040207411745843\n",
      "Separation 0.3951739044756486\n"
     ]
    }
   ],
   "source": [
    "clustering_utils.print_clustering_metrics(kmeans, transform_result)"
   ]
  }
 ],
 "metadata": {
  "kernelspec": {
   "display_name": "Python 3 (ipykernel)",
   "language": "python",
   "name": "python3"
  },
  "language_info": {
   "codemirror_mode": {
    "name": "ipython",
    "version": 3
   },
   "file_extension": ".py",
   "mimetype": "text/x-python",
   "name": "python",
   "nbconvert_exporter": "python",
   "pygments_lexer": "ipython3",
   "version": "3.10.6"
  },
  "vscode": {
   "interpreter": {
    "hash": "aee8b7b246df8f9039afb4144a1f6fd8d2ca17a180786b69acc140d282b71a49"
   }
  }
 },
 "nbformat": 4,
 "nbformat_minor": 5
}
