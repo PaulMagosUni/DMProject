{
 "cells": [
  {
   "cell_type": "markdown",
   "metadata": {},
   "source": [
    "# AdaBoost"
   ]
  },
  {
   "cell_type": "code",
   "execution_count": 170,
   "metadata": {},
   "outputs": [],
   "source": [
    "from sklearn.ensemble import AdaBoostClassifier\n",
    "from sklearn import metrics\n",
    "import numpy as np\n",
    "import matplotlib.pyplot as plt\n",
    "import pandas as pd\n",
    "from sklearn import tree\n",
    "from sklearn.model_selection import train_test_split\n",
    "from sklearn.metrics import classification_report\n"
   ]
  },
  {
   "cell_type": "markdown",
   "metadata": {},
   "source": []
  },
  {
   "cell_type": "code",
   "execution_count": 171,
   "metadata": {},
   "outputs": [
    {
     "name": "stdout",
     "output_type": "stream",
     "text": [
      "<class 'pandas.core.frame.DataFrame'>\n",
      "RangeIndex: 11109 entries, 0 to 11108\n",
      "Data columns (total 35 columns):\n",
      " #   Column                                    Non-Null Count  Dtype  \n",
      "---  ------                                    --------------  -----  \n",
      " 0   Unnamed: 0                                11109 non-null  int64  \n",
      " 1   user_id                                   11109 non-null  int64  \n",
      " 2   name                                      11108 non-null  object \n",
      " 3   lang                                      11109 non-null  object \n",
      " 4   bot                                       11109 non-null  int64  \n",
      " 5   created_at                                11109 non-null  object \n",
      " 6   statuses_count                            11109 non-null  int64  \n",
      " 7   account_age_in_days                       11109 non-null  int64  \n",
      " 8   number_of_tweets                          11109 non-null  int64  \n",
      " 9   account_average_tweets_per_day            11109 non-null  float64\n",
      " 10  avg_tweets_per_actual_day                 11109 non-null  float64\n",
      " 11  day_with_most_tweets                      11109 non-null  object \n",
      " 12  max_number_of_tweets_in_a_day             11109 non-null  int64  \n",
      " 13  entropy_for_day                           11109 non-null  float64\n",
      " 14  entropy_for_hour                          11109 non-null  float64\n",
      " 15  entropy_for_minute                        11109 non-null  float64\n",
      " 16  avg_hashtags                              11109 non-null  float64\n",
      " 17  avg_text_length                           11109 non-null  float64\n",
      " 18  avg_mentions                              11109 non-null  float64\n",
      " 19  avg_special_char_in_text                  11109 non-null  float64\n",
      " 20  total_likes                               11109 non-null  int64  \n",
      " 21  avt_favorite_count                        11109 non-null  float64\n",
      " 22  total_replies                             11109 non-null  int64  \n",
      " 23  avt_reply_count                           11109 non-null  float64\n",
      " 24  total_retweet_count                       11109 non-null  int64  \n",
      " 25  account_discussion_creation_ratio         11109 non-null  float64\n",
      " 26  tweet_num_likes_ratio                     11109 non-null  float64\n",
      " 27  tweet_num_replies_ratio                   11109 non-null  float64\n",
      " 28  entropy_original_text                     11109 non-null  float64\n",
      " 29  entropy_text                              11109 non-null  float64\n",
      " 30  mean_inactive_period_length_in_seconds    11109 non-null  float64\n",
      " 31  median_inactive_period_length_in_seconds  11109 non-null  float64\n",
      " 32  mode_inactive_period_length_in_seconds    11109 non-null  float64\n",
      " 33  mode_count                                11109 non-null  int64  \n",
      " 34  my_bot                                    11109 non-null  int64  \n",
      "dtypes: float64(19), int64(12), object(4)\n",
      "memory usage: 3.0+ MB\n"
     ]
    }
   ],
   "source": [
    "df = pd.read_csv('./dataset/users_df_with_my_bot_indicator.csv', lineterminator='\\n')\n",
    "df.info()"
   ]
  },
  {
   "cell_type": "code",
   "execution_count": 172,
   "metadata": {},
   "outputs": [
    {
     "data": {
      "text/html": [
       "<div>\n",
       "<style scoped>\n",
       "    .dataframe tbody tr th:only-of-type {\n",
       "        vertical-align: middle;\n",
       "    }\n",
       "\n",
       "    .dataframe tbody tr th {\n",
       "        vertical-align: top;\n",
       "    }\n",
       "\n",
       "    .dataframe thead th {\n",
       "        text-align: right;\n",
       "    }\n",
       "</style>\n",
       "<table border=\"1\" class=\"dataframe\">\n",
       "  <thead>\n",
       "    <tr style=\"text-align: right;\">\n",
       "      <th></th>\n",
       "      <th>Unnamed: 0</th>\n",
       "      <th>user_id</th>\n",
       "      <th>name</th>\n",
       "      <th>bot</th>\n",
       "      <th>created_at</th>\n",
       "      <th>statuses_count</th>\n",
       "      <th>account_age_in_days</th>\n",
       "      <th>number_of_tweets</th>\n",
       "      <th>account_average_tweets_per_day</th>\n",
       "      <th>avg_tweets_per_actual_day</th>\n",
       "      <th>...</th>\n",
       "      <th>tweet_num_likes_ratio</th>\n",
       "      <th>tweet_num_replies_ratio</th>\n",
       "      <th>entropy_original_text</th>\n",
       "      <th>entropy_text</th>\n",
       "      <th>mean_inactive_period_length_in_seconds</th>\n",
       "      <th>median_inactive_period_length_in_seconds</th>\n",
       "      <th>mode_inactive_period_length_in_seconds</th>\n",
       "      <th>mode_count</th>\n",
       "      <th>my_bot</th>\n",
       "      <th>lang_num</th>\n",
       "    </tr>\n",
       "  </thead>\n",
       "  <tbody>\n",
       "    <tr>\n",
       "      <th>0</th>\n",
       "      <td>0</td>\n",
       "      <td>2353593986</td>\n",
       "      <td>Lamonica Raborn</td>\n",
       "      <td>1</td>\n",
       "      <td>2019-02-22 18:00:42</td>\n",
       "      <td>76</td>\n",
       "      <td>1314</td>\n",
       "      <td>126</td>\n",
       "      <td>0.057839</td>\n",
       "      <td>4.666667</td>\n",
       "      <td>...</td>\n",
       "      <td>25.200000</td>\n",
       "      <td>0.0</td>\n",
       "      <td>6.850296</td>\n",
       "      <td>1.617447e-06</td>\n",
       "      <td>1.099118e+05</td>\n",
       "      <td>24.5</td>\n",
       "      <td>0.0</td>\n",
       "      <td>8</td>\n",
       "      <td>1</td>\n",
       "      <td>5</td>\n",
       "    </tr>\n",
       "    <tr>\n",
       "      <th>1</th>\n",
       "      <td>1</td>\n",
       "      <td>2358850842</td>\n",
       "      <td>Lourie Botton</td>\n",
       "      <td>0</td>\n",
       "      <td>2019-02-26 03:02:32</td>\n",
       "      <td>54</td>\n",
       "      <td>1311</td>\n",
       "      <td>116</td>\n",
       "      <td>0.041190</td>\n",
       "      <td>4.640000</td>\n",
       "      <td>...</td>\n",
       "      <td>19.333333</td>\n",
       "      <td>0.0</td>\n",
       "      <td>6.651084</td>\n",
       "      <td>1.323339e-06</td>\n",
       "      <td>1.170971e+05</td>\n",
       "      <td>22.0</td>\n",
       "      <td>0.0</td>\n",
       "      <td>12</td>\n",
       "      <td>0</td>\n",
       "      <td>5</td>\n",
       "    </tr>\n",
       "    <tr>\n",
       "      <th>2</th>\n",
       "      <td>2</td>\n",
       "      <td>137959629</td>\n",
       "      <td>Dadan Syarifudin</td>\n",
       "      <td>1</td>\n",
       "      <td>2015-04-30 07:09:56</td>\n",
       "      <td>3</td>\n",
       "      <td>2709</td>\n",
       "      <td>4</td>\n",
       "      <td>0.001107</td>\n",
       "      <td>2.000000</td>\n",
       "      <td>...</td>\n",
       "      <td>0.000000</td>\n",
       "      <td>0.0</td>\n",
       "      <td>1.500000</td>\n",
       "      <td>2.029541e-07</td>\n",
       "      <td>8.816991e+06</td>\n",
       "      <td>32322.0</td>\n",
       "      <td>0.0</td>\n",
       "      <td>1</td>\n",
       "      <td>1</td>\n",
       "      <td>5</td>\n",
       "    </tr>\n",
       "    <tr>\n",
       "      <th>3</th>\n",
       "      <td>3</td>\n",
       "      <td>466124818</td>\n",
       "      <td>Carletto Focia</td>\n",
       "      <td>1</td>\n",
       "      <td>2017-01-18 02:49:18</td>\n",
       "      <td>50</td>\n",
       "      <td>2080</td>\n",
       "      <td>1358</td>\n",
       "      <td>0.024038</td>\n",
       "      <td>8.035503</td>\n",
       "      <td>...</td>\n",
       "      <td>5.388889</td>\n",
       "      <td>0.0</td>\n",
       "      <td>10.153175</td>\n",
       "      <td>2.167859e-05</td>\n",
       "      <td>6.557065e+04</td>\n",
       "      <td>3327.0</td>\n",
       "      <td>0.0</td>\n",
       "      <td>109</td>\n",
       "      <td>2</td>\n",
       "      <td>12</td>\n",
       "    </tr>\n",
       "    <tr>\n",
       "      <th>4</th>\n",
       "      <td>4</td>\n",
       "      <td>2571493866</td>\n",
       "      <td>MBK Ebook</td>\n",
       "      <td>0</td>\n",
       "      <td>2019-06-18 19:30:21</td>\n",
       "      <td>7085</td>\n",
       "      <td>1198</td>\n",
       "      <td>3434</td>\n",
       "      <td>5.914023</td>\n",
       "      <td>28.380165</td>\n",
       "      <td>...</td>\n",
       "      <td>16.122066</td>\n",
       "      <td>0.0</td>\n",
       "      <td>11.420705</td>\n",
       "      <td>2.582894e-07</td>\n",
       "      <td>8.020619e+03</td>\n",
       "      <td>2090.5</td>\n",
       "      <td>7200.0</td>\n",
       "      <td>322</td>\n",
       "      <td>0</td>\n",
       "      <td>5</td>\n",
       "    </tr>\n",
       "    <tr>\n",
       "      <th>...</th>\n",
       "      <td>...</td>\n",
       "      <td>...</td>\n",
       "      <td>...</td>\n",
       "      <td>...</td>\n",
       "      <td>...</td>\n",
       "      <td>...</td>\n",
       "      <td>...</td>\n",
       "      <td>...</td>\n",
       "      <td>...</td>\n",
       "      <td>...</td>\n",
       "      <td>...</td>\n",
       "      <td>...</td>\n",
       "      <td>...</td>\n",
       "      <td>...</td>\n",
       "      <td>...</td>\n",
       "      <td>...</td>\n",
       "      <td>...</td>\n",
       "      <td>...</td>\n",
       "      <td>...</td>\n",
       "      <td>...</td>\n",
       "      <td>...</td>\n",
       "    </tr>\n",
       "    <tr>\n",
       "      <th>11104</th>\n",
       "      <td>11104</td>\n",
       "      <td>2911861962</td>\n",
       "      <td>Madrid Lae Maika .</td>\n",
       "      <td>0</td>\n",
       "      <td>2019-11-29 13:16:02</td>\n",
       "      <td>1126</td>\n",
       "      <td>1034</td>\n",
       "      <td>1051</td>\n",
       "      <td>1.088975</td>\n",
       "      <td>11.677778</td>\n",
       "      <td>...</td>\n",
       "      <td>17.516667</td>\n",
       "      <td>0.0</td>\n",
       "      <td>9.853332</td>\n",
       "      <td>4.330775e-07</td>\n",
       "      <td>1.275382e+04</td>\n",
       "      <td>194.0</td>\n",
       "      <td>0.0</td>\n",
       "      <td>90</td>\n",
       "      <td>0</td>\n",
       "      <td>5</td>\n",
       "    </tr>\n",
       "    <tr>\n",
       "      <th>11105</th>\n",
       "      <td>11105</td>\n",
       "      <td>1378532629</td>\n",
       "      <td>Clau Sato</td>\n",
       "      <td>0</td>\n",
       "      <td>2018-04-27 03:01:58</td>\n",
       "      <td>3024</td>\n",
       "      <td>1616</td>\n",
       "      <td>1975</td>\n",
       "      <td>1.871287</td>\n",
       "      <td>7.397004</td>\n",
       "      <td>...</td>\n",
       "      <td>4.571759</td>\n",
       "      <td>0.0</td>\n",
       "      <td>10.782191</td>\n",
       "      <td>2.912676e-07</td>\n",
       "      <td>3.207934e+04</td>\n",
       "      <td>339.0</td>\n",
       "      <td>0.0</td>\n",
       "      <td>159</td>\n",
       "      <td>0</td>\n",
       "      <td>5</td>\n",
       "    </tr>\n",
       "    <tr>\n",
       "      <th>11106</th>\n",
       "      <td>11106</td>\n",
       "      <td>126984069</td>\n",
       "      <td>ALMA LETICIA NUÑO</td>\n",
       "      <td>0</td>\n",
       "      <td>2015-03-29 17:01:24</td>\n",
       "      <td>6</td>\n",
       "      <td>2740</td>\n",
       "      <td>6</td>\n",
       "      <td>0.002190</td>\n",
       "      <td>1.500000</td>\n",
       "      <td>...</td>\n",
       "      <td>0.000000</td>\n",
       "      <td>0.0</td>\n",
       "      <td>2.584963</td>\n",
       "      <td>1.444719e-07</td>\n",
       "      <td>1.388741e+07</td>\n",
       "      <td>4810985.5</td>\n",
       "      <td>37.0</td>\n",
       "      <td>1</td>\n",
       "      <td>0</td>\n",
       "      <td>8</td>\n",
       "    </tr>\n",
       "    <tr>\n",
       "      <th>11107</th>\n",
       "      <td>11107</td>\n",
       "      <td>2383025796</td>\n",
       "      <td>Minnie Guadagno</td>\n",
       "      <td>1</td>\n",
       "      <td>2019-03-13 02:44:13</td>\n",
       "      <td>42</td>\n",
       "      <td>1296</td>\n",
       "      <td>99</td>\n",
       "      <td>0.032407</td>\n",
       "      <td>4.304348</td>\n",
       "      <td>...</td>\n",
       "      <td>11.000000</td>\n",
       "      <td>0.0</td>\n",
       "      <td>6.467740</td>\n",
       "      <td>1.330330e-06</td>\n",
       "      <td>1.253698e+05</td>\n",
       "      <td>21.0</td>\n",
       "      <td>0.0</td>\n",
       "      <td>8</td>\n",
       "      <td>1</td>\n",
       "      <td>5</td>\n",
       "    </tr>\n",
       "    <tr>\n",
       "      <th>11108</th>\n",
       "      <td>11108</td>\n",
       "      <td>933183398</td>\n",
       "      <td>Corvanna</td>\n",
       "      <td>0</td>\n",
       "      <td>2017-11-09 23:24:16</td>\n",
       "      <td>5279</td>\n",
       "      <td>1784</td>\n",
       "      <td>3457</td>\n",
       "      <td>2.959081</td>\n",
       "      <td>58.593220</td>\n",
       "      <td>...</td>\n",
       "      <td>7.751121</td>\n",
       "      <td>0.0</td>\n",
       "      <td>11.551487</td>\n",
       "      <td>2.756682e-07</td>\n",
       "      <td>2.261256e+04</td>\n",
       "      <td>58.0</td>\n",
       "      <td>0.0</td>\n",
       "      <td>281</td>\n",
       "      <td>0</td>\n",
       "      <td>5</td>\n",
       "    </tr>\n",
       "  </tbody>\n",
       "</table>\n",
       "<p>11109 rows × 35 columns</p>\n",
       "</div>"
      ],
      "text/plain": [
       "       Unnamed: 0     user_id                name  bot           created_at  \\\n",
       "0               0  2353593986     Lamonica Raborn    1  2019-02-22 18:00:42   \n",
       "1               1  2358850842       Lourie Botton    0  2019-02-26 03:02:32   \n",
       "2               2   137959629    Dadan Syarifudin    1  2015-04-30 07:09:56   \n",
       "3               3   466124818      Carletto Focia    1  2017-01-18 02:49:18   \n",
       "4               4  2571493866           MBK Ebook    0  2019-06-18 19:30:21   \n",
       "...           ...         ...                 ...  ...                  ...   \n",
       "11104       11104  2911861962  Madrid Lae Maika .    0  2019-11-29 13:16:02   \n",
       "11105       11105  1378532629           Clau Sato    0  2018-04-27 03:01:58   \n",
       "11106       11106   126984069  ALMA LETICIA NUÑO     0  2015-03-29 17:01:24   \n",
       "11107       11107  2383025796     Minnie Guadagno    1  2019-03-13 02:44:13   \n",
       "11108       11108   933183398           Corvanna     0  2017-11-09 23:24:16   \n",
       "\n",
       "       statuses_count  account_age_in_days  number_of_tweets  \\\n",
       "0                  76                 1314               126   \n",
       "1                  54                 1311               116   \n",
       "2                   3                 2709                 4   \n",
       "3                  50                 2080              1358   \n",
       "4                7085                 1198              3434   \n",
       "...               ...                  ...               ...   \n",
       "11104            1126                 1034              1051   \n",
       "11105            3024                 1616              1975   \n",
       "11106               6                 2740                 6   \n",
       "11107              42                 1296                99   \n",
       "11108            5279                 1784              3457   \n",
       "\n",
       "       account_average_tweets_per_day  avg_tweets_per_actual_day  ...  \\\n",
       "0                            0.057839                   4.666667  ...   \n",
       "1                            0.041190                   4.640000  ...   \n",
       "2                            0.001107                   2.000000  ...   \n",
       "3                            0.024038                   8.035503  ...   \n",
       "4                            5.914023                  28.380165  ...   \n",
       "...                               ...                        ...  ...   \n",
       "11104                        1.088975                  11.677778  ...   \n",
       "11105                        1.871287                   7.397004  ...   \n",
       "11106                        0.002190                   1.500000  ...   \n",
       "11107                        0.032407                   4.304348  ...   \n",
       "11108                        2.959081                  58.593220  ...   \n",
       "\n",
       "      tweet_num_likes_ratio  tweet_num_replies_ratio  entropy_original_text  \\\n",
       "0                 25.200000                      0.0               6.850296   \n",
       "1                 19.333333                      0.0               6.651084   \n",
       "2                  0.000000                      0.0               1.500000   \n",
       "3                  5.388889                      0.0              10.153175   \n",
       "4                 16.122066                      0.0              11.420705   \n",
       "...                     ...                      ...                    ...   \n",
       "11104             17.516667                      0.0               9.853332   \n",
       "11105              4.571759                      0.0              10.782191   \n",
       "11106              0.000000                      0.0               2.584963   \n",
       "11107             11.000000                      0.0               6.467740   \n",
       "11108              7.751121                      0.0              11.551487   \n",
       "\n",
       "       entropy_text  mean_inactive_period_length_in_seconds  \\\n",
       "0      1.617447e-06                            1.099118e+05   \n",
       "1      1.323339e-06                            1.170971e+05   \n",
       "2      2.029541e-07                            8.816991e+06   \n",
       "3      2.167859e-05                            6.557065e+04   \n",
       "4      2.582894e-07                            8.020619e+03   \n",
       "...             ...                                     ...   \n",
       "11104  4.330775e-07                            1.275382e+04   \n",
       "11105  2.912676e-07                            3.207934e+04   \n",
       "11106  1.444719e-07                            1.388741e+07   \n",
       "11107  1.330330e-06                            1.253698e+05   \n",
       "11108  2.756682e-07                            2.261256e+04   \n",
       "\n",
       "       median_inactive_period_length_in_seconds  \\\n",
       "0                                          24.5   \n",
       "1                                          22.0   \n",
       "2                                       32322.0   \n",
       "3                                        3327.0   \n",
       "4                                        2090.5   \n",
       "...                                         ...   \n",
       "11104                                     194.0   \n",
       "11105                                     339.0   \n",
       "11106                                 4810985.5   \n",
       "11107                                      21.0   \n",
       "11108                                      58.0   \n",
       "\n",
       "       mode_inactive_period_length_in_seconds  mode_count  my_bot  lang_num  \n",
       "0                                         0.0           8       1         5  \n",
       "1                                         0.0          12       0         5  \n",
       "2                                         0.0           1       1         5  \n",
       "3                                         0.0         109       2        12  \n",
       "4                                      7200.0         322       0         5  \n",
       "...                                       ...         ...     ...       ...  \n",
       "11104                                     0.0          90       0         5  \n",
       "11105                                     0.0         159       0         5  \n",
       "11106                                    37.0           1       0         8  \n",
       "11107                                     0.0           8       1         5  \n",
       "11108                                     0.0         281       0         5  \n",
       "\n",
       "[11109 rows x 35 columns]"
      ]
     },
     "execution_count": 172,
     "metadata": {},
     "output_type": "execute_result"
    }
   ],
   "source": [
    "var = sorted(df['lang'].unique())\n",
    "mapping = dict(zip(var, range(0, len(var) + 1)))\n",
    "df['lang_num'] = df['lang'].map(mapping).astype(int)\n",
    "df.drop(columns='lang', inplace=True)\n",
    "\n",
    "df"
   ]
  },
  {
   "cell_type": "code",
   "execution_count": 173,
   "metadata": {},
   "outputs": [],
   "source": [
    "df = df[df.columns.difference(['user_id', 'name', 'created_at', 'day_with_most_tweets'])]\n",
    "label = df['bot']\n",
    "df.pop('my_bot')\n",
    "train_set, test_set, train_label, test_label = train_test_split(df, label, shuffle=True, test_size=0.30)\n",
    "train_set.pop('bot')\n",
    "labels = test_set.pop('bot')\n",
    "val_set, test_set, val_label, test_label = train_test_split(test_set, labels, shuffle=True, test_size=0.1)"
   ]
  },
  {
   "cell_type": "code",
   "execution_count": 174,
   "metadata": {},
   "outputs": [
    {
     "data": {
      "text/html": [
       "<style>#sk-container-id-22 {color: black;background-color: white;}#sk-container-id-22 pre{padding: 0;}#sk-container-id-22 div.sk-toggleable {background-color: white;}#sk-container-id-22 label.sk-toggleable__label {cursor: pointer;display: block;width: 100%;margin-bottom: 0;padding: 0.3em;box-sizing: border-box;text-align: center;}#sk-container-id-22 label.sk-toggleable__label-arrow:before {content: \"▸\";float: left;margin-right: 0.25em;color: #696969;}#sk-container-id-22 label.sk-toggleable__label-arrow:hover:before {color: black;}#sk-container-id-22 div.sk-estimator:hover label.sk-toggleable__label-arrow:before {color: black;}#sk-container-id-22 div.sk-toggleable__content {max-height: 0;max-width: 0;overflow: hidden;text-align: left;background-color: #f0f8ff;}#sk-container-id-22 div.sk-toggleable__content pre {margin: 0.2em;color: black;border-radius: 0.25em;background-color: #f0f8ff;}#sk-container-id-22 input.sk-toggleable__control:checked~div.sk-toggleable__content {max-height: 200px;max-width: 100%;overflow: auto;}#sk-container-id-22 input.sk-toggleable__control:checked~label.sk-toggleable__label-arrow:before {content: \"▾\";}#sk-container-id-22 div.sk-estimator input.sk-toggleable__control:checked~label.sk-toggleable__label {background-color: #d4ebff;}#sk-container-id-22 div.sk-label input.sk-toggleable__control:checked~label.sk-toggleable__label {background-color: #d4ebff;}#sk-container-id-22 input.sk-hidden--visually {border: 0;clip: rect(1px 1px 1px 1px);clip: rect(1px, 1px, 1px, 1px);height: 1px;margin: -1px;overflow: hidden;padding: 0;position: absolute;width: 1px;}#sk-container-id-22 div.sk-estimator {font-family: monospace;background-color: #f0f8ff;border: 1px dotted black;border-radius: 0.25em;box-sizing: border-box;margin-bottom: 0.5em;}#sk-container-id-22 div.sk-estimator:hover {background-color: #d4ebff;}#sk-container-id-22 div.sk-parallel-item::after {content: \"\";width: 100%;border-bottom: 1px solid gray;flex-grow: 1;}#sk-container-id-22 div.sk-label:hover label.sk-toggleable__label {background-color: #d4ebff;}#sk-container-id-22 div.sk-serial::before {content: \"\";position: absolute;border-left: 1px solid gray;box-sizing: border-box;top: 0;bottom: 0;left: 50%;z-index: 0;}#sk-container-id-22 div.sk-serial {display: flex;flex-direction: column;align-items: center;background-color: white;padding-right: 0.2em;padding-left: 0.2em;position: relative;}#sk-container-id-22 div.sk-item {position: relative;z-index: 1;}#sk-container-id-22 div.sk-parallel {display: flex;align-items: stretch;justify-content: center;background-color: white;position: relative;}#sk-container-id-22 div.sk-item::before, #sk-container-id-22 div.sk-parallel-item::before {content: \"\";position: absolute;border-left: 1px solid gray;box-sizing: border-box;top: 0;bottom: 0;left: 50%;z-index: -1;}#sk-container-id-22 div.sk-parallel-item {display: flex;flex-direction: column;z-index: 1;position: relative;background-color: white;}#sk-container-id-22 div.sk-parallel-item:first-child::after {align-self: flex-end;width: 50%;}#sk-container-id-22 div.sk-parallel-item:last-child::after {align-self: flex-start;width: 50%;}#sk-container-id-22 div.sk-parallel-item:only-child::after {width: 0;}#sk-container-id-22 div.sk-dashed-wrapped {border: 1px dashed gray;margin: 0 0.4em 0.5em 0.4em;box-sizing: border-box;padding-bottom: 0.4em;background-color: white;}#sk-container-id-22 div.sk-label label {font-family: monospace;font-weight: bold;display: inline-block;line-height: 1.2em;}#sk-container-id-22 div.sk-label-container {text-align: center;}#sk-container-id-22 div.sk-container {/* jupyter's `normalize.less` sets `[hidden] { display: none; }` but bootstrap.min.css set `[hidden] { display: none !important; }` so we also need the `!important` here to be able to override the default hidden behavior on the sphinx rendered scikit-learn.org. See: https://github.com/scikit-learn/scikit-learn/issues/21755 */display: inline-block !important;position: relative;}#sk-container-id-22 div.sk-text-repr-fallback {display: none;}</style><div id=\"sk-container-id-22\" class=\"sk-top-container\"><div class=\"sk-text-repr-fallback\"><pre>AdaBoostClassifier()</pre><b>In a Jupyter environment, please rerun this cell to show the HTML representation or trust the notebook. <br />On GitHub, the HTML representation is unable to render, please try loading this page with nbviewer.org.</b></div><div class=\"sk-container\" hidden><div class=\"sk-item\"><div class=\"sk-estimator sk-toggleable\"><input class=\"sk-toggleable__control sk-hidden--visually\" id=\"sk-estimator-id-40\" type=\"checkbox\" checked><label for=\"sk-estimator-id-40\" class=\"sk-toggleable__label sk-toggleable__label-arrow\">AdaBoostClassifier</label><div class=\"sk-toggleable__content\"><pre>AdaBoostClassifier()</pre></div></div></div></div></div>"
      ],
      "text/plain": [
       "AdaBoostClassifier()"
      ]
     },
     "execution_count": 174,
     "metadata": {},
     "output_type": "execute_result"
    }
   ],
   "source": [
    "clf = AdaBoostClassifier()\n",
    "clf.fit(train_set, train_label)"
   ]
  },
  {
   "cell_type": "code",
   "execution_count": 175,
   "metadata": {},
   "outputs": [
    {
     "name": "stdout",
     "output_type": "stream",
     "text": [
      "              precision    recall  f1-score   support\n",
      "\n",
      "           0       0.92      0.77      0.84       156\n",
      "           1       0.82      0.94      0.88       178\n",
      "\n",
      "    accuracy                           0.86       334\n",
      "   macro avg       0.87      0.85      0.86       334\n",
      "weighted avg       0.87      0.86      0.86       334\n",
      "\n"
     ]
    }
   ],
   "source": [
    "test_pred_clf = clf.predict(test_set)\n",
    "print(classification_report(test_label, \n",
    "                            test_pred_clf, \n",
    "                            target_names=['0', '1']))"
   ]
  },
  {
   "cell_type": "code",
   "execution_count": 176,
   "metadata": {},
   "outputs": [
    {
     "data": {
      "text/html": [
       "<style>#sk-container-id-23 {color: black;background-color: white;}#sk-container-id-23 pre{padding: 0;}#sk-container-id-23 div.sk-toggleable {background-color: white;}#sk-container-id-23 label.sk-toggleable__label {cursor: pointer;display: block;width: 100%;margin-bottom: 0;padding: 0.3em;box-sizing: border-box;text-align: center;}#sk-container-id-23 label.sk-toggleable__label-arrow:before {content: \"▸\";float: left;margin-right: 0.25em;color: #696969;}#sk-container-id-23 label.sk-toggleable__label-arrow:hover:before {color: black;}#sk-container-id-23 div.sk-estimator:hover label.sk-toggleable__label-arrow:before {color: black;}#sk-container-id-23 div.sk-toggleable__content {max-height: 0;max-width: 0;overflow: hidden;text-align: left;background-color: #f0f8ff;}#sk-container-id-23 div.sk-toggleable__content pre {margin: 0.2em;color: black;border-radius: 0.25em;background-color: #f0f8ff;}#sk-container-id-23 input.sk-toggleable__control:checked~div.sk-toggleable__content {max-height: 200px;max-width: 100%;overflow: auto;}#sk-container-id-23 input.sk-toggleable__control:checked~label.sk-toggleable__label-arrow:before {content: \"▾\";}#sk-container-id-23 div.sk-estimator input.sk-toggleable__control:checked~label.sk-toggleable__label {background-color: #d4ebff;}#sk-container-id-23 div.sk-label input.sk-toggleable__control:checked~label.sk-toggleable__label {background-color: #d4ebff;}#sk-container-id-23 input.sk-hidden--visually {border: 0;clip: rect(1px 1px 1px 1px);clip: rect(1px, 1px, 1px, 1px);height: 1px;margin: -1px;overflow: hidden;padding: 0;position: absolute;width: 1px;}#sk-container-id-23 div.sk-estimator {font-family: monospace;background-color: #f0f8ff;border: 1px dotted black;border-radius: 0.25em;box-sizing: border-box;margin-bottom: 0.5em;}#sk-container-id-23 div.sk-estimator:hover {background-color: #d4ebff;}#sk-container-id-23 div.sk-parallel-item::after {content: \"\";width: 100%;border-bottom: 1px solid gray;flex-grow: 1;}#sk-container-id-23 div.sk-label:hover label.sk-toggleable__label {background-color: #d4ebff;}#sk-container-id-23 div.sk-serial::before {content: \"\";position: absolute;border-left: 1px solid gray;box-sizing: border-box;top: 0;bottom: 0;left: 50%;z-index: 0;}#sk-container-id-23 div.sk-serial {display: flex;flex-direction: column;align-items: center;background-color: white;padding-right: 0.2em;padding-left: 0.2em;position: relative;}#sk-container-id-23 div.sk-item {position: relative;z-index: 1;}#sk-container-id-23 div.sk-parallel {display: flex;align-items: stretch;justify-content: center;background-color: white;position: relative;}#sk-container-id-23 div.sk-item::before, #sk-container-id-23 div.sk-parallel-item::before {content: \"\";position: absolute;border-left: 1px solid gray;box-sizing: border-box;top: 0;bottom: 0;left: 50%;z-index: -1;}#sk-container-id-23 div.sk-parallel-item {display: flex;flex-direction: column;z-index: 1;position: relative;background-color: white;}#sk-container-id-23 div.sk-parallel-item:first-child::after {align-self: flex-end;width: 50%;}#sk-container-id-23 div.sk-parallel-item:last-child::after {align-self: flex-start;width: 50%;}#sk-container-id-23 div.sk-parallel-item:only-child::after {width: 0;}#sk-container-id-23 div.sk-dashed-wrapped {border: 1px dashed gray;margin: 0 0.4em 0.5em 0.4em;box-sizing: border-box;padding-bottom: 0.4em;background-color: white;}#sk-container-id-23 div.sk-label label {font-family: monospace;font-weight: bold;display: inline-block;line-height: 1.2em;}#sk-container-id-23 div.sk-label-container {text-align: center;}#sk-container-id-23 div.sk-container {/* jupyter's `normalize.less` sets `[hidden] { display: none; }` but bootstrap.min.css set `[hidden] { display: none !important; }` so we also need the `!important` here to be able to override the default hidden behavior on the sphinx rendered scikit-learn.org. See: https://github.com/scikit-learn/scikit-learn/issues/21755 */display: inline-block !important;position: relative;}#sk-container-id-23 div.sk-text-repr-fallback {display: none;}</style><div id=\"sk-container-id-23\" class=\"sk-top-container\"><div class=\"sk-text-repr-fallback\"><pre>AdaBoostClassifier(base_estimator=DecisionTreeClassifier(max_depth=10),\n",
       "                   learning_rate=0.1, n_estimators=200)</pre><b>In a Jupyter environment, please rerun this cell to show the HTML representation or trust the notebook. <br />On GitHub, the HTML representation is unable to render, please try loading this page with nbviewer.org.</b></div><div class=\"sk-container\" hidden><div class=\"sk-item sk-dashed-wrapped\"><div class=\"sk-label-container\"><div class=\"sk-label sk-toggleable\"><input class=\"sk-toggleable__control sk-hidden--visually\" id=\"sk-estimator-id-41\" type=\"checkbox\" ><label for=\"sk-estimator-id-41\" class=\"sk-toggleable__label sk-toggleable__label-arrow\">AdaBoostClassifier</label><div class=\"sk-toggleable__content\"><pre>AdaBoostClassifier(base_estimator=DecisionTreeClassifier(max_depth=10),\n",
       "                   learning_rate=0.1, n_estimators=200)</pre></div></div></div><div class=\"sk-parallel\"><div class=\"sk-parallel-item\"><div class=\"sk-item\"><div class=\"sk-label-container\"><div class=\"sk-label sk-toggleable\"><input class=\"sk-toggleable__control sk-hidden--visually\" id=\"sk-estimator-id-42\" type=\"checkbox\" ><label for=\"sk-estimator-id-42\" class=\"sk-toggleable__label sk-toggleable__label-arrow\">base_estimator: DecisionTreeClassifier</label><div class=\"sk-toggleable__content\"><pre>DecisionTreeClassifier(max_depth=10)</pre></div></div></div><div class=\"sk-serial\"><div class=\"sk-item\"><div class=\"sk-estimator sk-toggleable\"><input class=\"sk-toggleable__control sk-hidden--visually\" id=\"sk-estimator-id-43\" type=\"checkbox\" ><label for=\"sk-estimator-id-43\" class=\"sk-toggleable__label sk-toggleable__label-arrow\">DecisionTreeClassifier</label><div class=\"sk-toggleable__content\"><pre>DecisionTreeClassifier(max_depth=10)</pre></div></div></div></div></div></div></div></div></div></div>"
      ],
      "text/plain": [
       "AdaBoostClassifier(base_estimator=DecisionTreeClassifier(max_depth=10),\n",
       "                   learning_rate=0.1, n_estimators=200)"
      ]
     },
     "execution_count": 176,
     "metadata": {},
     "output_type": "execute_result"
    }
   ],
   "source": [
    "base = tree.DecisionTreeClassifier(max_depth=10)\n",
    "clf = AdaBoostClassifier(base_estimator=base, n_estimators=200, learning_rate=0.1)\n",
    "clf.fit(train_set, train_label)"
   ]
  },
  {
   "cell_type": "code",
   "execution_count": 177,
   "metadata": {},
   "outputs": [
    {
     "name": "stdout",
     "output_type": "stream",
     "text": [
      "              precision    recall  f1-score   support\n",
      "\n",
      "           0       0.92      0.69      0.79      1374\n",
      "           1       0.78      0.95      0.86      1625\n",
      "\n",
      "    accuracy                           0.83      2999\n",
      "   macro avg       0.85      0.82      0.82      2999\n",
      "weighted avg       0.85      0.83      0.83      2999\n",
      "\n"
     ]
    }
   ],
   "source": [
    "val_pred_clf = clf.predict(val_set)\n",
    "print(classification_report(val_label, \n",
    "                            val_pred_clf, \n",
    "                            target_names=['0', '1']))"
   ]
  },
  {
   "cell_type": "code",
   "execution_count": 178,
   "metadata": {},
   "outputs": [
    {
     "data": {
      "text/plain": [
       "<matplotlib.legend.Legend at 0x7f1709f7e9e0>"
      ]
     },
     "execution_count": 178,
     "metadata": {},
     "output_type": "execute_result"
    },
    {
     "data": {
      "image/png": "[encoded data removed]",
      "text/plain": [
       "<Figure size 640x480 with 1 Axes>"
      ]
     },
     "metadata": {},
     "output_type": "display_data"
    }
   ],
   "source": [
    "plt.figure(0).clf()\n",
    "\n",
    "fpr_val, tpr_val, thresh_val = metrics.roc_curve(val_label, val_pred_clf)\n",
    "auc_val = metrics.roc_auc_score(val_label, val_pred_clf)\n",
    "plt.plot(fpr_val,tpr_val,label=\"AdaBoost val, auc=\"+str(auc_val))\n",
    "\n",
    "plt.legend(loc=0)"
   ]
  },
  {
   "cell_type": "code",
   "execution_count": 179,
   "metadata": {},
   "outputs": [
    {
     "name": "stdout",
     "output_type": "stream",
     "text": [
      "              precision    recall  f1-score   support\n",
      "\n",
      "           0       0.94      0.76      0.84       156\n",
      "           1       0.82      0.96      0.89       178\n",
      "\n",
      "    accuracy                           0.87       334\n",
      "   macro avg       0.88      0.86      0.86       334\n",
      "weighted avg       0.88      0.87      0.87       334\n",
      "\n"
     ]
    }
   ],
   "source": [
    "test_pred_clf = clf.predict(test_set)\n",
    "print(classification_report(test_label, \n",
    "                            test_pred_clf, \n",
    "                            target_names=['0', '1']))"
   ]
  },
  {
   "cell_type": "code",
   "execution_count": 180,
   "metadata": {},
   "outputs": [
    {
     "data": {
      "text/plain": [
       "<matplotlib.legend.Legend at 0x7f1709a94400>"
      ]
     },
     "execution_count": 180,
     "metadata": {},
     "output_type": "execute_result"
    },
    {
     "data": {
      "image/png": "[encoded data removed]",
      "text/plain": [
       "<Figure size 640x480 with 1 Axes>"
      ]
     },
     "metadata": {},
     "output_type": "display_data"
    }
   ],
   "source": [
    "plt.figure(0).clf()\n",
    "\n",
    "fpr, tpr, thresh = metrics.roc_curve(test_label, test_pred_clf)\n",
    "auc = metrics.roc_auc_score(test_label, test_pred_clf)\n",
    "plt.plot(fpr,tpr,label=\"AdaBoost, auc=\"+str(auc))\n",
    "\n",
    "plt.legend(loc=0)"
   ]
  },
  {
   "cell_type": "code",
   "execution_count": 181,
   "metadata": {},
   "outputs": [
    {
     "data": {
      "text/plain": [
       "array([[119,  37],\n",
       "       [  7, 171]])"
      ]
     },
     "execution_count": 181,
     "metadata": {},
     "output_type": "execute_result"
    }
   ],
   "source": [
    "from sklearn.metrics import confusion_matrix\n",
    "cm = confusion_matrix(test_label, test_pred_clf)\n",
    "cm"
   ]
  },
  {
   "cell_type": "code",
   "execution_count": 182,
   "metadata": {},
   "outputs": [
    {
     "name": "stderr",
     "output_type": "stream",
     "text": [
      "/home/paul/.local/lib/python3.10/site-packages/sklearn/utils/deprecation.py:87: FutureWarning: Function plot_confusion_matrix is deprecated; Function `plot_confusion_matrix` is deprecated in 1.0 and will be removed in 1.2. Use one of the class methods: ConfusionMatrixDisplay.from_predictions or ConfusionMatrixDisplay.from_estimator.\n",
      "  warnings.warn(msg, category=FutureWarning)\n"
     ]
    },
    {
     "data": {
      "image/png": "[encoded data removed]",
      "text/plain": [
       "<Figure size 640x480 with 2 Axes>"
      ]
     },
     "metadata": {},
     "output_type": "display_data"
    }
   ],
   "source": [
    "from sklearn.metrics import plot_confusion_matrix\n",
    "plot_confusion_matrix(clf, val_set, val_label)\n",
    "plt.show() "
   ]
  },
  {
   "cell_type": "code",
   "execution_count": 183,
   "metadata": {},
   "outputs": [
    {
     "name": "stderr",
     "output_type": "stream",
     "text": [
      "/home/paul/.local/lib/python3.10/site-packages/sklearn/utils/deprecation.py:87: FutureWarning: Function plot_confusion_matrix is deprecated; Function `plot_confusion_matrix` is deprecated in 1.0 and will be removed in 1.2. Use one of the class methods: ConfusionMatrixDisplay.from_predictions or ConfusionMatrixDisplay.from_estimator.\n",
      "  warnings.warn(msg, category=FutureWarning)\n"
     ]
    },
    {
     "data": {
      "image/png": "[encoded data removed]",
      "text/plain": [
       "<Figure size 640x480 with 2 Axes>"
      ]
     },
     "metadata": {},
     "output_type": "display_data"
    }
   ],
   "source": [
    "from sklearn.metrics import plot_confusion_matrix\n",
    "plot_confusion_matrix(clf, test_set, test_label)\n",
    "plt.show() "
   ]
  }
 ],
 "metadata": {
  "kernelspec": {
   "display_name": "Python 3.10.7 64-bit",
   "language": "python",
   "name": "python3"
  },
  "language_info": {
   "codemirror_mode": {
    "name": "ipython",
    "version": 3
   },
   "file_extension": ".py",
   "mimetype": "text/x-python",
   "name": "python",
   "nbconvert_exporter": "python",
   "pygments_lexer": "ipython3",
   "version": "3.10.7"
  },
  "orig_nbformat": 4,
  "vscode": {
   "interpreter": {
    "hash": "916dbcbb3f70747c44a77c7bcd40155683ae19c65e1c03b4aa3499c5328201f1"
   }
  }
 },
 "nbformat": 4,
 "nbformat_minor": 2
}
