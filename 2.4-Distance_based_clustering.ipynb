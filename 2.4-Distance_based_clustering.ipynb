{
 "cells": [
  {
   "cell_type": "code",
   "execution_count": 1,
   "id": "1eb136fc",
   "metadata": {},
   "outputs": [],
   "source": [
    "import numpy as np\n",
    "import pandas as pd\n",
    "import seaborn as sns\n",
    "import matplotlib.pyplot as plt\n",
    "from sklearn.preprocessing import StandardScaler, MinMaxScaler\n",
    "from sklearn.cluster import KMeans\n",
    "from sklearn.metrics import silhouette_score, davies_bouldin_score\n",
    "import clustering_utils\n",
    "import math\n",
    "from itertools import combinations\n",
    "from pyclustering.cluster.xmeans import xmeans\n",
    "from pyclustering.cluster.center_initializer import kmeans_plusplus_initializer\n",
    "from pyclustering.cluster import cluster_visualizer"
   ]
  },
  {
   "cell_type": "code",
   "execution_count": 2,
   "id": "3e2eb742",
   "metadata": {},
   "outputs": [
    {
     "name": "stdout",
     "output_type": "stream",
     "text": [
      "<class 'pandas.core.frame.DataFrame'>\n",
      "Int64Index: 11108 entries, 0 to 11108\n",
      "Data columns (total 27 columns):\n",
      " #   Column                             Non-Null Count  Dtype  \n",
      "---  ------                             --------------  -----  \n",
      " 0   user_id                            11108 non-null  int64  \n",
      " 1   name                               11108 non-null  object \n",
      " 2   lang                               11108 non-null  object \n",
      " 3   bot                                11108 non-null  int64  \n",
      " 4   created_at                         11108 non-null  object \n",
      " 5   statuses_count                     11108 non-null  int64  \n",
      " 6   account_age_in_days                11108 non-null  int64  \n",
      " 7   number_of_tweets                   11108 non-null  int64  \n",
      " 8   account_average_tweets_per_day     11108 non-null  float64\n",
      " 9   avg_tweets_per_actual_day          11108 non-null  float64\n",
      " 10  day_with_most_tweets               11108 non-null  object \n",
      " 11  max_number_of_tweet_in_a_day       11108 non-null  int64  \n",
      " 12  entropy_for_day                    11108 non-null  float64\n",
      " 13  entropy_for_hour                   11108 non-null  float64\n",
      " 14  entropy_for_minute                 11108 non-null  float64\n",
      " 15  avg_hashtags                       11108 non-null  float64\n",
      " 16  avg_text_length                    11108 non-null  float64\n",
      " 17  avg_mentions                       11108 non-null  float64\n",
      " 18  avg_special_char_in_text           11108 non-null  float64\n",
      " 19  total_likes                        11108 non-null  int64  \n",
      " 20  avt_favorite_count                 11108 non-null  float64\n",
      " 21  total_replies                      11108 non-null  int64  \n",
      " 22  avt_reply_count                    11108 non-null  float64\n",
      " 23  total_retweet_count                11108 non-null  int64  \n",
      " 24  account_discussion_creation_ratio  11108 non-null  float64\n",
      " 25  tweet_num_likes_ratio              11108 non-null  float64\n",
      " 26  tweet_num_replies_ratio            11108 non-null  float64\n",
      "dtypes: float64(14), int64(9), object(4)\n",
      "memory usage: 2.4+ MB\n"
     ]
    },
    {
     "data": {
      "text/html": [
       "<div>\n",
       "<style scoped>\n",
       "    .dataframe tbody tr th:only-of-type {\n",
       "        vertical-align: middle;\n",
       "    }\n",
       "\n",
       "    .dataframe tbody tr th {\n",
       "        vertical-align: top;\n",
       "    }\n",
       "\n",
       "    .dataframe thead th {\n",
       "        text-align: right;\n",
       "    }\n",
       "</style>\n",
       "<table border=\"1\" class=\"dataframe\">\n",
       "  <thead>\n",
       "    <tr style=\"text-align: right;\">\n",
       "      <th></th>\n",
       "      <th>user_id</th>\n",
       "      <th>bot</th>\n",
       "      <th>statuses_count</th>\n",
       "      <th>account_age_in_days</th>\n",
       "      <th>number_of_tweets</th>\n",
       "      <th>account_average_tweets_per_day</th>\n",
       "      <th>avg_tweets_per_actual_day</th>\n",
       "      <th>max_number_of_tweet_in_a_day</th>\n",
       "      <th>entropy_for_day</th>\n",
       "      <th>entropy_for_hour</th>\n",
       "      <th>...</th>\n",
       "      <th>avg_mentions</th>\n",
       "      <th>avg_special_char_in_text</th>\n",
       "      <th>total_likes</th>\n",
       "      <th>avt_favorite_count</th>\n",
       "      <th>total_replies</th>\n",
       "      <th>avt_reply_count</th>\n",
       "      <th>total_retweet_count</th>\n",
       "      <th>account_discussion_creation_ratio</th>\n",
       "      <th>tweet_num_likes_ratio</th>\n",
       "      <th>tweet_num_replies_ratio</th>\n",
       "    </tr>\n",
       "  </thead>\n",
       "  <tbody>\n",
       "    <tr>\n",
       "      <th>count</th>\n",
       "      <td>1.110800e+04</td>\n",
       "      <td>11108.000000</td>\n",
       "      <td>11108.000000</td>\n",
       "      <td>11108.000000</td>\n",
       "      <td>11108.000000</td>\n",
       "      <td>11108.000000</td>\n",
       "      <td>11108.000000</td>\n",
       "      <td>11108.000000</td>\n",
       "      <td>11108.000000</td>\n",
       "      <td>11108.000000</td>\n",
       "      <td>...</td>\n",
       "      <td>11108.000000</td>\n",
       "      <td>11108.000000</td>\n",
       "      <td>1.110800e+04</td>\n",
       "      <td>11108.000000</td>\n",
       "      <td>1.110800e+04</td>\n",
       "      <td>11108.000000</td>\n",
       "      <td>1.110800e+04</td>\n",
       "      <td>11108.000000</td>\n",
       "      <td>11108.000000</td>\n",
       "      <td>11108.000000</td>\n",
       "    </tr>\n",
       "    <tr>\n",
       "      <th>mean</th>\n",
       "      <td>1.263557e+09</td>\n",
       "      <td>0.550594</td>\n",
       "      <td>485.581023</td>\n",
       "      <td>1827.635938</td>\n",
       "      <td>941.462099</td>\n",
       "      <td>0.262567</td>\n",
       "      <td>13.375639</td>\n",
       "      <td>52.167267</td>\n",
       "      <td>2.795125</td>\n",
       "      <td>1.995851</td>\n",
       "      <td>...</td>\n",
       "      <td>0.366510</td>\n",
       "      <td>15.984477</td>\n",
       "      <td>3.207350e+03</td>\n",
       "      <td>17.720968</td>\n",
       "      <td>9.357382e+02</td>\n",
       "      <td>0.603114</td>\n",
       "      <td>5.260731e+05</td>\n",
       "      <td>19.516091</td>\n",
       "      <td>17.395742</td>\n",
       "      <td>4.134271</td>\n",
       "    </tr>\n",
       "    <tr>\n",
       "      <th>std</th>\n",
       "      <td>9.362939e+08</td>\n",
       "      <td>0.497456</td>\n",
       "      <td>1239.154853</td>\n",
       "      <td>555.101424</td>\n",
       "      <td>1199.280505</td>\n",
       "      <td>0.679668</td>\n",
       "      <td>37.978610</td>\n",
       "      <td>87.945867</td>\n",
       "      <td>1.459904</td>\n",
       "      <td>1.086834</td>\n",
       "      <td>...</td>\n",
       "      <td>0.372442</td>\n",
       "      <td>5.572749</td>\n",
       "      <td>9.749861e+04</td>\n",
       "      <td>335.763909</td>\n",
       "      <td>2.983883e+04</td>\n",
       "      <td>12.406349</td>\n",
       "      <td>2.930989e+06</td>\n",
       "      <td>80.966312</td>\n",
       "      <td>46.418556</td>\n",
       "      <td>29.054618</td>\n",
       "    </tr>\n",
       "    <tr>\n",
       "      <th>min</th>\n",
       "      <td>6.780330e+05</td>\n",
       "      <td>0.000000</td>\n",
       "      <td>0.000000</td>\n",
       "      <td>891.000000</td>\n",
       "      <td>1.000000</td>\n",
       "      <td>0.000000</td>\n",
       "      <td>1.000000</td>\n",
       "      <td>1.000000</td>\n",
       "      <td>0.000000</td>\n",
       "      <td>0.000000</td>\n",
       "      <td>...</td>\n",
       "      <td>0.000000</td>\n",
       "      <td>0.000000</td>\n",
       "      <td>0.000000e+00</td>\n",
       "      <td>0.000000</td>\n",
       "      <td>0.000000e+00</td>\n",
       "      <td>0.000000</td>\n",
       "      <td>0.000000e+00</td>\n",
       "      <td>0.000000</td>\n",
       "      <td>0.000000</td>\n",
       "      <td>0.000000</td>\n",
       "    </tr>\n",
       "    <tr>\n",
       "      <th>25%</th>\n",
       "      <td>4.662897e+08</td>\n",
       "      <td>0.000000</td>\n",
       "      <td>41.000000</td>\n",
       "      <td>1312.000000</td>\n",
       "      <td>67.000000</td>\n",
       "      <td>0.022468</td>\n",
       "      <td>1.844843</td>\n",
       "      <td>6.000000</td>\n",
       "      <td>1.426160</td>\n",
       "      <td>1.032655</td>\n",
       "      <td>...</td>\n",
       "      <td>0.010862</td>\n",
       "      <td>13.640096</td>\n",
       "      <td>3.000000e+00</td>\n",
       "      <td>0.023830</td>\n",
       "      <td>0.000000e+00</td>\n",
       "      <td>0.000000</td>\n",
       "      <td>3.000000e+00</td>\n",
       "      <td>0.001647</td>\n",
       "      <td>0.957845</td>\n",
       "      <td>0.000000</td>\n",
       "    </tr>\n",
       "    <tr>\n",
       "      <th>50%</th>\n",
       "      <td>1.127886e+09</td>\n",
       "      <td>1.000000</td>\n",
       "      <td>68.000000</td>\n",
       "      <td>1702.000000</td>\n",
       "      <td>132.000000</td>\n",
       "      <td>0.035088</td>\n",
       "      <td>4.777778</td>\n",
       "      <td>18.000000</td>\n",
       "      <td>2.921068</td>\n",
       "      <td>2.234410</td>\n",
       "      <td>...</td>\n",
       "      <td>0.318584</td>\n",
       "      <td>15.175357</td>\n",
       "      <td>1.000000e+01</td>\n",
       "      <td>0.064815</td>\n",
       "      <td>0.000000e+00</td>\n",
       "      <td>0.000000</td>\n",
       "      <td>7.650000e+01</td>\n",
       "      <td>0.040932</td>\n",
       "      <td>7.500000</td>\n",
       "      <td>0.000000</td>\n",
       "    </tr>\n",
       "    <tr>\n",
       "      <th>75%</th>\n",
       "      <td>2.356965e+09</td>\n",
       "      <td>1.000000</td>\n",
       "      <td>81.000000</td>\n",
       "      <td>2080.000000</td>\n",
       "      <td>1703.000000</td>\n",
       "      <td>0.058218</td>\n",
       "      <td>8.058232</td>\n",
       "      <td>75.000000</td>\n",
       "      <td>3.709885</td>\n",
       "      <td>2.788765</td>\n",
       "      <td>...</td>\n",
       "      <td>0.553218</td>\n",
       "      <td>17.798202</td>\n",
       "      <td>3.892500e+02</td>\n",
       "      <td>0.267803</td>\n",
       "      <td>0.000000e+00</td>\n",
       "      <td>0.000000</td>\n",
       "      <td>6.465900e+04</td>\n",
       "      <td>20.000000</td>\n",
       "      <td>20.800000</td>\n",
       "      <td>0.000000</td>\n",
       "    </tr>\n",
       "    <tr>\n",
       "      <th>max</th>\n",
       "      <td>3.164942e+09</td>\n",
       "      <td>1.000000</td>\n",
       "      <td>7226.000000</td>\n",
       "      <td>3901.000000</td>\n",
       "      <td>3668.000000</td>\n",
       "      <td>6.792821</td>\n",
       "      <td>1759.500000</td>\n",
       "      <td>2131.000000</td>\n",
       "      <td>5.706424</td>\n",
       "      <td>5.705947</td>\n",
       "      <td>...</td>\n",
       "      <td>5.701754</td>\n",
       "      <td>149.000000</td>\n",
       "      <td>7.006348e+06</td>\n",
       "      <td>13542.800000</td>\n",
       "      <td>2.000000e+06</td>\n",
       "      <td>603.318250</td>\n",
       "      <td>9.638758e+07</td>\n",
       "      <td>3519.000000</td>\n",
       "      <td>2877.000000</td>\n",
       "      <td>1762.000000</td>\n",
       "    </tr>\n",
       "  </tbody>\n",
       "</table>\n",
       "<p>8 rows × 23 columns</p>\n",
       "</div>"
      ],
      "text/plain": [
       "            user_id           bot  statuses_count  account_age_in_days  \\\n",
       "count  1.110800e+04  11108.000000    11108.000000         11108.000000   \n",
       "mean   1.263557e+09      0.550594      485.581023          1827.635938   \n",
       "std    9.362939e+08      0.497456     1239.154853           555.101424   \n",
       "min    6.780330e+05      0.000000        0.000000           891.000000   \n",
       "25%    4.662897e+08      0.000000       41.000000          1312.000000   \n",
       "50%    1.127886e+09      1.000000       68.000000          1702.000000   \n",
       "75%    2.356965e+09      1.000000       81.000000          2080.000000   \n",
       "max    3.164942e+09      1.000000     7226.000000          3901.000000   \n",
       "\n",
       "       number_of_tweets  account_average_tweets_per_day  \\\n",
       "count      11108.000000                    11108.000000   \n",
       "mean         941.462099                        0.262567   \n",
       "std         1199.280505                        0.679668   \n",
       "min            1.000000                        0.000000   \n",
       "25%           67.000000                        0.022468   \n",
       "50%          132.000000                        0.035088   \n",
       "75%         1703.000000                        0.058218   \n",
       "max         3668.000000                        6.792821   \n",
       "\n",
       "       avg_tweets_per_actual_day  max_number_of_tweet_in_a_day  \\\n",
       "count               11108.000000                  11108.000000   \n",
       "mean                   13.375639                     52.167267   \n",
       "std                    37.978610                     87.945867   \n",
       "min                     1.000000                      1.000000   \n",
       "25%                     1.844843                      6.000000   \n",
       "50%                     4.777778                     18.000000   \n",
       "75%                     8.058232                     75.000000   \n",
       "max                  1759.500000                   2131.000000   \n",
       "\n",
       "       entropy_for_day  entropy_for_hour  ...  avg_mentions  \\\n",
       "count     11108.000000      11108.000000  ...  11108.000000   \n",
       "mean          2.795125          1.995851  ...      0.366510   \n",
       "std           1.459904          1.086834  ...      0.372442   \n",
       "min           0.000000          0.000000  ...      0.000000   \n",
       "25%           1.426160          1.032655  ...      0.010862   \n",
       "50%           2.921068          2.234410  ...      0.318584   \n",
       "75%           3.709885          2.788765  ...      0.553218   \n",
       "max           5.706424          5.705947  ...      5.701754   \n",
       "\n",
       "       avg_special_char_in_text   total_likes  avt_favorite_count  \\\n",
       "count              11108.000000  1.110800e+04        11108.000000   \n",
       "mean                  15.984477  3.207350e+03           17.720968   \n",
       "std                    5.572749  9.749861e+04          335.763909   \n",
       "min                    0.000000  0.000000e+00            0.000000   \n",
       "25%                   13.640096  3.000000e+00            0.023830   \n",
       "50%                   15.175357  1.000000e+01            0.064815   \n",
       "75%                   17.798202  3.892500e+02            0.267803   \n",
       "max                  149.000000  7.006348e+06        13542.800000   \n",
       "\n",
       "       total_replies  avt_reply_count  total_retweet_count  \\\n",
       "count   1.110800e+04     11108.000000         1.110800e+04   \n",
       "mean    9.357382e+02         0.603114         5.260731e+05   \n",
       "std     2.983883e+04        12.406349         2.930989e+06   \n",
       "min     0.000000e+00         0.000000         0.000000e+00   \n",
       "25%     0.000000e+00         0.000000         3.000000e+00   \n",
       "50%     0.000000e+00         0.000000         7.650000e+01   \n",
       "75%     0.000000e+00         0.000000         6.465900e+04   \n",
       "max     2.000000e+06       603.318250         9.638758e+07   \n",
       "\n",
       "       account_discussion_creation_ratio  tweet_num_likes_ratio  \\\n",
       "count                       11108.000000           11108.000000   \n",
       "mean                           19.516091              17.395742   \n",
       "std                            80.966312              46.418556   \n",
       "min                             0.000000               0.000000   \n",
       "25%                             0.001647               0.957845   \n",
       "50%                             0.040932               7.500000   \n",
       "75%                            20.000000              20.800000   \n",
       "max                          3519.000000            2877.000000   \n",
       "\n",
       "       tweet_num_replies_ratio  \n",
       "count             11108.000000  \n",
       "mean                  4.134271  \n",
       "std                  29.054618  \n",
       "min                   0.000000  \n",
       "25%                   0.000000  \n",
       "50%                   0.000000  \n",
       "75%                   0.000000  \n",
       "max                1762.000000  \n",
       "\n",
       "[8 rows x 23 columns]"
      ]
     },
     "execution_count": 2,
     "metadata": {},
     "output_type": "execute_result"
    }
   ],
   "source": [
    "users_df = pd.read_csv(\"dataset/users_df_dataset_cleaned_with_indicators.csv\")\n",
    "users_df.dropna(inplace=True)\n",
    "users_df.info(verbose=True)\n",
    "users_df.describe()"
   ]
  },
  {
   "cell_type": "markdown",
   "id": "4c4004e2",
   "metadata": {},
   "source": [
    "# X-means"
   ]
  },
  {
   "cell_type": "markdown",
   "id": "f876bc5e",
   "metadata": {},
   "source": [
    "X-means wants to resolve three major issues of K-means: K-means scales poorly computationally, the need of supplying the number of clusters K and the fact that the algorithm is prone to local minima."
   ]
  },
  {
   "cell_type": "code",
   "execution_count": 3,
   "id": "67bc9831",
   "metadata": {},
   "outputs": [],
   "source": [
    "indicator_columns_users = ['account_average_tweets_per_day', 'avg_tweets_per_actual_day', 'avg_hashtags', \n",
    "                            'avg_text_length', 'avg_mentions', 'avg_special_char_in_text', 'avt_favorite_count', 'total_replies',\n",
    "                            'avt_reply_count', 'total_retweet_count', 'account_discussion_creation_ratio', 'tweet_num_likes_ratio',\n",
    "                            'tweet_num_replies_ratio']\n",
    "\n",
    "all_possible_combinations = list(combinations(indicator_columns_users, 2))\n",
    "combination = (\"avt_favorite_count\", 'total_replies')\n",
    "#combination = indicator_columns_users"
   ]
  },
  {
   "cell_type": "code",
   "execution_count": 4,
   "id": "764806ca",
   "metadata": {},
   "outputs": [],
   "source": [
    "subset_df = users_df[list(combination)]\n",
    "scaler = StandardScaler()\n",
    "scaler.fit(subset_df.values)\n",
    "transform_result = scaler.fit_transform(subset_df.values)"
   ]
  },
  {
   "cell_type": "code",
   "execution_count": 29,
   "id": "b7cfb0ef",
   "metadata": {},
   "outputs": [
    {
     "data": {
      "text/plain": [
       "<pyclustering.cluster.xmeans.xmeans at 0x7f7e5037e320>"
      ]
     },
     "execution_count": 29,
     "metadata": {},
     "output_type": "execute_result"
    }
   ],
   "source": [
    "initial_centers = kmeans_plusplus_initializer(transform_result, 2).initialize()\n",
    "xmeans_instance = xmeans(transform_result, initial_centers, 40)\n",
    "xmeans_instance.process()"
   ]
  },
  {
   "cell_type": "code",
   "execution_count": 30,
   "id": "a7b94a4a",
   "metadata": {},
   "outputs": [],
   "source": [
    "clusters = xmeans_instance.get_clusters()"
   ]
  },
  {
   "cell_type": "markdown",
   "id": "eb62c212",
   "metadata": {},
   "source": [
    "## Studying the composition of our clusters "
   ]
  },
  {
   "cell_type": "markdown",
   "id": "40524e80",
   "metadata": {},
   "source": [
    "### Number of real bots and users in the cluster"
   ]
  },
  {
   "cell_type": "code",
   "execution_count": 31,
   "id": "3f1acdd1",
   "metadata": {},
   "outputs": [],
   "source": [
    "is_bot = lambda index: users_df.iloc[index].bot == 1\n",
    "clusters_ids = []\n",
    "number_users_per_cluster = []\n",
    "number_bots_per_cluster = []\n",
    "for (cluster_index, indexes_in_cluster) in enumerate(clusters):\n",
    "    number_real_users = 0\n",
    "    number_bots = 0\n",
    "    for user_index in indexes_in_cluster:\n",
    "        if is_bot(user_index):\n",
    "            number_bots += 1\n",
    "        else:\n",
    "            number_real_users += 1\n",
    "    clusters_ids.append(cluster_index)\n",
    "    number_users_per_cluster.append(number_real_users)\n",
    "    number_bots_per_cluster.append(number_bots)"
   ]
  },
  {
   "cell_type": "code",
   "execution_count": 32,
   "id": "8f0f2059",
   "metadata": {
    "scrolled": false
   },
   "outputs": [
    {
     "data": {
      "image/png": "[encoded data removed]",
      "text/plain": [
       "<Figure size 640x480 with 1 Axes>"
      ]
     },
     "metadata": {},
     "output_type": "display_data"
    }
   ],
   "source": [
    "def plot_clusters_compositions(clusters_ids, number_users_per_cluster, number_bots_per_cluster):\n",
    "    x = np.arange(len(clusters_ids))  # the label locations\n",
    "    width = 0.35  # the width of the bars\n",
    "\n",
    "    fig, ax = plt.subplots()\n",
    "    rects1 = ax.bar(x - width/2, number_users_per_cluster, width, label='Real users', log=True)\n",
    "    rects2 = ax.bar(x + width/2, number_bots_per_cluster, width, label='Bots', log=True)\n",
    "\n",
    "    # Add some text for labels, title and custom x-axis tick labels, etc.\n",
    "    ax.set_ylabel('Number of users')\n",
    "    ax.set_title('Composition of clusters found by X-means')\n",
    "    ax.set_xticks(x, clusters_ids)\n",
    "    ax.legend()\n",
    "\n",
    "    ax.bar_label(rects1, padding=3)\n",
    "    ax.bar_label(rects2, padding=3)\n",
    "\n",
    "    fig.tight_layout()\n",
    "\n",
    "    plt.show()\n",
    "   \n",
    "plot_clusters_compositions(clusters_ids,number_users_per_cluster, number_bots_per_cluster)"
   ]
  },
  {
   "cell_type": "markdown",
   "id": "65df00b1",
   "metadata": {},
   "source": [
    "### Entropy for the clusters"
   ]
  },
  {
   "cell_type": "code",
   "execution_count": 33,
   "id": "0361eb1d",
   "metadata": {
    "scrolled": true
   },
   "outputs": [
    {
     "data": {
      "image/png": "[encoded data removed]",
      "text/plain": [
       "<Figure size 640x480 with 1 Axes>"
      ]
     },
     "metadata": {},
     "output_type": "display_data"
    }
   ],
   "source": [
    "def visualize_clusters_entropy(clusters_ids: list, clusters_entropy: list):\n",
    "    \"\"\"\n",
    "    Plots the entropy of the clusters\n",
    "    \n",
    "    :param clusters_ids: list of int, the ids of the clusters to study\n",
    "    :param clusters_entropy: list of float, the value of entropy for each cluster; i.e. the i-th element of this list\n",
    "        contains the entropy of the i-th cluster\n",
    "    \"\"\"\n",
    "    x = np.arange(len(clusters_ids))\n",
    "    \n",
    "    fig, ax = plt.subplots()\n",
    "    plt.bar(x=x, height=clusters_entropy)\n",
    "    \n",
    "    # Add some text for labels, title and custom x-axis tick labels, etc.\n",
    "    ax.set_ylabel('Entropy')\n",
    "    ax.set_title('Entropy of clusters found by X-means')\n",
    "    ax.set_xticks(x, clusters_ids)\n",
    "    \n",
    "    plt.show()\n",
    "\n",
    "\n",
    "compute_entropy = lambda p: -(p*math.log(p) + (1-p)*math.log(1-p)) if p != 1 and p != 0 else 0\n",
    "\n",
    "clusters_entropy = []\n",
    "for cluster_id in clusters_ids:\n",
    "    number_users_in_cluster = number_users_per_cluster[cluster_id]\n",
    "    number_bots_in_cluster = number_bots_per_cluster[cluster_id]\n",
    "    total_number_of_elements = number_users_in_cluster + number_bots_in_cluster\n",
    "    frequency_users = number_users_in_cluster / total_number_of_elements\n",
    "    entropy = compute_entropy(frequency_users)\n",
    "    clusters_entropy.append(entropy)\n",
    "    \n",
    "visualize_clusters_entropy(clusters_ids, clusters_entropy)"
   ]
  },
  {
   "cell_type": "markdown",
   "id": "836a594d",
   "metadata": {},
   "source": [
    "### Computing silhouette score for each cluster"
   ]
  },
  {
   "cell_type": "code",
   "execution_count": 24,
   "id": "ed561efc",
   "metadata": {},
   "outputs": [
    {
     "name": "stdout",
     "output_type": "stream",
     "text": [
      "0.5308702150550868\n"
     ]
    }
   ],
   "source": [
    "def get_element_cluster(element, clusters):\n",
    "    for (index, list_of_elements) in enumerate(clusters):\n",
    "        if element in list_of_elements:\n",
    "            return index\n",
    "\n",
    "labels = [\n",
    "    get_element_cluster(index, clusters)\n",
    "    for index in range(len(users_df))\n",
    "]\n",
    " \n",
    "print(silhouette_score(transform_result, labels))"
   ]
  },
  {
   "cell_type": "markdown",
   "id": "4c7edbe5",
   "metadata": {},
   "source": [
    "# Other stuff not fully developed"
   ]
  },
  {
   "cell_type": "code",
   "execution_count": 11,
   "id": "95ee8db5",
   "metadata": {},
   "outputs": [],
   "source": [
    "def get_element_cluster(element, clusters):\n",
    "    for (index, list_of_elements) in enumerate(clusters):\n",
    "        if element in list_of_elements:\n",
    "            return index\n",
    "\n",
    "labels = [\n",
    "    get_element_cluster(index, clusters)\n",
    "    for index in range(len(users_df))\n",
    "]"
   ]
  },
  {
   "cell_type": "code",
   "execution_count": 12,
   "id": "819f8c5c",
   "metadata": {},
   "outputs": [
    {
     "data": {
      "text/plain": [
       "<matplotlib.collections.PathCollection at 0x7f7e633faec0>"
      ]
     },
     "execution_count": 12,
     "metadata": {},
     "output_type": "execute_result"
    },
    {
     "data": {
      "image/png": "[encoded data removed]",
      "text/plain": [
       "<Figure size 640x480 with 1 Axes>"
      ]
     },
     "metadata": {},
     "output_type": "display_data"
    }
   ],
   "source": [
    "plt.scatter(data=users_df, x=combination[1], y=combination[0],c=labels)"
   ]
  },
  {
   "cell_type": "code",
   "execution_count": 13,
   "id": "b4aeef35",
   "metadata": {},
   "outputs": [
    {
     "data": {
      "image/png": "[encoded data removed]",
      "text/plain": [
       "<Figure size 640x480 with 1 Axes>"
      ]
     },
     "metadata": {},
     "output_type": "display_data"
    },
    {
     "data": {
      "image/png": "[encoded data removed]",
      "text/plain": [
       "<Figure size 640x480 with 1 Axes>"
      ]
     },
     "execution_count": 13,
     "metadata": {},
     "output_type": "execute_result"
    }
   ],
   "source": [
    "visualizer = cluster_visualizer()\n",
    "visualizer.append_clusters(clusters, transform_result)\n",
    "visualizer.show()"
   ]
  },
  {
   "cell_type": "code",
   "execution_count": 14,
   "id": "bd2daefe",
   "metadata": {},
   "outputs": [
    {
     "name": "stdout",
     "output_type": "stream",
     "text": [
      "Total WCE: 146.70288719228216\n"
     ]
    }
   ],
   "source": [
    "print(\"Total WCE:\", xmeans_instance.get_total_wce())"
   ]
  },
  {
   "cell_type": "code",
   "execution_count": 15,
   "id": "33ebbb64",
   "metadata": {},
   "outputs": [
    {
     "name": "stdout",
     "output_type": "stream",
     "text": [
      "CPU times: user 30.9 s, sys: 2.66 s, total: 33.6 s\n",
      "Wall time: 37.1 s\n"
     ]
    }
   ],
   "source": [
    "%%time\n",
    "sse = []\n",
    "for combination in all_possible_combinations:\n",
    "    subset_df = users_df[list(combination)]\n",
    "    scaler = StandardScaler()\n",
    "    scaler.fit(subset_df.values)\n",
    "    transform_result = scaler.fit_transform(subset_df.values)\n",
    "    initial_centers = kmeans_plusplus_initializer(transform_result, 2).initialize()\n",
    "    xmeans_instance = xmeans(transform_result, initial_centers, 20)\n",
    "    xmeans_instance.process()\n",
    "    sse.append((combination, xmeans_instance.get_total_wce()))"
   ]
  },
  {
   "cell_type": "code",
   "execution_count": 16,
   "id": "5feb2dbf",
   "metadata": {},
   "outputs": [],
   "source": [
    "sse.sort(key=lambda x: x[1])"
   ]
  },
  {
   "cell_type": "code",
   "execution_count": 18,
   "id": "06ec5017",
   "metadata": {},
   "outputs": [
    {
     "data": {
      "text/plain": [
       "[(('avt_favorite_count', 'total_replies'), 146.76153119963692),\n",
       " (('avt_favorite_count', 'avt_reply_count'), 148.81106680212034),\n",
       " (('total_replies', 'tweet_num_replies_ratio'), 173.10241251671943),\n",
       " (('account_average_tweets_per_day', 'total_replies'), 195.89487203853818),\n",
       " (('total_replies', 'avt_reply_count'), 208.7670575860945)]"
      ]
     },
     "execution_count": 18,
     "metadata": {},
     "output_type": "execute_result"
    }
   ],
   "source": [
    "sse[0:5]"
   ]
  },
  {
   "cell_type": "code",
   "execution_count": null,
   "id": "bef6a4a7",
   "metadata": {},
   "outputs": [],
   "source": []
  },
  {
   "cell_type": "code",
   "execution_count": null,
   "id": "eeda7ab9",
   "metadata": {},
   "outputs": [],
   "source": []
  }
 ],
 "metadata": {
  "kernelspec": {
   "display_name": "Python 3 (ipykernel)",
   "language": "python",
   "name": "python3"
  },
  "language_info": {
   "codemirror_mode": {
    "name": "ipython",
    "version": 3
   },
   "file_extension": ".py",
   "mimetype": "text/x-python",
   "name": "python",
   "nbconvert_exporter": "python",
   "pygments_lexer": "ipython3",
   "version": "3.10.6"
  }
 },
 "nbformat": 4,
 "nbformat_minor": 5
}
