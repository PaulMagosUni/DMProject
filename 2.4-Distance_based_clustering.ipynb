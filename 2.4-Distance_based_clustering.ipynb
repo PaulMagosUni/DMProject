{
 "cells": [
  {
   "cell_type": "code",
   "execution_count": null,
   "id": "1eb136fc",
   "metadata": {},
   "outputs": [],
   "source": [
    "import numpy as np\n",
    "import pandas as pd\n",
    "import seaborn as sns\n",
    "import matplotlib.pyplot as plt\n",
    "from sklearn.preprocessing import StandardScaler, MinMaxScaler\n",
    "from sklearn.cluster import KMeans\n",
    "from sklearn.metrics import silhouette_score, davies_bouldin_score\n",
    "import clustering_utils\n",
    "import math\n",
    "from itertools import combinations\n",
    "from pyclustering.cluster.xmeans import xmeans\n",
    "from pyclustering.cluster.center_initializer import kmeans_plusplus_initializer\n",
    "from pyclustering.cluster import cluster_visualizer"
   ]
  },
  {
   "cell_type": "code",
   "execution_count": null,
   "id": "3e2eb742",
   "metadata": {},
   "outputs": [],
   "source": [
    "users_df = pd.read_csv(\"dataset/users_df_dataset_cleaned_with_indicators.csv\")\n",
    "users_df.dropna(inplace=True)\n",
    "users_df.info(verbose=True)\n",
    "users_df.describe()"
   ]
  },
  {
   "cell_type": "markdown",
   "id": "4c4004e2",
   "metadata": {},
   "source": [
    "# X-means"
   ]
  },
  {
   "cell_type": "markdown",
   "id": "f876bc5e",
   "metadata": {},
   "source": [
    "X-means wants to resolve three major issues of K-means: K-means scales poorly computationally, the need of supplying the number of clusters K and the fact that the algorithm is prone to local minima."
   ]
  },
  {
   "cell_type": "code",
   "execution_count": null,
   "id": "67bc9831",
   "metadata": {},
   "outputs": [],
   "source": [
    "indicator_columns_users = ['account_average_tweets_per_day', 'avg_tweets_per_actual_day', 'covid19_num_of_tweets', 'avg_hashtags', \n",
    "                            'avg_text_length', 'avg_mentions', 'avg_special_char_in_text', 'avt_favorite_count', 'total_replies',\n",
    "                            'avt_reply_count', 'total_retweet_count', 'account_discussion_creation_ratio', 'tweet_num_likes_ratio',\n",
    "                            'tweet_num_replies_ratio']\n",
    "\n",
    "all_possible_combinations = list(combinations(indicator_columns_users, 2))\n",
    "#combination = ('account_average_tweets_per_day', 'avg_mentions')\n",
    "combination = indicator_columns_users"
   ]
  },
  {
   "cell_type": "code",
   "execution_count": null,
   "id": "764806ca",
   "metadata": {},
   "outputs": [],
   "source": [
    "subset_df = users_df[list(combination)]\n",
    "scaler = StandardScaler()\n",
    "scaler.fit(subset_df.values)\n",
    "transform_result = scaler.fit_transform(subset_df.values)"
   ]
  },
  {
   "cell_type": "code",
   "execution_count": null,
   "id": "b7cfb0ef",
   "metadata": {},
   "outputs": [],
   "source": [
    "initial_centers = kmeans_plusplus_initializer(transform_result, 2).initialize()\n",
    "xmeans_instance = xmeans(transform_result, initial_centers, 20)\n",
    "xmeans_instance.process()"
   ]
  },
  {
   "cell_type": "code",
   "execution_count": null,
   "id": "a7b94a4a",
   "metadata": {},
   "outputs": [],
   "source": [
    "clusters = xmeans_instance.get_clusters()"
   ]
  },
  {
   "cell_type": "markdown",
   "id": "eb62c212",
   "metadata": {},
   "source": [
    "## Studying the composition of our clusters "
   ]
  },
  {
   "cell_type": "markdown",
   "id": "caa657b0",
   "metadata": {},
   "source": [
    "### Number of real bots and users in the cluster"
   ]
  },
  {
   "cell_type": "code",
   "execution_count": null,
   "id": "2bd881a6",
   "metadata": {},
   "outputs": [],
   "source": [
    "is_bot = lambda index: users_df.iloc[index].bot == 1\n",
    "clusters_ids = []\n",
    "number_users_per_cluster = []\n",
    "number_bots_per_cluster = []\n",
    "for (cluster_index, indexes_in_cluster) in enumerate(clusters):\n",
    "    number_real_users = 0\n",
    "    number_bots = 0\n",
    "    for user_index in indexes_in_cluster:\n",
    "        if is_bot(user_index):\n",
    "            number_bots += 1\n",
    "        else:\n",
    "            number_real_users += 1\n",
    "    clusters_ids.append(cluster_index)\n",
    "    number_users_per_cluster.append(number_real_users)\n",
    "    number_bots_per_cluster.append(number_bots)"
   ]
  },
  {
   "cell_type": "code",
   "execution_count": null,
   "id": "8f0f2059",
   "metadata": {
    "scrolled": false
   },
   "outputs": [],
   "source": [
    "def plot_clusters_compositions(clusters_ids, number_users_per_cluster, number_bots_per_cluster):\n",
    "    x = np.arange(len(clusters_ids))  # the label locations\n",
    "    width = 0.35  # the width of the bars\n",
    "\n",
    "    fig, ax = plt.subplots()\n",
    "    rects1 = ax.bar(x - width/2, number_users_per_cluster, width, label='Real users', log=True)\n",
    "    rects2 = ax.bar(x + width/2, number_bots_per_cluster, width, label='Bots', log=True)\n",
    "\n",
    "    # Add some text for labels, title and custom x-axis tick labels, etc.\n",
    "    ax.set_ylabel('Number of users')\n",
    "    ax.set_title('Composition of clusters found by X-means')\n",
    "    ax.set_xticks(x, clusters_ids)\n",
    "    ax.legend()\n",
    "\n",
    "    ax.bar_label(rects1, padding=3)\n",
    "    ax.bar_label(rects2, padding=3)\n",
    "\n",
    "    fig.tight_layout()\n",
    "\n",
    "    plt.show()\n",
    "   \n",
    "plot_clusters_compositions(clusters_ids,number_users_per_cluster, number_bots_per_cluster)"
   ]
  },
  {
   "cell_type": "markdown",
   "id": "e75eb77d",
   "metadata": {},
   "source": [
    "### Entropy for the clusters"
   ]
  },
  {
   "cell_type": "code",
   "execution_count": null,
   "id": "c50f1540",
   "metadata": {},
   "outputs": [],
   "source": [
    "def visualize_clusters_entropy(clusters_ids: list, clusters_entropy: list):\n",
    "    \"\"\"\n",
    "    Plots the entropy of the clusters\n",
    "    \n",
    "    :param clusters_ids: list of int, the ids of the clusters to study\n",
    "    :param clusters_entropy: list of float, the value of entropy for each cluster; i.e. the i-th element of this list\n",
    "        contains the entropy of the i-th cluster\n",
    "    \"\"\"\n",
    "    x = np.arange(len(clusters_ids))\n",
    "    \n",
    "    fig, ax = plt.subplots()\n",
    "    plt.bar(x=x, height=clusters_entropy)\n",
    "    \n",
    "    # Add some text for labels, title and custom x-axis tick labels, etc.\n",
    "    ax.set_ylabel('Entropy')\n",
    "    ax.set_title('Entropy of clusters found by X-means')\n",
    "    ax.set_xticks(x, clusters_ids)\n",
    "    \n",
    "    plt.show()\n",
    "\n",
    "\n",
    "compute_entropy = lambda p: -(p*math.log(p) + (1-p)*math.log(1-p)) if p != 1 and p != 0 else 0\n",
    "\n",
    "clusters_entropy = []\n",
    "for cluster_id in clusters_ids:\n",
    "    number_users_in_cluster = number_users_per_cluster[cluster_id]\n",
    "    number_bots_in_cluster = number_bots_per_cluster[cluster_id]\n",
    "    total_number_of_elements = number_users_in_cluster + number_bots_in_cluster\n",
    "    frequency_users = number_users_in_cluster / total_number_of_elements\n",
    "    entropy = compute_entropy(frequency_users)\n",
    "    clusters_entropy.append(entropy)\n",
    "    \n",
    "visualize_clusters_entropy(clusters_ids, clusters_entropy)"
   ]
  },
  {
   "cell_type": "code",
   "execution_count": null,
   "id": "95ee8db5",
   "metadata": {},
   "outputs": [],
   "source": [
    "def get_element_cluster(element, clusters):\n",
    "    for (index, list_of_elements) in enumerate(clusters):\n",
    "        if element in list_of_elements:\n",
    "            return index\n",
    "\n",
    "labels = [\n",
    "    get_element_cluster(index, clusters)\n",
    "    for index in range(len(users_df))\n",
    "]"
   ]
  },
  {
   "cell_type": "code",
   "execution_count": null,
   "id": "819f8c5c",
   "metadata": {},
   "outputs": [],
   "source": [
    "plt.scatter(data=users_df, x=combination[1], y=combination[0],c=labels)"
   ]
  },
  {
   "cell_type": "code",
   "execution_count": null,
   "id": "b4aeef35",
   "metadata": {},
   "outputs": [],
   "source": [
    "visualizer = cluster_visualizer()\n",
    "visualizer.append_clusters(clusters, transform_result)\n",
    "visualizer.show()"
   ]
  },
  {
   "cell_type": "code",
   "execution_count": null,
   "id": "bd2daefe",
   "metadata": {},
   "outputs": [],
   "source": [
    "print(\"Total WCE:\", xmeans_instance.get_total_wce())"
   ]
  },
  {
   "cell_type": "code",
   "execution_count": null,
   "id": "33ebbb64",
   "metadata": {},
   "outputs": [],
   "source": [
    "%%time\n",
    "sse = []\n",
    "for combination in all_possible_combinations:\n",
    "    subset_df = users_df[list(combination)]\n",
    "    scaler = StandardScaler()\n",
    "    scaler.fit(subset_df.values)\n",
    "    transform_result = scaler.fit_transform(subset_df.values)\n",
    "    initial_centers = kmeans_plusplus_initializer(transform_result, 2).initialize()\n",
    "    xmeans_instance = xmeans(transform_result, initial_centers, 20)\n",
    "    xmeans_instance.process()\n",
    "    sse.append((combination, xmeans_instance.get_total_wce()))"
   ]
  },
  {
   "cell_type": "code",
   "execution_count": null,
   "id": "5feb2dbf",
   "metadata": {},
   "outputs": [],
   "source": [
    "sse.sort(key=lambda x: x[1])"
   ]
  },
  {
   "cell_type": "code",
   "execution_count": null,
   "id": "06ec5017",
   "metadata": {},
   "outputs": [],
   "source": [
    "sse[0]"
   ]
  },
  {
   "cell_type": "code",
   "execution_count": null,
   "id": "bef6a4a7",
   "metadata": {},
   "outputs": [],
   "source": []
  }
 ],
 "metadata": {
  "kernelspec": {
   "display_name": "Python 3 (ipykernel)",
   "language": "python",
   "name": "python3"
  },
  "language_info": {
   "codemirror_mode": {
    "name": "ipython",
    "version": 3
   },
   "file_extension": ".py",
   "mimetype": "text/x-python",
   "name": "python",
   "nbconvert_exporter": "python",
   "pygments_lexer": "ipython3",
   "version": "3.10.6"
  }
 },
 "nbformat": 4,
 "nbformat_minor": 5
}
