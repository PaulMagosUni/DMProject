{
 "cells": [
  {
   "cell_type": "code",
   "execution_count": 24,
   "id": "1eb136fc",
   "metadata": {},
   "outputs": [],
   "source": [
    "import numpy as np\n",
    "import pandas as pd\n",
    "import matplotlib.pyplot as plt\n",
    "from sklearn.preprocessing import StandardScaler, MinMaxScaler\n",
    "from sklearn.cluster import KMeans\n",
    "from sklearn.metrics import silhouette_score, davies_bouldin_score\n",
    "import clustering_utils\n",
    "from itertools import combinations\n",
    "from pyclustering.cluster.xmeans import xmeans\n",
    "from pyclustering.cluster.center_initializer import kmeans_plusplus_initializer\n",
    "from pyclustering.cluster import cluster_visualizer"
   ]
  },
  {
   "cell_type": "code",
   "execution_count": 25,
   "id": "3e2eb742",
   "metadata": {},
   "outputs": [
    {
     "name": "stdout",
     "output_type": "stream",
     "text": [
      "<class 'pandas.core.frame.DataFrame'>\n",
      "Int64Index: 11108 entries, 0 to 11108\n",
      "Data columns (total 25 columns):\n",
      " #   Column                             Non-Null Count  Dtype \n",
      "---  ------                             --------------  ----- \n",
      " 0   user_id                            11108 non-null  int64 \n",
      " 1   name                               11108 non-null  object\n",
      " 2   lang                               11108 non-null  object\n",
      " 3   bot                                11108 non-null  int64 \n",
      " 4   created_at                         11108 non-null  object\n",
      " 5   statuses_count                     11108 non-null  int64 \n",
      " 6   account_age_in_days                11108 non-null  int64 \n",
      " 7   number_of_tweets                   11108 non-null  int64 \n",
      " 8   account_average_tweets_per_day     11108 non-null  int64 \n",
      " 9   avg_tweets_per_actual_day          11108 non-null  int64 \n",
      " 10  day_with_most_tweets               11108 non-null  object\n",
      " 11  max_number_of_tweet_in_a_day       11108 non-null  int64 \n",
      " 12  covid19_num_of_tweets              11108 non-null  int64 \n",
      " 13  avg_hashtags                       11108 non-null  int64 \n",
      " 14  avg_text_length                    11108 non-null  int64 \n",
      " 15  avg_mentions                       11108 non-null  int64 \n",
      " 16  avg_special_char_in_text           11108 non-null  int64 \n",
      " 17  total_likes                        11108 non-null  int64 \n",
      " 18  avt_favorite_count                 11108 non-null  int64 \n",
      " 19  total_replies                      11108 non-null  int64 \n",
      " 20  avt_reply_count                    11108 non-null  int64 \n",
      " 21  total_retweet_count                11108 non-null  int64 \n",
      " 22  account_discussion_creation_ratio  11108 non-null  int64 \n",
      " 23  tweet_num_likes_ratio              11108 non-null  int64 \n",
      " 24  tweet_num_replies_ratio            11108 non-null  int64 \n",
      "dtypes: int64(21), object(4)\n",
      "memory usage: 2.2+ MB\n"
     ]
    },
    {
     "data": {
      "text/html": [
       "<div>\n",
       "<style scoped>\n",
       "    .dataframe tbody tr th:only-of-type {\n",
       "        vertical-align: middle;\n",
       "    }\n",
       "\n",
       "    .dataframe tbody tr th {\n",
       "        vertical-align: top;\n",
       "    }\n",
       "\n",
       "    .dataframe thead th {\n",
       "        text-align: right;\n",
       "    }\n",
       "</style>\n",
       "<table border=\"1\" class=\"dataframe\">\n",
       "  <thead>\n",
       "    <tr style=\"text-align: right;\">\n",
       "      <th></th>\n",
       "      <th>user_id</th>\n",
       "      <th>bot</th>\n",
       "      <th>statuses_count</th>\n",
       "      <th>account_age_in_days</th>\n",
       "      <th>number_of_tweets</th>\n",
       "      <th>account_average_tweets_per_day</th>\n",
       "      <th>avg_tweets_per_actual_day</th>\n",
       "      <th>max_number_of_tweet_in_a_day</th>\n",
       "      <th>covid19_num_of_tweets</th>\n",
       "      <th>avg_hashtags</th>\n",
       "      <th>...</th>\n",
       "      <th>avg_mentions</th>\n",
       "      <th>avg_special_char_in_text</th>\n",
       "      <th>total_likes</th>\n",
       "      <th>avt_favorite_count</th>\n",
       "      <th>total_replies</th>\n",
       "      <th>avt_reply_count</th>\n",
       "      <th>total_retweet_count</th>\n",
       "      <th>account_discussion_creation_ratio</th>\n",
       "      <th>tweet_num_likes_ratio</th>\n",
       "      <th>tweet_num_replies_ratio</th>\n",
       "    </tr>\n",
       "  </thead>\n",
       "  <tbody>\n",
       "    <tr>\n",
       "      <th>count</th>\n",
       "      <td>1.110800e+04</td>\n",
       "      <td>11108.000000</td>\n",
       "      <td>11108.000000</td>\n",
       "      <td>11108.000000</td>\n",
       "      <td>11108.000000</td>\n",
       "      <td>11108.000000</td>\n",
       "      <td>11108.000000</td>\n",
       "      <td>11108.000000</td>\n",
       "      <td>11108.000000</td>\n",
       "      <td>11108.000000</td>\n",
       "      <td>...</td>\n",
       "      <td>11108.000000</td>\n",
       "      <td>11108.000000</td>\n",
       "      <td>1.110800e+04</td>\n",
       "      <td>11108.000000</td>\n",
       "      <td>1.110800e+04</td>\n",
       "      <td>11108.000000</td>\n",
       "      <td>1.110800e+04</td>\n",
       "      <td>11108.000000</td>\n",
       "      <td>11108.000000</td>\n",
       "      <td>11108.000000</td>\n",
       "    </tr>\n",
       "    <tr>\n",
       "      <th>mean</th>\n",
       "      <td>1.263557e+09</td>\n",
       "      <td>0.550594</td>\n",
       "      <td>485.581023</td>\n",
       "      <td>1827.635938</td>\n",
       "      <td>941.462099</td>\n",
       "      <td>0.153493</td>\n",
       "      <td>12.950756</td>\n",
       "      <td>52.167267</td>\n",
       "      <td>273.983885</td>\n",
       "      <td>0.017465</td>\n",
       "      <td>...</td>\n",
       "      <td>0.069680</td>\n",
       "      <td>15.491538</td>\n",
       "      <td>3.207350e+03</td>\n",
       "      <td>17.557076</td>\n",
       "      <td>9.357382e+02</td>\n",
       "      <td>0.573281</td>\n",
       "      <td>5.260731e+05</td>\n",
       "      <td>19.342636</td>\n",
       "      <td>17.052575</td>\n",
       "      <td>4.088315</td>\n",
       "    </tr>\n",
       "    <tr>\n",
       "      <th>std</th>\n",
       "      <td>9.362939e+08</td>\n",
       "      <td>0.497456</td>\n",
       "      <td>1239.154853</td>\n",
       "      <td>555.101424</td>\n",
       "      <td>1199.280505</td>\n",
       "      <td>0.567041</td>\n",
       "      <td>37.965445</td>\n",
       "      <td>87.945867</td>\n",
       "      <td>732.176632</td>\n",
       "      <td>0.156090</td>\n",
       "      <td>...</td>\n",
       "      <td>0.269059</td>\n",
       "      <td>5.579211</td>\n",
       "      <td>9.749861e+04</td>\n",
       "      <td>335.746036</td>\n",
       "      <td>2.983883e+04</td>\n",
       "      <td>12.386150</td>\n",
       "      <td>2.930989e+06</td>\n",
       "      <td>80.930592</td>\n",
       "      <td>46.417057</td>\n",
       "      <td>29.038074</td>\n",
       "    </tr>\n",
       "    <tr>\n",
       "      <th>min</th>\n",
       "      <td>6.780330e+05</td>\n",
       "      <td>0.000000</td>\n",
       "      <td>0.000000</td>\n",
       "      <td>891.000000</td>\n",
       "      <td>1.000000</td>\n",
       "      <td>0.000000</td>\n",
       "      <td>1.000000</td>\n",
       "      <td>1.000000</td>\n",
       "      <td>0.000000</td>\n",
       "      <td>0.000000</td>\n",
       "      <td>...</td>\n",
       "      <td>0.000000</td>\n",
       "      <td>0.000000</td>\n",
       "      <td>0.000000e+00</td>\n",
       "      <td>0.000000</td>\n",
       "      <td>0.000000e+00</td>\n",
       "      <td>0.000000</td>\n",
       "      <td>0.000000e+00</td>\n",
       "      <td>0.000000</td>\n",
       "      <td>0.000000</td>\n",
       "      <td>0.000000</td>\n",
       "    </tr>\n",
       "    <tr>\n",
       "      <th>25%</th>\n",
       "      <td>4.662897e+08</td>\n",
       "      <td>0.000000</td>\n",
       "      <td>41.000000</td>\n",
       "      <td>1312.000000</td>\n",
       "      <td>67.000000</td>\n",
       "      <td>0.000000</td>\n",
       "      <td>1.000000</td>\n",
       "      <td>6.000000</td>\n",
       "      <td>0.000000</td>\n",
       "      <td>0.000000</td>\n",
       "      <td>...</td>\n",
       "      <td>0.000000</td>\n",
       "      <td>13.000000</td>\n",
       "      <td>3.000000e+00</td>\n",
       "      <td>0.000000</td>\n",
       "      <td>0.000000e+00</td>\n",
       "      <td>0.000000</td>\n",
       "      <td>3.000000e+00</td>\n",
       "      <td>0.000000</td>\n",
       "      <td>0.000000</td>\n",
       "      <td>0.000000</td>\n",
       "    </tr>\n",
       "    <tr>\n",
       "      <th>50%</th>\n",
       "      <td>1.127886e+09</td>\n",
       "      <td>1.000000</td>\n",
       "      <td>68.000000</td>\n",
       "      <td>1702.000000</td>\n",
       "      <td>132.000000</td>\n",
       "      <td>0.000000</td>\n",
       "      <td>4.000000</td>\n",
       "      <td>18.000000</td>\n",
       "      <td>0.000000</td>\n",
       "      <td>0.000000</td>\n",
       "      <td>...</td>\n",
       "      <td>0.000000</td>\n",
       "      <td>15.000000</td>\n",
       "      <td>1.000000e+01</td>\n",
       "      <td>0.000000</td>\n",
       "      <td>0.000000e+00</td>\n",
       "      <td>0.000000</td>\n",
       "      <td>7.650000e+01</td>\n",
       "      <td>0.000000</td>\n",
       "      <td>7.000000</td>\n",
       "      <td>0.000000</td>\n",
       "    </tr>\n",
       "    <tr>\n",
       "      <th>75%</th>\n",
       "      <td>2.356965e+09</td>\n",
       "      <td>1.000000</td>\n",
       "      <td>81.000000</td>\n",
       "      <td>2080.000000</td>\n",
       "      <td>1703.000000</td>\n",
       "      <td>0.000000</td>\n",
       "      <td>8.000000</td>\n",
       "      <td>75.000000</td>\n",
       "      <td>78.250000</td>\n",
       "      <td>0.000000</td>\n",
       "      <td>...</td>\n",
       "      <td>0.000000</td>\n",
       "      <td>17.000000</td>\n",
       "      <td>3.892500e+02</td>\n",
       "      <td>0.000000</td>\n",
       "      <td>0.000000e+00</td>\n",
       "      <td>0.000000</td>\n",
       "      <td>6.465900e+04</td>\n",
       "      <td>20.000000</td>\n",
       "      <td>20.000000</td>\n",
       "      <td>0.000000</td>\n",
       "    </tr>\n",
       "    <tr>\n",
       "      <th>max</th>\n",
       "      <td>3.164942e+09</td>\n",
       "      <td>1.000000</td>\n",
       "      <td>7226.000000</td>\n",
       "      <td>3901.000000</td>\n",
       "      <td>3668.000000</td>\n",
       "      <td>6.000000</td>\n",
       "      <td>1759.000000</td>\n",
       "      <td>2131.000000</td>\n",
       "      <td>3559.000000</td>\n",
       "      <td>6.000000</td>\n",
       "      <td>...</td>\n",
       "      <td>5.000000</td>\n",
       "      <td>149.000000</td>\n",
       "      <td>7.006348e+06</td>\n",
       "      <td>13542.000000</td>\n",
       "      <td>2.000000e+06</td>\n",
       "      <td>603.000000</td>\n",
       "      <td>9.638758e+07</td>\n",
       "      <td>3519.000000</td>\n",
       "      <td>2877.000000</td>\n",
       "      <td>1762.000000</td>\n",
       "    </tr>\n",
       "  </tbody>\n",
       "</table>\n",
       "<p>8 rows × 21 columns</p>\n",
       "</div>"
      ],
      "text/plain": [
       "            user_id           bot  statuses_count  account_age_in_days  \\\n",
       "count  1.110800e+04  11108.000000    11108.000000         11108.000000   \n",
       "mean   1.263557e+09      0.550594      485.581023          1827.635938   \n",
       "std    9.362939e+08      0.497456     1239.154853           555.101424   \n",
       "min    6.780330e+05      0.000000        0.000000           891.000000   \n",
       "25%    4.662897e+08      0.000000       41.000000          1312.000000   \n",
       "50%    1.127886e+09      1.000000       68.000000          1702.000000   \n",
       "75%    2.356965e+09      1.000000       81.000000          2080.000000   \n",
       "max    3.164942e+09      1.000000     7226.000000          3901.000000   \n",
       "\n",
       "       number_of_tweets  account_average_tweets_per_day  \\\n",
       "count      11108.000000                    11108.000000   \n",
       "mean         941.462099                        0.153493   \n",
       "std         1199.280505                        0.567041   \n",
       "min            1.000000                        0.000000   \n",
       "25%           67.000000                        0.000000   \n",
       "50%          132.000000                        0.000000   \n",
       "75%         1703.000000                        0.000000   \n",
       "max         3668.000000                        6.000000   \n",
       "\n",
       "       avg_tweets_per_actual_day  max_number_of_tweet_in_a_day  \\\n",
       "count               11108.000000                  11108.000000   \n",
       "mean                   12.950756                     52.167267   \n",
       "std                    37.965445                     87.945867   \n",
       "min                     1.000000                      1.000000   \n",
       "25%                     1.000000                      6.000000   \n",
       "50%                     4.000000                     18.000000   \n",
       "75%                     8.000000                     75.000000   \n",
       "max                  1759.000000                   2131.000000   \n",
       "\n",
       "       covid19_num_of_tweets  avg_hashtags  ...  avg_mentions  \\\n",
       "count           11108.000000  11108.000000  ...  11108.000000   \n",
       "mean              273.983885      0.017465  ...      0.069680   \n",
       "std               732.176632      0.156090  ...      0.269059   \n",
       "min                 0.000000      0.000000  ...      0.000000   \n",
       "25%                 0.000000      0.000000  ...      0.000000   \n",
       "50%                 0.000000      0.000000  ...      0.000000   \n",
       "75%                78.250000      0.000000  ...      0.000000   \n",
       "max              3559.000000      6.000000  ...      5.000000   \n",
       "\n",
       "       avg_special_char_in_text   total_likes  avt_favorite_count  \\\n",
       "count              11108.000000  1.110800e+04        11108.000000   \n",
       "mean                  15.491538  3.207350e+03           17.557076   \n",
       "std                    5.579211  9.749861e+04          335.746036   \n",
       "min                    0.000000  0.000000e+00            0.000000   \n",
       "25%                   13.000000  3.000000e+00            0.000000   \n",
       "50%                   15.000000  1.000000e+01            0.000000   \n",
       "75%                   17.000000  3.892500e+02            0.000000   \n",
       "max                  149.000000  7.006348e+06        13542.000000   \n",
       "\n",
       "       total_replies  avt_reply_count  total_retweet_count  \\\n",
       "count   1.110800e+04     11108.000000         1.110800e+04   \n",
       "mean    9.357382e+02         0.573281         5.260731e+05   \n",
       "std     2.983883e+04        12.386150         2.930989e+06   \n",
       "min     0.000000e+00         0.000000         0.000000e+00   \n",
       "25%     0.000000e+00         0.000000         3.000000e+00   \n",
       "50%     0.000000e+00         0.000000         7.650000e+01   \n",
       "75%     0.000000e+00         0.000000         6.465900e+04   \n",
       "max     2.000000e+06       603.000000         9.638758e+07   \n",
       "\n",
       "       account_discussion_creation_ratio  tweet_num_likes_ratio  \\\n",
       "count                       11108.000000           11108.000000   \n",
       "mean                           19.342636              17.052575   \n",
       "std                            80.930592              46.417057   \n",
       "min                             0.000000               0.000000   \n",
       "25%                             0.000000               0.000000   \n",
       "50%                             0.000000               7.000000   \n",
       "75%                            20.000000              20.000000   \n",
       "max                          3519.000000            2877.000000   \n",
       "\n",
       "       tweet_num_replies_ratio  \n",
       "count             11108.000000  \n",
       "mean                  4.088315  \n",
       "std                  29.038074  \n",
       "min                   0.000000  \n",
       "25%                   0.000000  \n",
       "50%                   0.000000  \n",
       "75%                   0.000000  \n",
       "max                1762.000000  \n",
       "\n",
       "[8 rows x 21 columns]"
      ]
     },
     "execution_count": 25,
     "metadata": {},
     "output_type": "execute_result"
    }
   ],
   "source": [
    "users_df = pd.read_csv(\"dataset/users_df_dataset_cleaned_with_indicators.csv\")\n",
    "users_df.dropna(inplace=True)\n",
    "users_df.info(verbose=True)\n",
    "users_df.describe()"
   ]
  },
  {
   "cell_type": "markdown",
   "id": "4c4004e2",
   "metadata": {},
   "source": [
    "# X-means"
   ]
  },
  {
   "cell_type": "markdown",
   "id": "f876bc5e",
   "metadata": {},
   "source": [
    "X-means wants to resolve three major issues of K-means: K-means scales poorly computationally, the need of supplying the number of clusters K and the fact that the algorithm is prone to local minima."
   ]
  },
  {
   "cell_type": "code",
   "execution_count": 51,
   "id": "67bc9831",
   "metadata": {},
   "outputs": [],
   "source": [
    "indicator_columns_users = ['account_average_tweets_per_day', 'avg_tweets_per_actual_day', 'covid19_num_of_tweets', 'avg_hashtags', \n",
    "                            'avg_text_length', 'avg_mentions', 'avg_special_char_in_text', 'avt_favorite_count', 'total_replies',\n",
    "                            'avt_reply_count', 'total_retweet_count', 'account_discussion_creation_ratio', 'tweet_num_likes_ratio',\n",
    "                            'tweet_num_replies_ratio']\n",
    "\n",
    "all_possible_combinations = list(combinations(indicator_columns_users, 2))\n",
    "#combination = all_possible_combinations[42]\n",
    "combination = ('account_average_tweets_per_day', 'avg_mentions')"
   ]
  },
  {
   "cell_type": "code",
   "execution_count": 52,
   "id": "764806ca",
   "metadata": {},
   "outputs": [],
   "source": [
    "subset_df = users_df[list(combination)]\n",
    "scaler = StandardScaler()\n",
    "scaler.fit(subset_df.values)\n",
    "transform_result = scaler.fit_transform(subset_df.values)"
   ]
  },
  {
   "cell_type": "code",
   "execution_count": 53,
   "id": "b7cfb0ef",
   "metadata": {},
   "outputs": [
    {
     "data": {
      "text/plain": [
       "<pyclustering.cluster.xmeans.xmeans at 0x7f8d0cbdb580>"
      ]
     },
     "execution_count": 53,
     "metadata": {},
     "output_type": "execute_result"
    }
   ],
   "source": [
    "initial_centers = kmeans_plusplus_initializer(transform_result, 2).initialize()\n",
    "xmeans_instance = xmeans(transform_result, initial_centers, 20)\n",
    "xmeans_instance.process()"
   ]
  },
  {
   "cell_type": "code",
   "execution_count": 57,
   "id": "a7b94a4a",
   "metadata": {},
   "outputs": [],
   "source": [
    "clusters = xmeans_instance.get_clusters()"
   ]
  },
  {
   "cell_type": "code",
   "execution_count": 65,
   "id": "8f0f2059",
   "metadata": {
    "scrolled": false
   },
   "outputs": [
    {
     "data": {
      "image/png": "[encoded data removed]",
      "text/plain": [
       "<Figure size 640x480 with 1 Axes>"
      ]
     },
     "metadata": {},
     "output_type": "display_data"
    }
   ],
   "source": [
    "clusters_id = [_ for _ in range(len(clusters))]\n",
    "clusters_sizes = list(map(lambda c: len(c), clusters))\n",
    "\n",
    "plt.bar(x=clusters_id, height=clusters_sizes, log=True)\n",
    "plt.show()"
   ]
  },
  {
   "cell_type": "code",
   "execution_count": 71,
   "id": "95ee8db5",
   "metadata": {},
   "outputs": [],
   "source": [
    "def get_element_cluster(element, clusters):\n",
    "    for (index, list_of_elements) in enumerate(clusters):\n",
    "        if element in list_of_elements:\n",
    "            return index\n",
    "\n",
    "labels = [\n",
    "    get_element_cluster(index, clusters)\n",
    "    for index in range(len(users_df))\n",
    "]"
   ]
  },
  {
   "cell_type": "code",
   "execution_count": 73,
   "id": "819f8c5c",
   "metadata": {},
   "outputs": [
    {
     "data": {
      "text/plain": [
       "<matplotlib.collections.PathCollection at 0x7f8d00fe2d10>"
      ]
     },
     "execution_count": 73,
     "metadata": {},
     "output_type": "execute_result"
    },
    {
     "data": {
      "image/png": "[encoded data removed]",
      "text/plain": [
       "<Figure size 640x480 with 1 Axes>"
      ]
     },
     "metadata": {},
     "output_type": "display_data"
    }
   ],
   "source": [
    "plt.scatter(data=users_df, x=combination[1], y=combination[0],c=labels)"
   ]
  },
  {
   "cell_type": "code",
   "execution_count": 55,
   "id": "b4aeef35",
   "metadata": {},
   "outputs": [
    {
     "data": {
      "image/png": "[encoded data removed]",
      "text/plain": [
       "<Figure size 640x480 with 1 Axes>"
      ]
     },
     "metadata": {},
     "output_type": "display_data"
    },
    {
     "data": {
      "image/png": "[encoded data removed]",
      "text/plain": [
       "<Figure size 640x480 with 1 Axes>"
      ]
     },
     "execution_count": 55,
     "metadata": {},
     "output_type": "execute_result"
    }
   ],
   "source": [
    "visualizer = cluster_visualizer()\n",
    "visualizer.append_clusters(clusters, transform_result)\n",
    "visualizer.show()"
   ]
  },
  {
   "cell_type": "code",
   "execution_count": 56,
   "id": "bd2daefe",
   "metadata": {},
   "outputs": [
    {
     "name": "stdout",
     "output_type": "stream",
     "text": [
      "Total WCE: 26.334354128113663\n"
     ]
    }
   ],
   "source": [
    "print(\"Total WCE:\", xmeans_instance.get_total_wce())"
   ]
  },
  {
   "cell_type": "code",
   "execution_count": 47,
   "id": "33ebbb64",
   "metadata": {},
   "outputs": [
    {
     "name": "stdout",
     "output_type": "stream",
     "text": [
      "CPU times: user 50.1 s, sys: 3.32 s, total: 53.4 s\n",
      "Wall time: 52.4 s\n"
     ]
    }
   ],
   "source": [
    "%%time\n",
    "sse = []\n",
    "for combination in all_possible_combinations:\n",
    "    subset_df = users_df[list(combination)]\n",
    "    scaler = StandardScaler()\n",
    "    scaler.fit(subset_df.values)\n",
    "    transform_result = scaler.fit_transform(subset_df.values)\n",
    "    initial_centers = kmeans_plusplus_initializer(transform_result, 2).initialize()\n",
    "    xmeans_instance = xmeans(transform_result, initial_centers, 20)\n",
    "    xmeans_instance.process()\n",
    "    sse.append((combination, xmeans_instance.get_total_wce()))"
   ]
  },
  {
   "cell_type": "code",
   "execution_count": 48,
   "id": "5feb2dbf",
   "metadata": {},
   "outputs": [],
   "source": [
    "sse.sort(key=lambda x: x[1])"
   ]
  },
  {
   "cell_type": "code",
   "execution_count": 49,
   "id": "06ec5017",
   "metadata": {},
   "outputs": [
    {
     "data": {
      "text/plain": [
       "(('account_average_tweets_per_day', 'avg_mentions'), 29.029996676660723)"
      ]
     },
     "execution_count": 49,
     "metadata": {},
     "output_type": "execute_result"
    }
   ],
   "source": [
    "sse[0]"
   ]
  },
  {
   "cell_type": "code",
   "execution_count": null,
   "id": "bef6a4a7",
   "metadata": {},
   "outputs": [],
   "source": []
  }
 ],
 "metadata": {
  "kernelspec": {
   "display_name": "Python 3 (ipykernel)",
   "language": "python",
   "name": "python3"
  },
  "language_info": {
   "codemirror_mode": {
    "name": "ipython",
    "version": 3
   },
   "file_extension": ".py",
   "mimetype": "text/x-python",
   "name": "python",
   "nbconvert_exporter": "python",
   "pygments_lexer": "ipython3",
   "version": "3.10.6"
  }
 },
 "nbformat": 4,
 "nbformat_minor": 5
}
