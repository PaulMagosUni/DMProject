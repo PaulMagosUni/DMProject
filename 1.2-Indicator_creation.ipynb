{
 "cells": [
  {
   "cell_type": "code",
   "execution_count": 2,
   "metadata": {},
   "outputs": [],
   "source": [
    "from IPython.core.interactiveshell import InteractiveShell\n",
    "InteractiveShell.ast_node_interactivity = 'all' # to print multiple outputs from the same cell\n",
    "import math\n",
    "import utils\n",
    "import numpy as np\n",
    "import pandas as pd\n",
    "import scipy.stats as stats\n",
    "import matplotlib.pyplot as plt\n",
    "import seaborn as sns\n",
    "from operator import index\n",
    "from collections import defaultdict\n",
    "from scipy.stats import pearsonr\n",
    "from datetime import datetime, timedelta"
   ]
  },
  {
   "cell_type": "markdown",
   "metadata": {},
   "source": [
    "# Indicator Creation\n",
    "\n",
    "In this notebook we will create new interesting features which we believe to be relevant for clustering purposes. The indicators we will try to create in this notebook are:\n",
    "1. Account age in days (From account creation till the release of this dataset) (datetime(2022,9,29,11,0,0)) √\n",
    "2. Account tweets number √\n",
    "3. Account highest daily tweet count √\n",
    "4. Account average tweet count √\n",
    "5. Account Entropy per timedeltas √\n",
    "6. Account tweet hashtag average √\n",
    "7. Account average tweet text length √\n",
    "8. Account average number of mentions per tweet √\n",
    "9. Special Characters √\n",
    "    1. Tweet number of special characters √\n",
    "    2. Account average number of special characters in tweets √\n",
    "11. Account Number of likes √\n",
    "12. Account Average of likes √\n",
    "13. Account Number of comments √\n",
    "14. Account Average of comments √\n",
    "15. Account discussion creation score (Tweet to retweet ratio) √\n",
    "16. Ratio between number of tweets and number of likes √\n",
    "17. Ratio between number of tweets and number of comments √\n",
    "18. Entropy to be a post different from the others of the user √"
   ]
  },
  {
   "cell_type": "code",
   "execution_count": 3,
   "metadata": {},
   "outputs": [
    {
     "data": {
      "text/plain": [
       "'\\nif merged_df.columns[-1] == str(\"text\\r\"):\\n    merged_df = pd.read_csv(\"dataset/tweets_dataset_cleaned.csv\")\\n'"
      ]
     },
     "execution_count": 3,
     "metadata": {},
     "output_type": "execute_result"
    }
   ],
   "source": [
    "users_df = pd.read_csv(\"dataset/users_dataset_cleaned.csv\")\n",
    "# tweets_df = pd.read_csv(\"dataset/tweets_dataset_cleaned.csv\")\n",
    "#merged_df = pd.read_csv(\"dataset/tweets_dataset_cleaned.csv\")\n",
    "merged_df = pd.read_csv(\"dataset/merged_dataset_cleaned.csv\", lineterminator=\"\\n\")\n",
    "\n",
    "\"\"\"\n",
    "if merged_df.columns[-1] == str(\"text\\r\"):\n",
    "    merged_df = pd.read_csv(\"dataset/tweets_dataset_cleaned.csv\")\n",
    "\"\"\"\n",
    "#merged_df.info(verbose=True)\n",
    "#merged_df.head()\n"
   ]
  },
  {
   "cell_type": "code",
   "execution_count": null,
   "metadata": {},
   "outputs": [],
   "source": [
    "# merged_df = pd.merge(users_df, tweets_df, on=\"user_id\")\n",
    "\n",
    "# merged_df.rename(columns={\"created_at_x\" : \"account_created\"}, inplace=True)\n",
    "# merged_df.rename(columns={\"created_at_y\" : \"tweet_created\"}, inplace=True)\n",
    "# rows_to_delete = merged_df[merged_df[\"account_created\"] > merged_df[\"tweet_created\"]].index\n",
    "# merged_df.drop(rows_to_delete, inplace=True)\n",
    "\n",
    "# merged_df.info(verbose=True)\n",
    "# merged_df.head()"
   ]
  },
  {
   "cell_type": "markdown",
   "metadata": {},
   "source": [
    "## 1. Account age in days\n",
    "Creating the account age in days feature and adding it to the dataframe."
   ]
  },
  {
   "cell_type": "code",
   "execution_count": 4,
   "metadata": {},
   "outputs": [
    {
     "data": {
      "text/html": [
       "<div>\n",
       "<style scoped>\n",
       "    .dataframe tbody tr th:only-of-type {\n",
       "        vertical-align: middle;\n",
       "    }\n",
       "\n",
       "    .dataframe tbody tr th {\n",
       "        vertical-align: top;\n",
       "    }\n",
       "\n",
       "    .dataframe thead th {\n",
       "        text-align: right;\n",
       "    }\n",
       "</style>\n",
       "<table border=\"1\" class=\"dataframe\">\n",
       "  <thead>\n",
       "    <tr style=\"text-align: right;\">\n",
       "      <th></th>\n",
       "      <th>user_id</th>\n",
       "      <th>name</th>\n",
       "      <th>lang</th>\n",
       "      <th>bot</th>\n",
       "      <th>created_at</th>\n",
       "      <th>statuses_count</th>\n",
       "      <th>account_age_in_days</th>\n",
       "    </tr>\n",
       "  </thead>\n",
       "  <tbody>\n",
       "    <tr>\n",
       "      <th>0</th>\n",
       "      <td>2353593986</td>\n",
       "      <td>Lamonica Raborn</td>\n",
       "      <td>en</td>\n",
       "      <td>1</td>\n",
       "      <td>2019-02-22 18:00:42</td>\n",
       "      <td>76</td>\n",
       "      <td>1314</td>\n",
       "    </tr>\n",
       "    <tr>\n",
       "      <th>1</th>\n",
       "      <td>2358850842</td>\n",
       "      <td>Lourie Botton</td>\n",
       "      <td>en</td>\n",
       "      <td>0</td>\n",
       "      <td>2019-02-26 03:02:32</td>\n",
       "      <td>54</td>\n",
       "      <td>1311</td>\n",
       "    </tr>\n",
       "    <tr>\n",
       "      <th>2</th>\n",
       "      <td>137959629</td>\n",
       "      <td>Dadan Syarifudin</td>\n",
       "      <td>en</td>\n",
       "      <td>1</td>\n",
       "      <td>2015-04-30 07:09:56</td>\n",
       "      <td>3</td>\n",
       "      <td>2709</td>\n",
       "    </tr>\n",
       "    <tr>\n",
       "      <th>3</th>\n",
       "      <td>466124818</td>\n",
       "      <td>Carletto Focia</td>\n",
       "      <td>it</td>\n",
       "      <td>1</td>\n",
       "      <td>2017-01-18 02:49:18</td>\n",
       "      <td>50</td>\n",
       "      <td>2080</td>\n",
       "    </tr>\n",
       "    <tr>\n",
       "      <th>4</th>\n",
       "      <td>2571493866</td>\n",
       "      <td>MBK Ebook</td>\n",
       "      <td>en</td>\n",
       "      <td>0</td>\n",
       "      <td>2019-06-18 19:30:21</td>\n",
       "      <td>7085</td>\n",
       "      <td>1198</td>\n",
       "    </tr>\n",
       "  </tbody>\n",
       "</table>\n",
       "</div>"
      ],
      "text/plain": [
       "      user_id              name lang  bot          created_at  statuses_count  \\\n",
       "0  2353593986   Lamonica Raborn   en    1 2019-02-22 18:00:42              76   \n",
       "1  2358850842     Lourie Botton   en    0 2019-02-26 03:02:32              54   \n",
       "2   137959629  Dadan Syarifudin   en    1 2015-04-30 07:09:56               3   \n",
       "3   466124818    Carletto Focia   it    1 2017-01-18 02:49:18              50   \n",
       "4  2571493866         MBK Ebook   en    0 2019-06-18 19:30:21            7085   \n",
       "\n",
       "   account_age_in_days  \n",
       "0                 1314  \n",
       "1                 1311  \n",
       "2                 2709  \n",
       "3                 2080  \n",
       "4                 1198  "
      ]
     },
     "execution_count": 4,
     "metadata": {},
     "output_type": "execute_result"
    }
   ],
   "source": [
    "users_df[\"created_at\"] = pd.to_datetime(users_df[\"created_at\"], errors=\"coerce\") # Even though this is already done in the previous notebook, this information is turned to string when converting the merged_df to csv\n",
    "release_of_dataset = datetime(2022,9,29,11,0,0)\n",
    "users_df[\"account_age_in_days\"] = (release_of_dataset - users_df['created_at']).dt.days\n",
    "\n",
    "users_df.head()\n",
    "\n",
    "# Keeping info in merged_df too for further calculations\n",
    "merged_df[\"account_created\"] = pd.to_datetime(merged_df[\"account_created\"], errors=\"coerce\")\n",
    "merged_df[\"account_age_in_days\"] = (release_of_dataset - merged_df['account_created']).dt.days"
   ]
  },
  {
   "cell_type": "markdown",
   "metadata": {},
   "source": [
    "# 2. Account number of tweets\n",
    "\n",
    "Creating the account number of tweets."
   ]
  },
  {
   "cell_type": "code",
   "execution_count": 3,
   "metadata": {
    "scrolled": true
   },
   "outputs": [
    {
     "data": {
      "text/html": [
       "<div>\n",
       "<style scoped>\n",
       "    .dataframe tbody tr th:only-of-type {\n",
       "        vertical-align: middle;\n",
       "    }\n",
       "\n",
       "    .dataframe tbody tr th {\n",
       "        vertical-align: top;\n",
       "    }\n",
       "\n",
       "    .dataframe thead th {\n",
       "        text-align: right;\n",
       "    }\n",
       "</style>\n",
       "<table border=\"1\" class=\"dataframe\">\n",
       "  <thead>\n",
       "    <tr style=\"text-align: right;\">\n",
       "      <th></th>\n",
       "      <th>user_id</th>\n",
       "      <th>name</th>\n",
       "      <th>lang</th>\n",
       "      <th>bot</th>\n",
       "      <th>created_at</th>\n",
       "      <th>statuses_count</th>\n",
       "      <th>number_of_tweets</th>\n",
       "    </tr>\n",
       "  </thead>\n",
       "  <tbody>\n",
       "    <tr>\n",
       "      <th>0</th>\n",
       "      <td>2353593986</td>\n",
       "      <td>Lamonica Raborn</td>\n",
       "      <td>en</td>\n",
       "      <td>1</td>\n",
       "      <td>2019-02-22 18:00:42</td>\n",
       "      <td>76</td>\n",
       "      <td>126</td>\n",
       "    </tr>\n",
       "    <tr>\n",
       "      <th>1</th>\n",
       "      <td>2358850842</td>\n",
       "      <td>Lourie Botton</td>\n",
       "      <td>en</td>\n",
       "      <td>0</td>\n",
       "      <td>2019-02-26 03:02:32</td>\n",
       "      <td>54</td>\n",
       "      <td>116</td>\n",
       "    </tr>\n",
       "    <tr>\n",
       "      <th>2</th>\n",
       "      <td>137959629</td>\n",
       "      <td>Dadan Syarifudin</td>\n",
       "      <td>en</td>\n",
       "      <td>1</td>\n",
       "      <td>2015-04-30 07:09:56</td>\n",
       "      <td>3</td>\n",
       "      <td>4</td>\n",
       "    </tr>\n",
       "    <tr>\n",
       "      <th>3</th>\n",
       "      <td>466124818</td>\n",
       "      <td>Carletto Focia</td>\n",
       "      <td>it</td>\n",
       "      <td>1</td>\n",
       "      <td>2017-01-18 02:49:18</td>\n",
       "      <td>50</td>\n",
       "      <td>1358</td>\n",
       "    </tr>\n",
       "    <tr>\n",
       "      <th>4</th>\n",
       "      <td>2571493866</td>\n",
       "      <td>MBK Ebook</td>\n",
       "      <td>en</td>\n",
       "      <td>0</td>\n",
       "      <td>2019-06-18 19:30:21</td>\n",
       "      <td>7085</td>\n",
       "      <td>3434</td>\n",
       "    </tr>\n",
       "    <tr>\n",
       "      <th>...</th>\n",
       "      <td>...</td>\n",
       "      <td>...</td>\n",
       "      <td>...</td>\n",
       "      <td>...</td>\n",
       "      <td>...</td>\n",
       "      <td>...</td>\n",
       "      <td>...</td>\n",
       "    </tr>\n",
       "    <tr>\n",
       "      <th>11104</th>\n",
       "      <td>2911861962</td>\n",
       "      <td>Madrid Lae Maika .</td>\n",
       "      <td>en</td>\n",
       "      <td>0</td>\n",
       "      <td>2019-11-29 13:16:02</td>\n",
       "      <td>1126</td>\n",
       "      <td>1051</td>\n",
       "    </tr>\n",
       "    <tr>\n",
       "      <th>11105</th>\n",
       "      <td>1378532629</td>\n",
       "      <td>Clau Sato</td>\n",
       "      <td>en</td>\n",
       "      <td>0</td>\n",
       "      <td>2018-04-27 03:01:58</td>\n",
       "      <td>3024</td>\n",
       "      <td>1975</td>\n",
       "    </tr>\n",
       "    <tr>\n",
       "      <th>11106</th>\n",
       "      <td>126984069</td>\n",
       "      <td>ALMA LETICIA NUÑO</td>\n",
       "      <td>es</td>\n",
       "      <td>0</td>\n",
       "      <td>2015-03-29 17:01:24</td>\n",
       "      <td>6</td>\n",
       "      <td>6</td>\n",
       "    </tr>\n",
       "    <tr>\n",
       "      <th>11107</th>\n",
       "      <td>2383025796</td>\n",
       "      <td>Minnie Guadagno</td>\n",
       "      <td>en</td>\n",
       "      <td>1</td>\n",
       "      <td>2019-03-13 02:44:13</td>\n",
       "      <td>42</td>\n",
       "      <td>99</td>\n",
       "    </tr>\n",
       "    <tr>\n",
       "      <th>11108</th>\n",
       "      <td>933183398</td>\n",
       "      <td>Corvanna</td>\n",
       "      <td>en</td>\n",
       "      <td>0</td>\n",
       "      <td>2017-11-09 23:24:16</td>\n",
       "      <td>5279</td>\n",
       "      <td>3457</td>\n",
       "    </tr>\n",
       "  </tbody>\n",
       "</table>\n",
       "<p>11109 rows × 7 columns</p>\n",
       "</div>"
      ],
      "text/plain": [
       "          user_id                name lang  bot           created_at  \\\n",
       "0      2353593986     Lamonica Raborn   en    1  2019-02-22 18:00:42   \n",
       "1      2358850842       Lourie Botton   en    0  2019-02-26 03:02:32   \n",
       "2       137959629    Dadan Syarifudin   en    1  2015-04-30 07:09:56   \n",
       "3       466124818      Carletto Focia   it    1  2017-01-18 02:49:18   \n",
       "4      2571493866           MBK Ebook   en    0  2019-06-18 19:30:21   \n",
       "...           ...                 ...  ...  ...                  ...   \n",
       "11104  2911861962  Madrid Lae Maika .   en    0  2019-11-29 13:16:02   \n",
       "11105  1378532629           Clau Sato   en    0  2018-04-27 03:01:58   \n",
       "11106   126984069  ALMA LETICIA NUÑO    es    0  2015-03-29 17:01:24   \n",
       "11107  2383025796     Minnie Guadagno   en    1  2019-03-13 02:44:13   \n",
       "11108   933183398           Corvanna    en    0  2017-11-09 23:24:16   \n",
       "\n",
       "       statuses_count  number_of_tweets  \n",
       "0                  76               126  \n",
       "1                  54               116  \n",
       "2                   3                 4  \n",
       "3                  50              1358  \n",
       "4                7085              3434  \n",
       "...               ...               ...  \n",
       "11104            1126              1051  \n",
       "11105            3024              1975  \n",
       "11106               6                 6  \n",
       "11107              42                99  \n",
       "11108            5279              3457  \n",
       "\n",
       "[11109 rows x 7 columns]"
      ]
     },
     "execution_count": 3,
     "metadata": {},
     "output_type": "execute_result"
    }
   ],
   "source": [
    "#users_df = users_df.merge(merged_df.groupby('user_id').size().reset_index(name='counts'), how=\"left\")\n",
    "users_df = users_df.merge(merged_df.groupby('user_id', as_index=False).size(), on=\"user_id\", how=\"left\")\n",
    "users_df.rename(columns={\"size\": \"number_of_tweets\"}, inplace=True)\n",
    "users_df"
   ]
  },
  {
   "cell_type": "markdown",
   "metadata": {},
   "source": [
    "# 4. Account average tweets per day\n",
    "\n",
    "Creating the account average tweets per day and adding it to the dataframe."
   ]
  },
  {
   "cell_type": "code",
   "execution_count": null,
   "metadata": {},
   "outputs": [],
   "source": [
    "merged_df[\"account_average_tweets_per_day\"] = merged_df[\"statuses_count\"]/merged_df[\"account_age_in_days\"]\n",
    "\n",
    "merged_df.head()"
   ]
  },
  {
   "cell_type": "markdown",
   "metadata": {},
   "source": [
    "Idea, isn't better to add this attribute to the users_df ? Because it's a user caractherization, and having it in the merged_df is gonna be redundant"
   ]
  },
  {
   "cell_type": "code",
   "execution_count": null,
   "metadata": {},
   "outputs": [],
   "source": [
    "users_df[\"account_average_tweets_per_day\"] = users_df[\"statuses_count\"]/users_df[\"account_age_in_days\"]\n",
    "users_df.head()"
   ]
  },
  {
   "cell_type": "markdown",
   "metadata": {},
   "source": [
    "We need to know the tweet age in days, the average number of tweets between the days that the user used twitter"
   ]
  },
  {
   "cell_type": "code",
   "execution_count": null,
   "metadata": {},
   "outputs": [],
   "source": [
    "# Creating the tweet age in days (for each) till the release of dataset\n",
    "merged_df[\"tweet_created\"] = pd.to_datetime(merged_df[\"tweet_created\"], errors=\"coerce\")\n",
    "#merged_df['tweet_created'] = merged_df['tweet_created'].apply(pd.to_datetime)\n",
    "release_of_dataset = datetime(2022,9,29,11,0,0)\n",
    "\n",
    "merged_df['tweet_created_just_days'] = merged_df['tweet_created'].dt.date\n",
    "merged_df[\"tweet_created_just_days\"] = pd.to_datetime(merged_df[\"tweet_created_just_days\"], errors=\"coerce\")\n",
    "merged_df['tweet_age_in_days'] = (release_of_dataset - merged_df['tweet_created_just_days']).dt.days\n",
    "\n",
    "merged_df.drop(columns=\"tweet_created_just_days\", inplace=True)\n",
    "merged_df.head()"
   ]
  },
  {
   "cell_type": "markdown",
   "metadata": {},
   "source": [
    "Adding indicator for average number of tweets per day in which the account ACTUALLY tweeted - Gianluca "
   ]
  },
  {
   "cell_type": "code",
   "execution_count": null,
   "metadata": {
    "scrolled": false
   },
   "outputs": [],
   "source": [
    "tmp = merged_df.groupby([\"user_id\", \"tweet_age_in_days\"], as_index=False).size()\n",
    "\n",
    "# computing average\n",
    "tmp = tmp.groupby([\"user_id\"], as_index=False).mean()\n",
    "tmp=pd.DataFrame(tmp[[\"user_id\", \"size\"]])\n",
    "avg_df = tmp.rename(columns={\"size\": \"avg_tweets_per_actual_day\"})# Should we rename this to \"avg_tweets_per_active_day\"? Or \"avg_num_of_tweets_when_active\"? -Tengel\n",
    "users_df = users_df.merge(avg_df, on=\"user_id\", how=\"left\")\n",
    "users_df"
   ]
  },
  {
   "cell_type": "markdown",
   "metadata": {},
   "source": [
    "## 3. Account highest daily tweet count\n",
    "\n",
    "Creating the account highest daily tweet count and adding it too the dataframe."
   ]
  },
  {
   "cell_type": "code",
   "execution_count": null,
   "metadata": {
    "scrolled": true
   },
   "outputs": [],
   "source": [
    "\n",
    "# Trying to see how the group by num of days works\n",
    "tmp = merged_df.groupby([\"user_id\", \"tweet_age_in_days\"], as_index=False).size()\n",
    "\n",
    "# computing average\n",
    "tmp = tmp.iloc[tmp.groupby(\"user_id\")[\"size\"].idxmax()]\n",
    "tmp = tmp.rename(columns={\"size\": \"max_number_of_tweet_in_a_day\", \"tweet_age_in_days\": \"day_with_most_tweets\"}) # Is day with most tweets the day where the high score was made? - Tengel\n",
    "\n",
    "users_df = users_df.merge(tmp, on=\"user_id\", how=\"left\")\n",
    "users_df"
   ]
  },
  {
   "cell_type": "code",
   "execution_count": null,
   "metadata": {},
   "outputs": [],
   "source": [
    "users_df"
   ]
  },
  {
   "cell_type": "markdown",
   "metadata": {},
   "source": [
    "## 5. Account Entropy\n",
    "Creating the account tweet entropy"
   ]
  },
  {
   "cell_type": "code",
   "execution_count": null,
   "metadata": {},
   "outputs": [],
   "source": [
    "# covid19_start = release_of_dataset - datetime(2020, 3, 11)\n",
    "# covid19_ipotetic_end_of_restrictions = release_of_dataset - datetime(2021, 12, 15)\n",
    "# covid19_start = covid19_start.days\n",
    "# covid19_ipotetic_end_of_restrictions = covid19_ipotetic_end_of_restrictions.days\n",
    "# temp = merged_df[merged_df[\"tweet_age_in_days\"]<=covid19_start]\n",
    "# temp = temp[temp[\"tweet_age_in_days\"]>covid19_ipotetic_end_of_restrictions]\n",
    "# temp = temp.groupby(\"user_id\", as_index=False).size()\n",
    "# temp = temp.rename(columns={\"size\": \"covid19_num_of_tweets\"})\n",
    "# users_df = users_df.merge(temp, on=\"user_id\", how='left')\n",
    "# users_df[\"covid19_num_of_tweets\"].replace(np.nan, 0, inplace=True)\n",
    "# users_df\n",
    "\n",
    "merged_df['tweet_created'] = pd.to_datetime(merged_df['tweet_created'], errors='coerce')\n",
    "merged_tmp = merged_df\n",
    "merged_tmp.sort_values(by='tweet_created', inplace=True)\n",
    "temp = merged_tmp.groupby(['user_id',merged_tmp['tweet_created'].dt.to_period('D')], as_index=False).size().rename(columns={'size': 'numoftweetsinday'}).groupby(['user_id', 'numoftweetsinday'], as_index=False).size()\n",
    "temp2 = merged_tmp.groupby(['user_id',merged_tmp['tweet_created'].dt.to_period('H')], as_index=False).size().rename(columns={'size': 'numoftweetsinhour'}).groupby(['user_id', 'numoftweetsinhour'], as_index=False).size()\n",
    "temp3 = merged_tmp.groupby(['user_id',merged_tmp['tweet_created'].dt.floor('1Min')], as_index=False).size().rename(columns={'size': 'numoftweetsinminute'}).groupby(['user_id', 'numoftweetsinminute'], as_index=False).size()\n",
    "\n",
    "temp['prob'] = temp['size']/temp.groupby('user_id')['size'].transform('sum')\n",
    "temp['entropy_for_day'] = temp['prob'] * np.log2(1/temp['prob'])\n",
    "temp = temp.groupby('user_id', as_index=False)['entropy_for_day'].sum()\n",
    "\n",
    "temp2['prob'] = temp2['size']/temp2.groupby('user_id')['size'].transform('sum')\n",
    "temp2['entropy_for_hour'] = temp2['prob'] * np.log2(1/temp2['prob'])\n",
    "temp2 = temp2.groupby('user_id', as_index=False)['entropy_for_hour'].sum()\n",
    "\n",
    "temp3['prob'] = temp3['size']/temp3.groupby('user_id')['size'].transform('sum')\n",
    "temp3['entropy_for_minute'] = temp3['prob'] * np.log2(1/temp3['prob'])\n",
    "temp3 = temp3.groupby('user_id', as_index=False)['entropy_for_minute'].sum()\n",
    "\n",
    "users_df = users_df.merge(temp, on='user_id', how='left')\n",
    "users_df = users_df.merge(temp2, on='user_id', how='left')\n",
    "users_df = users_df.merge(temp3, on='user_id', how='left')\n",
    "users_df"
   ]
  },
  {
   "cell_type": "markdown",
   "metadata": {},
   "source": [
    "## 6. Average of hashtags per user\n",
    "\n",
    "Creating the account average of hashtags in tweets"
   ]
  },
  {
   "cell_type": "code",
   "execution_count": null,
   "metadata": {
    "scrolled": true
   },
   "outputs": [],
   "source": [
    "# Trying to see how the group by num of days works\n",
    "tmp = merged_df[[\"user_id\", \"num_hashtags\"]].groupby([\"user_id\"], as_index=False).mean()\n",
    "tmp = tmp.rename(columns={\"num_hashtags\": \"avg_hashtags\"})\n",
    "users_df = users_df.merge(tmp, on=\"user_id\", how='left')\n",
    "users_df"
   ]
  },
  {
   "cell_type": "markdown",
   "metadata": {},
   "source": [
    "## 7. Average tweet text length per user\n",
    "\n",
    "Creating the account average tweet length"
   ]
  },
  {
   "cell_type": "code",
   "execution_count": null,
   "metadata": {},
   "outputs": [],
   "source": [
    "merged_df[\"text_length\"] = merged_df[\"text\"].str.len() \n",
    "tmp = merged_df[[\"user_id\", \"text_length\"]].groupby([\"user_id\"], as_index=False).mean()\n",
    "tmp = tmp.rename(columns={\"text_length\": \"avg_text_length\"})\n",
    "users_df = users_df.merge(tmp, on=\"user_id\", how='left')\n",
    "users_df"
   ]
  },
  {
   "cell_type": "markdown",
   "metadata": {},
   "source": [
    "## 8. Average of mentions per user\n",
    "\n",
    "Creating the account average of hashtags in tweets"
   ]
  },
  {
   "cell_type": "code",
   "execution_count": null,
   "metadata": {
    "scrolled": true
   },
   "outputs": [],
   "source": [
    "# Trying to see how the group by num of days works\n",
    "tmp = merged_df[[\"user_id\", \"num_mentions\"]].groupby([\"user_id\"], as_index=False).mean()\n",
    "tmp = tmp.rename(columns={\"num_mentions\": \"avg_mentions\"})\n",
    "users_df = users_df.merge(tmp, on=\"user_id\", how='left')\n",
    "users_df"
   ]
  },
  {
   "cell_type": "markdown",
   "metadata": {},
   "source": [
    "## 9. Average num of special characters in text per user and num of special characters per tweet\n",
    "\n",
    "Creating the account average of special characters in tweets"
   ]
  },
  {
   "cell_type": "code",
   "execution_count": null,
   "metadata": {},
   "outputs": [],
   "source": [
    "merged_df[\"special_char_in_text\"] = merged_df[\"text\"].str.len() - merged_df[\"text\"].str.findall('[\\w]').str.len()\n",
    "tmp = merged_df[[\"user_id\", \"special_char_in_text\"]].groupby([\"user_id\"], as_index=False).mean()\n",
    "tmp = tmp.rename(columns={\"special_char_in_text\": \"avg_special_char_in_text\"})\n",
    "users_df = users_df.merge(tmp, on=\"user_id\", how='left')\n",
    "merged_df\n",
    "users_df"
   ]
  },
  {
   "cell_type": "markdown",
   "metadata": {},
   "source": [
    "## 11. Number of likes per user\n",
    "\n",
    "Creating the account number of likes in tweets"
   ]
  },
  {
   "cell_type": "code",
   "execution_count": null,
   "metadata": {
    "scrolled": true
   },
   "outputs": [],
   "source": [
    "# Trying to see how the group by num of days works\n",
    "tmp = merged_df[[\"user_id\", \"favorite_count\"]].groupby([\"user_id\"], as_index=False).sum()\n",
    "tmp = tmp.rename(columns={\"favorite_count\": \"total_likes\"})\n",
    "users_df = users_df.merge(tmp, on=\"user_id\", how='left')\n",
    "users_df"
   ]
  },
  {
   "cell_type": "markdown",
   "metadata": {},
   "source": [
    "## 12. Average of likes per user\n",
    "\n",
    "Creating the account average of likes in tweets"
   ]
  },
  {
   "cell_type": "code",
   "execution_count": null,
   "metadata": {
    "scrolled": true
   },
   "outputs": [],
   "source": [
    "# Trying to see how the group by num of days works\n",
    "tmp = merged_df[[\"user_id\", \"favorite_count\"]].groupby([\"user_id\"], as_index=False).mean()\n",
    "tmp = tmp.rename(columns={\"favorite_count\": \"avt_favorite_count\"})\n",
    "users_df = users_df.merge(tmp, on=\"user_id\", how='left')\n",
    "users_df"
   ]
  },
  {
   "cell_type": "markdown",
   "metadata": {},
   "source": [
    "## 13. Number of comments per user\n",
    "\n",
    "Creating the account number of comments in tweets"
   ]
  },
  {
   "cell_type": "code",
   "execution_count": null,
   "metadata": {
    "scrolled": true
   },
   "outputs": [],
   "source": [
    "# Trying to see how the group by num of days works\n",
    "tmp = merged_df[[\"user_id\", \"reply_count\"]].groupby([\"user_id\"], as_index=False).sum()\n",
    "tmp = tmp.rename(columns={\"reply_count\": \"total_replies\"})\n",
    "users_df = users_df.merge(tmp, on=\"user_id\", how='left')\n",
    "users_df"
   ]
  },
  {
   "cell_type": "markdown",
   "metadata": {},
   "source": [
    "## 14. Average of comments per user\n",
    "\n",
    "Creating the account average of comments in tweets"
   ]
  },
  {
   "cell_type": "code",
   "execution_count": null,
   "metadata": {
    "scrolled": true
   },
   "outputs": [],
   "source": [
    "tmp = merged_df[[\"user_id\", \"reply_count\"]].groupby([\"user_id\"], as_index=False).mean()\n",
    "tmp = tmp.rename(columns={\"reply_count\": \"avt_reply_count\"})\n",
    "users_df = users_df.merge(tmp, on=\"user_id\", how='left')\n",
    "users_df"
   ]
  },
  {
   "cell_type": "markdown",
   "metadata": {},
   "source": [
    "## 15. Account discussion creation score\n",
    "Creating the account tweet to retweet ratio"
   ]
  },
  {
   "cell_type": "code",
   "execution_count": null,
   "metadata": {},
   "outputs": [],
   "source": [
    "tmp = merged_df[[\"user_id\", \"retweet_count\"]].groupby([\"user_id\"], as_index=False).sum()\n",
    "tmp = tmp.rename(columns={\"retweet_count\": \"total_retweet_count\"})\n",
    "users_df = users_df.merge(tmp, on=\"user_id\", how='left')\n",
    "users_df[\"total_retweet_count\"].replace(np.nan, 0, inplace=True)\n",
    "users_df[\"account_discussion_creation_ratio\"] = users_df[\"number_of_tweets\"]/users_df[\"total_retweet_count\"]\n",
    "users_df['account_discussion_creation_ratio'].replace([np.inf, -np.inf], 0, inplace=True)\n",
    "users_df"
   ]
  },
  {
   "cell_type": "markdown",
   "metadata": {},
   "source": [
    "## 16. Ratio between num of tweets and num of likes\n",
    "\n",
    "Creating the account ratio between num of tweets and num of likes"
   ]
  },
  {
   "cell_type": "code",
   "execution_count": null,
   "metadata": {
    "scrolled": true
   },
   "outputs": [],
   "source": [
    "users_df[\"tweet_num_likes_ratio\"] = users_df[\"number_of_tweets\"]/users_df[\"total_likes\"]\n",
    "users_df['tweet_num_likes_ratio'].replace([np.inf, -np.inf], 0, inplace=True)\n",
    "users_df"
   ]
  },
  {
   "cell_type": "markdown",
   "metadata": {},
   "source": [
    "## 17. Ratio between num of tweets and num of comments\n",
    "\n",
    "Creating the account ratio between num of tweets and num of comments"
   ]
  },
  {
   "cell_type": "code",
   "execution_count": null,
   "metadata": {
    "scrolled": true
   },
   "outputs": [],
   "source": [
    "users_df[\"tweet_num_replies_ratio\"] = users_df[\"number_of_tweets\"]/users_df[\"total_replies\"] \n",
    "users_df['tweet_num_replies_ratio'].replace([np.inf, -np.inf], 0, inplace=True)\n",
    "users_df"
   ]
  },
  {
   "cell_type": "markdown",
   "metadata": {},
   "source": [
    "## 18. Entropy to be a post different from the others of the user\n",
    "\n",
    "Calculating the probability to be an original post (1 over the number of tweets with same text)"
   ]
  },
  {
   "cell_type": "code",
   "execution_count": 21,
   "metadata": {
    "scrolled": true
   },
   "outputs": [
    {
     "data": {
      "text/html": [
       "<div>\n",
       "<style scoped>\n",
       "    .dataframe tbody tr th:only-of-type {\n",
       "        vertical-align: middle;\n",
       "    }\n",
       "\n",
       "    .dataframe tbody tr th {\n",
       "        vertical-align: top;\n",
       "    }\n",
       "\n",
       "    .dataframe thead th {\n",
       "        text-align: right;\n",
       "    }\n",
       "</style>\n",
       "<table border=\"1\" class=\"dataframe\">\n",
       "  <thead>\n",
       "    <tr style=\"text-align: right;\">\n",
       "      <th></th>\n",
       "      <th>user_id</th>\n",
       "      <th>entropy_original_text</th>\n",
       "    </tr>\n",
       "  </thead>\n",
       "  <tbody>\n",
       "    <tr>\n",
       "      <th>970</th>\n",
       "      <td>120957631</td>\n",
       "      <td>0.439497</td>\n",
       "    </tr>\n",
       "    <tr>\n",
       "      <th>845</th>\n",
       "      <td>97275343</td>\n",
       "      <td>0.721928</td>\n",
       "    </tr>\n",
       "    <tr>\n",
       "      <th>3638</th>\n",
       "      <td>555263333</td>\n",
       "      <td>0.918296</td>\n",
       "    </tr>\n",
       "    <tr>\n",
       "      <th>6747</th>\n",
       "      <td>1372652504</td>\n",
       "      <td>0.918296</td>\n",
       "    </tr>\n",
       "    <tr>\n",
       "      <th>1254</th>\n",
       "      <td>168773175</td>\n",
       "      <td>0.918296</td>\n",
       "    </tr>\n",
       "    <tr>\n",
       "      <th>...</th>\n",
       "      <td>...</td>\n",
       "      <td>...</td>\n",
       "    </tr>\n",
       "    <tr>\n",
       "      <th>38</th>\n",
       "      <td>12922462</td>\n",
       "      <td>11.654911</td>\n",
       "    </tr>\n",
       "    <tr>\n",
       "      <th>21</th>\n",
       "      <td>7004532</td>\n",
       "      <td>11.655289</td>\n",
       "    </tr>\n",
       "    <tr>\n",
       "      <th>44</th>\n",
       "      <td>14247395</td>\n",
       "      <td>11.655978</td>\n",
       "    </tr>\n",
       "    <tr>\n",
       "      <th>3222</th>\n",
       "      <td>484522355</td>\n",
       "      <td>11.656946</td>\n",
       "    </tr>\n",
       "    <tr>\n",
       "      <th>1506</th>\n",
       "      <td>220933018</td>\n",
       "      <td>11.684289</td>\n",
       "    </tr>\n",
       "  </tbody>\n",
       "</table>\n",
       "<p>11109 rows × 2 columns</p>\n",
       "</div>"
      ],
      "text/plain": [
       "         user_id  entropy_original_text\n",
       "970    120957631               0.439497\n",
       "845     97275343               0.721928\n",
       "3638   555263333               0.918296\n",
       "6747  1372652504               0.918296\n",
       "1254   168773175               0.918296\n",
       "...          ...                    ...\n",
       "38      12922462              11.654911\n",
       "21       7004532              11.655289\n",
       "44      14247395              11.655978\n",
       "3222   484522355              11.656946\n",
       "1506   220933018              11.684289\n",
       "\n",
       "[11109 rows x 2 columns]"
      ]
     },
     "execution_count": 21,
     "metadata": {},
     "output_type": "execute_result"
    },
    {
     "data": {
      "text/html": [
       "<div>\n",
       "<style scoped>\n",
       "    .dataframe tbody tr th:only-of-type {\n",
       "        vertical-align: middle;\n",
       "    }\n",
       "\n",
       "    .dataframe tbody tr th {\n",
       "        vertical-align: top;\n",
       "    }\n",
       "\n",
       "    .dataframe thead th {\n",
       "        text-align: right;\n",
       "    }\n",
       "</style>\n",
       "<table border=\"1\" class=\"dataframe\">\n",
       "  <thead>\n",
       "    <tr style=\"text-align: right;\">\n",
       "      <th></th>\n",
       "      <th>user_id</th>\n",
       "      <th>name</th>\n",
       "      <th>lang</th>\n",
       "      <th>bot</th>\n",
       "      <th>account_created</th>\n",
       "      <th>statuses_count</th>\n",
       "      <th>tweet_id</th>\n",
       "      <th>retweet_count</th>\n",
       "      <th>reply_count</th>\n",
       "      <th>favorite_count</th>\n",
       "      <th>num_hashtags</th>\n",
       "      <th>num_urls</th>\n",
       "      <th>num_mentions</th>\n",
       "      <th>tweet_created</th>\n",
       "      <th>text</th>\n",
       "      <th>account_age_in_days</th>\n",
       "    </tr>\n",
       "  </thead>\n",
       "  <tbody>\n",
       "    <tr>\n",
       "      <th>479563</th>\n",
       "      <td>1218232802</td>\n",
       "      <td>Tammy Galbreath</td>\n",
       "      <td>en</td>\n",
       "      <td>1</td>\n",
       "      <td>2018-02-27 12:03:30</td>\n",
       "      <td>2</td>\n",
       "      <td>334587849036935168</td>\n",
       "      <td>0</td>\n",
       "      <td>0</td>\n",
       "      <td>0</td>\n",
       "      <td>0</td>\n",
       "      <td>0</td>\n",
       "      <td>0</td>\n",
       "      <td>2018-05-17 08:35:34</td>\n",
       "      <td>Dec. 1st,Worlds Aids Day..do I give or receive?</td>\n",
       "      <td>1674</td>\n",
       "    </tr>\n",
       "    <tr>\n",
       "      <th>479564</th>\n",
       "      <td>1218232802</td>\n",
       "      <td>Tammy Galbreath</td>\n",
       "      <td>en</td>\n",
       "      <td>1</td>\n",
       "      <td>2018-02-27 12:03:30</td>\n",
       "      <td>2</td>\n",
       "      <td>324408732555571200</td>\n",
       "      <td>0</td>\n",
       "      <td>0</td>\n",
       "      <td>0</td>\n",
       "      <td>0</td>\n",
       "      <td>0</td>\n",
       "      <td>0</td>\n",
       "      <td>2018-04-19 06:27:23</td>\n",
       "      <td>20FactsAboutMe20FactsAboutMe I love makein peo...</td>\n",
       "      <td>1674</td>\n",
       "    </tr>\n",
       "  </tbody>\n",
       "</table>\n",
       "</div>"
      ],
      "text/plain": [
       "           user_id             name lang  bot     account_created  \\\n",
       "479563  1218232802  Tammy Galbreath   en    1 2018-02-27 12:03:30   \n",
       "479564  1218232802  Tammy Galbreath   en    1 2018-02-27 12:03:30   \n",
       "\n",
       "        statuses_count            tweet_id  retweet_count  reply_count  \\\n",
       "479563               2  334587849036935168              0            0   \n",
       "479564               2  324408732555571200              0            0   \n",
       "\n",
       "        favorite_count  num_hashtags  num_urls  num_mentions  \\\n",
       "479563               0             0         0             0   \n",
       "479564               0             0         0             0   \n",
       "\n",
       "             tweet_created                                               text  \\\n",
       "479563 2018-05-17 08:35:34    Dec. 1st,Worlds Aids Day..do I give or receive?   \n",
       "479564 2018-04-19 06:27:23  20FactsAboutMe20FactsAboutMe I love makein peo...   \n",
       "\n",
       "        account_age_in_days  \n",
       "479563                 1674  \n",
       "479564                 1674  "
      ]
     },
     "execution_count": 21,
     "metadata": {},
     "output_type": "execute_result"
    },
    {
     "data": {
      "text/html": [
       "<div>\n",
       "<style scoped>\n",
       "    .dataframe tbody tr th:only-of-type {\n",
       "        vertical-align: middle;\n",
       "    }\n",
       "\n",
       "    .dataframe tbody tr th {\n",
       "        vertical-align: top;\n",
       "    }\n",
       "\n",
       "    .dataframe thead th {\n",
       "        text-align: right;\n",
       "    }\n",
       "</style>\n",
       "<table border=\"1\" class=\"dataframe\">\n",
       "  <thead>\n",
       "    <tr style=\"text-align: right;\">\n",
       "      <th></th>\n",
       "      <th>text</th>\n",
       "      <th>size</th>\n",
       "    </tr>\n",
       "  </thead>\n",
       "  <tbody>\n",
       "    <tr>\n",
       "      <th>0</th>\n",
       "      <td>20FactsAboutMe20FactsAboutMe I love makein peo...</td>\n",
       "      <td>1</td>\n",
       "    </tr>\n",
       "    <tr>\n",
       "      <th>1</th>\n",
       "      <td>Dec. 1st,Worlds Aids Day..do I give or receive?</td>\n",
       "      <td>1</td>\n",
       "    </tr>\n",
       "  </tbody>\n",
       "</table>\n",
       "</div>"
      ],
      "text/plain": [
       "                                                text  size\n",
       "0  20FactsAboutMe20FactsAboutMe I love makein peo...     1\n",
       "1    Dec. 1st,Worlds Aids Day..do I give or receive?     1"
      ]
     },
     "execution_count": 21,
     "metadata": {},
     "output_type": "execute_result"
    }
   ],
   "source": [
    "merged_df['tweet_created'] = pd.to_datetime(merged_df['tweet_created'], errors='coerce')\n",
    "merged_tmp = merged_df\n",
    "temp = merged_tmp.groupby(['user_id', 'text'], as_index=False).size().rename(columns={'size': 'num_of_same_tweets_same_user'})\n",
    "temp2 = merged_tmp.groupby('user_id', as_index=False).size().rename(columns={'size': 'num_of_tweets'})\n",
    "\n",
    "temp = temp.merge(temp2, on='user_id')\n",
    "temp['prob_he_make_same_text'] = (temp['num_of_same_tweets_same_user']/temp['num_of_tweets']) \n",
    "temp.drop(columns=['num_of_same_tweets_same_user', 'num_of_tweets'], inplace = True)\n",
    "temp['entropy_original_text'] = temp['prob_he_make_same_text'] * np.log2(1/temp['prob_he_make_same_text']) \n",
    "temp = temp.groupby('user_id', as_index=False)['entropy_original_text'].sum() \n",
    "temp['entropy_original_text'].replace(to_replace=0, value=temp['entropy_original_text'].median(), inplace=True)\n",
    "\n",
    "users_df = users_df.merge(temp, on='user_id', how='left')\n",
    "users_df"
   ]
  },
  {
   "cell_type": "markdown",
   "metadata": {},
   "source": [
    "## Cast to date the value of the indicator day with most tweet for Users_df"
   ]
  },
  {
   "cell_type": "code",
   "execution_count": null,
   "metadata": {},
   "outputs": [],
   "source": [
    "# Change Day with most tweet from num of days to actual day\n",
    "users_df['day_with_most_tweets'] = datetime(2022,9,29) -  users_df['day_with_most_tweets'].apply(timedelta)\n",
    "\n",
    "users_df.info(verbose=True, show_counts=True)\n",
    "users_df.to_csv(\"./dataset/users_df_dataset_cleaned_with_indicators.csv\",index=False) # Removes the counting of the Index rows"
   ]
  },
  {
   "cell_type": "code",
   "execution_count": null,
   "metadata": {},
   "outputs": [],
   "source": [
    "indicator_columns_users = ['account_average_tweets_per_day', 'avg_tweets_per_actual_day', 'entropy_for_day', 'entropy_for_hour', \n",
    "                            'entropy_for_minute', 'avg_hashtags', 'avg_text_length', 'avg_mentions', 'avg_special_char_in_text', \n",
    "                            'avt_favorite_count', 'total_replies', 'avt_reply_count', 'total_retweet_count', \n",
    "                            'account_discussion_creation_ratio', 'tweet_num_likes_ratio', 'tweet_num_replies_ratio']\n",
    "\n",
    "users_df[indicator_columns_users].plot(kind='box', figsize=(39,12), logy=True)\n",
    "\n",
    "\n",
    "users_df_desc = users_df[indicator_columns_users].describe()\n",
    "users_df_desc.to_csv('./dataset/users_df_describe_indicators.csv')"
   ]
  },
  {
   "cell_type": "markdown",
   "metadata": {},
   "source": [
    "## Export merged_df with indicators"
   ]
  },
  {
   "cell_type": "code",
   "execution_count": null,
   "metadata": {},
   "outputs": [],
   "source": [
    "merged_df.to_csv(\"./dataset/merged_df_dataset_cleaned_with_indicators.csv\",index=False)"
   ]
  },
  {
   "cell_type": "markdown",
   "metadata": {},
   "source": [
    "## Create a csv with number describing merged_df"
   ]
  },
  {
   "cell_type": "code",
   "execution_count": null,
   "metadata": {},
   "outputs": [],
   "source": [
    "merged_df_desc = merged_df.describe()\n",
    "merged_df_desc.drop(columns=\"user_id\",inplace=True)\n",
    "merged_df_desc.drop(columns=\"tweet_id\",inplace=True)\n",
    "merged_df_desc.drop(columns=\"bot\",inplace=True)\n",
    "merged_df_desc.to_csv('./dataset/merged_df_describe_indicators.csv')"
   ]
  },
  {
   "cell_type": "code",
   "execution_count": null,
   "metadata": {},
   "outputs": [],
   "source": [
    "merged_df_only_indicators = merged_df[['account_average_tweets_per_day', 'text_length', 'special_char_in_text']]\n",
    "merged_df_only_indicators.plot(kind='box', figsize=(9,4), logy=True)"
   ]
  }
 ],
 "metadata": {
  "kernelspec": {
   "display_name": "Python 3.9.13 ('base')",
   "language": "python",
   "name": "python3"
  },
  "language_info": {
   "codemirror_mode": {
    "name": "ipython",
    "version": 3
   },
   "file_extension": ".py",
   "mimetype": "text/x-python",
   "name": "python",
   "nbconvert_exporter": "python",
   "pygments_lexer": "ipython3",
   "version": "3.9.13"
  },
  "vscode": {
   "interpreter": {
    "hash": "3067ead486e059ec00ffe7555bdb889e6e264a24dc711bf108106cc7baee8d5d"
   }
  }
 },
 "nbformat": 4,
 "nbformat_minor": 2
}
