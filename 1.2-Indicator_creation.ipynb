{
 "cells": [
  {
   "cell_type": "code",
   "execution_count": null,
   "metadata": {},
   "outputs": [],
   "source": [
    "from IPython.core.interactiveshell import InteractiveShell\n",
    "InteractiveShell.ast_node_interactivity = 'all' # to print multiple outputs from the same cell\n",
    "import math\n",
    "import utils\n",
    "import numpy as np\n",
    "import pandas as pd\n",
    "import scipy.stats as stats\n",
    "import matplotlib.pyplot as plt\n",
    "import seaborn as sns\n",
    "from operator import index\n",
    "from collections import defaultdict\n",
    "from scipy.stats import pearsonr\n",
    "from datetime import datetime, timedelta"
   ]
  },
  {
   "cell_type": "markdown",
   "metadata": {},
   "source": []
  },
  {
   "cell_type": "markdown",
   "metadata": {},
   "source": [
    "# Indicator Creation\n",
    "\n",
    "In this notebook we will create new interesting features which we believe to be relevant for clustering purposes. The indicators we will try to create in this notebook are:\n",
    "1. Account age in days (From account creation till the release of this dataset) (datetime(2022,9,29,11,0,0)) √\n",
    "2. Account tweets number √\n",
    "3. Account highest daily tweet count √\n",
    "4. Account average tweet count √\n",
    "5. Account tweet number over periods of time (e.g. Covid-19) √ (Partially, we can make other days like the day elon declared he wants to buy twitter)\n",
    "6. Account tweet hashtag average √\n",
    "7. Account average tweet text length √\n",
    "8. Account average number of mentions per tweet √\n",
    "9. Special Characters √\n",
    "    1. Tweet number of special characters √\n",
    "    2. Account average number of special characters in tweets √\n",
    "10. Account's Entropy\n",
    "11. Account Number of likes √\n",
    "12. Account Average of likes √\n",
    "13. Account Number of comments √\n",
    "14. Account Average of comments √\n",
    "15. Account discussion creation score (Tweet to retweet ratio) √\n",
    "16. Ratio between number of tweets and number of likes √\n",
    "17. Ratio between number of tweets and number of comments √"
   ]
  },
  {
   "cell_type": "code",
   "execution_count": null,
   "metadata": {},
   "outputs": [],
   "source": [
    "users_df = pd.read_csv(\"dataset/users_dataset_cleaned.csv\")\n",
    "merged_df = pd.read_csv(\"dataset/merged_dataset_cleaned.csv\", lineterminator=\"\\n\")"
   ]
  },
  {
   "cell_type": "markdown",
   "metadata": {},
   "source": [
    "## 1. Account age in days\n",
    "Creating the account age in days feature and adding it to the dataframe."
   ]
  },
  {
   "cell_type": "code",
   "execution_count": null,
   "metadata": {},
   "outputs": [],
   "source": [
    "users_df[\"created_at\"] = pd.to_datetime(users_df[\"created_at\"], errors=\"coerce\") # Even though this is already done in the previous notebook, this information is turned to string when converting the merged_df to csv\n",
    "release_of_dataset = datetime(2022,9,29,11,0,0)\n",
    "users_df[\"account_age_in_days\"] = (release_of_dataset - users_df['created_at']).dt.days\n",
    "\n",
    "users_df.head()\n",
    "\n",
    "# Keeping info in merged_df too for further calculations\n",
    "merged_df[\"account_created\"] = pd.to_datetime(merged_df[\"account_created\"], errors=\"coerce\")\n",
    "merged_df[\"account_age_in_days\"] = (release_of_dataset - merged_df['account_created']).dt.days"
   ]
  },
  {
   "cell_type": "markdown",
   "metadata": {},
   "source": [
    "# 2. Account number of tweets\n",
    "\n",
    "Creating the account number of tweets."
   ]
  },
  {
   "cell_type": "code",
   "execution_count": null,
   "metadata": {
    "scrolled": true
   },
   "outputs": [],
   "source": [
    "#users_df = users_df.merge(merged_df.groupby('user_id').size().reset_index(name='counts'), how=\"left\")\n",
    "users_df = users_df.merge(merged_df.groupby('user_id', as_index=False).size(), on=\"user_id\", how=\"left\")\n",
    "users_df.rename(columns={\"size\": \"number_of_tweets\"}, inplace=True)\n",
    "users_df"
   ]
  },
  {
   "cell_type": "markdown",
   "metadata": {},
   "source": [
    "# 4. Account average tweets per day\n",
    "\n",
    "Creating the account average tweets per day and adding it to the dataframe."
   ]
  },
  {
   "cell_type": "code",
   "execution_count": null,
   "metadata": {},
   "outputs": [],
   "source": [
    "merged_df[\"account_average_tweets_per_day\"] = merged_df[\"statuses_count\"]/merged_df[\"account_age_in_days\"]\n",
    "\n",
    "merged_df.head()"
   ]
  },
  {
   "cell_type": "markdown",
   "metadata": {},
   "source": [
    "Idea, isn't better to add this attribute to the users_df ? Because it's a user caractherization, and having it in the merged_df is gonna be redundant"
   ]
  },
  {
   "cell_type": "code",
   "execution_count": null,
   "metadata": {},
   "outputs": [],
   "source": [
    "users_df[\"account_average_tweets_per_day\"] = users_df[\"statuses_count\"]/users_df[\"account_age_in_days\"]\n",
    "users_df.head()"
   ]
  },
  {
   "cell_type": "markdown",
   "metadata": {},
   "source": [
    "We need to know the tweet age in days, the average number of tweets between the days that the user used twitter"
   ]
  },
  {
   "cell_type": "code",
   "execution_count": null,
   "metadata": {},
   "outputs": [],
   "source": [
    "# Creating the tweet age in days (for each) till the release of dataset\n",
    "merged_df[\"tweet_created\"] = pd.to_datetime(merged_df[\"tweet_created\"], errors=\"coerce\")\n",
    "#merged_df['tweet_created'] = merged_df['tweet_created'].apply(pd.to_datetime)\n",
    "release_of_dataset = datetime(2022,9,29,11,0,0)\n",
    "\n",
    "merged_df['tweet_created_just_days'] = merged_df['tweet_created'].dt.date\n",
    "merged_df[\"tweet_created_just_days\"] = pd.to_datetime(merged_df[\"tweet_created_just_days\"], errors=\"coerce\")\n",
    "merged_df['tweet_age_in_days'] = (release_of_dataset - merged_df['tweet_created_just_days']).dt.days\n",
    "\n",
    "merged_df.drop(columns=\"tweet_created_just_days\", inplace=True)\n",
    "merged_df.head()"
   ]
  },
  {
   "cell_type": "markdown",
   "metadata": {},
   "source": [
    "Adding indicator for average number of tweets per day in which the account ACTUALLY tweeted - Gianluca "
   ]
  },
  {
   "cell_type": "code",
   "execution_count": null,
   "metadata": {
    "scrolled": false
   },
   "outputs": [],
   "source": [
    "tmp = merged_df.groupby([\"user_id\", \"tweet_age_in_days\"], as_index=False).size()\n",
    "\n",
    "# computing average\n",
    "tmp = tmp.groupby([\"user_id\"], as_index=False).mean()\n",
    "tmp=pd.DataFrame(tmp[[\"user_id\", \"size\"]])\n",
    "avg_df = tmp.rename(columns={\"size\": \"avg_tweets_per_actual_day\"})\n",
    "users_df = users_df.merge(avg_df, on=\"user_id\", how=\"left\")\n",
    "users_df"
   ]
  },
  {
   "cell_type": "markdown",
   "metadata": {},
   "source": [
    "## 3. Account highest daily tweet count\n",
    "\n",
    "Creating the account highest daily tweet count and adding it too the dataframe."
   ]
  },
  {
   "cell_type": "code",
   "execution_count": null,
   "metadata": {
    "scrolled": true
   },
   "outputs": [],
   "source": [
    "\n",
    "# Trying to see how the group by num of days works\n",
    "tmp = merged_df.groupby([\"user_id\", \"tweet_age_in_days\"], as_index=False).size()\n",
    "\n",
    "# computing average\n",
    "tmp = tmp.iloc[tmp.groupby(\"user_id\")[\"size\"].idxmax()]\n",
    "tmp = tmp.rename(columns={\"size\": \"max_number_of_tweet_in_a_day\", \"tweet_age_in_days\": \"day_with_most_tweets\"})\n",
    "\n",
    "users_df = users_df.merge(tmp, on=\"user_id\", how=\"left\")\n",
    "users_df"
   ]
  },
  {
   "cell_type": "code",
   "execution_count": null,
   "metadata": {},
   "outputs": [],
   "source": [
    "users_df"
   ]
  },
  {
   "cell_type": "markdown",
   "metadata": {},
   "source": [
    "## 5. Tweet num over period of time\n",
    "\n",
    "Creating the account tweet num by period of time"
   ]
  },
  {
   "cell_type": "code",
   "execution_count": null,
   "metadata": {},
   "outputs": [],
   "source": [
    "covid19_start = release_of_dataset - datetime(2020, 3, 11)\n",
    "covid19_ipotetic_end_of_restrictions = release_of_dataset - datetime(2021, 12, 15)\n",
    "covid19_start = covid19_start.days\n",
    "covid19_ipotetic_end_of_restrictions = covid19_ipotetic_end_of_restrictions.days\n",
    "temp = merged_df[merged_df[\"tweet_age_in_days\"]<=covid19_start]\n",
    "temp = temp[temp[\"tweet_age_in_days\"]>covid19_ipotetic_end_of_restrictions]\n",
    "temp = temp.groupby(\"user_id\", as_index=False).size()\n",
    "temp = temp.rename(columns={\"size\": \"covid19_num_of_tweets\"})\n",
    "users_df = users_df.merge(temp, on=\"user_id\", how='left')\n",
    "users_df[\"covid19_num_of_tweets\"].replace(np.nan, 0, inplace=True)\n",
    "users_df\n"
   ]
  },
  {
   "cell_type": "markdown",
   "metadata": {},
   "source": [
    "COVID 19 from 11/03/2020 to 15/12/2021 (pretty much the period of time in which we had restictions and had to stay home)"
   ]
  },
  {
   "cell_type": "markdown",
   "metadata": {},
   "source": [
    "## 6. Average of hashtags per user\n",
    "\n",
    "Creating the account average of hashtags in tweets"
   ]
  },
  {
   "cell_type": "code",
   "execution_count": null,
   "metadata": {
    "scrolled": true
   },
   "outputs": [],
   "source": [
    "# Trying to see how the group by num of days works\n",
    "tmp = merged_df[[\"user_id\", \"num_hashtags\"]].groupby([\"user_id\"], as_index=False).mean()\n",
    "tmp = tmp.rename(columns={\"num_hashtags\": \"avg_hashtags\"})\n",
    "users_df = users_df.merge(tmp, on=\"user_id\", how='left')\n",
    "users_df"
   ]
  },
  {
   "cell_type": "markdown",
   "metadata": {},
   "source": [
    "## 7. Average tweet text length per user\n",
    "\n",
    "Creating the account average tweet length"
   ]
  },
  {
   "cell_type": "code",
   "execution_count": null,
   "metadata": {},
   "outputs": [],
   "source": [
    "merged_df[\"text_length\"] = merged_df[\"text\"].str.len() \n",
    "tmp = merged_df[[\"user_id\", \"text_length\"]].groupby([\"user_id\"], as_index=False).mean()\n",
    "tmp = tmp.rename(columns={\"text_length\": \"avg_text_length\"})\n",
    "users_df = users_df.merge(tmp, on=\"user_id\", how='left')\n",
    "users_df"
   ]
  },
  {
   "cell_type": "markdown",
   "metadata": {},
   "source": [
    "## 8. Average of mentions per user\n",
    "\n",
    "Creating the account average of hashtags in tweets"
   ]
  },
  {
   "cell_type": "code",
   "execution_count": null,
   "metadata": {
    "scrolled": true
   },
   "outputs": [],
   "source": [
    "# Trying to see how the group by num of days works\n",
    "tmp = merged_df[[\"user_id\", \"num_mentions\"]].groupby([\"user_id\"], as_index=False).mean()\n",
    "tmp = tmp.rename(columns={\"num_mentions\": \"avg_mentions\"})\n",
    "users_df = users_df.merge(tmp, on=\"user_id\", how='left')\n",
    "users_df"
   ]
  },
  {
   "cell_type": "markdown",
   "metadata": {},
   "source": [
    "## 9. Average num of special characters in text per user and num of special characters per tweet\n",
    "\n",
    "Creating the account average of special characters in tweets"
   ]
  },
  {
   "cell_type": "code",
   "execution_count": null,
   "metadata": {},
   "outputs": [],
   "source": [
    "merged_df[\"special_char_in_text\"] = merged_df[\"text\"].str.len() - merged_df[\"text\"].str.findall('[\\w]').str.len()\n",
    "tmp = merged_df[[\"user_id\", \"special_char_in_text\"]].groupby([\"user_id\"], as_index=False).mean()\n",
    "tmp = tmp.rename(columns={\"special_char_in_text\": \"avg_special_char_in_text\"})\n",
    "users_df = users_df.merge(tmp, on=\"user_id\", how='left')\n",
    "merged_df\n",
    "users_df"
   ]
  },
  {
   "cell_type": "markdown",
   "metadata": {},
   "source": [
    "## 11. Number of likes per user\n",
    "\n",
    "Creating the account number of likes in tweets"
   ]
  },
  {
   "cell_type": "code",
   "execution_count": null,
   "metadata": {
    "scrolled": true
   },
   "outputs": [],
   "source": [
    "# Trying to see how the group by num of days works\n",
    "tmp = merged_df[[\"user_id\", \"favorite_count\"]].groupby([\"user_id\"], as_index=False).sum()\n",
    "tmp = tmp.rename(columns={\"favorite_count\": \"total_likes\"})\n",
    "users_df = users_df.merge(tmp, on=\"user_id\", how='left')\n",
    "users_df"
   ]
  },
  {
   "cell_type": "markdown",
   "metadata": {},
   "source": [
    "## 12. Average of likes per user\n",
    "\n",
    "Creating the account average of likes in tweets"
   ]
  },
  {
   "cell_type": "code",
   "execution_count": null,
   "metadata": {
    "scrolled": true
   },
   "outputs": [],
   "source": [
    "# Trying to see how the group by num of days works\n",
    "tmp = merged_df[[\"user_id\", \"favorite_count\"]].groupby([\"user_id\"], as_index=False).mean()\n",
    "tmp = tmp.rename(columns={\"favorite_count\": \"avt_favorite_count\"})\n",
    "users_df = users_df.merge(tmp, on=\"user_id\", how='left')\n",
    "users_df"
   ]
  },
  {
   "cell_type": "markdown",
   "metadata": {},
   "source": [
    "## 13. Number of comments per user\n",
    "\n",
    "Creating the account number of comments in tweets"
   ]
  },
  {
   "cell_type": "code",
   "execution_count": null,
   "metadata": {
    "scrolled": true
   },
   "outputs": [],
   "source": [
    "# Trying to see how the group by num of days works\n",
    "tmp = merged_df[[\"user_id\", \"reply_count\"]].groupby([\"user_id\"], as_index=False).sum()\n",
    "tmp = tmp.rename(columns={\"reply_count\": \"total_replies\"})\n",
    "users_df = users_df.merge(tmp, on=\"user_id\", how='left')\n",
    "users_df"
   ]
  },
  {
   "cell_type": "markdown",
   "metadata": {},
   "source": [
    "## 14. Average of comments per user\n",
    "\n",
    "Creating the account average of comments in tweets"
   ]
  },
  {
   "cell_type": "code",
   "execution_count": null,
   "metadata": {
    "scrolled": true
   },
   "outputs": [],
   "source": [
    "tmp = merged_df[[\"user_id\", \"reply_count\"]].groupby([\"user_id\"], as_index=False).mean()\n",
    "tmp = tmp.rename(columns={\"reply_count\": \"avt_reply_count\"})\n",
    "users_df = users_df.merge(tmp, on=\"user_id\", how='left')\n",
    "users_df"
   ]
  },
  {
   "cell_type": "markdown",
   "metadata": {},
   "source": [
    "## 15. Account discussion creation score\n",
    "Creating the account tweet to retweet ratio"
   ]
  },
  {
   "cell_type": "code",
   "execution_count": null,
   "metadata": {},
   "outputs": [],
   "source": [
    "tmp = merged_df[[\"user_id\", \"retweet_count\"]].groupby([\"user_id\"], as_index=False).sum()\n",
    "tmp = tmp.rename(columns={\"retweet_count\": \"total_retweet_count\"})\n",
    "users_df = users_df.merge(tmp, on=\"user_id\", how='left')\n",
    "users_df[\"total_retweet_count\"].replace(np.nan, 0, inplace=True)\n",
    "users_df[\"account_discussion_creation_ratio\"] = users_df[\"number_of_tweets\"]/users_df[\"total_retweet_count\"]\n",
    "users_df['account_discussion_creation_ratio'].replace([np.inf, -np.inf], 0, inplace=True)\n",
    "users_df"
   ]
  },
  {
   "cell_type": "markdown",
   "metadata": {},
   "source": [
    "## 16. Ratio between num of tweets and num of likes\n",
    "\n",
    "Creating the account ratio between num of tweets and num of likes"
   ]
  },
  {
   "cell_type": "code",
   "execution_count": null,
   "metadata": {
    "scrolled": true
   },
   "outputs": [],
   "source": [
    "users_df[\"tweet_num_likes_ratio\"] = users_df[\"number_of_tweets\"]/users_df[\"total_likes\"]\n",
    "users_df['tweet_num_likes_ratio'].replace([np.inf, -np.inf], 0, inplace=True)\n",
    "users_df"
   ]
  },
  {
   "cell_type": "markdown",
   "metadata": {},
   "source": [
    "## 17. Ratio between num of tweets and num of comments\n",
    "\n",
    "Creating the account ratio between num of tweets and num of comments"
   ]
  },
  {
   "cell_type": "code",
   "execution_count": null,
   "metadata": {
    "scrolled": true
   },
   "outputs": [],
   "source": [
    "users_df[\"tweet_num_replies_ratio\"] = users_df[\"number_of_tweets\"]/users_df[\"total_replies\"] \n",
    "users_df['tweet_num_replies_ratio'].replace([np.inf, -np.inf], 0, inplace=True)\n",
    "users_df"
   ]
  },
  {
   "cell_type": "markdown",
   "metadata": {},
   "source": [
    "## Cast to integers the values of the indicators for Users_df"
   ]
  },
  {
   "cell_type": "code",
   "execution_count": null,
   "metadata": {},
   "outputs": [],
   "source": [
    "users_df['account_average_tweets_per_day'] = pd.to_numeric(users_df['account_average_tweets_per_day'], errors='coerce').astype(np.int64)\n",
    "users_df['avg_tweets_per_actual_day'] = pd.to_numeric(users_df['avg_tweets_per_actual_day'], errors='coerce').astype(np.int64)\n",
    "users_df['covid19_num_of_tweets'] = pd.to_numeric(users_df['covid19_num_of_tweets'], errors='coerce').astype(np.int64)\n",
    "users_df['avg_hashtags'] = pd.to_numeric(users_df['avg_hashtags'], errors='coerce').astype(np.int64)\n",
    "users_df['avg_text_length'] = pd.to_numeric(users_df['avg_text_length'], errors='coerce').astype(np.int64)\n",
    "users_df['avg_mentions'] = pd.to_numeric(users_df['avg_mentions'], errors='coerce').astype(np.int64)\n",
    "users_df['avg_special_char_in_text'] = pd.to_numeric(users_df['avg_special_char_in_text'], errors='coerce').astype(np.int64)\n",
    "users_df['avt_favorite_count'] = pd.to_numeric(users_df['avt_favorite_count'], errors='coerce').astype(np.int64)\n",
    "users_df['total_replies'] = pd.to_numeric(users_df['total_replies'], errors='coerce').astype(np.int64)\n",
    "users_df['avt_reply_count'] = pd.to_numeric(users_df['avt_reply_count'], errors='coerce').astype(np.int64)\n",
    "users_df['total_retweet_count'] = pd.to_numeric(users_df['total_retweet_count'], errors='coerce').astype(np.int64)\n",
    "users_df['account_discussion_creation_ratio'] = pd.to_numeric(users_df['account_discussion_creation_ratio'], errors='coerce').astype(np.int64)\n",
    "users_df['tweet_num_likes_ratio'] = pd.to_numeric(users_df['tweet_num_likes_ratio'], errors='coerce').astype(np.int64)\n",
    "users_df['tweet_num_replies_ratio'] = pd.to_numeric(users_df['tweet_num_replies_ratio'], errors='coerce').astype(np.int64)\n",
    "\n",
    "# Change Day with most tweet from num of days to actual day\n",
    "users_df['day_with_most_tweets'] = datetime(2022,9,29) -  users_df['day_with_most_tweets'].apply(timedelta)\n",
    "\n",
    "users_df.info(verbose=True, show_counts=True)\n",
    "users_df.to_csv(\"./dataset/users_df_dataset_cleaned_with_indicators.csv\",index=False) # Removes the counting of the Index rows"
   ]
  },
  {
   "cell_type": "code",
   "execution_count": null,
   "metadata": {},
   "outputs": [],
   "source": [
    "indicator_columns_users = ['account_average_tweets_per_day', 'avg_tweets_per_actual_day', 'covid19_num_of_tweets', 'avg_hashtags', \n",
    "                            'avg_text_length', 'avg_mentions', 'avg_special_char_in_text', 'avt_favorite_count', 'total_replies',\n",
    "                            'avt_reply_count', 'total_retweet_count', 'account_discussion_creation_ratio', 'tweet_num_likes_ratio',\n",
    "                            'tweet_num_replies_ratio']\n",
    "\n",
    "users_df[indicator_columns_users].plot(kind='box', figsize=(39,12), logy=True)\n",
    "\n",
    "\n",
    "users_df_desc = users_df[indicator_columns_users].describe()\n",
    "users_df_desc.to_csv('./dataset/users_df_describe_indicators.csv')"
   ]
  },
  {
   "cell_type": "markdown",
   "metadata": {},
   "source": [
    "## Export merged_df with indicators"
   ]
  },
  {
   "cell_type": "code",
   "execution_count": null,
   "metadata": {},
   "outputs": [],
   "source": [
    "merged_df.to_csv(\"./dataset/merged_df_dataset_cleaned_with_indicators.csv\",index=False)"
   ]
  },
  {
   "cell_type": "markdown",
   "metadata": {},
   "source": [
    "## Create a csv with number describing merged_df"
   ]
  },
  {
   "cell_type": "code",
   "execution_count": null,
   "metadata": {},
   "outputs": [],
   "source": [
    "merged_df_desc = merged_df.describe()\n",
    "merged_df_desc.drop(columns=\"user_id\",inplace=True)\n",
    "merged_df_desc.drop(columns=\"tweet_id\",inplace=True)\n",
    "merged_df_desc.drop(columns=\"bot\",inplace=True)\n",
    "merged_df_desc.to_csv('./dataset/merged_df_describe_indicators.csv')"
   ]
  },
  {
   "cell_type": "code",
   "execution_count": null,
   "metadata": {},
   "outputs": [],
   "source": [
    "merged_df_only_indicators = merged_df[['account_average_tweets_per_day', 'text_length', 'special_char_in_text']]\n",
    "merged_df_only_indicators.plot(kind='box', figsize=(9,4), logy=True)"
   ]
  }
 ],
 "metadata": {
  "kernelspec": {
   "display_name": "Python 3 (ipykernel)",
   "language": "python",
   "name": "python3"
  },
  "language_info": {
   "codemirror_mode": {
    "name": "ipython",
    "version": 3
   },
   "file_extension": ".py",
   "mimetype": "text/x-python",
   "name": "python",
   "nbconvert_exporter": "python",
   "pygments_lexer": "ipython3",
   "version": "3.9.13"
  },
  "vscode": {
   "interpreter": {
    "hash": "3067ead486e059ec00ffe7555bdb889e6e264a24dc711bf108106cc7baee8d5d"
   }
  }
 },
 "nbformat": 4,
 "nbformat_minor": 2
}
