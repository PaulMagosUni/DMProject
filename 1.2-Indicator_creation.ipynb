{
 "cells": [
  {
   "cell_type": "code",
   "execution_count": null,
   "metadata": {},
   "outputs": [],
   "source": [
    "from IPython.core.interactiveshell import InteractiveShell\n",
    "InteractiveShell.ast_node_interactivity = 'all' # to print multiple outputs from the same cell\n",
    "import math\n",
    "import utils\n",
    "import numpy as np\n",
    "import pandas as pd\n",
    "import scipy.stats as stats\n",
    "import matplotlib.pyplot as plt\n",
    "import seaborn as sns\n",
    "from operator import index\n",
    "from collections import defaultdict\n",
    "from scipy.stats import pearsonr\n",
    "from datetime import datetime, timedelta"
   ]
  },
  {
   "cell_type": "markdown",
   "metadata": {},
   "source": [
    "# Indicator Creation\n",
    "\n",
    "In this notebook we will create new interesting features which we believe to be relevant for clustering purposes. The indicators we will try to create in this notebook are:\n",
    "1. Account age in days (From account creation till the release of this dataset) (datetime(2022,9,29,11,0,0))\n",
    "2. Account average tweets per day\n",
    "3. Account highest daily tweet count\n",
    "4. Account average twitter text length\n",
    "5. Account tweet hashtag average\n",
    "6. Account discussion creation score (Tweet to retweet ratio)\n",
    "7. Account average number of mentions per tweet"
   ]
  },
  {
   "cell_type": "code",
   "execution_count": null,
   "metadata": {},
   "outputs": [],
   "source": [
    "users_df = pd.read_csv(\"dataset/users.csv\")\n",
    "merged_df = pd.read_csv(\"dataset/merged_dataset.csv\")"
   ]
  },
  {
   "cell_type": "markdown",
   "metadata": {},
   "source": [
    "## 1. Account age in days\n",
    "Creating the account age in days feature and adding it to the dataframe."
   ]
  },
  {
   "cell_type": "code",
   "execution_count": null,
   "metadata": {},
   "outputs": [],
   "source": [
    "merged_df[\"account_created\"] = pd.to_datetime(merged_df[\"account_created\"], errors=\"coerce\") # Even though this is already done in the previous notebook, this information is turned to string when converting the merged_df to csv\n",
    "merged_df[\"tweet_created\"] = pd.to_datetime(merged_df[\"tweet_created\"], errors=\"coerce\")\n",
    "\n",
    "release_of_dataset = datetime(2022,9,29,11,0,0)\n",
    "merged_df['account_age_in_days'] = (release_of_dataset - merged_df['account_created']).dt.days\n",
    "\n",
    "merged_df.head()"
   ]
  },
  {
   "cell_type": "markdown",
   "metadata": {},
   "source": [
    "Making the thing on the user_df aswell\n",
    "In my opinion (Paul) it's better to make it on the users df too, cause it's faster to access if we just have to make plots on this attribute"
   ]
  },
  {
   "cell_type": "code",
   "execution_count": null,
   "metadata": {},
   "outputs": [],
   "source": [
    "users_df[\"created_at\"] = pd.to_datetime(users_df[\"created_at\"], errors=\"coerce\") # Even though this is already done in the previous notebook, this information is turned to string when converting the merged_df to csv\n",
    "release_of_dataset = datetime(2022,9,29,11,0,0)\n",
    "users_df[\"account_age_in_days\"] = (release_of_dataset - users_df['created_at']).dt.days\n",
    "\n",
    "users_df.head()"
   ]
  },
  {
   "cell_type": "markdown",
   "metadata": {},
   "source": [
    "# 2. Account average tweets per day\n",
    "\n",
    "Creating the account average tweets per day and adding it to the dataframe."
   ]
  },
  {
   "cell_type": "code",
   "execution_count": null,
   "metadata": {},
   "outputs": [],
   "source": [
    "list_of_average_tweets_per_day = []\n",
    "\n",
    "for elem in merged_df[\"statuses_count\"]:\n",
    "    try:\n",
    "        tweets_made = elem\n",
    "        age_in_days = merged_df[\"account_age_in_days\"][elem]\n",
    "        average_tweets_per_day = int(tweets_made)/int(age_in_days)\n",
    "        list_of_average_tweets_per_day.append(average_tweets_per_day)\n",
    "    except KeyError:\n",
    "        list_of_average_tweets_per_day.append(np.nan)\n",
    "\n",
    "merged_df[\"account_average_tweets_per_day\"] = list_of_average_tweets_per_day\n",
    "merged_df.head()"
   ]
  },
  {
   "cell_type": "markdown",
   "metadata": {},
   "source": [
    "Idea, isn't better to add this attribute to the users_df ? Because it's a user caractherization, and having it in the merged_df is gonna be redundant"
   ]
  },
  {
   "cell_type": "code",
   "execution_count": null,
   "metadata": {},
   "outputs": [],
   "source": [
    "list_of_average_tweets_per_day = []\n",
    "\n",
    "for elem in users_df[\"statuses_count\"]:\n",
    "    try:\n",
    "        tweets_made = elem\n",
    "        age_in_days = users_df[\"account_age_in_days\"][elem]\n",
    "        average_tweets_per_day = int(tweets_made)/int(age_in_days)\n",
    "        list_of_average_tweets_per_day.append(average_tweets_per_day)\n",
    "    except KeyError:\n",
    "        list_of_average_tweets_per_day.append(np.nan)\n",
    "\n",
    "users_df[\"account_average_tweets_per_day\"] = list_of_average_tweets_per_day\n",
    "users_df.head()"
   ]
  },
  {
   "cell_type": "markdown",
   "metadata": {},
   "source": [
    "Adding indicator for average number of tweets per day in which the account ACTUALLY tweeted - Gianluca "
   ]
  },
  {
   "cell_type": "code",
   "execution_count": null,
   "metadata": {
    "scrolled": false
   },
   "outputs": [],
   "source": [
    "tmp = merged_df.groupby([\"user_id\", \"tweet_age_in_days\"], as_index=False).count()\n",
    "\n",
    "# computing count\n",
    "tmp = pd.DataFrame(tmp[[\"user_id\", \"tweet_age_in_days\", \"name\"]])\n",
    "count_df = tmp.rename(columns={\"name\": \"count\"})\n",
    "\n",
    "# computing average\n",
    "tmp = count_df.groupby([\"user_id\"], as_index=False).mean()\n",
    "tmp=pd.DataFrame(tmp[[\"user_id\", \"count\"]])\n",
    "avg_df = tmp.rename(columns={\"count\": \"avg\", \"user_id\": \"id\"})"
   ]
  },
  {
   "cell_type": "code",
   "execution_count": null,
   "metadata": {},
   "outputs": [],
   "source": [
    "# adding the computed avg to users dataframe\n",
    "#users_df = users_df.merge(avg_df, on=\"id\")\n",
    "users_df.head()"
   ]
  },
  {
   "cell_type": "markdown",
   "metadata": {},
   "source": [
    "## 3. Account highest daily tweet count\n",
    "\n",
    "Creating the account highest daily tweet count and adding it too the dataframe."
   ]
  },
  {
   "cell_type": "code",
   "execution_count": null,
   "metadata": {},
   "outputs": [],
   "source": [
    "#users_df[\"account_created\"] = pd.to_datetime(users_df[\"created_at\"], errors=\"coerce\") # Even though this is already done in the previous notebook, this information is turned to string when converting the merged_df to csv\n",
    "#users_df.info()\n",
    "\n",
    "# Creating the tweet age in days (for each) till the release of dataset\n",
    "release_of_dataset = datetime(2022,9,29,11,0,0)\n",
    "\n",
    "merged_df['tweet_created_just_days'] = merged_df['tweet_created'].dt.date\n",
    "merged_df[\"tweet_created_just_days\"] = pd.to_datetime(merged_df[\"tweet_created_just_days\"], errors=\"coerce\")\n",
    "merged_df['tweet_age_in_days'] = (release_of_dataset - merged_df['tweet_created_just_days']).dt.days\n",
    "\n",
    "merged_df.drop(columns=\"tweet_created_just_days\", inplace=True)\n",
    "merged_df.head()"
   ]
  },
  {
   "cell_type": "code",
   "execution_count": null,
   "metadata": {
    "scrolled": true
   },
   "outputs": [],
   "source": [
    "# Trying to see how the group by num of days works\n",
    "merged_df.groupby([\"user_id\", \"tweet_age_in_days\"], as_index=False).max()"
   ]
  },
  {
   "cell_type": "code",
   "execution_count": null,
   "metadata": {},
   "outputs": [],
   "source": [
    "# Need to finish this indicator another time - Tengel\n",
    "\"\"\" \n",
    "account_high_score = 0\n",
    "\n",
    "# Iterate through every user in the users_df and count all duplicated datetimes\n",
    "for elem in users_df[\"id\"]:\n",
    "    single_account_tweets_df = pd.DataFrame([merged_df[\"user_id\"] == elem, merged_df[]])\n",
    "    merged_df.groupby(\"tweet_created\")\n",
    "\"\"\""
   ]
  }
 ],
 "metadata": {
  "kernelspec": {
   "display_name": "Python 3.9.13 ('base')",
   "language": "python",
   "name": "python3"
  },
  "language_info": {
   "codemirror_mode": {
    "name": "ipython",
    "version": 3
   },
   "file_extension": ".py",
   "mimetype": "text/x-python",
   "name": "python",
   "nbconvert_exporter": "python",
   "pygments_lexer": "ipython3",
   "version": "3.9.13"
  },
  "vscode": {
   "interpreter": {
    "hash": "3067ead486e059ec00ffe7555bdb889e6e264a24dc711bf108106cc7baee8d5d"
   }
  }
 },
 "nbformat": 4,
 "nbformat_minor": 2
}
