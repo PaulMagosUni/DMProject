{
 "cells": [
  {
   "cell_type": "code",
   "execution_count": 14,
   "id": "07644634",
   "metadata": {},
   "outputs": [],
   "source": [
    "import pandas as pd\n",
    "import numpy as np\n",
    "from sklearn.preprocessing import OneHotEncoder \n",
    "from sklearn.model_selection import train_test_split\n",
    "from sklearn import tree, metrics\n",
    "import matplotlib.pyplot as plt"
   ]
  },
  {
   "cell_type": "code",
   "execution_count": 2,
   "id": "c0fcfdfe",
   "metadata": {},
   "outputs": [
    {
     "name": "stdout",
     "output_type": "stream",
     "text": [
      "<class 'pandas.core.frame.DataFrame'>\n",
      "RangeIndex: 11109 entries, 0 to 11108\n",
      "Data columns (total 33 columns):\n",
      " #   Column                                    Non-Null Count  Dtype  \n",
      "---  ------                                    --------------  -----  \n",
      " 0   user_id                                   11109 non-null  int64  \n",
      " 1   name                                      11108 non-null  object \n",
      " 2   lang                                      11109 non-null  object \n",
      " 3   bot                                       11109 non-null  int64  \n",
      " 4   created_at                                11109 non-null  object \n",
      " 5   statuses_count                            11109 non-null  int64  \n",
      " 6   account_age_in_days                       11109 non-null  int64  \n",
      " 7   number_of_tweets                          11109 non-null  int64  \n",
      " 8   account_average_tweets_per_day            11109 non-null  float64\n",
      " 9   avg_tweets_per_actual_day                 11109 non-null  float64\n",
      " 10  day_with_most_tweets                      11109 non-null  object \n",
      " 11  max_number_of_tweets_in_a_day             11109 non-null  int64  \n",
      " 12  entropy_for_day                           11109 non-null  float64\n",
      " 13  entropy_for_hour                          11109 non-null  float64\n",
      " 14  entropy_for_minute                        11109 non-null  float64\n",
      " 15  avg_hashtags                              11109 non-null  float64\n",
      " 16  avg_text_length                           11109 non-null  float64\n",
      " 17  avg_mentions                              11109 non-null  float64\n",
      " 18  avg_special_char_in_text                  11109 non-null  float64\n",
      " 19  total_likes                               11109 non-null  int64  \n",
      " 20  avt_favorite_count                        11109 non-null  float64\n",
      " 21  total_replies                             11109 non-null  int64  \n",
      " 22  avt_reply_count                           11109 non-null  float64\n",
      " 23  total_retweet_count                       11109 non-null  int64  \n",
      " 24  account_discussion_creation_ratio         11109 non-null  float64\n",
      " 25  tweet_num_likes_ratio                     11109 non-null  float64\n",
      " 26  tweet_num_replies_ratio                   11109 non-null  float64\n",
      " 27  entropy_original_text                     11109 non-null  float64\n",
      " 28  entropy_text                              11109 non-null  float64\n",
      " 29  mean_inactive_period_length_in_seconds    11109 non-null  float64\n",
      " 30  median_inactive_period_length_in_seconds  11109 non-null  float64\n",
      " 31  mode_inactive_period_length_in_seconds    11109 non-null  float64\n",
      " 32  mode_count                                11109 non-null  int64  \n",
      "dtypes: float64(19), int64(10), object(4)\n",
      "memory usage: 2.8+ MB\n"
     ]
    }
   ],
   "source": [
    "df = pd.read_csv(\"dataset/users_df_dataset_cleaned_with_indicators.csv\")\n",
    "df.head()\n",
    "df.info(verbose=True)"
   ]
  },
  {
   "cell_type": "markdown",
   "id": "cdf3cd88",
   "metadata": {},
   "source": [
    "# Pre-processing "
   ]
  },
  {
   "cell_type": "markdown",
   "id": "a355f073",
   "metadata": {},
   "source": [
    "Dropping features not considered interesting"
   ]
  },
  {
   "cell_type": "code",
   "execution_count": 3,
   "id": "46a567d9",
   "metadata": {},
   "outputs": [],
   "source": [
    "features_to_drop = [\n",
    "    \"user_id\",\n",
    "    \"name\",\n",
    "    \"created_at\",\n",
    "    \"day_with_most_tweets\",\n",
    "]\n",
    "\n",
    "df.drop(features_to_drop, axis=1, inplace=True)"
   ]
  },
  {
   "cell_type": "markdown",
   "id": "6d86e83b",
   "metadata": {},
   "source": [
    "## One hot encoding"
   ]
  },
  {
   "cell_type": "markdown",
   "id": "38cc2def",
   "metadata": {},
   "source": [
    "One hot only for lang"
   ]
  },
  {
   "cell_type": "code",
   "execution_count": 4,
   "id": "407bd1a1",
   "metadata": {
    "scrolled": true
   },
   "outputs": [
    {
     "data": {
      "text/html": [
       "<div>\n",
       "<style scoped>\n",
       "    .dataframe tbody tr th:only-of-type {\n",
       "        vertical-align: middle;\n",
       "    }\n",
       "\n",
       "    .dataframe tbody tr th {\n",
       "        vertical-align: top;\n",
       "    }\n",
       "\n",
       "    .dataframe thead th {\n",
       "        text-align: right;\n",
       "    }\n",
       "</style>\n",
       "<table border=\"1\" class=\"dataframe\">\n",
       "  <thead>\n",
       "    <tr style=\"text-align: right;\">\n",
       "      <th></th>\n",
       "      <th>bot</th>\n",
       "      <th>statuses_count</th>\n",
       "      <th>account_age_in_days</th>\n",
       "      <th>number_of_tweets</th>\n",
       "      <th>account_average_tweets_per_day</th>\n",
       "      <th>avg_tweets_per_actual_day</th>\n",
       "      <th>max_number_of_tweets_in_a_day</th>\n",
       "      <th>entropy_for_day</th>\n",
       "      <th>entropy_for_hour</th>\n",
       "      <th>entropy_for_minute</th>\n",
       "      <th>...</th>\n",
       "      <th>lang_ko</th>\n",
       "      <th>lang_nl</th>\n",
       "      <th>lang_pl</th>\n",
       "      <th>lang_pt</th>\n",
       "      <th>lang_ru</th>\n",
       "      <th>lang_sv</th>\n",
       "      <th>lang_tr</th>\n",
       "      <th>lang_xx-lc</th>\n",
       "      <th>lang_zh-CN</th>\n",
       "      <th>lang_zh-TW</th>\n",
       "    </tr>\n",
       "  </thead>\n",
       "  <tbody>\n",
       "    <tr>\n",
       "      <th>0</th>\n",
       "      <td>1</td>\n",
       "      <td>76</td>\n",
       "      <td>1314</td>\n",
       "      <td>126</td>\n",
       "      <td>0.057839</td>\n",
       "      <td>4.666667</td>\n",
       "      <td>18</td>\n",
       "      <td>2.903992</td>\n",
       "      <td>2.762944</td>\n",
       "      <td>1.867539</td>\n",
       "      <td>...</td>\n",
       "      <td>0</td>\n",
       "      <td>0</td>\n",
       "      <td>0</td>\n",
       "      <td>0</td>\n",
       "      <td>0</td>\n",
       "      <td>0</td>\n",
       "      <td>0</td>\n",
       "      <td>0</td>\n",
       "      <td>0</td>\n",
       "      <td>0</td>\n",
       "    </tr>\n",
       "    <tr>\n",
       "      <th>1</th>\n",
       "      <td>0</td>\n",
       "      <td>54</td>\n",
       "      <td>1311</td>\n",
       "      <td>116</td>\n",
       "      <td>0.041190</td>\n",
       "      <td>4.640000</td>\n",
       "      <td>17</td>\n",
       "      <td>2.942683</td>\n",
       "      <td>2.881816</td>\n",
       "      <td>1.909614</td>\n",
       "      <td>...</td>\n",
       "      <td>0</td>\n",
       "      <td>0</td>\n",
       "      <td>0</td>\n",
       "      <td>0</td>\n",
       "      <td>0</td>\n",
       "      <td>0</td>\n",
       "      <td>0</td>\n",
       "      <td>0</td>\n",
       "      <td>0</td>\n",
       "      <td>0</td>\n",
       "    </tr>\n",
       "    <tr>\n",
       "      <th>2</th>\n",
       "      <td>1</td>\n",
       "      <td>3</td>\n",
       "      <td>2709</td>\n",
       "      <td>4</td>\n",
       "      <td>0.001107</td>\n",
       "      <td>2.000000</td>\n",
       "      <td>3</td>\n",
       "      <td>1.000000</td>\n",
       "      <td>0.918296</td>\n",
       "      <td>0.918296</td>\n",
       "      <td>...</td>\n",
       "      <td>0</td>\n",
       "      <td>0</td>\n",
       "      <td>0</td>\n",
       "      <td>0</td>\n",
       "      <td>0</td>\n",
       "      <td>0</td>\n",
       "      <td>0</td>\n",
       "      <td>0</td>\n",
       "      <td>0</td>\n",
       "      <td>0</td>\n",
       "    </tr>\n",
       "    <tr>\n",
       "      <th>3</th>\n",
       "      <td>1</td>\n",
       "      <td>50</td>\n",
       "      <td>2080</td>\n",
       "      <td>1358</td>\n",
       "      <td>0.024038</td>\n",
       "      <td>8.035503</td>\n",
       "      <td>143</td>\n",
       "      <td>3.543607</td>\n",
       "      <td>1.320785</td>\n",
       "      <td>0.474758</td>\n",
       "      <td>...</td>\n",
       "      <td>0</td>\n",
       "      <td>0</td>\n",
       "      <td>0</td>\n",
       "      <td>0</td>\n",
       "      <td>0</td>\n",
       "      <td>0</td>\n",
       "      <td>0</td>\n",
       "      <td>0</td>\n",
       "      <td>0</td>\n",
       "      <td>0</td>\n",
       "    </tr>\n",
       "    <tr>\n",
       "      <th>4</th>\n",
       "      <td>0</td>\n",
       "      <td>7085</td>\n",
       "      <td>1198</td>\n",
       "      <td>3434</td>\n",
       "      <td>5.914023</td>\n",
       "      <td>28.380165</td>\n",
       "      <td>50</td>\n",
       "      <td>4.253096</td>\n",
       "      <td>1.705484</td>\n",
       "      <td>0.510899</td>\n",
       "      <td>...</td>\n",
       "      <td>0</td>\n",
       "      <td>0</td>\n",
       "      <td>0</td>\n",
       "      <td>0</td>\n",
       "      <td>0</td>\n",
       "      <td>0</td>\n",
       "      <td>0</td>\n",
       "      <td>0</td>\n",
       "      <td>0</td>\n",
       "      <td>0</td>\n",
       "    </tr>\n",
       "  </tbody>\n",
       "</table>\n",
       "<p>5 rows × 52 columns</p>\n",
       "</div>"
      ],
      "text/plain": [
       "   bot  statuses_count  account_age_in_days  number_of_tweets  \\\n",
       "0    1              76                 1314               126   \n",
       "1    0              54                 1311               116   \n",
       "2    1               3                 2709                 4   \n",
       "3    1              50                 2080              1358   \n",
       "4    0            7085                 1198              3434   \n",
       "\n",
       "   account_average_tweets_per_day  avg_tweets_per_actual_day  \\\n",
       "0                        0.057839                   4.666667   \n",
       "1                        0.041190                   4.640000   \n",
       "2                        0.001107                   2.000000   \n",
       "3                        0.024038                   8.035503   \n",
       "4                        5.914023                  28.380165   \n",
       "\n",
       "   max_number_of_tweets_in_a_day  entropy_for_day  entropy_for_hour  \\\n",
       "0                             18         2.903992          2.762944   \n",
       "1                             17         2.942683          2.881816   \n",
       "2                              3         1.000000          0.918296   \n",
       "3                            143         3.543607          1.320785   \n",
       "4                             50         4.253096          1.705484   \n",
       "\n",
       "   entropy_for_minute  ...  lang_ko  lang_nl  lang_pl  lang_pt  lang_ru  \\\n",
       "0            1.867539  ...        0        0        0        0        0   \n",
       "1            1.909614  ...        0        0        0        0        0   \n",
       "2            0.918296  ...        0        0        0        0        0   \n",
       "3            0.474758  ...        0        0        0        0        0   \n",
       "4            0.510899  ...        0        0        0        0        0   \n",
       "\n",
       "   lang_sv  lang_tr  lang_xx-lc  lang_zh-CN  lang_zh-TW  \n",
       "0        0        0           0           0           0  \n",
       "1        0        0           0           0           0  \n",
       "2        0        0           0           0           0  \n",
       "3        0        0           0           0           0  \n",
       "4        0        0           0           0           0  \n",
       "\n",
       "[5 rows x 52 columns]"
      ]
     },
     "execution_count": 4,
     "metadata": {},
     "output_type": "execute_result"
    }
   ],
   "source": [
    "df = pd.get_dummies(df, columns=[\"lang\"])\n",
    "df.head()"
   ]
  },
  {
   "cell_type": "markdown",
   "id": "d1e69eb8",
   "metadata": {},
   "source": [
    "## Training and test set creations"
   ]
  },
  {
   "cell_type": "code",
   "execution_count": 5,
   "id": "275b6955",
   "metadata": {},
   "outputs": [],
   "source": [
    "bot_series = df.pop(\"bot\")"
   ]
  },
  {
   "cell_type": "code",
   "execution_count": 6,
   "id": "8554b6be",
   "metadata": {},
   "outputs": [],
   "source": [
    "train_set, test_set, train_label, test_label = train_test_split(df, bot_series, stratify=bot_series, test_size=0.30)"
   ]
  },
  {
   "cell_type": "markdown",
   "id": "7ddc8248",
   "metadata": {},
   "source": [
    "# Decision Tree"
   ]
  },
  {
   "cell_type": "code",
   "execution_count": 41,
   "id": "853b0e31",
   "metadata": {},
   "outputs": [],
   "source": [
    "dt = tree.DecisionTreeClassifier(criterion='gini', splitter='best', max_depth= 10, min_samples_split=3, min_samples_leaf=8)\n",
    "dt = dt.fit(train_set, train_label)"
   ]
  },
  {
   "cell_type": "code",
   "execution_count": 42,
   "id": "ed1e87c3",
   "metadata": {},
   "outputs": [],
   "source": [
    "train_pred_dt = dt.predict(train_set)\n",
    "test_pred_dt = dt.predict(test_set)"
   ]
  },
  {
   "cell_type": "markdown",
   "id": "6e8b0a59",
   "metadata": {},
   "source": [
    "## Evaluation metrics"
   ]
  },
  {
   "cell_type": "code",
   "execution_count": 43,
   "id": "cf257bb3",
   "metadata": {},
   "outputs": [
    {
     "name": "stdout",
     "output_type": "stream",
     "text": [
      "Accuracy train set  0.8533950617283951\n",
      "Accuracy test set  0.8367836783678367\n",
      "Precision train set  0.8725466620079293\n",
      "Recall train set  0.8533950617283951\n",
      "F1 score train set  0.849285618231994\n",
      "Support train set  (array([0.96014068, 0.80103508]), array([0.70300429, 0.97617379]), array([0.81169475, 0.87997473]), array([3495, 4281]))\n"
     ]
    }
   ],
   "source": [
    "print('Accuracy train set ', metrics.accuracy_score(train_label, train_pred_dt))\n",
    "print('Accuracy test set ', metrics.accuracy_score(test_label, test_pred_dt))\n",
    "print('Precision train set ', metrics.precision_score(train_label, train_pred_dt, average='weighted'))\n",
    "print('Recall train set ', metrics.recall_score(train_label, train_pred_dt, average='weighted'))\n",
    "print('F1 score train set ', metrics.f1_score(train_label, train_pred_dt, average='weighted'))\n",
    "print('Support train set ', metrics.precision_recall_fscore_support(train_label, train_pred_dt))"
   ]
  },
  {
   "cell_type": "code",
   "execution_count": 44,
   "id": "8beceead",
   "metadata": {},
   "outputs": [
    {
     "name": "stderr",
     "output_type": "stream",
     "text": [
      "/home/bendico765/Scrivania/Università/DM/venv/lib/python3.10/site-packages/sklearn/utils/deprecation.py:87: FutureWarning: Function plot_confusion_matrix is deprecated; Function `plot_confusion_matrix` is deprecated in 1.0 and will be removed in 1.2. Use one of the class methods: ConfusionMatrixDisplay.from_predictions or ConfusionMatrixDisplay.from_estimator.\n",
      "  warnings.warn(msg, category=FutureWarning)\n"
     ]
    },
    {
     "data": {
      "image/png": "[encoded data removed]",
      "text/plain": [
       "<Figure size 640x480 with 2 Axes>"
      ]
     },
     "metadata": {},
     "output_type": "display_data"
    }
   ],
   "source": [
    "metrics.plot_confusion_matrix(dt, test_set, test_label)\n",
    "plt.show() "
   ]
  },
  {
   "cell_type": "code",
   "execution_count": null,
   "id": "0bcece80",
   "metadata": {},
   "outputs": [],
   "source": []
  },
  {
   "cell_type": "code",
   "execution_count": null,
   "id": "71706a60",
   "metadata": {},
   "outputs": [],
   "source": []
  }
 ],
 "metadata": {
  "kernelspec": {
   "display_name": "Python 3 (ipykernel)",
   "language": "python",
   "name": "python3"
  },
  "language_info": {
   "codemirror_mode": {
    "name": "ipython",
    "version": 3
   },
   "file_extension": ".py",
   "mimetype": "text/x-python",
   "name": "python",
   "nbconvert_exporter": "python",
   "pygments_lexer": "ipython3",
   "version": "3.10.6"
  }
 },
 "nbformat": 4,
 "nbformat_minor": 5
}
