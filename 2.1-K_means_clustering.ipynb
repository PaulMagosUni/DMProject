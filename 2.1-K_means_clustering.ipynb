{
 "cells": [
  {
   "cell_type": "code",
   "execution_count": 133,
   "metadata": {},
   "outputs": [],
   "source": [
    "import numpy as np\n",
    "import pandas as pd\n",
    "import matplotlib.pyplot as plt\n",
    "from sklearn.preprocessing import StandardScaler, MinMaxScaler\n",
    "from sklearn.cluster import KMeans\n",
    "from sklearn.metrics import silhouette_score, davies_bouldin_score\n",
    "import clustering_utils\n",
    "from itertools import combinations"
   ]
  },
  {
   "cell_type": "code",
   "execution_count": 134,
   "metadata": {},
   "outputs": [
    {
     "name": "stdout",
     "output_type": "stream",
     "text": [
      "<class 'pandas.core.frame.DataFrame'>\n",
      "RangeIndex: 11109 entries, 0 to 11108\n",
      "Data columns (total 9 columns):\n",
      " #   Column                             Non-Null Count  Dtype  \n",
      "---  ------                             --------------  -----  \n",
      " 0   account_average_tweets_per_day     11109 non-null  float64\n",
      " 1   account_discussion_creation_ratio  11109 non-null  float64\n",
      " 2   avg_hashtags                       11109 non-null  float64\n",
      " 3   avg_mentions                       11109 non-null  float64\n",
      " 4   avg_special_char_in_text           11109 non-null  float64\n",
      " 5   avt_reply_count                    11109 non-null  float64\n",
      " 6   entropy_for_day                    11109 non-null  float64\n",
      " 7   entropy_for_hour                   11109 non-null  float64\n",
      " 8   entropy_for_minute                 11109 non-null  float64\n",
      "dtypes: float64(9)\n",
      "memory usage: 781.2 KB\n",
      "<class 'pandas.core.frame.DataFrame'>\n",
      "RangeIndex: 11109 entries, 0 to 11108\n",
      "Data columns (total 12 columns):\n",
      " #   Column                             Non-Null Count  Dtype  \n",
      "---  ------                             --------------  -----  \n",
      " 0   account_average_tweets_per_day     11109 non-null  float64\n",
      " 1   account_discussion_creation_ratio  11109 non-null  float64\n",
      " 2   avg_hashtags                       11109 non-null  float64\n",
      " 3   avg_mentions                       11109 non-null  float64\n",
      " 4   avg_special_char_in_text           11109 non-null  float64\n",
      " 5   avt_favorite_count                 11109 non-null  float64\n",
      " 6   avt_reply_count                    11109 non-null  float64\n",
      " 7   entropy_for_day                    11109 non-null  float64\n",
      " 8   entropy_for_hour                   11109 non-null  float64\n",
      " 9   entropy_for_minute                 11109 non-null  float64\n",
      " 10  total_retweet_count                11109 non-null  int64  \n",
      " 11  tweet_num_likes_ratio              11109 non-null  float64\n",
      "dtypes: float64(11), int64(1)\n",
      "memory usage: 1.0 MB\n"
     ]
    }
   ],
   "source": [
    "users_df = pd.read_csv(\"dataset/users_df_dataset_cleaned_with_indicators.csv\")\n",
    "columns_not_needed_80 = ['user_id', 'account_age_in_days', 'bot', 'created_at', 'name', 'lang', \n",
    "                        'avg_tweets_per_actual_day', 'avt_favorite_count', 'total_replies',\n",
    "                        'tweet_num_replies_ratio', 'max_number_of_tweet_in_a_day', 'total_likes',\n",
    "                        'total_retweet_count', 'tweet_num_likes_ratio', 'number_of_tweets', \n",
    "                        'avg_text_length', 'statuses_count', 'day_with_most_tweets']\n",
    "columns_not_needed_70 = ['user_id', 'account_age_in_days', 'bot', 'created_at', 'name', 'lang', \n",
    "                        'avg_tweets_per_actual_day', 'avg_text_length', 'max_number_of_tweet_in_a_day',\n",
    "                        'number_of_tweets', 'total_likes', 'total_replies', 'tweet_num_replies_ratio',\n",
    "                        'statuses_count', 'day_with_most_tweets']\n",
    "\n",
    "users_df_70 = users_df[users_df.columns.difference(columns_not_needed_80)]\n",
    "users_df_80 = users_df[users_df.columns.difference(columns_not_needed_70)]\n",
    "\n",
    "users_df_70.info()\n",
    "users_df_80.info()\n"
   ]
  },
  {
   "cell_type": "markdown",
   "metadata": {},
   "source": [
    "# KMeans"
   ]
  },
  {
   "cell_type": "code",
   "execution_count": 142,
   "metadata": {},
   "outputs": [
    {
     "ename": "KeyError",
     "evalue": "\"None of [Index([('account_average_tweets_per_day', 'account_discussion_creation_ratio'),\\n                            ('account_average_tweets_per_day', 'avg_hashtags'),\\n                            ('account_average_tweets_per_day', 'avg_mentions'),\\n                ('account_average_tweets_per_day', 'avg_special_char_in_text'),\\n                         ('account_average_tweets_per_day', 'avt_reply_count'),\\n                         ('account_average_tweets_per_day', 'entropy_for_day'),\\n                        ('account_average_tweets_per_day', 'entropy_for_hour'),\\n                      ('account_average_tweets_per_day', 'entropy_for_minute'),\\n                         ('account_discussion_creation_ratio', 'avg_hashtags'),\\n                         ('account_discussion_creation_ratio', 'avg_mentions'),\\n             ('account_discussion_creation_ratio', 'avg_special_char_in_text'),\\n                      ('account_discussion_creation_ratio', 'avt_reply_count'),\\n                      ('account_discussion_creation_ratio', 'entropy_for_day'),\\n                     ('account_discussion_creation_ratio', 'entropy_for_hour'),\\n                   ('account_discussion_creation_ratio', 'entropy_for_minute'),\\n                                              ('avg_hashtags', 'avg_mentions'),\\n                                  ('avg_hashtags', 'avg_special_char_in_text'),\\n                                           ('avg_hashtags', 'avt_reply_count'),\\n                                           ('avg_hashtags', 'entropy_for_day'),\\n                                          ('avg_hashtags', 'entropy_for_hour'),\\n                                        ('avg_hashtags', 'entropy_for_minute'),\\n                                  ('avg_mentions', 'avg_special_char_in_text'),\\n                                           ('avg_mentions', 'avt_reply_count'),\\n                                           ('avg_mentions', 'entropy_for_day'),\\n                                          ('avg_mentions', 'entropy_for_hour'),\\n                                        ('avg_mentions', 'entropy_for_minute'),\\n                               ('avg_special_char_in_text', 'avt_reply_count'),\\n                               ('avg_special_char_in_text', 'entropy_for_day'),\\n                              ('avg_special_char_in_text', 'entropy_for_hour'),\\n                            ('avg_special_char_in_text', 'entropy_for_minute'),\\n                                        ('avt_reply_count', 'entropy_for_day'),\\n                                       ('avt_reply_count', 'entropy_for_hour'),\\n                                     ('avt_reply_count', 'entropy_for_minute'),\\n                                       ('entropy_for_day', 'entropy_for_hour'),\\n                                     ('entropy_for_day', 'entropy_for_minute'),\\n                                    ('entropy_for_hour', 'entropy_for_minute')],\\n      dtype='object')] are in the [columns]\"",
     "output_type": "error",
     "traceback": [
      "\u001b[0;31m---------------------------------------------------------------------------\u001b[0m",
      "\u001b[0;31mKeyError\u001b[0m                                  Traceback (most recent call last)",
      "\u001b[0;32m/var/folders/83/4hrtk21x7lq8yn57wngsh6zm0000gn/T/ipykernel_3764/1051117926.py\u001b[0m in \u001b[0;36m<module>\u001b[0;34m\u001b[0m\n\u001b[1;32m      1\u001b[0m \u001b[0mall_possible_combinations\u001b[0m \u001b[0;34m=\u001b[0m \u001b[0mlist\u001b[0m\u001b[0;34m(\u001b[0m\u001b[0mcombinations\u001b[0m\u001b[0;34m(\u001b[0m\u001b[0musers_df_70\u001b[0m\u001b[0;34m.\u001b[0m\u001b[0mcolumns\u001b[0m\u001b[0;34m,\u001b[0m \u001b[0;36m2\u001b[0m\u001b[0;34m)\u001b[0m\u001b[0;34m)\u001b[0m\u001b[0;34m\u001b[0m\u001b[0;34m\u001b[0m\u001b[0m\n\u001b[1;32m      2\u001b[0m \u001b[0mcombination\u001b[0m \u001b[0;34m=\u001b[0m \u001b[0;34m[\u001b[0m\u001b[0;34m'entropy_for_minute'\u001b[0m\u001b[0;34m,\u001b[0m \u001b[0;34m'account_discussion_creation_ratio'\u001b[0m\u001b[0;34m]\u001b[0m\u001b[0;34m\u001b[0m\u001b[0;34m\u001b[0m\u001b[0m\n\u001b[0;32m----> 3\u001b[0;31m \u001b[0msubset_df\u001b[0m \u001b[0;34m=\u001b[0m \u001b[0musers_df\u001b[0m\u001b[0;34m[\u001b[0m\u001b[0mall_possible_combinations\u001b[0m\u001b[0;34m]\u001b[0m\u001b[0;34m\u001b[0m\u001b[0;34m\u001b[0m\u001b[0m\n\u001b[0m\u001b[1;32m      4\u001b[0m \u001b[0mscaler\u001b[0m \u001b[0;34m=\u001b[0m \u001b[0mStandardScaler\u001b[0m\u001b[0;34m(\u001b[0m\u001b[0;34m)\u001b[0m\u001b[0;34m\u001b[0m\u001b[0;34m\u001b[0m\u001b[0m\n\u001b[1;32m      5\u001b[0m \u001b[0mscaler\u001b[0m\u001b[0;34m.\u001b[0m\u001b[0mfit\u001b[0m\u001b[0;34m(\u001b[0m\u001b[0msubset_df\u001b[0m\u001b[0;34m.\u001b[0m\u001b[0mvalues\u001b[0m\u001b[0;34m)\u001b[0m\u001b[0;34m\u001b[0m\u001b[0;34m\u001b[0m\u001b[0m\n",
      "\u001b[0;32m/usr/local/anaconda3/lib/python3.9/site-packages/pandas/core/frame.py\u001b[0m in \u001b[0;36m__getitem__\u001b[0;34m(self, key)\u001b[0m\n\u001b[1;32m   3509\u001b[0m             \u001b[0;32mif\u001b[0m \u001b[0mis_iterator\u001b[0m\u001b[0;34m(\u001b[0m\u001b[0mkey\u001b[0m\u001b[0;34m)\u001b[0m\u001b[0;34m:\u001b[0m\u001b[0;34m\u001b[0m\u001b[0;34m\u001b[0m\u001b[0m\n\u001b[1;32m   3510\u001b[0m                 \u001b[0mkey\u001b[0m \u001b[0;34m=\u001b[0m \u001b[0mlist\u001b[0m\u001b[0;34m(\u001b[0m\u001b[0mkey\u001b[0m\u001b[0;34m)\u001b[0m\u001b[0;34m\u001b[0m\u001b[0;34m\u001b[0m\u001b[0m\n\u001b[0;32m-> 3511\u001b[0;31m             \u001b[0mindexer\u001b[0m \u001b[0;34m=\u001b[0m \u001b[0mself\u001b[0m\u001b[0;34m.\u001b[0m\u001b[0mcolumns\u001b[0m\u001b[0;34m.\u001b[0m\u001b[0m_get_indexer_strict\u001b[0m\u001b[0;34m(\u001b[0m\u001b[0mkey\u001b[0m\u001b[0;34m,\u001b[0m \u001b[0;34m\"columns\"\u001b[0m\u001b[0;34m)\u001b[0m\u001b[0;34m[\u001b[0m\u001b[0;36m1\u001b[0m\u001b[0;34m]\u001b[0m\u001b[0;34m\u001b[0m\u001b[0;34m\u001b[0m\u001b[0m\n\u001b[0m\u001b[1;32m   3512\u001b[0m \u001b[0;34m\u001b[0m\u001b[0m\n\u001b[1;32m   3513\u001b[0m         \u001b[0;31m# take() does not accept boolean indexers\u001b[0m\u001b[0;34m\u001b[0m\u001b[0;34m\u001b[0m\u001b[0m\n",
      "\u001b[0;32m/usr/local/anaconda3/lib/python3.9/site-packages/pandas/core/indexes/base.py\u001b[0m in \u001b[0;36m_get_indexer_strict\u001b[0;34m(self, key, axis_name)\u001b[0m\n\u001b[1;32m   5794\u001b[0m             \u001b[0mkeyarr\u001b[0m\u001b[0;34m,\u001b[0m \u001b[0mindexer\u001b[0m\u001b[0;34m,\u001b[0m \u001b[0mnew_indexer\u001b[0m \u001b[0;34m=\u001b[0m \u001b[0mself\u001b[0m\u001b[0;34m.\u001b[0m\u001b[0m_reindex_non_unique\u001b[0m\u001b[0;34m(\u001b[0m\u001b[0mkeyarr\u001b[0m\u001b[0;34m)\u001b[0m\u001b[0;34m\u001b[0m\u001b[0;34m\u001b[0m\u001b[0m\n\u001b[1;32m   5795\u001b[0m \u001b[0;34m\u001b[0m\u001b[0m\n\u001b[0;32m-> 5796\u001b[0;31m         \u001b[0mself\u001b[0m\u001b[0;34m.\u001b[0m\u001b[0m_raise_if_missing\u001b[0m\u001b[0;34m(\u001b[0m\u001b[0mkeyarr\u001b[0m\u001b[0;34m,\u001b[0m \u001b[0mindexer\u001b[0m\u001b[0;34m,\u001b[0m \u001b[0maxis_name\u001b[0m\u001b[0;34m)\u001b[0m\u001b[0;34m\u001b[0m\u001b[0;34m\u001b[0m\u001b[0m\n\u001b[0m\u001b[1;32m   5797\u001b[0m \u001b[0;34m\u001b[0m\u001b[0m\n\u001b[1;32m   5798\u001b[0m         \u001b[0mkeyarr\u001b[0m \u001b[0;34m=\u001b[0m \u001b[0mself\u001b[0m\u001b[0;34m.\u001b[0m\u001b[0mtake\u001b[0m\u001b[0;34m(\u001b[0m\u001b[0mindexer\u001b[0m\u001b[0;34m)\u001b[0m\u001b[0;34m\u001b[0m\u001b[0;34m\u001b[0m\u001b[0m\n",
      "\u001b[0;32m/usr/local/anaconda3/lib/python3.9/site-packages/pandas/core/indexes/base.py\u001b[0m in \u001b[0;36m_raise_if_missing\u001b[0;34m(self, key, indexer, axis_name)\u001b[0m\n\u001b[1;32m   5854\u001b[0m                 \u001b[0;32mif\u001b[0m \u001b[0muse_interval_msg\u001b[0m\u001b[0;34m:\u001b[0m\u001b[0;34m\u001b[0m\u001b[0;34m\u001b[0m\u001b[0m\n\u001b[1;32m   5855\u001b[0m                     \u001b[0mkey\u001b[0m \u001b[0;34m=\u001b[0m \u001b[0mlist\u001b[0m\u001b[0;34m(\u001b[0m\u001b[0mkey\u001b[0m\u001b[0;34m)\u001b[0m\u001b[0;34m\u001b[0m\u001b[0;34m\u001b[0m\u001b[0m\n\u001b[0;32m-> 5856\u001b[0;31m                 \u001b[0;32mraise\u001b[0m \u001b[0mKeyError\u001b[0m\u001b[0;34m(\u001b[0m\u001b[0;34mf\"None of [{key}] are in the [{axis_name}]\"\u001b[0m\u001b[0;34m)\u001b[0m\u001b[0;34m\u001b[0m\u001b[0;34m\u001b[0m\u001b[0m\n\u001b[0m\u001b[1;32m   5857\u001b[0m \u001b[0;34m\u001b[0m\u001b[0m\n\u001b[1;32m   5858\u001b[0m             \u001b[0mnot_found\u001b[0m \u001b[0;34m=\u001b[0m \u001b[0mlist\u001b[0m\u001b[0;34m(\u001b[0m\u001b[0mensure_index\u001b[0m\u001b[0;34m(\u001b[0m\u001b[0mkey\u001b[0m\u001b[0;34m)\u001b[0m\u001b[0;34m[\u001b[0m\u001b[0mmissing_mask\u001b[0m\u001b[0;34m.\u001b[0m\u001b[0mnonzero\u001b[0m\u001b[0;34m(\u001b[0m\u001b[0;34m)\u001b[0m\u001b[0;34m[\u001b[0m\u001b[0;36m0\u001b[0m\u001b[0;34m]\u001b[0m\u001b[0;34m]\u001b[0m\u001b[0;34m.\u001b[0m\u001b[0munique\u001b[0m\u001b[0;34m(\u001b[0m\u001b[0;34m)\u001b[0m\u001b[0;34m)\u001b[0m\u001b[0;34m\u001b[0m\u001b[0;34m\u001b[0m\u001b[0m\n",
      "\u001b[0;31mKeyError\u001b[0m: \"None of [Index([('account_average_tweets_per_day', 'account_discussion_creation_ratio'),\\n                            ('account_average_tweets_per_day', 'avg_hashtags'),\\n                            ('account_average_tweets_per_day', 'avg_mentions'),\\n                ('account_average_tweets_per_day', 'avg_special_char_in_text'),\\n                         ('account_average_tweets_per_day', 'avt_reply_count'),\\n                         ('account_average_tweets_per_day', 'entropy_for_day'),\\n                        ('account_average_tweets_per_day', 'entropy_for_hour'),\\n                      ('account_average_tweets_per_day', 'entropy_for_minute'),\\n                         ('account_discussion_creation_ratio', 'avg_hashtags'),\\n                         ('account_discussion_creation_ratio', 'avg_mentions'),\\n             ('account_discussion_creation_ratio', 'avg_special_char_in_text'),\\n                      ('account_discussion_creation_ratio', 'avt_reply_count'),\\n                      ('account_discussion_creation_ratio', 'entropy_for_day'),\\n                     ('account_discussion_creation_ratio', 'entropy_for_hour'),\\n                   ('account_discussion_creation_ratio', 'entropy_for_minute'),\\n                                              ('avg_hashtags', 'avg_mentions'),\\n                                  ('avg_hashtags', 'avg_special_char_in_text'),\\n                                           ('avg_hashtags', 'avt_reply_count'),\\n                                           ('avg_hashtags', 'entropy_for_day'),\\n                                          ('avg_hashtags', 'entropy_for_hour'),\\n                                        ('avg_hashtags', 'entropy_for_minute'),\\n                                  ('avg_mentions', 'avg_special_char_in_text'),\\n                                           ('avg_mentions', 'avt_reply_count'),\\n                                           ('avg_mentions', 'entropy_for_day'),\\n                                          ('avg_mentions', 'entropy_for_hour'),\\n                                        ('avg_mentions', 'entropy_for_minute'),\\n                               ('avg_special_char_in_text', 'avt_reply_count'),\\n                               ('avg_special_char_in_text', 'entropy_for_day'),\\n                              ('avg_special_char_in_text', 'entropy_for_hour'),\\n                            ('avg_special_char_in_text', 'entropy_for_minute'),\\n                                        ('avt_reply_count', 'entropy_for_day'),\\n                                       ('avt_reply_count', 'entropy_for_hour'),\\n                                     ('avt_reply_count', 'entropy_for_minute'),\\n                                       ('entropy_for_day', 'entropy_for_hour'),\\n                                     ('entropy_for_day', 'entropy_for_minute'),\\n                                    ('entropy_for_hour', 'entropy_for_minute')],\\n      dtype='object')] are in the [columns]\""
     ]
    }
   ],
   "source": [
    "all_possible_combinations = list(combinations(users_df_70.columns, 2))\n",
    "combination = ['entropy_for_minute', 'account_discussion_creation_ratio']\n",
    "subset_df = users_df[all_possible_combinations]\n",
    "scaler = StandardScaler()\n",
    "scaler.fit(subset_df.values)\n",
    "transform_result = scaler.fit_transform(subset_df.values)"
   ]
  },
  {
   "cell_type": "code",
   "execution_count": 136,
   "metadata": {},
   "outputs": [
    {
     "data": {
      "text/plain": [
       "KMeans(max_iter=150, n_clusters=9)"
      ]
     },
     "execution_count": 136,
     "metadata": {},
     "output_type": "execute_result"
    }
   ],
   "source": [
    "kmeans = KMeans(n_clusters=9, n_init=10, max_iter=150)\n",
    "kmeans.fit(transform_result)"
   ]
  },
  {
   "cell_type": "code",
   "execution_count": 137,
   "metadata": {},
   "outputs": [
    {
     "data": {
      "text/plain": [
       "<BarContainer object of 9 artists>"
      ]
     },
     "execution_count": 137,
     "metadata": {},
     "output_type": "execute_result"
    },
    {
     "data": {
      "image/png": "[encoded data removed]",
      "text/plain": [
       "<Figure size 640x480 with 1 Axes>"
      ]
     },
     "metadata": {},
     "output_type": "display_data"
    }
   ],
   "source": [
    "clusters_id, clusters_sizes = np.unique(kmeans.labels_, return_counts=True)\n",
    "\n",
    "plt.bar(x=clusters_id, height=clusters_sizes, log=True)\n",
    "plt.show()"
   ]
  },
  {
   "cell_type": "code",
   "execution_count": 138,
   "metadata": {},
   "outputs": [
    {
     "data": {
      "text/plain": [
       "<matplotlib.collections.PathCollection at 0x7fd1be16a430>"
      ]
     },
     "execution_count": 138,
     "metadata": {},
     "output_type": "execute_result"
    },
    {
     "data": {
      "image/png": "[encoded data removed]",
      "text/plain": [
       "<Figure size 640x480 with 1 Axes>"
      ]
     },
     "metadata": {},
     "output_type": "display_data"
    }
   ],
   "source": [
    "plt.scatter(data=users_df, x=combination[0], y=combination[1],c=kmeans.labels_)\n",
    "plt.show()"
   ]
  },
  {
   "cell_type": "code",
   "execution_count": 139,
   "metadata": {},
   "outputs": [
    {
     "name": "stdout",
     "output_type": "stream",
     "text": [
      "SSE 1068.7721117803023\n",
      "Silhouette 0.5484489230564312\n",
      "Separation 0.5446545294791832\n"
     ]
    }
   ],
   "source": [
    "clustering_utils.print_clustering_metrics(kmeans, transform_result)"
   ]
  },
  {
   "cell_type": "markdown",
   "id": "4083a2cb",
   "metadata": {},
   "source": [
    "\n",
    "## Running multiple K-means and plotting SSE"
   ]
  },
  {
   "cell_type": "markdown",
   "id": "d17949fb",
   "metadata": {},
   "source": [
    "Trying to plot the relation between K centroids and SSE. The main problem is: what indica"
   ]
  },
  {
   "cell_type": "code",
   "execution_count": 140,
   "id": "ed2e717c",
   "metadata": {},
   "outputs": [
    {
     "data": {
      "text/plain": [
       "KMeans(max_iter=150, n_clusters=1)"
      ]
     },
     "execution_count": 140,
     "metadata": {},
     "output_type": "execute_result"
    },
    {
     "data": {
      "text/plain": [
       "KMeans(max_iter=150, n_clusters=2)"
      ]
     },
     "execution_count": 140,
     "metadata": {},
     "output_type": "execute_result"
    },
    {
     "data": {
      "text/plain": [
       "KMeans(max_iter=150, n_clusters=3)"
      ]
     },
     "execution_count": 140,
     "metadata": {},
     "output_type": "execute_result"
    },
    {
     "data": {
      "text/plain": [
       "KMeans(max_iter=150, n_clusters=4)"
      ]
     },
     "execution_count": 140,
     "metadata": {},
     "output_type": "execute_result"
    },
    {
     "data": {
      "text/plain": [
       "KMeans(max_iter=150, n_clusters=5)"
      ]
     },
     "execution_count": 140,
     "metadata": {},
     "output_type": "execute_result"
    },
    {
     "data": {
      "text/plain": [
       "KMeans(max_iter=150, n_clusters=6)"
      ]
     },
     "execution_count": 140,
     "metadata": {},
     "output_type": "execute_result"
    },
    {
     "data": {
      "text/plain": [
       "KMeans(max_iter=150, n_clusters=7)"
      ]
     },
     "execution_count": 140,
     "metadata": {},
     "output_type": "execute_result"
    },
    {
     "data": {
      "text/plain": [
       "KMeans(max_iter=150)"
      ]
     },
     "execution_count": 140,
     "metadata": {},
     "output_type": "execute_result"
    },
    {
     "data": {
      "text/plain": [
       "KMeans(max_iter=150, n_clusters=9)"
      ]
     },
     "execution_count": 140,
     "metadata": {},
     "output_type": "execute_result"
    },
    {
     "data": {
      "text/plain": [
       "KMeans(max_iter=150, n_clusters=10)"
      ]
     },
     "execution_count": 140,
     "metadata": {},
     "output_type": "execute_result"
    },
    {
     "data": {
      "text/plain": [
       "KMeans(max_iter=150, n_clusters=11)"
      ]
     },
     "execution_count": 140,
     "metadata": {},
     "output_type": "execute_result"
    },
    {
     "data": {
      "text/plain": [
       "KMeans(max_iter=150, n_clusters=12)"
      ]
     },
     "execution_count": 140,
     "metadata": {},
     "output_type": "execute_result"
    },
    {
     "data": {
      "text/plain": [
       "KMeans(max_iter=150, n_clusters=13)"
      ]
     },
     "execution_count": 140,
     "metadata": {},
     "output_type": "execute_result"
    },
    {
     "data": {
      "text/plain": [
       "KMeans(max_iter=150, n_clusters=14)"
      ]
     },
     "execution_count": 140,
     "metadata": {},
     "output_type": "execute_result"
    },
    {
     "data": {
      "text/plain": [
       "KMeans(max_iter=150, n_clusters=15)"
      ]
     },
     "execution_count": 140,
     "metadata": {},
     "output_type": "execute_result"
    },
    {
     "data": {
      "text/plain": [
       "KMeans(max_iter=150, n_clusters=16)"
      ]
     },
     "execution_count": 140,
     "metadata": {},
     "output_type": "execute_result"
    },
    {
     "data": {
      "text/plain": [
       "KMeans(max_iter=150, n_clusters=17)"
      ]
     },
     "execution_count": 140,
     "metadata": {},
     "output_type": "execute_result"
    },
    {
     "data": {
      "text/plain": [
       "KMeans(max_iter=150, n_clusters=18)"
      ]
     },
     "execution_count": 140,
     "metadata": {},
     "output_type": "execute_result"
    },
    {
     "data": {
      "text/plain": [
       "KMeans(max_iter=150, n_clusters=19)"
      ]
     },
     "execution_count": 140,
     "metadata": {},
     "output_type": "execute_result"
    },
    {
     "data": {
      "text/plain": [
       "KMeans(max_iter=150, n_clusters=20)"
      ]
     },
     "execution_count": 140,
     "metadata": {},
     "output_type": "execute_result"
    },
    {
     "data": {
      "text/plain": [
       "KMeans(max_iter=150, n_clusters=21)"
      ]
     },
     "execution_count": 140,
     "metadata": {},
     "output_type": "execute_result"
    },
    {
     "data": {
      "text/plain": [
       "KMeans(max_iter=150, n_clusters=22)"
      ]
     },
     "execution_count": 140,
     "metadata": {},
     "output_type": "execute_result"
    },
    {
     "data": {
      "text/plain": [
       "KMeans(max_iter=150, n_clusters=23)"
      ]
     },
     "execution_count": 140,
     "metadata": {},
     "output_type": "execute_result"
    },
    {
     "data": {
      "text/plain": [
       "KMeans(max_iter=150, n_clusters=24)"
      ]
     },
     "execution_count": 140,
     "metadata": {},
     "output_type": "execute_result"
    },
    {
     "data": {
      "text/plain": [
       "KMeans(max_iter=150, n_clusters=25)"
      ]
     },
     "execution_count": 140,
     "metadata": {},
     "output_type": "execute_result"
    },
    {
     "data": {
      "text/plain": [
       "KMeans(max_iter=150, n_clusters=26)"
      ]
     },
     "execution_count": 140,
     "metadata": {},
     "output_type": "execute_result"
    },
    {
     "data": {
      "text/plain": [
       "KMeans(max_iter=150, n_clusters=27)"
      ]
     },
     "execution_count": 140,
     "metadata": {},
     "output_type": "execute_result"
    },
    {
     "data": {
      "text/plain": [
       "KMeans(max_iter=150, n_clusters=28)"
      ]
     },
     "execution_count": 140,
     "metadata": {},
     "output_type": "execute_result"
    },
    {
     "data": {
      "text/plain": [
       "KMeans(max_iter=150, n_clusters=29)"
      ]
     },
     "execution_count": 140,
     "metadata": {},
     "output_type": "execute_result"
    },
    {
     "data": {
      "text/plain": [
       "KMeans(max_iter=150, n_clusters=30)"
      ]
     },
     "execution_count": 140,
     "metadata": {},
     "output_type": "execute_result"
    },
    {
     "data": {
      "text/plain": [
       "<AxesSubplot:xlabel='K'>"
      ]
     },
     "execution_count": 140,
     "metadata": {},
     "output_type": "execute_result"
    },
    {
     "data": {
      "image/png": "[encoded data removed]",
      "text/plain": [
       "<Figure size 640x480 with 1 Axes>"
      ]
     },
     "metadata": {},
     "output_type": "display_data"
    }
   ],
   "source": [
    "results = []\n",
    "for k in range(1,31):\n",
    "    kmeans = KMeans(n_clusters=k, n_init=10, max_iter=150)\n",
    "    kmeans.fit(transform_result)\n",
    "    SSE = kmeans.inertia_\n",
    "    results.append([k, SSE])\n",
    "    \n",
    "results_df = pd.DataFrame(results, columns=[\"K\", \"SSE\"])\n",
    "results_df.plot(x=\"K\", y=\"SSE\")"
   ]
  }
 ],
 "metadata": {
  "kernelspec": {
   "display_name": "Python 3.9.13 ('base')",
   "language": "python",
   "name": "python3"
  },
  "language_info": {
   "codemirror_mode": {
    "name": "ipython",
    "version": 3
   },
   "file_extension": ".py",
   "mimetype": "text/x-python",
   "name": "python",
   "nbconvert_exporter": "python",
   "pygments_lexer": "ipython3",
   "version": "3.9.13"
  },
  "orig_nbformat": 4,
  "vscode": {
   "interpreter": {
    "hash": "3067ead486e059ec00ffe7555bdb889e6e264a24dc711bf108106cc7baee8d5d"
   }
  }
 },
 "nbformat": 4,
 "nbformat_minor": 2
}
