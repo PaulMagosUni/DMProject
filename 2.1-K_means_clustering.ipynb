{
 "cells": [
  {
   "cell_type": "code",
   "execution_count": null,
   "metadata": {},
   "outputs": [],
   "source": [
    "from IPython.core.interactiveshell import InteractiveShell\n",
    "InteractiveShell.ast_node_interactivity = 'all' # to print multiple outputs from the same cell\n",
    "import math\n",
    "import utils\n",
    "import numpy as np\n",
    "import pandas as pd\n",
    "import scipy.stats as stats\n",
    "import matplotlib.pyplot as plt\n",
    "import seaborn as sns\n",
    "from operator import index\n",
    "from collections import defaultdict\n",
    "from scipy.stats import pearsonr\n",
    "from datetime import datetime, timedelta"
   ]
  },
  {
   "cell_type": "code",
   "execution_count": null,
   "metadata": {},
   "outputs": [],
   "source": [
    "columns_not_needed_70 = ['user_id', 'account_age_in_days', 'bot', 'created_at', 'name', 'lang', \n",
    "                        'avg_tweets_per_actual_day', 'avt_favorite_count', 'total_replies',\n",
    "                        'tweet_num_replies_ratio', 'max_number_of_tweet_in_a_day', 'total_likes',\n",
    "                        'total_retweet_count', 'tweet_num_likes_ratio', 'number_of_tweets', \n",
    "                        'avg_text_length', 'statuses_count']\n",
    "columns_not_needed_80 = ['user_id', 'account_age_in_days', 'bot', 'created_at', 'name', 'lang', \n",
    "                        'avg_tweets_per_actual_day', 'avg_text_length', 'max_number_of_tweet_in_a_day',\n",
    "                        'number_of_tweets', 'total_likes', 'total_replies', 'tweet_num_replies_ratio',\n",
    "                        'statuses_count']"
   ]
  }
 ],
 "metadata": {
  "kernelspec": {
   "display_name": "Python 3.10.8 64-bit",
   "language": "python",
   "name": "python3"
  },
  "language_info": {
   "name": "python",
   "version": "3.10.8"
  },
  "orig_nbformat": 4,
  "vscode": {
   "interpreter": {
    "hash": "aee8b7b246df8f9039afb4144a1f6fd8d2ca17a180786b69acc140d282b71a49"
   }
  }
 },
 "nbformat": 4,
 "nbformat_minor": 2
}
