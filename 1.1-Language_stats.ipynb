{
 "cells": [
  {
   "cell_type": "markdown",
   "metadata": {},
   "source": [
    "# To run this you have to update your merged dataset with the one without the null text field"
   ]
  },
  {
   "cell_type": "code",
   "execution_count": 3,
   "metadata": {},
   "outputs": [],
   "source": [
    "from IPython.core.interactiveshell import InteractiveShell\n",
    "InteractiveShell.ast_node_interactivity = 'all' # to print multiple outputs from the same cell\n",
    "import math\n",
    "import lingua_utils\n",
    "import numpy as np\n",
    "import pandas as pd\n",
    "import scipy.stats as stats\n",
    "import matplotlib.pyplot as plt\n",
    "import seaborn as sns\n",
    "from operator import index\n",
    "from collections import defaultdict\n",
    "from scipy.stats import pearsonr\n",
    "from datetime import datetime\n",
    "import os\n",
    "import lingua_utils as lu"
   ]
  },
  {
   "cell_type": "code",
   "execution_count": 4,
   "metadata": {},
   "outputs": [
    {
     "name": "stdout",
     "output_type": "stream",
     "text": [
      "All 12 processes runnig ...\n",
      "Trying to collect 1 / 12 of information\n",
      "Process number 5 finished\n",
      "Trying to collect 2 / 12 of information\n",
      "Process number 3 finished\n",
      "Trying to collect 3 / 12 of information\n",
      "Process number 1 finished\n",
      "Trying to collect 4 / 12 of information\n",
      "Process number Process number7  8finished\n",
      " finished\n",
      "Trying to collect 5 / 12 of information\n",
      "Trying to collect 6 / 12 of information\n",
      "Process number 6 finished\n",
      "Process number 4Trying to collect 7 / 12 of information\n",
      "Trying to collect 8 / 12 of information\n",
      " finished\n",
      "Process number 0 finished\n",
      "Trying to collect 9 / 12 of information\n",
      "Process number 2 finished\n",
      "Process number 11 finished\n",
      "Trying to collect 10 / 12 of information\n",
      "Trying to collect 11 / 12 of information\n",
      "Process number 10 finished\n",
      "Process number 9 finished\n",
      "Trying to collect 12 / 12 of information\n",
      "All computation retreived, merging spitted datasets\n",
      "Merging completed\n"
     ]
    }
   ],
   "source": [
    "parallelism_level = 12\n",
    "\n",
    "if (os.path.exists(\"./dataset/tweets_lang.csv\")):\n",
    "    tweets_lang_df = pd.read_csv(\"./dataset/tweets_lang.csv\")\n",
    "else:\n",
    "    tweet_df = pd.read_csv(\"dataset/tweets.csv\")\n",
    "    tweet_df.drop(labels=[\"user_id\", \"retweet_count\", \"reply_count\", \"favorite_count\", \"num_hashtags\", \"num_urls\", \"num_mentions\", \"created_at\"], axis=1, inplace=True) # dropping all the columns except tweet_id and text \n",
    "    tweet_df.rename(columns={\"id\" : \"tweet_id\"}, inplace=True)\n",
    "    tweet_df.dropna(subset=[\"text\"], inplace=True) # dropping nan text fields\n",
    "    tweet_df[\"text\"] = tweet_df[\"text\"].astype(str) # casting all elements to string\n",
    "    tweets_df = tweet_df[~tweet_df.text.str.isspace()] # dropping tweets with only spaces\n",
    "\n",
    "    tweets_lang_df = lu.concurrent_language_model(tweet_df, parallelism_level)\n",
    "    tweets_lang_df.to_csv(\"./dataset/tweets_lang.csv\")"
   ]
  }
 ],
 "metadata": {
  "kernelspec": {
   "display_name": "Python 3 (ipykernel)",
   "language": "python",
   "name": "python3"
  },
  "language_info": {
   "codemirror_mode": {
    "name": "ipython",
    "version": 3
   },
   "file_extension": ".py",
   "mimetype": "text/x-python",
   "name": "python",
   "nbconvert_exporter": "python",
   "pygments_lexer": "ipython3",
   "version": "3.10.6"
  },
  "vscode": {
   "interpreter": {
    "hash": "916dbcbb3f70747c44a77c7bcd40155683ae19c65e1c03b4aa3499c5328201f1"
   }
  }
 },
 "nbformat": 4,
 "nbformat_minor": 2
}
