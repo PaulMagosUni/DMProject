{
 "cells": [
  {
   "cell_type": "markdown",
   "metadata": {},
   "source": [
    "# To run this you have to update your merged dataset with the one without the null text field"
   ]
  },
  {
   "cell_type": "code",
   "execution_count": 1,
   "metadata": {},
   "outputs": [],
   "source": [
    "from IPython.core.interactiveshell import InteractiveShell\n",
    "InteractiveShell.ast_node_interactivity = 'all' # to print multiple outputs from the same cell\n",
    "import math\n",
    "import utils\n",
    "import numpy as np\n",
    "import pandas as pd\n",
    "import scipy.stats as stats\n",
    "import matplotlib.pyplot as plt\n",
    "import seaborn as sns\n",
    "from operator import index\n",
    "from collections import defaultdict\n",
    "from scipy.stats import pearsonr\n",
    "from datetime import datetime\n",
    "import os"
   ]
  },
  {
   "cell_type": "code",
   "execution_count": null,
   "metadata": {},
   "outputs": [],
   "source": [
    "\n",
    "if (os.path.exists(\"./dataset/tweets_lang.csv\")):\n",
    "    tweets_lang_df = pd.read_csv(\"./dataset/tweets_lang.csv\")\n",
    "else:\n",
    "    tweet_df = pd.read_csv(\"dataset/tweets.csv\")\n",
    "    tweet_df.drop(labels=[\"user_id\", \"retweet_count\", \"reply_count\", \"favorite_count\", \"num_hashtag\", \"num_urls\", \"num_mentions\", \"created_at\"]) # dropping all the columns except tweet_id and text \n",
    "    tweet_df.dropna(subset=[\"text\"], inplace=True) # dropping nan text fields\n",
    "    tweet_df[\"text\"] = tweet_df[\"text\"].astype(str) # casting all elements to string\n",
    "    tweets_df = tweet_df[~tweet_df.text.str.isspace()] # dropping tweets with only spaces\n",
    "\n",
    "    utils.concurrent_language_model(tweet_df)\n",
    "    tweets_lang.to_csv(\"./dataset/tweets_lang.csv\")"
   ]
  },
  {
   "cell_type": "markdown",
   "metadata": {},
   "source": [
    "you can find the merged_lang dataset here: https://unipiit-my.sharepoint.com/:x:/g/personal/m_tolloso_studenti_unipi_it/ES8Oyz1lBTlEg0s8SliWkaEBuzu3OgkmiHq-rKStIlQGbQ?e=K8QMsQ"
   ]
  },
  {
   "cell_type": "code",
   "execution_count": 2,
   "metadata": {},
   "outputs": [],
   "source": [
    "tweet_df = pd.read_csv(\"dataset/tweets.csv\")"
   ]
  },
  {
   "cell_type": "code",
   "execution_count": 7,
   "metadata": {},
   "outputs": [],
   "source": [
    "\n",
    "tweet_df = tweet_df.head(100)\n",
    "#tweet_df.drop(labels=[\"user_id\", \"retweet_count\", \"reply_count\", \"favorite_count\", \"num_hashtag\", \"num_urls\", \"num_mentions\", \"created_at\"]) # dropping all the columns except tweet_id and text \n",
    "tweet_df.dropna(subset=[\"text\"], inplace=True) # dropping nan text fields\n",
    "tweet_df[\"text\"] = tweet_df[\"text\"].astype(str) # casting all elements to string\n",
    "tweets_df = tweet_df[~tweet_df.text.str.isspace()] # dropping tweets with only spaces\n",
    "\n",
    "utils.concurrent_language_model(tweet_df)"
   ]
  },
  {
   "cell_type": "code",
   "execution_count": 8,
   "metadata": {},
   "outputs": [
    {
     "data": {
      "text/html": [
       "<div>\n",
       "<style scoped>\n",
       "    .dataframe tbody tr th:only-of-type {\n",
       "        vertical-align: middle;\n",
       "    }\n",
       "\n",
       "    .dataframe tbody tr th {\n",
       "        vertical-align: top;\n",
       "    }\n",
       "\n",
       "    .dataframe thead th {\n",
       "        text-align: right;\n",
       "    }\n",
       "</style>\n",
       "<table border=\"1\" class=\"dataframe\">\n",
       "  <thead>\n",
       "    <tr style=\"text-align: right;\">\n",
       "      <th></th>\n",
       "      <th>id</th>\n",
       "      <th>user_id</th>\n",
       "      <th>retweet_count</th>\n",
       "      <th>reply_count</th>\n",
       "      <th>favorite_count</th>\n",
       "      <th>num_hashtags</th>\n",
       "      <th>num_urls</th>\n",
       "      <th>num_mentions</th>\n",
       "      <th>created_at</th>\n",
       "      <th>text</th>\n",
       "    </tr>\n",
       "  </thead>\n",
       "  <tbody>\n",
       "    <tr>\n",
       "      <th>0</th>\n",
       "      <td>509354017856950272</td>\n",
       "      <td>327746321</td>\n",
       "      <td>0</td>\n",
       "      <td>0</td>\n",
       "      <td>0</td>\n",
       "      <td>0</td>\n",
       "      <td>0</td>\n",
       "      <td>0</td>\n",
       "      <td>2019-09-11 14:53:55</td>\n",
       "      <td>If man is a little lower than angels, then ang...</td>\n",
       "    </tr>\n",
       "    <tr>\n",
       "      <th>1</th>\n",
       "      <td>583002592529121280</td>\n",
       "      <td>333722906</td>\n",
       "      <td>1</td>\n",
       "      <td>0</td>\n",
       "      <td>0</td>\n",
       "      <td>0</td>\n",
       "      <td>0</td>\n",
       "      <td>1</td>\n",
       "      <td>2020-04-01 20:27:04</td>\n",
       "      <td>\"@BestWSHHVids: how do you say these words wit...</td>\n",
       "    </tr>\n",
       "    <tr>\n",
       "      <th>2</th>\n",
       "      <td>461498835362013185</td>\n",
       "      <td>2379755827</td>\n",
       "      <td>0</td>\n",
       "      <td>0</td>\n",
       "      <td>0</td>\n",
       "      <td>0</td>\n",
       "      <td>0</td>\n",
       "      <td>1</td>\n",
       "      <td>2019-05-02 13:34:31</td>\n",
       "      <td>@LOLatComedy awsome</td>\n",
       "    </tr>\n",
       "    <tr>\n",
       "      <th>3</th>\n",
       "      <td>528808127366692864</td>\n",
       "      <td>466226882</td>\n",
       "      <td>0</td>\n",
       "      <td>0</td>\n",
       "      <td>0</td>\n",
       "      <td>0</td>\n",
       "      <td>0</td>\n",
       "      <td>0</td>\n",
       "      <td>2019-11-04 07:17:37</td>\n",
       "      <td>Stephen Hawkins: i buchi neri non esistono se ...</td>\n",
       "    </tr>\n",
       "    <tr>\n",
       "      <th>4</th>\n",
       "      <td>575336690904006656</td>\n",
       "      <td>1355537995</td>\n",
       "      <td>114</td>\n",
       "      <td>0</td>\n",
       "      <td>0</td>\n",
       "      <td>1</td>\n",
       "      <td>0</td>\n",
       "      <td>1</td>\n",
       "      <td>2020-03-11 16:45:31</td>\n",
       "      <td>RT @tibbs_montris: So ready for Wednesday!</td>\n",
       "    </tr>\n",
       "  </tbody>\n",
       "</table>\n",
       "</div>"
      ],
      "text/plain": [
       "                   id     user_id retweet_count reply_count favorite_count  \\\n",
       "0  509354017856950272   327746321             0           0              0   \n",
       "1  583002592529121280   333722906             1           0              0   \n",
       "2  461498835362013185  2379755827             0           0              0   \n",
       "3  528808127366692864   466226882             0           0              0   \n",
       "4  575336690904006656  1355537995           114           0              0   \n",
       "\n",
       "  num_hashtags num_urls num_mentions           created_at  \\\n",
       "0            0        0            0  2019-09-11 14:53:55   \n",
       "1            0        0            1  2020-04-01 20:27:04   \n",
       "2            0        0            1  2019-05-02 13:34:31   \n",
       "3            0        0            0  2019-11-04 07:17:37   \n",
       "4            1        0            1  2020-03-11 16:45:31   \n",
       "\n",
       "                                                text  \n",
       "0  If man is a little lower than angels, then ang...  \n",
       "1  \"@BestWSHHVids: how do you say these words wit...  \n",
       "2                                @LOLatComedy awsome  \n",
       "3  Stephen Hawkins: i buchi neri non esistono se ...  \n",
       "4        RT @tibbs_montris: So ready for Wednesday!   "
      ]
     },
     "execution_count": 8,
     "metadata": {},
     "output_type": "execute_result"
    }
   ],
   "source": [
    "tweet_df.head()"
   ]
  },
  {
   "cell_type": "code",
   "execution_count": null,
   "metadata": {},
   "outputs": [],
   "source": []
  }
 ],
 "metadata": {
  "kernelspec": {
   "display_name": "Python 3.10.6 64-bit",
   "language": "python",
   "name": "python3"
  },
  "language_info": {
   "codemirror_mode": {
    "name": "ipython",
    "version": 3
   },
   "file_extension": ".py",
   "mimetype": "text/x-python",
   "name": "python",
   "nbconvert_exporter": "python",
   "pygments_lexer": "ipython3",
   "version": "3.10.6"
  },
  "orig_nbformat": 4,
  "vscode": {
   "interpreter": {
    "hash": "916dbcbb3f70747c44a77c7bcd40155683ae19c65e1c03b4aa3499c5328201f1"
   }
  }
 },
 "nbformat": 4,
 "nbformat_minor": 2
}
