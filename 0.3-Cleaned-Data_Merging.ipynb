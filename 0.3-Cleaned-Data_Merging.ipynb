{
 "cells": [
  {
   "cell_type": "code",
   "execution_count": 1,
   "metadata": {},
   "outputs": [],
   "source": [
    "from IPython.core.interactiveshell import InteractiveShell\n",
    "InteractiveShell.ast_node_interactivity = 'all' # to print multiple outputs from the same cell\n",
    "import math\n",
    "import utils\n",
    "import numpy as np\n",
    "import pandas as pd\n",
    "import scipy.stats as stats\n",
    "import matplotlib.pyplot as plt\n",
    "import seaborn as sns\n",
    "import itertools\n",
    "from operator import index\n",
    "from collections import defaultdict\n",
    "from scipy.stats import pearsonr\n",
    "from datetime import datetime\n",
    "#from lingua import Language, LanguageDetectorBuilder"
   ]
  },
  {
   "cell_type": "markdown",
   "metadata": {},
   "source": [
    "Creates the combined dataset of the cleaned and generalized user and tweet datasets. The file that is created is the merged_dataset_cleaned"
   ]
  },
  {
   "cell_type": "code",
   "execution_count": 2,
   "metadata": {},
   "outputs": [],
   "source": [
    "users_df = pd.read_csv(\"dataset/users_dataset_cleaned.csv\")\n",
    "tweets_df = pd.read_csv(\"dataset/tweets_dataset_cleaned.csv\", lineterminator='\\n')"
   ]
  },
  {
   "cell_type": "code",
   "execution_count": 3,
   "metadata": {},
   "outputs": [],
   "source": [
    "merged_df = pd.merge(users_df, tweets_df, left_on=[\"user_id\"], right_on=[\"user_id\"])"
   ]
  },
  {
   "cell_type": "markdown",
   "metadata": {},
   "source": [
    "removing tweets made before author account creation date"
   ]
  },
  {
   "cell_type": "code",
   "execution_count": 4,
   "metadata": {},
   "outputs": [],
   "source": [
    "# Removes any duplicate columns as a result of the merge\n",
    "#merged_df = merged_df.loc[:,~merged_df.columns.duplicated()]#.copy()  <-- Add this if we have to avoid memory issues down the line\n",
    "merged_df.rename(columns={\"created_at_x\" : \"account_created\"}, inplace=True)\n",
    "merged_df.rename(columns={\"created_at_y\" : \"tweet_created\"}, inplace=True)\n",
    "rows_to_delete = merged_df[merged_df[\"account_created\"] > merged_df[\"tweet_created\"]].index\n",
    "merged_df.drop(rows_to_delete, inplace=True)"
   ]
  },
  {
   "cell_type": "code",
   "execution_count": 5,
   "metadata": {},
   "outputs": [
    {
     "name": "stdout",
     "output_type": "stream",
     "text": [
      "<class 'pandas.core.frame.DataFrame'>\n",
      "Int64Index: 10460637 entries, 0 to 10460636\n",
      "Data columns (total 15 columns):\n",
      " #   Column           Dtype \n",
      "---  ------           ----- \n",
      " 0   user_id          int64 \n",
      " 1   name             object\n",
      " 2   lang             object\n",
      " 3   bot              int64 \n",
      " 4   account_created  object\n",
      " 5   statuses_count   int64 \n",
      " 6   tweet_id         int64 \n",
      " 7   retweet_count    int64 \n",
      " 8   reply_count      int64 \n",
      " 9   favorite_count   int64 \n",
      " 10  num_hashtags     int64 \n",
      " 11  num_urls         int64 \n",
      " 12  num_mentions     int64 \n",
      " 13  tweet_created    object\n",
      " 14  text             object\n",
      "dtypes: int64(10), object(5)\n",
      "memory usage: 1.2+ GB\n"
     ]
    }
   ],
   "source": [
    "merged_df.info(verbose=True)"
   ]
  },
  {
   "cell_type": "code",
   "execution_count": null,
   "metadata": {},
   "outputs": [],
   "source": [
    "merged_df.to_csv(\"./dataset/merged_dataset_cleaned.csv\",index=False) # Removes the counting of the Index rows"
   ]
  }
 ],
 "metadata": {
  "kernelspec": {
   "display_name": "Python 3 (ipykernel)",
   "language": "python",
   "name": "python3"
  },
  "language_info": {
   "codemirror_mode": {
    "name": "ipython",
    "version": 3
   },
   "file_extension": ".py",
   "mimetype": "text/x-python",
   "name": "python",
   "nbconvert_exporter": "python",
   "pygments_lexer": "ipython3",
   "version": "3.10.6"
  },
  "vscode": {
   "interpreter": {
    "hash": "beedbe2faf2f7048d727558d0bc3221e7eba2a0b921cac4d4771b2feb8f74b30"
   }
  }
 },
 "nbformat": 4,
 "nbformat_minor": 2
}
