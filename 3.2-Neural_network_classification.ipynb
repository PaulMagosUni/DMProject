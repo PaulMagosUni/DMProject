{
 "cells": [
  {
   "cell_type": "code",
   "execution_count": 2,
   "metadata": {},
   "outputs": [],
   "source": [
    "import pandas as pd\n",
    "import tensorflow as tf\n",
    "import classification_utils\n",
    "import numpy as np\n",
    "import os\n",
    "import pickle\n"
   ]
  },
  {
   "cell_type": "code",
   "execution_count": 3,
   "metadata": {},
   "outputs": [],
   "source": [
    "df = pd.read_csv(\"./dataset/users_df_dataset_cleaned_with_indicators.csv\")"
   ]
  },
  {
   "cell_type": "markdown",
   "metadata": {},
   "source": [
    "We are going to use only the numerical attributes, except for the bot column that is the target one"
   ]
  },
  {
   "cell_type": "code",
   "execution_count": 4,
   "metadata": {},
   "outputs": [],
   "source": [
    "df = df[[\n",
    "#    \"user_id\"  ,\n",
    "#    \"name\"  ,\n",
    "#    \"lang\"  ,\n",
    "    \"bot\"  ,\n",
    "#    \"created_at\" ,\n",
    "    \"statuses_count\" ,\n",
    "    \"account_age_in_days\" ,\n",
    "    \"number_of_tweets\" ,\n",
    "    \"account_average_tweets_per_day\" ,\n",
    "    \"avg_tweets_per_actual_day\" ,\n",
    "#    \"day_with_most_tweets\" ,\n",
    "    \"max_number_of_tweets_in_a_day\",\n",
    "    \"entropy_for_day\",\n",
    "    \"entropy_for_hour\",\n",
    "    \"entropy_for_minute\",\n",
    "    \"avg_hashtags\",\n",
    "    \"avg_text_length\",\n",
    "    \"avg_mentions\",\n",
    "    \"avg_special_char_in_text\",\n",
    "    \"total_likes\",\n",
    "    \"avg_favorite_count\",\n",
    "    \"total_replies\",\n",
    "    \"avg_reply_count\",\n",
    "    \"total_retweet_count\",\n",
    "    \"account_discussion_creation_ratio\",\n",
    "    \"tweet_num_likes_ratio\",\n",
    "    \"tweet_num_replies_ratio\",\n",
    "    \"entropy_original_text\",\n",
    "    \"entropy_text\",\n",
    "    \"mean_inactive_period_length_in_seconds\",\n",
    "    \"median_inactive_period_length_in_seconds\",\n",
    "    \"mode_inactive_period_length_in_seconds\",\n",
    "    \"mode_count\"\n",
    "]]"
   ]
  },
  {
   "cell_type": "markdown",
   "metadata": {},
   "source": [
    "In the next 3 lines we shuffle the data in order to avoid biases if for example all the bot are in the bottom part and they will be part only of the test set, then we split the bot column from the other ones and convert them to a tensor "
   ]
  },
  {
   "cell_type": "code",
   "execution_count": 5,
   "metadata": {},
   "outputs": [],
   "source": [
    "from sklearn.preprocessing import minmax_scale\n",
    "\n",
    "df = df.sample(frac=1, random_state=1)\n",
    "target_array = df.pop(\"bot\").values\n",
    "feature_matrix = df.values"
   ]
  },
  {
   "cell_type": "code",
   "execution_count": 6,
   "metadata": {},
   "outputs": [
    {
     "data": {
      "text/html": [
       "<div>\n",
       "<style scoped>\n",
       "    .dataframe tbody tr th:only-of-type {\n",
       "        vertical-align: middle;\n",
       "    }\n",
       "\n",
       "    .dataframe tbody tr th {\n",
       "        vertical-align: top;\n",
       "    }\n",
       "\n",
       "    .dataframe thead th {\n",
       "        text-align: right;\n",
       "    }\n",
       "</style>\n",
       "<table border=\"1\" class=\"dataframe\">\n",
       "  <thead>\n",
       "    <tr style=\"text-align: right;\">\n",
       "      <th></th>\n",
       "      <th>statuses_count</th>\n",
       "      <th>account_age_in_days</th>\n",
       "      <th>number_of_tweets</th>\n",
       "      <th>account_average_tweets_per_day</th>\n",
       "      <th>avg_tweets_per_actual_day</th>\n",
       "      <th>max_number_of_tweets_in_a_day</th>\n",
       "      <th>entropy_for_day</th>\n",
       "      <th>entropy_for_hour</th>\n",
       "      <th>entropy_for_minute</th>\n",
       "      <th>avg_hashtags</th>\n",
       "      <th>...</th>\n",
       "      <th>total_retweet_count</th>\n",
       "      <th>account_discussion_creation_ratio</th>\n",
       "      <th>tweet_num_likes_ratio</th>\n",
       "      <th>tweet_num_replies_ratio</th>\n",
       "      <th>entropy_original_text</th>\n",
       "      <th>entropy_text</th>\n",
       "      <th>mean_inactive_period_length_in_seconds</th>\n",
       "      <th>median_inactive_period_length_in_seconds</th>\n",
       "      <th>mode_inactive_period_length_in_seconds</th>\n",
       "      <th>mode_count</th>\n",
       "    </tr>\n",
       "  </thead>\n",
       "  <tbody>\n",
       "    <tr>\n",
       "      <th>2987</th>\n",
       "      <td>68</td>\n",
       "      <td>2163</td>\n",
       "      <td>2074</td>\n",
       "      <td>0.031438</td>\n",
       "      <td>10.690722</td>\n",
       "      <td>43</td>\n",
       "      <td>4.577648</td>\n",
       "      <td>2.202349</td>\n",
       "      <td>0.822681</td>\n",
       "      <td>0.248795</td>\n",
       "      <td>...</td>\n",
       "      <td>1334112</td>\n",
       "      <td>0.001555</td>\n",
       "      <td>3.405583</td>\n",
       "      <td>0.0</td>\n",
       "      <td>10.853126</td>\n",
       "      <td>2.747561e-07</td>\n",
       "      <td>53500.641273</td>\n",
       "      <td>845.5</td>\n",
       "      <td>0.0</td>\n",
       "      <td>153</td>\n",
       "    </tr>\n",
       "    <tr>\n",
       "      <th>7999</th>\n",
       "      <td>68</td>\n",
       "      <td>1005</td>\n",
       "      <td>3457</td>\n",
       "      <td>0.067662</td>\n",
       "      <td>86.425000</td>\n",
       "      <td>224</td>\n",
       "      <td>5.103056</td>\n",
       "      <td>4.158180</td>\n",
       "      <td>1.425546</td>\n",
       "      <td>0.014753</td>\n",
       "      <td>...</td>\n",
       "      <td>377448</td>\n",
       "      <td>0.009159</td>\n",
       "      <td>1.328593</td>\n",
       "      <td>0.0</td>\n",
       "      <td>11.556204</td>\n",
       "      <td>2.491898e-07</td>\n",
       "      <td>3151.758461</td>\n",
       "      <td>56.0</td>\n",
       "      <td>0.0</td>\n",
       "      <td>282</td>\n",
       "    </tr>\n",
       "    <tr>\n",
       "      <th>8447</th>\n",
       "      <td>1785</td>\n",
       "      <td>2521</td>\n",
       "      <td>1238</td>\n",
       "      <td>0.708052</td>\n",
       "      <td>3.134177</td>\n",
       "      <td>21</td>\n",
       "      <td>2.742274</td>\n",
       "      <td>1.435677</td>\n",
       "      <td>0.466968</td>\n",
       "      <td>0.371567</td>\n",
       "      <td>...</td>\n",
       "      <td>133842</td>\n",
       "      <td>0.009250</td>\n",
       "      <td>77.375000</td>\n",
       "      <td>0.0</td>\n",
       "      <td>10.126784</td>\n",
       "      <td>2.269985e-07</td>\n",
       "      <td>114544.543619</td>\n",
       "      <td>5181.0</td>\n",
       "      <td>0.0</td>\n",
       "      <td>91</td>\n",
       "    </tr>\n",
       "    <tr>\n",
       "      <th>7109</th>\n",
       "      <td>68</td>\n",
       "      <td>3078</td>\n",
       "      <td>2254</td>\n",
       "      <td>0.022092</td>\n",
       "      <td>7.772414</td>\n",
       "      <td>59</td>\n",
       "      <td>4.183229</td>\n",
       "      <td>2.123818</td>\n",
       "      <td>0.763846</td>\n",
       "      <td>0.526619</td>\n",
       "      <td>...</td>\n",
       "      <td>167190</td>\n",
       "      <td>0.013482</td>\n",
       "      <td>2.782716</td>\n",
       "      <td>0.0</td>\n",
       "      <td>10.998077</td>\n",
       "      <td>2.118565e-07</td>\n",
       "      <td>84270.544809</td>\n",
       "      <td>919.5</td>\n",
       "      <td>0.0</td>\n",
       "      <td>171</td>\n",
       "    </tr>\n",
       "    <tr>\n",
       "      <th>2519</th>\n",
       "      <td>68</td>\n",
       "      <td>2017</td>\n",
       "      <td>3010</td>\n",
       "      <td>0.033713</td>\n",
       "      <td>25.083333</td>\n",
       "      <td>86</td>\n",
       "      <td>5.359900</td>\n",
       "      <td>3.144455</td>\n",
       "      <td>0.907828</td>\n",
       "      <td>0.018272</td>\n",
       "      <td>...</td>\n",
       "      <td>553115</td>\n",
       "      <td>0.005442</td>\n",
       "      <td>1.718037</td>\n",
       "      <td>0.0</td>\n",
       "      <td>11.390271</td>\n",
       "      <td>3.563860e-07</td>\n",
       "      <td>32652.958472</td>\n",
       "      <td>197.0</td>\n",
       "      <td>0.0</td>\n",
       "      <td>227</td>\n",
       "    </tr>\n",
       "  </tbody>\n",
       "</table>\n",
       "<p>5 rows × 27 columns</p>\n",
       "</div>"
      ],
      "text/plain": [
       "      statuses_count  account_age_in_days  number_of_tweets  \\\n",
       "2987              68                 2163              2074   \n",
       "7999              68                 1005              3457   \n",
       "8447            1785                 2521              1238   \n",
       "7109              68                 3078              2254   \n",
       "2519              68                 2017              3010   \n",
       "\n",
       "      account_average_tweets_per_day  avg_tweets_per_actual_day  \\\n",
       "2987                        0.031438                  10.690722   \n",
       "7999                        0.067662                  86.425000   \n",
       "8447                        0.708052                   3.134177   \n",
       "7109                        0.022092                   7.772414   \n",
       "2519                        0.033713                  25.083333   \n",
       "\n",
       "      max_number_of_tweets_in_a_day  entropy_for_day  entropy_for_hour  \\\n",
       "2987                             43         4.577648          2.202349   \n",
       "7999                            224         5.103056          4.158180   \n",
       "8447                             21         2.742274          1.435677   \n",
       "7109                             59         4.183229          2.123818   \n",
       "2519                             86         5.359900          3.144455   \n",
       "\n",
       "      entropy_for_minute  avg_hashtags  ...  total_retweet_count  \\\n",
       "2987            0.822681      0.248795  ...              1334112   \n",
       "7999            1.425546      0.014753  ...               377448   \n",
       "8447            0.466968      0.371567  ...               133842   \n",
       "7109            0.763846      0.526619  ...               167190   \n",
       "2519            0.907828      0.018272  ...               553115   \n",
       "\n",
       "      account_discussion_creation_ratio  tweet_num_likes_ratio  \\\n",
       "2987                           0.001555               3.405583   \n",
       "7999                           0.009159               1.328593   \n",
       "8447                           0.009250              77.375000   \n",
       "7109                           0.013482               2.782716   \n",
       "2519                           0.005442               1.718037   \n",
       "\n",
       "      tweet_num_replies_ratio  entropy_original_text  entropy_text  \\\n",
       "2987                      0.0              10.853126  2.747561e-07   \n",
       "7999                      0.0              11.556204  2.491898e-07   \n",
       "8447                      0.0              10.126784  2.269985e-07   \n",
       "7109                      0.0              10.998077  2.118565e-07   \n",
       "2519                      0.0              11.390271  3.563860e-07   \n",
       "\n",
       "      mean_inactive_period_length_in_seconds  \\\n",
       "2987                            53500.641273   \n",
       "7999                             3151.758461   \n",
       "8447                           114544.543619   \n",
       "7109                            84270.544809   \n",
       "2519                            32652.958472   \n",
       "\n",
       "      median_inactive_period_length_in_seconds  \\\n",
       "2987                                     845.5   \n",
       "7999                                      56.0   \n",
       "8447                                    5181.0   \n",
       "7109                                     919.5   \n",
       "2519                                     197.0   \n",
       "\n",
       "      mode_inactive_period_length_in_seconds  mode_count  \n",
       "2987                                     0.0         153  \n",
       "7999                                     0.0         282  \n",
       "8447                                     0.0          91  \n",
       "7109                                     0.0         171  \n",
       "2519                                     0.0         227  \n",
       "\n",
       "[5 rows x 27 columns]"
      ]
     },
     "execution_count": 6,
     "metadata": {},
     "output_type": "execute_result"
    }
   ],
   "source": [
    "df.head()"
   ]
  },
  {
   "cell_type": "markdown",
   "metadata": {},
   "source": [
    "We split the data in training, validation and test.\n",
    "The training data are the only ones used to fit the neural network, the expactation is that the classification error on this set will only decrease durning the training.\n",
    "\n",
    "The validation data are used to itaratively evaluate the network and select the best architecture, if the classification error on the validation set increases, it means that the network is in overfit.\n",
    "\n",
    "The test set is used only after the choise of the final model and is used to have an idea of the error of the network on completely new data"
   ]
  },
  {
   "cell_type": "code",
   "execution_count": 7,
   "metadata": {},
   "outputs": [],
   "source": [
    "tr_size = 0.7\n",
    "vl_size = 0.2\n",
    "ts_size = 0.1\n",
    "\n",
    "tr_index = round(len(feature_matrix) * tr_size)\n",
    "vl_index = tr_index + round(len(feature_matrix) * vl_size)\n",
    "ts_index = vl_index + round(len(feature_matrix) * ts_size)\n",
    "\n",
    "feature_matrix_tr = feature_matrix[0:tr_index]\n",
    "target_array_tr = target_array[0:tr_index]\n",
    "\n",
    "feature_matrix_vl = feature_matrix[tr_index:vl_index]\n",
    "target_array_vl = target_array[tr_index:vl_index]\n",
    "\n",
    "feature_matrix_ts = feature_matrix[vl_index:ts_index]\n",
    "target_array_ts = target_array[vl_index:ts_index]\n",
    "\n",
    "feature_matrix_tr = minmax_scale(feature_matrix_tr)\n",
    "feature_matrix_vl = minmax_scale(feature_matrix_vl)\n",
    "feature_matrix_ts = minmax_scale(feature_matrix_ts)"
   ]
  },
  {
   "cell_type": "code",
   "execution_count": 8,
   "metadata": {},
   "outputs": [
    {
     "data": {
      "text/plain": [
       "(7776, 27)"
      ]
     },
     "execution_count": 8,
     "metadata": {},
     "output_type": "execute_result"
    }
   ],
   "source": [
    "feature_matrix_tr.shape"
   ]
  },
  {
   "cell_type": "markdown",
   "metadata": {},
   "source": [
    "The choose of the neural network architecture is guided by the theory: since we already have processed features (and not row data), and there is no sign of a hierarchy of features to exploit with the inductive bias of a deep neural network (as for the image classification), we expect to adopt a shallow model, with only few hiddel layers.\n",
    "\n",
    "\n",
    "https://www.deeplearningbook.org/\n",
    "\n",
    "https://www.nature.com/articles/nature14539\n",
    "\n",
    "We set up a very huge grid search in order to find the best hyperparameters for our model, then we explore this grid with a random search of 200 attemps, each one repeted two times in order to decrease the variance.\n",
    "\n",
    "We want to remember that the attributes are already scaled in order to don't focus the network's efforts on just one attribute."
   ]
  },
  {
   "cell_type": "code",
   "execution_count": 14,
   "metadata": {},
   "outputs": [
    {
     "name": "stdout",
     "output_type": "stream",
     "text": [
      "Trial 100 Complete [00h 01m 14s]\n",
      "val_accuracy: 0.8400090038776398\n",
      "\n",
      "Best val_accuracy So Far: 0.8431593179702759\n",
      "Total elapsed time: 01h 37m 32s\n",
      "INFO:tensorflow:Oracle triggered exit\n",
      "WARNING:tensorflow:Detecting that an object or model or tf.train.Checkpoint is being deleted with unrestored values. See the following logs for the specific values in question. To silence these warnings, use `status.expect_partial()`. See https://www.tensorflow.org/api_docs/python/tf/train/Checkpoint#restorefor details about the status object returned by the restore function.\n",
      "WARNING:tensorflow:Value in checkpoint could not be found in the restored object: (root).layer_with_weights-0.kernel\n",
      "WARNING:tensorflow:Value in checkpoint could not be found in the restored object: (root).layer_with_weights-0.bias\n",
      "WARNING:tensorflow:Value in checkpoint could not be found in the restored object: (root).layer_with_weights-1.kernel\n",
      "WARNING:tensorflow:Value in checkpoint could not be found in the restored object: (root).layer_with_weights-1.bias\n",
      "WARNING:tensorflow:Value in checkpoint could not be found in the restored object: (root).layer_with_weights-2.kernel\n",
      "WARNING:tensorflow:Value in checkpoint could not be found in the restored object: (root).layer_with_weights-2.bias\n",
      "WARNING:tensorflow:Value in checkpoint could not be found in the restored object: (root).layer_with_weights-3.kernel\n",
      "WARNING:tensorflow:Value in checkpoint could not be found in the restored object: (root).layer_with_weights-3.bias\n",
      "WARNING:tensorflow:Value in checkpoint could not be found in the restored object: (root).layer_with_weights-4.kernel\n",
      "WARNING:tensorflow:Value in checkpoint could not be found in the restored object: (root).layer_with_weights-4.bias\n",
      "WARNING:tensorflow:Value in checkpoint could not be found in the restored object: (root).optimizer._variables.1\n",
      "WARNING:tensorflow:Value in checkpoint could not be found in the restored object: (root).optimizer._variables.2\n",
      "WARNING:tensorflow:Value in checkpoint could not be found in the restored object: (root).optimizer._variables.3\n",
      "WARNING:tensorflow:Value in checkpoint could not be found in the restored object: (root).optimizer._variables.4\n",
      "WARNING:tensorflow:Value in checkpoint could not be found in the restored object: (root).optimizer._variables.5\n",
      "WARNING:tensorflow:Value in checkpoint could not be found in the restored object: (root).optimizer._variables.6\n",
      "WARNING:tensorflow:Value in checkpoint could not be found in the restored object: (root).optimizer._variables.7\n",
      "WARNING:tensorflow:Value in checkpoint could not be found in the restored object: (root).optimizer._variables.8\n",
      "WARNING:tensorflow:Value in checkpoint could not be found in the restored object: (root).optimizer._variables.9\n",
      "WARNING:tensorflow:Value in checkpoint could not be found in the restored object: (root).optimizer._variables.10\n"
     ]
    }
   ],
   "source": [
    "import keras_tuner\n",
    "\n",
    "class my_HyperModel(keras_tuner.HyperModel):\n",
    "    def build(self, hp):\n",
    "        model = tf.keras.Sequential()\n",
    "        for i in range(1, hp.Choice(\"num_layers\", [3, 4, 5]) + 1):\n",
    "            model.add(tf.keras.layers.Dense(\n",
    "                hp.Choice(f\"units_layer_{i}\", [128, 256]),\n",
    "                activation='relu'))\n",
    "       \n",
    "        model.add(tf.keras.layers.Dense(1, activation='sigmoid'))\n",
    "        \n",
    "        model.compile(\n",
    "            optimizer=tf.keras.optimizers.SGD(\n",
    "                learning_rate = hp.Choice('learning_rate', [0.1, 0.2, 0.25]),\n",
    "                momentum=0.0,\n",
    "                nesterov=False,\n",
    "                weight_decay=hp.Choice('weight_decay', [1e-5, 1e-4, 1e-3]),\n",
    "                clipnorm=None,\n",
    "                clipvalue=None,\n",
    "                global_clipnorm=None,\n",
    "                use_ema=False,\n",
    "                ema_momentum=0.99,\n",
    "                ema_overwrite_frequency=None,\n",
    "                jit_compile=True,\n",
    "                name=\"SGD\"\n",
    "            ), \n",
    "            loss=\"binary_crossentropy\", \n",
    "            metrics=[\"accuracy\"]\n",
    "            )\n",
    "        return model\n",
    "\n",
    "\n",
    "    def fit(self, hp, model, *args, **kwargs):\n",
    "        return model.fit(\n",
    "            *args,\n",
    "            **kwargs,\n",
    "            shuffle=True,\n",
    "            epochs=hp.Choice(\"epochs\",  [400]),\n",
    "            batch_size=hp.Choice(\"batch_size\",  [1024, 2048]),\n",
    "            verbose=0,\n",
    "            workers=8,\n",
    "            use_multiprocessing=True\n",
    "            )\n",
    "        \n",
    "tuner = keras_tuner.RandomSearch(\n",
    "    hypermodel=my_HyperModel(),\n",
    "    objective=\"val_accuracy\",\n",
    "    max_trials=100,\n",
    "    executions_per_trial=2,\n",
    "    overwrite=True,\n",
    "    directory=\"./models/keras_tuner\",\n",
    "    project_name=\"nn_classification\",\n",
    ")\n",
    "\n",
    "tuner.search(feature_matrix_tr , target_array_tr, validation_data=(feature_matrix_vl, target_array_vl))\n",
    "model = tuner.get_best_models()[0]"
   ]
  },
  {
   "cell_type": "code",
   "execution_count": 15,
   "metadata": {},
   "outputs": [
    {
     "data": {
      "text/plain": [
       "{'num_layers': 3,\n",
       " 'units_layer_1': 128,\n",
       " 'units_layer_2': 128,\n",
       " 'units_layer_3': 128,\n",
       " 'learning_rate': 0.2,\n",
       " 'weight_decay': 1e-05,\n",
       " 'units_layer_4': 256,\n",
       " 'units_layer_5': 128,\n",
       " 'epochs': 400,\n",
       " 'batch_size': 1024}"
      ]
     },
     "execution_count": 15,
     "metadata": {},
     "output_type": "execute_result"
    }
   ],
   "source": [
    "tuner.get_best_hyperparameters()[0].values"
   ]
  },
  {
   "cell_type": "code",
   "execution_count": 16,
   "metadata": {},
   "outputs": [
    {
     "name": "stdout",
     "output_type": "stream",
     "text": [
      "243/243 [==============================] - 0s 801us/step\n",
      "Accuracy train set  0.8474794238683128\n",
      "70/70 [==============================] - 0s 810us/step\n",
      "Accuracy validation set  0.8438343834383438\n"
     ]
    }
   ],
   "source": [
    "from sklearn import metrics\n",
    "print('Accuracy train set ', metrics.accuracy_score(target_array_tr, model.predict(feature_matrix_tr) >= 0.5 ))\n",
    "print('Accuracy validation set ', metrics.accuracy_score(target_array_vl, model.predict(feature_matrix_vl) >= 0.5 ))"
   ]
  },
  {
   "cell_type": "markdown",
   "metadata": {},
   "source": [
    "As you can see, we are able to achive a really good accuracy (near 85%), without overfitting "
   ]
  },
  {
   "cell_type": "markdown",
   "metadata": {},
   "source": [
    "As a counter example,in the following picture we want to demostrate that a larger nework is able to achive 100% accuracy, but then the generalization capabilities are really low because of overfitting, infact the classification error on the validation begin to increase.\n",
    "\n",
    "We moved the code on anothe file for clarity. The network has 5 hiddel layers with 512 neurons for each layer"
   ]
  },
  {
   "cell_type": "code",
   "execution_count": 17,
   "metadata": {},
   "outputs": [
    {
     "name": "stderr",
     "output_type": "stream",
     "text": [
      "/home/matteo/.local/lib/python3.10/site-packages/keras/backend.py:5676: UserWarning: \"`binary_crossentropy` received `from_logits=True`, but the `output` argument was produced by a Sigmoid activation and thus does not represent logits. Was this intended?\n",
      "  output, from_logits = _get_logits(\n"
     ]
    },
    {
     "data": {
      "image/png": "[encoded data removed]",
      "text/plain": [
       "<Figure size 640x480 with 1 Axes>"
      ]
     },
     "metadata": {},
     "output_type": "display_data"
    }
   ],
   "source": [
    "classification_utils.large_model_example(\n",
    "    feature_matrix_tr,\n",
    "    target_array_tr,\n",
    "    feature_matrix_vl,\n",
    "    target_array_vl\n",
    "    )"
   ]
  },
  {
   "cell_type": "markdown",
   "metadata": {},
   "source": [
    "Finally we evaluate the model on completely unseen data, this is like to predict if a new user is a bot or not, i.e. the final objective of the task"
   ]
  },
  {
   "cell_type": "code",
   "execution_count": 18,
   "metadata": {},
   "outputs": [
    {
     "name": "stdout",
     "output_type": "stream",
     "text": [
      "35/35 [==============================] - 0s 952us/step\n"
     ]
    },
    {
     "data": {
      "text/plain": [
       "<sklearn.metrics._plot.confusion_matrix.ConfusionMatrixDisplay at 0x7f641b9db8e0>"
      ]
     },
     "execution_count": 18,
     "metadata": {},
     "output_type": "execute_result"
    },
    {
     "data": {
      "image/png": "[encoded data removed]",
      "text/plain": [
       "<Figure size 640x480 with 2 Axes>"
      ]
     },
     "metadata": {},
     "output_type": "display_data"
    }
   ],
   "source": [
    "test_predict = (model.predict(feature_matrix_ts) > 0.5).astype(\"bool\")\n",
    "\n",
    "from sklearn.metrics import confusion_matrix, ConfusionMatrixDisplay\n",
    "cm = confusion_matrix(target_array_ts, test_predict)\n",
    "disp = ConfusionMatrixDisplay(cm)\n",
    "disp.plot()"
   ]
  },
  {
   "cell_type": "markdown",
   "metadata": {},
   "source": [
    "The model seems very good at indentify true bots, while has a little bias to classify real users as boot too (false positive). \n",
    "\n",
    "The dataset is only slightly unbalanced (5000 humans, 6000 bots), so we think that this little bias is an intrinsic difficulty of the task and it is impossible to correct the model without taking it to store the data, and thus not being able to generalize. \n",
    "\n",
    "This hypothesis is also supported by the fact that other classification models achieve the same result at most."
   ]
  },
  {
   "cell_type": "code",
   "execution_count": 19,
   "metadata": {},
   "outputs": [
    {
     "name": "stdout",
     "output_type": "stream",
     "text": [
      "Accuracy test set  0.8217821782178217\n",
      "Precision test set  0.7682291666666666\n",
      "Recall test set  0.9672131147540983\n",
      "F1 score test set  0.8563134978229318\n"
     ]
    }
   ],
   "source": [
    "from sklearn import metrics\n",
    "print('Accuracy test set ', metrics.accuracy_score(target_array_ts, test_predict))\n",
    "print('Precision test set ', metrics.precision_score(target_array_ts, test_predict))\n",
    "print('Recall test set ', metrics.recall_score(target_array_ts, test_predict))\n",
    "print('F1 score test set ', metrics.f1_score(target_array_ts, test_predict))"
   ]
  },
  {
   "cell_type": "markdown",
   "metadata": {},
   "source": [
    "## Exporting model"
   ]
  },
  {
   "cell_type": "code",
   "execution_count": 20,
   "metadata": {},
   "outputs": [
    {
     "name": "stderr",
     "output_type": "stream",
     "text": [
      "WARNING:absl:Found untraced functions such as _update_step_xla while saving (showing 1 of 1). These functions will not be directly callable after loading.\n"
     ]
    },
    {
     "name": "stdout",
     "output_type": "stream",
     "text": [
      "INFO:tensorflow:Assets written to: models/nn_model/assets\n"
     ]
    },
    {
     "name": "stderr",
     "output_type": "stream",
     "text": [
      "INFO:tensorflow:Assets written to: models/nn_model/assets\n"
     ]
    }
   ],
   "source": [
    "saved_filepath = \"models/nn_model\"\n",
    "model.save(saved_filepath)"
   ]
  }
 ],
 "metadata": {
  "kernelspec": {
   "display_name": "Python 3 (ipykernel)",
   "language": "python",
   "name": "python3"
  },
  "language_info": {
   "codemirror_mode": {
    "name": "ipython",
    "version": 3
   },
   "file_extension": ".py",
   "mimetype": "text/x-python",
   "name": "python",
   "nbconvert_exporter": "python",
   "pygments_lexer": "ipython3",
   "version": "3.10.6"
  },
  "vscode": {
   "interpreter": {
    "hash": "916dbcbb3f70747c44a77c7bcd40155683ae19c65e1c03b4aa3499c5328201f1"
   }
  }
 },
 "nbformat": 4,
 "nbformat_minor": 4
}
