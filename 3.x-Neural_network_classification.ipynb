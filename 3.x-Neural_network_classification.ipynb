{
 "cells": [
  {
   "cell_type": "code",
   "execution_count": 1,
   "metadata": {},
   "outputs": [
    {
     "name": "stderr",
     "output_type": "stream",
     "text": [
      "2022-11-22 23:44:44.525176: I tensorflow/core/platform/cpu_feature_guard.cc:193] This TensorFlow binary is optimized with oneAPI Deep Neural Network Library (oneDNN) to use the following CPU instructions in performance-critical operations:  AVX2 FMA\n",
      "To enable them in other operations, rebuild TensorFlow with the appropriate compiler flags.\n",
      "2022-11-22 23:44:44.627185: W tensorflow/compiler/xla/stream_executor/platform/default/dso_loader.cc:64] Could not load dynamic library 'libcudart.so.11.0'; dlerror: libcudart.so.11.0: cannot open shared object file: No such file or directory\n",
      "2022-11-22 23:44:44.627200: I tensorflow/compiler/xla/stream_executor/cuda/cudart_stub.cc:29] Ignore above cudart dlerror if you do not have a GPU set up on your machine.\n",
      "2022-11-22 23:44:45.178357: W tensorflow/compiler/xla/stream_executor/platform/default/dso_loader.cc:64] Could not load dynamic library 'libnvinfer.so.7'; dlerror: libnvinfer.so.7: cannot open shared object file: No such file or directory\n",
      "2022-11-22 23:44:45.178417: W tensorflow/compiler/xla/stream_executor/platform/default/dso_loader.cc:64] Could not load dynamic library 'libnvinfer_plugin.so.7'; dlerror: libnvinfer_plugin.so.7: cannot open shared object file: No such file or directory\n",
      "2022-11-22 23:44:45.178423: W tensorflow/compiler/tf2tensorrt/utils/py_utils.cc:38] TF-TRT Warning: Cannot dlopen some TensorRT libraries. If you would like to use Nvidia GPU with TensorRT, please make sure the missing libraries mentioned above are installed properly.\n"
     ]
    }
   ],
   "source": [
    "import pandas as pd\n",
    "import tensorflow as tf\n",
    "import classification_utils\n",
    "import numpy as np"
   ]
  },
  {
   "cell_type": "code",
   "execution_count": 2,
   "metadata": {},
   "outputs": [],
   "source": [
    "df = pd.read_csv(\"./dataset/users_df_dataset_cleaned_with_indicators.csv\")\n",
    "# TODO check if it is the latest dataset"
   ]
  },
  {
   "cell_type": "code",
   "execution_count": 3,
   "metadata": {},
   "outputs": [
    {
     "data": {
      "text/plain": [
       "['user_id',\n",
       " 'name',\n",
       " 'lang',\n",
       " 'bot',\n",
       " 'created_at',\n",
       " 'statuses_count',\n",
       " 'account_age_in_days',\n",
       " 'number_of_tweets',\n",
       " 'account_average_tweets_per_day',\n",
       " 'avg_tweets_per_actual_day',\n",
       " 'day_with_most_tweets',\n",
       " 'max_number_of_tweet_in_a_day',\n",
       " 'entropy_for_day',\n",
       " 'entropy_for_hour',\n",
       " 'entropy_for_minute',\n",
       " 'avg_hashtags',\n",
       " 'avg_text_length',\n",
       " 'avg_mentions',\n",
       " 'avg_special_char_in_text',\n",
       " 'total_likes',\n",
       " 'avt_favorite_count',\n",
       " 'total_replies',\n",
       " 'avt_reply_count',\n",
       " 'total_retweet_count',\n",
       " 'account_discussion_creation_ratio',\n",
       " 'tweet_num_likes_ratio',\n",
       " 'tweet_num_replies_ratio']"
      ]
     },
     "execution_count": 3,
     "metadata": {},
     "output_type": "execute_result"
    }
   ],
   "source": [
    "df.columns.values.tolist()"
   ]
  },
  {
   "cell_type": "code",
   "execution_count": 4,
   "metadata": {},
   "outputs": [],
   "source": [
    "to_drop = [\"user_id\", \"name\", \"created_at\", \"day_with_most_tweets\"]\n",
    "to_discretize = [\"lang\"]\n",
    "\n",
    "df.drop(to_drop, axis=1, inplace=True)\n",
    "df = classification_utils.discretize_data(df, to_discretize)\n",
    "df.drop(to_discretize, axis=1, inplace=True)\n",
    "# TODO after the dataset update check again"
   ]
  },
  {
   "cell_type": "code",
   "execution_count": 5,
   "metadata": {},
   "outputs": [
    {
     "data": {
      "text/html": [
       "<div>\n",
       "<style scoped>\n",
       "    .dataframe tbody tr th:only-of-type {\n",
       "        vertical-align: middle;\n",
       "    }\n",
       "\n",
       "    .dataframe tbody tr th {\n",
       "        vertical-align: top;\n",
       "    }\n",
       "\n",
       "    .dataframe thead th {\n",
       "        text-align: right;\n",
       "    }\n",
       "</style>\n",
       "<table border=\"1\" class=\"dataframe\">\n",
       "  <thead>\n",
       "    <tr style=\"text-align: right;\">\n",
       "      <th></th>\n",
       "      <th>bot</th>\n",
       "      <th>statuses_count</th>\n",
       "      <th>account_age_in_days</th>\n",
       "      <th>number_of_tweets</th>\n",
       "      <th>account_average_tweets_per_day</th>\n",
       "      <th>avg_tweets_per_actual_day</th>\n",
       "      <th>max_number_of_tweet_in_a_day</th>\n",
       "      <th>entropy_for_day</th>\n",
       "      <th>entropy_for_hour</th>\n",
       "      <th>entropy_for_minute</th>\n",
       "      <th>...</th>\n",
       "      <th>avg_special_char_in_text</th>\n",
       "      <th>total_likes</th>\n",
       "      <th>avt_favorite_count</th>\n",
       "      <th>total_replies</th>\n",
       "      <th>avt_reply_count</th>\n",
       "      <th>total_retweet_count</th>\n",
       "      <th>account_discussion_creation_ratio</th>\n",
       "      <th>tweet_num_likes_ratio</th>\n",
       "      <th>tweet_num_replies_ratio</th>\n",
       "      <th>lang_num</th>\n",
       "    </tr>\n",
       "  </thead>\n",
       "  <tbody>\n",
       "    <tr>\n",
       "      <th>0</th>\n",
       "      <td>1</td>\n",
       "      <td>76</td>\n",
       "      <td>1314</td>\n",
       "      <td>126</td>\n",
       "      <td>0.057839</td>\n",
       "      <td>4.666667</td>\n",
       "      <td>18</td>\n",
       "      <td>2.903992</td>\n",
       "      <td>2.762944</td>\n",
       "      <td>1.867539</td>\n",
       "      <td>...</td>\n",
       "      <td>14.563492</td>\n",
       "      <td>5</td>\n",
       "      <td>0.039683</td>\n",
       "      <td>0</td>\n",
       "      <td>0.0</td>\n",
       "      <td>5</td>\n",
       "      <td>25.200000</td>\n",
       "      <td>25.200000</td>\n",
       "      <td>0.0</td>\n",
       "      <td>5</td>\n",
       "    </tr>\n",
       "    <tr>\n",
       "      <th>1</th>\n",
       "      <td>0</td>\n",
       "      <td>54</td>\n",
       "      <td>1311</td>\n",
       "      <td>116</td>\n",
       "      <td>0.041190</td>\n",
       "      <td>4.640000</td>\n",
       "      <td>17</td>\n",
       "      <td>2.942683</td>\n",
       "      <td>2.881816</td>\n",
       "      <td>1.909614</td>\n",
       "      <td>...</td>\n",
       "      <td>15.336207</td>\n",
       "      <td>6</td>\n",
       "      <td>0.051724</td>\n",
       "      <td>0</td>\n",
       "      <td>0.0</td>\n",
       "      <td>3</td>\n",
       "      <td>38.666667</td>\n",
       "      <td>19.333333</td>\n",
       "      <td>0.0</td>\n",
       "      <td>5</td>\n",
       "    </tr>\n",
       "    <tr>\n",
       "      <th>2</th>\n",
       "      <td>1</td>\n",
       "      <td>3</td>\n",
       "      <td>2709</td>\n",
       "      <td>4</td>\n",
       "      <td>0.001107</td>\n",
       "      <td>2.000000</td>\n",
       "      <td>3</td>\n",
       "      <td>1.000000</td>\n",
       "      <td>0.918296</td>\n",
       "      <td>0.918296</td>\n",
       "      <td>...</td>\n",
       "      <td>5.250000</td>\n",
       "      <td>0</td>\n",
       "      <td>0.000000</td>\n",
       "      <td>0</td>\n",
       "      <td>0.0</td>\n",
       "      <td>0</td>\n",
       "      <td>0.000000</td>\n",
       "      <td>0.000000</td>\n",
       "      <td>0.0</td>\n",
       "      <td>5</td>\n",
       "    </tr>\n",
       "    <tr>\n",
       "      <th>3</th>\n",
       "      <td>1</td>\n",
       "      <td>50</td>\n",
       "      <td>2080</td>\n",
       "      <td>1358</td>\n",
       "      <td>0.024038</td>\n",
       "      <td>8.035503</td>\n",
       "      <td>143</td>\n",
       "      <td>3.543607</td>\n",
       "      <td>1.320785</td>\n",
       "      <td>0.474758</td>\n",
       "      <td>...</td>\n",
       "      <td>19.241532</td>\n",
       "      <td>252</td>\n",
       "      <td>0.185567</td>\n",
       "      <td>0</td>\n",
       "      <td>0.0</td>\n",
       "      <td>1187</td>\n",
       "      <td>1.144061</td>\n",
       "      <td>5.388889</td>\n",
       "      <td>0.0</td>\n",
       "      <td>12</td>\n",
       "    </tr>\n",
       "    <tr>\n",
       "      <th>4</th>\n",
       "      <td>0</td>\n",
       "      <td>7085</td>\n",
       "      <td>1198</td>\n",
       "      <td>3434</td>\n",
       "      <td>5.914023</td>\n",
       "      <td>28.380165</td>\n",
       "      <td>50</td>\n",
       "      <td>4.253096</td>\n",
       "      <td>1.705484</td>\n",
       "      <td>0.510899</td>\n",
       "      <td>...</td>\n",
       "      <td>15.024461</td>\n",
       "      <td>213</td>\n",
       "      <td>0.062027</td>\n",
       "      <td>0</td>\n",
       "      <td>0.0</td>\n",
       "      <td>60</td>\n",
       "      <td>57.233333</td>\n",
       "      <td>16.122066</td>\n",
       "      <td>0.0</td>\n",
       "      <td>5</td>\n",
       "    </tr>\n",
       "  </tbody>\n",
       "</table>\n",
       "<p>5 rows × 23 columns</p>\n",
       "</div>"
      ],
      "text/plain": [
       "   bot  statuses_count  account_age_in_days  number_of_tweets  \\\n",
       "0    1              76                 1314               126   \n",
       "1    0              54                 1311               116   \n",
       "2    1               3                 2709                 4   \n",
       "3    1              50                 2080              1358   \n",
       "4    0            7085                 1198              3434   \n",
       "\n",
       "   account_average_tweets_per_day  avg_tweets_per_actual_day  \\\n",
       "0                        0.057839                   4.666667   \n",
       "1                        0.041190                   4.640000   \n",
       "2                        0.001107                   2.000000   \n",
       "3                        0.024038                   8.035503   \n",
       "4                        5.914023                  28.380165   \n",
       "\n",
       "   max_number_of_tweet_in_a_day  entropy_for_day  entropy_for_hour  \\\n",
       "0                            18         2.903992          2.762944   \n",
       "1                            17         2.942683          2.881816   \n",
       "2                             3         1.000000          0.918296   \n",
       "3                           143         3.543607          1.320785   \n",
       "4                            50         4.253096          1.705484   \n",
       "\n",
       "   entropy_for_minute  ...  avg_special_char_in_text  total_likes  \\\n",
       "0            1.867539  ...                 14.563492            5   \n",
       "1            1.909614  ...                 15.336207            6   \n",
       "2            0.918296  ...                  5.250000            0   \n",
       "3            0.474758  ...                 19.241532          252   \n",
       "4            0.510899  ...                 15.024461          213   \n",
       "\n",
       "   avt_favorite_count  total_replies  avt_reply_count  total_retweet_count  \\\n",
       "0            0.039683              0              0.0                    5   \n",
       "1            0.051724              0              0.0                    3   \n",
       "2            0.000000              0              0.0                    0   \n",
       "3            0.185567              0              0.0                 1187   \n",
       "4            0.062027              0              0.0                   60   \n",
       "\n",
       "   account_discussion_creation_ratio  tweet_num_likes_ratio  \\\n",
       "0                          25.200000              25.200000   \n",
       "1                          38.666667              19.333333   \n",
       "2                           0.000000               0.000000   \n",
       "3                           1.144061               5.388889   \n",
       "4                          57.233333              16.122066   \n",
       "\n",
       "   tweet_num_replies_ratio  lang_num  \n",
       "0                      0.0         5  \n",
       "1                      0.0         5  \n",
       "2                      0.0         5  \n",
       "3                      0.0        12  \n",
       "4                      0.0         5  \n",
       "\n",
       "[5 rows x 23 columns]"
      ]
     },
     "execution_count": 5,
     "metadata": {},
     "output_type": "execute_result"
    }
   ],
   "source": [
    "df.head()"
   ]
  },
  {
   "cell_type": "code",
   "execution_count": 6,
   "metadata": {},
   "outputs": [],
   "source": [
    "from sklearn.model_selection import train_test_split\n",
    "\n",
    "label = df.pop(\"bot\")\n",
    "\n",
    "train_ratio = 0.70\n",
    "validation_ratio = 0.20\n",
    "test_ratio = 0.10\n",
    "\n",
    "x_train, x_test, y_train, y_test = train_test_split(df, label, stratify=label, shuffle=True, test_size= 1 - train_ratio)\n",
    "x_val, x_test, y_val, y_test = train_test_split(x_train, y_train, shuffle=True, test_size=test_ratio/(test_ratio + validation_ratio) )\n",
    "\n",
    "\n"
   ]
  },
  {
   "cell_type": "code",
   "execution_count": 7,
   "metadata": {},
   "outputs": [],
   "source": [
    "x_train = np.asarray(x_train).astype(\"float32\")\n",
    "x_train = np.reshape(x_train, ( x_train.shape[0], 1, x_train.shape[1]))\n",
    "x_val = np.asarray(x_val).astype(\"float32\")\n",
    "x_val = np.reshape(x_val, ( x_val.shape[0], 1, x_val.shape[1]))\n",
    "x_test = np.asarray(x_test).astype(\"float32\")\n",
    "x_test = np.reshape(x_test, ( x_test.shape[0], 1, x_test.shape[1]))\n",
    "y_train = np.asarray(y_train).astype(\"float32\")\n",
    "y_train = np.reshape(y_train, (-1, 1))\n",
    "y_val = np.asarray(y_val).astype(\"float32\")\n",
    "y_val = np.reshape(y_val, (-1, 1))\n",
    "y_test = np.asarray(y_test).astype(\"float32\")\n",
    "y_test = np.reshape(y_test, (-1, 1))"
   ]
  },
  {
   "cell_type": "code",
   "execution_count": 8,
   "metadata": {},
   "outputs": [
    {
     "name": "stderr",
     "output_type": "stream",
     "text": [
      "2022-11-22 23:44:46.321287: E tensorflow/compiler/xla/stream_executor/cuda/cuda_driver.cc:267] failed call to cuInit: CUDA_ERROR_UNKNOWN: unknown error\n",
      "2022-11-22 23:44:46.321312: I tensorflow/compiler/xla/stream_executor/cuda/cuda_diagnostics.cc:169] retrieving CUDA diagnostic information for host: apc\n",
      "2022-11-22 23:44:46.321317: I tensorflow/compiler/xla/stream_executor/cuda/cuda_diagnostics.cc:176] hostname: apc\n",
      "2022-11-22 23:44:46.321414: I tensorflow/compiler/xla/stream_executor/cuda/cuda_diagnostics.cc:200] libcuda reported version is: 515.65.1\n",
      "2022-11-22 23:44:46.321433: I tensorflow/compiler/xla/stream_executor/cuda/cuda_diagnostics.cc:204] kernel reported version is: 515.65.1\n",
      "2022-11-22 23:44:46.321437: I tensorflow/compiler/xla/stream_executor/cuda/cuda_diagnostics.cc:310] kernel version seems to match DSO: 515.65.1\n",
      "2022-11-22 23:44:46.321719: I tensorflow/core/platform/cpu_feature_guard.cc:193] This TensorFlow binary is optimized with oneAPI Deep Neural Network Library (oneDNN) to use the following CPU instructions in performance-critical operations:  AVX2 FMA\n",
      "To enable them in other operations, rebuild TensorFlow with the appropriate compiler flags.\n"
     ]
    }
   ],
   "source": [
    "model = tf.keras.models.Sequential([\n",
    "  tf.keras.layers.Flatten(input_shape=(1, len(df.columns))),\n",
    "  tf.keras.layers.Dense(200, activation='sigmoid'),  \n",
    "  tf.keras.layers.Dense(200, activation='sigmoid'),\n",
    "  #tf.keras.layers.Dense(200, activation='sigmoid'),\n",
    "  #tf.keras.layers.Dense(200, activation='sigmoid'),\n",
    "  #tf.keras.layers.Dense(200, activation='sigmoid'),\n",
    "  tf.keras.layers.Dense(200, activation='sigmoid'),\n",
    "  tf.keras.layers.Dense(200, activation='sigmoid'),\n",
    "  tf.keras.layers.Dense(1, activation='sigmoid')\n",
    "])\n",
    "model.compile(optimizer='adamax',\n",
    "              loss='mean_squared_error',\n",
    "              metrics=['accuracy'])\n"
   ]
  },
  {
   "cell_type": "code",
   "execution_count": 9,
   "metadata": {},
   "outputs": [
    {
     "name": "stdout",
     "output_type": "stream",
     "text": [
      "Model: \"sequential\"\n",
      "_________________________________________________________________\n",
      " Layer (type)                Output Shape              Param #   \n",
      "=================================================================\n",
      " flatten (Flatten)           (None, 22)                0         \n",
      "                                                                 \n",
      " dense (Dense)               (None, 200)               4600      \n",
      "                                                                 \n",
      " dense_1 (Dense)             (None, 200)               40200     \n",
      "                                                                 \n",
      " dense_2 (Dense)             (None, 200)               40200     \n",
      "                                                                 \n",
      " dense_3 (Dense)             (None, 200)               40200     \n",
      "                                                                 \n",
      " dense_4 (Dense)             (None, 1)                 201       \n",
      "                                                                 \n",
      "=================================================================\n",
      "Total params: 125,401\n",
      "Trainable params: 125,401\n",
      "Non-trainable params: 0\n",
      "_________________________________________________________________\n"
     ]
    }
   ],
   "source": [
    "model.summary()"
   ]
  },
  {
   "cell_type": "code",
   "execution_count": 10,
   "metadata": {},
   "outputs": [],
   "source": [
    "history = model.fit(x_train, y_train,\n",
    "                    epochs=500,\n",
    "                    batch_size=100,\n",
    "                    verbose=0,\n",
    "                    validation_data=(x_val, y_val)\n",
    "                    )"
   ]
  },
  {
   "cell_type": "code",
   "execution_count": 11,
   "metadata": {},
   "outputs": [
    {
     "ename": "KeyError",
     "evalue": "'val_accuracy'",
     "output_type": "error",
     "traceback": [
      "\u001b[0;31m---------------------------------------------------------------------------\u001b[0m",
      "\u001b[0;31mKeyError\u001b[0m                                  Traceback (most recent call last)",
      "Cell \u001b[0;32mIn [11], line 3\u001b[0m\n\u001b[1;32m      1\u001b[0m \u001b[39mimport\u001b[39;00m \u001b[39mmatplotlib\u001b[39;00m\u001b[39m.\u001b[39;00m\u001b[39mpyplot\u001b[39;00m \u001b[39mas\u001b[39;00m \u001b[39mplt\u001b[39;00m\n\u001b[1;32m      2\u001b[0m acc \u001b[39m=\u001b[39m history\u001b[39m.\u001b[39mhistory[\u001b[39m'\u001b[39m\u001b[39maccuracy\u001b[39m\u001b[39m'\u001b[39m]\n\u001b[0;32m----> 3\u001b[0m val_acc \u001b[39m=\u001b[39m history\u001b[39m.\u001b[39;49mhistory[\u001b[39m'\u001b[39;49m\u001b[39mval_accuracy\u001b[39;49m\u001b[39m'\u001b[39;49m]\n\u001b[1;32m      4\u001b[0m loss \u001b[39m=\u001b[39m history\u001b[39m.\u001b[39mhistory[\u001b[39m'\u001b[39m\u001b[39mloss\u001b[39m\u001b[39m'\u001b[39m]\n\u001b[1;32m      5\u001b[0m val_loss \u001b[39m=\u001b[39m history\u001b[39m.\u001b[39mhistory[\u001b[39m'\u001b[39m\u001b[39mval_loss\u001b[39m\u001b[39m'\u001b[39m]\n",
      "\u001b[0;31mKeyError\u001b[0m: 'val_accuracy'"
     ]
    }
   ],
   "source": [
    "import matplotlib.pyplot as plt\n",
    "acc = history.history['accuracy']\n",
    "val_acc = history.history['val_accuracy']\n",
    "loss = history.history['loss']\n",
    "val_loss = history.history['val_loss']\n",
    "epochs = range(1, len(acc) + 1)\n",
    "plt.plot(epochs, acc, 'bo', label='Training Acc')\n",
    "plt.plot(epochs, val_acc, 'b', label='Validation Acc')\n",
    "plt.title('Training and validation Acc')\n",
    "plt.xlabel('Epochs')\n",
    "plt.ylabel('Acc')\n",
    "plt.legend()\n",
    "plt.show()"
   ]
  },
  {
   "cell_type": "code",
   "execution_count": 12,
   "metadata": {},
   "outputs": [
    {
     "name": "stdout",
     "output_type": "stream",
     "text": [
      "243/243 [==============================] - 0s 952us/step\n",
      "162/162 [==============================] - 0s 1ms/step\n",
      "Training set: 6615 correct over 7776 \n",
      "Accuracy in train: 0.8506944444444444\n",
      "Validation set: 4403 correct over 5184 \n",
      "Accuracy in validation: 0.8493441358024691\n"
     ]
    }
   ],
   "source": [
    "train_pred = (model.predict(x_train) > 0.5).astype(\"int32\")\n",
    "correct_train = 0\n",
    "for (pred, expected) in zip(train_pred, y_train):\n",
    "    if pred == expected:\n",
    "        correct_train +=1\n",
    "\n",
    "val_pred = (model.predict(x_val) > 0.5).astype(\"int32\")\n",
    "correct_val = 0\n",
    "for (pred, expected) in zip(val_pred, y_val):\n",
    "    if pred == expected:\n",
    "        correct_val +=1\n",
    "\n",
    "print(\"Training set:\", correct_train , \"correct over\", len(x_train), \"\\nAccuracy in train:\", correct_train/len(x_train))\n",
    "print(\"Validation set:\", correct_val , \"correct over\", len(x_val), \"\\nAccuracy in validation:\", correct_val/len(x_val))\n"
   ]
  },
  {
   "cell_type": "code",
   "execution_count": 13,
   "metadata": {},
   "outputs": [
    {
     "data": {
      "text/plain": [
       "<sklearn.metrics._plot.confusion_matrix.ConfusionMatrixDisplay at 0x7fee941402e0>"
      ]
     },
     "execution_count": 13,
     "metadata": {},
     "output_type": "execute_result"
    },
    {
     "data": {
      "image/png": "[encoded data removed]",
      "text/plain": [
       "<Figure size 640x480 with 2 Axes>"
      ]
     },
     "metadata": {},
     "output_type": "display_data"
    }
   ],
   "source": [
    "from sklearn.metrics import confusion_matrix, ConfusionMatrixDisplay\n",
    "cm = confusion_matrix(y_train, train_pred)\n",
    "disp = ConfusionMatrixDisplay(cm)\n",
    "disp.plot()"
   ]
  },
  {
   "cell_type": "code",
   "execution_count": null,
   "metadata": {},
   "outputs": [],
   "source": []
  }
 ],
 "metadata": {
  "kernelspec": {
   "display_name": "Python 3.10.6 64-bit",
   "language": "python",
   "name": "python3"
  },
  "language_info": {
   "codemirror_mode": {
    "name": "ipython",
    "version": 3
   },
   "file_extension": ".py",
   "mimetype": "text/x-python",
   "name": "python",
   "nbconvert_exporter": "python",
   "pygments_lexer": "ipython3",
   "version": "3.10.6"
  },
  "orig_nbformat": 4,
  "vscode": {
   "interpreter": {
    "hash": "916dbcbb3f70747c44a77c7bcd40155683ae19c65e1c03b4aa3499c5328201f1"
   }
  }
 },
 "nbformat": 4,
 "nbformat_minor": 2
}
