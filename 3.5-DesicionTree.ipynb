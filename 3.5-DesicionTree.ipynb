{
 "cells": [
  {
   "attachments": {},
   "cell_type": "markdown",
   "metadata": {},
   "source": [
    "# Desicion Tree with K-fold cross validation"
   ]
  },
  {
   "cell_type": "code",
   "execution_count": 1,
   "metadata": {},
   "outputs": [],
   "source": [
    "import pandas as pd\n",
    "import numpy as np\n",
    "import matplotlib.pyplot as plt\n",
    "import plotly.graph_objects as go\n",
    "import plotly.express as px\n",
    "from sklearn.tree import DecisionTreeClassifier\n",
    "from sklearn.model_selection import cross_validate\n",
    "from sklearn import metrics\n",
    "from sklearn.preprocessing import StandardScaler\n",
    "from dtreeviz.trees import dtreeviz\n",
    "from IPython.display import Image, display_svg, SVG"
   ]
  },
  {
   "attachments": {},
   "cell_type": "markdown",
   "metadata": {},
   "source": [
    "Defining functions that are used within the notebook."
   ]
  },
  {
   "cell_type": "code",
   "execution_count": 2,
   "metadata": {},
   "outputs": [],
   "source": [
    "# Feature importance and selection\n",
    "def plot_feature_importance(df_train, df_test, max_tree_depth, title='Feature importance'):\n",
    "    clf = DecisionTreeClassifier(max_depth=max_tree_depth)\n",
    "    X = df_train\n",
    "    y = df_test\n",
    "    clf = clf.fit(X, y)\n",
    "\n",
    "    feature_names = df_train.columns\n",
    "    feature_importance_df = pd.DataFrame(list(zip(clf.feature_importances_, feature_names)), columns=[\"feature_importance\", \"feature_name\"])\n",
    "    feature_importance_df = feature_importance_df.sort_values(by='feature_importance', ascending=False)\n",
    "    useless_features = list(feature_importance_df[feature_importance_df['feature_importance'] == 0]['feature_name'])\n",
    "    feature_importance_df = feature_importance_df[feature_importance_df['feature_importance'] != 0]\n",
    "\n",
    "    fig = px.bar(feature_importance_df, x=\"feature_name\", y=\"feature_importance\", log_y=True, title=title)\n",
    "    fig.show(width=900, height=500)\n",
    "    \n",
    "\n",
    "    print(\"The following features were dropped:\")\n",
    "    print(useless_features)\n",
    "    return useless_features\n",
    "\n",
    "# Plot Decision Tree\n",
    "def plot_tree(model, df, label, feature_names, class_names):\n",
    "   viz = dtreeviz(tree_model= model, x_data=df, y_data=label, target_name=\"target\", feature_names=feature_names, class_names=class_names, orientation='LR')\n",
    "   viz\n",
    "   #viz.view()\n",
    "\n",
    "# K-fold cross validation\n",
    "def cross_validation(model, _X, _Y, _cv):\n",
    "      '''Function to perform 10 Folds Cross-Validation\n",
    "       Parameters\n",
    "       ----------\n",
    "      model: Python Class, default=None\n",
    "              This is the machine learning algorithm to be used for training.\n",
    "      _X: array\n",
    "           This is the matrix of features.\n",
    "      _y: array\n",
    "           This is the target variable.\n",
    "      _cv: int, default=10\n",
    "          Determines the number of folds for cross-validation.\n",
    "       Returns\n",
    "       -------\n",
    "       The function returns a dictionary containing the metrics 'accuracy', 'precision',\n",
    "       'recall', 'f1' for both training set and validation set.\n",
    "      '''\n",
    "      _scoring = ['accuracy', 'precision', 'recall', 'f1']\n",
    "      results = cross_validate(estimator=model,\n",
    "                               X=_X,\n",
    "                               y=_Y,\n",
    "                               cv=_cv,\n",
    "                               scoring=_scoring,\n",
    "                               return_train_score=True)\n",
    "      \n",
    "      return {\"Training Accuracy scores\": results['train_accuracy'],\n",
    "              \"Mean Training Accuracy\": results['train_accuracy'].mean()*100,\n",
    "              \"Training Precision scores\": results['train_precision'],\n",
    "              \"Mean Training Precision\": results['train_precision'].mean(),\n",
    "              \"Training Recall scores\": results['train_recall'],\n",
    "              \"Mean Training Recall\": results['train_recall'].mean(),\n",
    "              \"Training F1 scores\": results['train_f1'],\n",
    "              \"Mean Training F1 Score\": results['train_f1'].mean(),\n",
    "              \"Validation Accuracy scores\": results['test_accuracy'],\n",
    "              \"Mean Validation Accuracy\": results['test_accuracy'].mean()*100,\n",
    "              \"Validation Precision scores\": results['test_precision'],\n",
    "              \"Mean Validation Precision\": results['test_precision'].mean(),\n",
    "              \"Validation Recall scores\": results['test_recall'],\n",
    "              \"Mean Validation Recall\": results['test_recall'].mean(),\n",
    "              \"Validation F1 scores\": results['test_f1'],\n",
    "              \"Mean Validation F1 Score\": results['test_f1'].mean()\n",
    "              }\n",
    "\n",
    "# Grouped Bar Chart for both training and validation data\n",
    "def plot_result(x_label, y_label, plot_title, train_data, val_data, cv):\n",
    "        '''Function to plot a grouped bar chart showing the training and validation\n",
    "          results of the ML model in each fold after applying K-fold cross-validation.\n",
    "         Parameters\n",
    "         ----------\n",
    "         x_label: str, \n",
    "            Name of the algorithm used for training e.g 'Decision Tree'\n",
    "          \n",
    "         y_label: str, \n",
    "            Name of metric being visualized e.g 'Accuracy'\n",
    "         plot_title: str, \n",
    "            This is the title of the plot e.g 'Accuracy Plot'\n",
    "         \n",
    "         train_result: list, array\n",
    "            This is the list containing either training precision, accuracy, or f1 score.\n",
    "        \n",
    "         val_result: list, array\n",
    "            This is the list containing either validation precision, accuracy, or f1 score.\n",
    "         Returns\n",
    "         -------\n",
    "         The function returns a Grouped Barchart showing the training and validation result\n",
    "         in each fold.\n",
    "        '''\n",
    "        \n",
    "        # Set size of plot\n",
    "        plt.figure(figsize=(12,6))\n",
    "        labels = [\"1st Fold\", \"2nd Fold\", \"3rd Fold\", \"4th Fold\", \"5th Fold\", \"6th Fold\", \"7th Fold\", \"8th Fold\", \"9th Fold\", \"10th Fold\"]\n",
    "        fold_labels = labels[0:cv]\n",
    "        #X_axis = np.arange(len(labels[0:cv-1]))\n",
    "        X_axis = np.arange(len(labels[0:cv]))\n",
    "        ax = plt.gca()\n",
    "        plt.ylim(0.40000, 1)\n",
    "        plt.bar(X_axis-0.2, train_data, 0.4, color='blue', label='Training')\n",
    "        plt.bar(X_axis+0.2, val_data, 0.4, color='red', label='Validation')\n",
    "        plt.title(plot_title, fontsize=30)\n",
    "        plt.xticks(X_axis, fold_labels)\n",
    "        plt.xlabel(x_label, fontsize=14)\n",
    "        plt.ylabel(y_label, fontsize=14)\n",
    "        plt.legend()\n",
    "        plt.grid(True)\n",
    "        plt.show()\n",
    "\n",
    "# putting it all together\n",
    "def fold_classify_and_plot1(df_train, df_test, max_tree_depth, cv, criterion,title='Feature importance'):\n",
    "    clf = DecisionTreeClassifier(max_depth=max_tree_depth, criterion= criterion)\n",
    "    X = df_train\n",
    "    y = df_test\n",
    "    clf = clf.fit(X, y)\n",
    "    classificationResults = cross_validation(model= clf, _X= X, _Y= y, _cv= cv)\n",
    "    print(classificationResults)\n",
    "\n",
    "    feature_names = df_train.columns\n",
    "    feature_importance_df = pd.DataFrame(list(zip(clf.feature_importances_, feature_names)), columns=[\"feature_importance\", \"feature_name\"])\n",
    "    feature_importance_df = feature_importance_df.sort_values(by='feature_importance', ascending=False)\n",
    "    useless_features = list(feature_importance_df[feature_importance_df['feature_importance'] == 0]['feature_name'])\n",
    "    feature_importance_df = feature_importance_df[feature_importance_df['feature_importance'] != 0]\n",
    "\n",
    "    fig = px.bar(feature_importance_df, x=\"feature_name\", y=\"feature_importance\", log_y=True, title=title)\n",
    "    fig.show(width=900, height=500)\n",
    "    \n",
    "\n",
    "\n",
    "    print(\"The following features were dropped:\")\n",
    "    print(useless_features)\n",
    "\n",
    "    plot_result(cv= cv, x_label= \"Decision Tree\", y_label= \"Accuracy\", plot_title= f\"Accuracy scores in {cv} Folds\", train_data= classificationResults[\"Training Accuracy scores\"], val_data= classificationResults[\"Validation Accuracy scores\"])\n",
    "    plot_result(cv= cv, x_label= \"Decision Tree\", y_label= \"Precision\", plot_title= f\"Precision scores in {cv} Folds\", train_data= classificationResults[\"Training Precision scores\"], val_data= classificationResults[\"Validation Precision scores\"])\n",
    "    plot_result(cv= cv, x_label= \"Decision Tree\", y_label= \"Recall\", plot_title= f\"Recall scores in {cv} Folds\", train_data= classificationResults[\"Training Recall scores\"], val_data= classificationResults[\"Validation Recall scores\"])\n",
    "    plot_result(cv= cv, x_label= \"Decision Tree\", y_label= \"F1\", plot_title= f\"F1 scores in {cv} Folds\", train_data= classificationResults[\"Training F1 scores\"], val_data= classificationResults[\"Validation F1 scores\"])\n",
    "\n",
    "def fold_classify_and_plot2(df_train, df_test, max_tree_depth, cv, criterion, title='Feature importance'):\n",
    "    clfModel = DecisionTreeClassifier(max_depth=max_tree_depth, criterion= criterion)\n",
    "    X = df_train\n",
    "    y = df_test\n",
    "    clf = clfModel.fit(X, y)\n",
    "    classificationResults = cross_validation(model= clfModel, _X= X, _Y= y, _cv= cv)\n",
    "    print(classificationResults)\n",
    "\n",
    "    feature_names = df_train.columns\n",
    "    feature_importance_df = pd.DataFrame(list(zip(clfModel.feature_importances_, feature_names)), columns=[\"feature_importance\", \"feature_name\"])\n",
    "    feature_importance_df = feature_importance_df.sort_values(by='feature_importance', ascending=False)\n",
    "    useless_features = list(feature_importance_df[feature_importance_df['feature_importance'] == 0]['feature_name'])\n",
    "    feature_importance_df = feature_importance_df[feature_importance_df['feature_importance'] != 0]\n",
    "\n",
    "    fig = px.bar(feature_importance_df, x=\"feature_name\", y=\"feature_importance\", log_y=True, title=title)\n",
    "    fig.show(width=900, height=500)\n",
    "    \n",
    "\n",
    "\n",
    "    print(\"The following features were dropped:\")\n",
    "    print(useless_features)\n",
    "\n",
    "    plot_result(cv= cv, x_label= \"Decision Tree\", y_label= \"Accuracy\", plot_title= f\"Accuracy scores in {cv} Folds\", train_data= classificationResults[\"Training Accuracy scores\"], val_data= classificationResults[\"Validation Accuracy scores\"])\n",
    "    plot_result(cv= cv, x_label= \"Decision Tree\", y_label= \"Precision\", plot_title= f\"Precision scores in {cv} Folds\", train_data= classificationResults[\"Training Precision scores\"], val_data= classificationResults[\"Validation Precision scores\"])\n",
    "    plot_result(cv= cv, x_label= \"Decision Tree\", y_label= \"Recall\", plot_title= f\"Recall scores in {cv} Folds\", train_data= classificationResults[\"Training Recall scores\"], val_data= classificationResults[\"Validation Recall scores\"])\n",
    "    plot_result(cv= cv, x_label= \"Decision Tree\", y_label= \"F1\", plot_title= f\"F1 scores in {cv} Folds\", train_data= classificationResults[\"Training F1 scores\"], val_data= classificationResults[\"Validation F1 scores\"])\n"
   ]
  },
  {
   "attachments": {},
   "cell_type": "markdown",
   "metadata": {},
   "source": [
    "### Data Pre-processing\n",
    "\n",
    "First we load our dataset, change the categorical \"lang\" column to numbers, then take a look at our columns."
   ]
  },
  {
   "cell_type": "code",
   "execution_count": 3,
   "metadata": {},
   "outputs": [],
   "source": [
    "df = pd.read_csv(\"dataset/users_df_dataset_cleaned_with_indicators.csv\")"
   ]
  },
  {
   "cell_type": "code",
   "execution_count": 4,
   "metadata": {},
   "outputs": [
    {
     "data": {
      "text/plain": [
       "['Select Language...',\n",
       " 'ar',\n",
       " 'da',\n",
       " 'de',\n",
       " 'el',\n",
       " 'en',\n",
       " 'en-AU',\n",
       " 'en-GB',\n",
       " 'es',\n",
       " 'fil-PH',\n",
       " 'fr',\n",
       " 'id',\n",
       " 'it',\n",
       " 'ja',\n",
       " 'ko',\n",
       " 'nl',\n",
       " 'pl',\n",
       " 'pt',\n",
       " 'ru',\n",
       " 'sv',\n",
       " 'tr',\n",
       " 'xx-lc',\n",
       " 'zh-CN',\n",
       " 'zh-TW']"
      ]
     },
     "execution_count": 4,
     "metadata": {},
     "output_type": "execute_result"
    }
   ],
   "source": [
    "var = sorted(df['lang'].unique())\n",
    "var"
   ]
  },
  {
   "cell_type": "code",
   "execution_count": 5,
   "metadata": {},
   "outputs": [
    {
     "name": "stdout",
     "output_type": "stream",
     "text": [
      "<class 'pandas.core.frame.DataFrame'>\n",
      "RangeIndex: 11109 entries, 0 to 11108\n",
      "Data columns (total 33 columns):\n",
      " #   Column                                    Non-Null Count  Dtype  \n",
      "---  ------                                    --------------  -----  \n",
      " 0   user_id                                   11109 non-null  int64  \n",
      " 1   name                                      11108 non-null  object \n",
      " 2   bot                                       11109 non-null  int64  \n",
      " 3   created_at                                11109 non-null  object \n",
      " 4   statuses_count                            11109 non-null  int64  \n",
      " 5   account_age_in_days                       11109 non-null  int64  \n",
      " 6   number_of_tweets                          11109 non-null  int64  \n",
      " 7   account_average_tweets_per_day            11109 non-null  float64\n",
      " 8   avg_tweets_per_actual_day                 11109 non-null  float64\n",
      " 9   day_with_most_tweets                      11109 non-null  object \n",
      " 10  max_number_of_tweets_in_a_day             11109 non-null  int64  \n",
      " 11  entropy_for_day                           11109 non-null  float64\n",
      " 12  entropy_for_hour                          11109 non-null  float64\n",
      " 13  entropy_for_minute                        11109 non-null  float64\n",
      " 14  avg_hashtags                              11109 non-null  float64\n",
      " 15  avg_text_length                           11109 non-null  float64\n",
      " 16  avg_mentions                              11109 non-null  float64\n",
      " 17  avg_special_char_in_text                  11109 non-null  float64\n",
      " 18  total_likes                               11109 non-null  int64  \n",
      " 19  avt_favorite_count                        11109 non-null  float64\n",
      " 20  total_replies                             11109 non-null  int64  \n",
      " 21  avt_reply_count                           11109 non-null  float64\n",
      " 22  total_retweet_count                       11109 non-null  int64  \n",
      " 23  account_discussion_creation_ratio         11109 non-null  float64\n",
      " 24  tweet_num_likes_ratio                     11109 non-null  float64\n",
      " 25  tweet_num_replies_ratio                   11109 non-null  float64\n",
      " 26  entropy_original_text                     11109 non-null  float64\n",
      " 27  entropy_text                              11109 non-null  float64\n",
      " 28  mean_inactive_period_length_in_seconds    11109 non-null  float64\n",
      " 29  median_inactive_period_length_in_seconds  11109 non-null  float64\n",
      " 30  mode_inactive_period_length_in_seconds    11109 non-null  float64\n",
      " 31  mode_count                                11109 non-null  int64  \n",
      " 32  lang_num                                  11109 non-null  int32  \n",
      "dtypes: float64(19), int32(1), int64(10), object(3)\n",
      "memory usage: 2.8+ MB\n"
     ]
    }
   ],
   "source": [
    "mapping = dict(zip(var, range(0, len(var) + 1)))\n",
    "df['lang_num'] = df['lang'].map(mapping).astype(int)\n",
    "df.drop(columns='lang', inplace=True)\n",
    "df.info()"
   ]
  },
  {
   "attachments": {},
   "cell_type": "markdown",
   "metadata": {},
   "source": [
    "Dropping non-numerical and non-categorical columns from our dataset, as they are of less interest too us when using the Desicion Tree classification model."
   ]
  },
  {
   "cell_type": "code",
   "execution_count": 6,
   "metadata": {},
   "outputs": [
    {
     "data": {
      "text/plain": [
       "1    6116\n",
       "0    4993\n",
       "Name: bot, dtype: int64"
      ]
     },
     "execution_count": 6,
     "metadata": {},
     "output_type": "execute_result"
    }
   ],
   "source": [
    "columns_to_drop = [\"user_id\", \"name\", \"created_at\", \"day_with_most_tweets\"]\n",
    "df.drop(columns=columns_to_drop, inplace=True)\n",
    "label = df.pop(\"bot\")\n",
    "label.value_counts()"
   ]
  },
  {
   "attachments": {},
   "cell_type": "markdown",
   "metadata": {},
   "source": [
    "Lets take a look at our values."
   ]
  },
  {
   "cell_type": "code",
   "execution_count": 7,
   "metadata": {},
   "outputs": [
    {
     "data": {
      "text/html": [
       "<div>\n",
       "<style scoped>\n",
       "    .dataframe tbody tr th:only-of-type {\n",
       "        vertical-align: middle;\n",
       "    }\n",
       "\n",
       "    .dataframe tbody tr th {\n",
       "        vertical-align: top;\n",
       "    }\n",
       "\n",
       "    .dataframe thead th {\n",
       "        text-align: right;\n",
       "    }\n",
       "</style>\n",
       "<table border=\"1\" class=\"dataframe\">\n",
       "  <thead>\n",
       "    <tr style=\"text-align: right;\">\n",
       "      <th></th>\n",
       "      <th>count</th>\n",
       "      <th>mean</th>\n",
       "      <th>std</th>\n",
       "      <th>min</th>\n",
       "      <th>25%</th>\n",
       "      <th>50%</th>\n",
       "      <th>75%</th>\n",
       "      <th>max</th>\n",
       "    </tr>\n",
       "  </thead>\n",
       "  <tbody>\n",
       "    <tr>\n",
       "      <th>statuses_count</th>\n",
       "      <td>11109.0</td>\n",
       "      <td>486.128364</td>\n",
       "      <td>1.240441e+03</td>\n",
       "      <td>0.000000e+00</td>\n",
       "      <td>4.100000e+01</td>\n",
       "      <td>6.800000e+01</td>\n",
       "      <td>81.000000</td>\n",
       "      <td>7.226000e+03</td>\n",
       "    </tr>\n",
       "    <tr>\n",
       "      <th>account_age_in_days</th>\n",
       "      <td>11109.0</td>\n",
       "      <td>1827.599874</td>\n",
       "      <td>5.550895e+02</td>\n",
       "      <td>8.910000e+02</td>\n",
       "      <td>1.312000e+03</td>\n",
       "      <td>1.702000e+03</td>\n",
       "      <td>2080.000000</td>\n",
       "      <td>3.901000e+03</td>\n",
       "    </tr>\n",
       "    <tr>\n",
       "      <th>number_of_tweets</th>\n",
       "      <td>11109.0</td>\n",
       "      <td>941.636241</td>\n",
       "      <td>1.199367e+03</td>\n",
       "      <td>1.000000e+00</td>\n",
       "      <td>6.700000e+01</td>\n",
       "      <td>1.320000e+02</td>\n",
       "      <td>1703.000000</td>\n",
       "      <td>3.668000e+03</td>\n",
       "    </tr>\n",
       "    <tr>\n",
       "      <th>account_average_tweets_per_day</th>\n",
       "      <td>11109.0</td>\n",
       "      <td>0.262958</td>\n",
       "      <td>6.808833e-01</td>\n",
       "      <td>0.000000e+00</td>\n",
       "      <td>2.247191e-02</td>\n",
       "      <td>3.508772e-02</td>\n",
       "      <td>0.058267</td>\n",
       "      <td>6.792821e+00</td>\n",
       "    </tr>\n",
       "    <tr>\n",
       "      <th>avg_tweets_per_actual_day</th>\n",
       "      <td>11109.0</td>\n",
       "      <td>13.376648</td>\n",
       "      <td>3.797705e+01</td>\n",
       "      <td>1.000000e+00</td>\n",
       "      <td>1.846154e+00</td>\n",
       "      <td>4.777778e+00</td>\n",
       "      <td>8.058511</td>\n",
       "      <td>1.759500e+03</td>\n",
       "    </tr>\n",
       "    <tr>\n",
       "      <th>max_number_of_tweets_in_a_day</th>\n",
       "      <td>11109.0</td>\n",
       "      <td>52.172383</td>\n",
       "      <td>8.794356e+01</td>\n",
       "      <td>1.000000e+00</td>\n",
       "      <td>6.000000e+00</td>\n",
       "      <td>1.800000e+01</td>\n",
       "      <td>75.000000</td>\n",
       "      <td>2.131000e+03</td>\n",
       "    </tr>\n",
       "    <tr>\n",
       "      <th>entropy_for_day</th>\n",
       "      <td>11109.0</td>\n",
       "      <td>2.795355</td>\n",
       "      <td>1.460038e+00</td>\n",
       "      <td>0.000000e+00</td>\n",
       "      <td>1.426345e+00</td>\n",
       "      <td>2.921107e+00</td>\n",
       "      <td>3.710199</td>\n",
       "      <td>5.706424e+00</td>\n",
       "    </tr>\n",
       "    <tr>\n",
       "      <th>entropy_for_hour</th>\n",
       "      <td>11109.0</td>\n",
       "      <td>1.995941</td>\n",
       "      <td>1.086827e+00</td>\n",
       "      <td>0.000000e+00</td>\n",
       "      <td>1.032784e+00</td>\n",
       "      <td>2.234517e+00</td>\n",
       "      <td>2.789275</td>\n",
       "      <td>5.705947e+00</td>\n",
       "    </tr>\n",
       "    <tr>\n",
       "      <th>entropy_for_minute</th>\n",
       "      <td>11109.0</td>\n",
       "      <td>1.017305</td>\n",
       "      <td>6.785934e-01</td>\n",
       "      <td>0.000000e+00</td>\n",
       "      <td>4.854608e-01</td>\n",
       "      <td>7.215676e-01</td>\n",
       "      <td>1.856961</td>\n",
       "      <td>4.017732e+00</td>\n",
       "    </tr>\n",
       "    <tr>\n",
       "      <th>avg_hashtags</th>\n",
       "      <td>11109.0</td>\n",
       "      <td>0.156578</td>\n",
       "      <td>2.333411e-01</td>\n",
       "      <td>0.000000e+00</td>\n",
       "      <td>5.000000e-02</td>\n",
       "      <td>8.571429e-02</td>\n",
       "      <td>0.173913</td>\n",
       "      <td>6.441050e+00</td>\n",
       "    </tr>\n",
       "    <tr>\n",
       "      <th>avg_text_length</th>\n",
       "      <td>11109.0</td>\n",
       "      <td>70.369896</td>\n",
       "      <td>1.667397e+01</td>\n",
       "      <td>3.000000e+00</td>\n",
       "      <td>6.139626e+01</td>\n",
       "      <td>6.762712e+01</td>\n",
       "      <td>80.206897</td>\n",
       "      <td>2.450000e+02</td>\n",
       "    </tr>\n",
       "    <tr>\n",
       "      <th>avg_mentions</th>\n",
       "      <td>11109.0</td>\n",
       "      <td>0.366564</td>\n",
       "      <td>3.724675e-01</td>\n",
       "      <td>0.000000e+00</td>\n",
       "      <td>1.086219e-02</td>\n",
       "      <td>3.185841e-01</td>\n",
       "      <td>0.553221</td>\n",
       "      <td>5.701754e+00</td>\n",
       "    </tr>\n",
       "    <tr>\n",
       "      <th>avg_special_char_in_text</th>\n",
       "      <td>11109.0</td>\n",
       "      <td>15.984273</td>\n",
       "      <td>5.572540e+00</td>\n",
       "      <td>0.000000e+00</td>\n",
       "      <td>1.364013e+01</td>\n",
       "      <td>1.517532e+01</td>\n",
       "      <td>17.797753</td>\n",
       "      <td>1.490000e+02</td>\n",
       "    </tr>\n",
       "    <tr>\n",
       "      <th>total_likes</th>\n",
       "      <td>11109.0</td>\n",
       "      <td>3207.102980</td>\n",
       "      <td>9.749422e+04</td>\n",
       "      <td>0.000000e+00</td>\n",
       "      <td>3.000000e+00</td>\n",
       "      <td>1.000000e+01</td>\n",
       "      <td>390.000000</td>\n",
       "      <td>7.006348e+06</td>\n",
       "    </tr>\n",
       "    <tr>\n",
       "      <th>avt_favorite_count</th>\n",
       "      <td>11109.0</td>\n",
       "      <td>17.719387</td>\n",
       "      <td>3.357488e+02</td>\n",
       "      <td>0.000000e+00</td>\n",
       "      <td>2.383655e-02</td>\n",
       "      <td>6.481481e-02</td>\n",
       "      <td>0.267796</td>\n",
       "      <td>1.354280e+04</td>\n",
       "    </tr>\n",
       "    <tr>\n",
       "      <th>total_replies</th>\n",
       "      <td>11109.0</td>\n",
       "      <td>935.653974</td>\n",
       "      <td>2.983748e+04</td>\n",
       "      <td>0.000000e+00</td>\n",
       "      <td>0.000000e+00</td>\n",
       "      <td>0.000000e+00</td>\n",
       "      <td>0.000000</td>\n",
       "      <td>2.000000e+06</td>\n",
       "    </tr>\n",
       "    <tr>\n",
       "      <th>avt_reply_count</th>\n",
       "      <td>11109.0</td>\n",
       "      <td>0.603060</td>\n",
       "      <td>1.240579e+01</td>\n",
       "      <td>0.000000e+00</td>\n",
       "      <td>0.000000e+00</td>\n",
       "      <td>0.000000e+00</td>\n",
       "      <td>0.000000</td>\n",
       "      <td>6.033183e+02</td>\n",
       "    </tr>\n",
       "    <tr>\n",
       "      <th>total_retweet_count</th>\n",
       "      <td>11109.0</td>\n",
       "      <td>526429.450626</td>\n",
       "      <td>2.931097e+06</td>\n",
       "      <td>0.000000e+00</td>\n",
       "      <td>3.000000e+00</td>\n",
       "      <td>7.700000e+01</td>\n",
       "      <td>64737.000000</td>\n",
       "      <td>9.638758e+07</td>\n",
       "    </tr>\n",
       "    <tr>\n",
       "      <th>account_discussion_creation_ratio</th>\n",
       "      <td>11109.0</td>\n",
       "      <td>19.514334</td>\n",
       "      <td>8.096288e+01</td>\n",
       "      <td>0.000000e+00</td>\n",
       "      <td>1.644298e-03</td>\n",
       "      <td>4.090153e-02</td>\n",
       "      <td>20.000000</td>\n",
       "      <td>3.519000e+03</td>\n",
       "    </tr>\n",
       "    <tr>\n",
       "      <th>tweet_num_likes_ratio</th>\n",
       "      <td>11109.0</td>\n",
       "      <td>17.394735</td>\n",
       "      <td>4.641659e+01</td>\n",
       "      <td>0.000000e+00</td>\n",
       "      <td>9.579809e-01</td>\n",
       "      <td>7.500000e+00</td>\n",
       "      <td>20.800000</td>\n",
       "      <td>2.877000e+03</td>\n",
       "    </tr>\n",
       "    <tr>\n",
       "      <th>tweet_num_replies_ratio</th>\n",
       "      <td>11109.0</td>\n",
       "      <td>4.133898</td>\n",
       "      <td>2.905334e+01</td>\n",
       "      <td>0.000000e+00</td>\n",
       "      <td>0.000000e+00</td>\n",
       "      <td>0.000000e+00</td>\n",
       "      <td>0.000000</td>\n",
       "      <td>1.762000e+03</td>\n",
       "    </tr>\n",
       "    <tr>\n",
       "      <th>entropy_original_text</th>\n",
       "      <td>11109.0</td>\n",
       "      <td>7.732036</td>\n",
       "      <td>2.656718e+00</td>\n",
       "      <td>4.394970e-01</td>\n",
       "      <td>6.058814e+00</td>\n",
       "      <td>6.886985e+00</td>\n",
       "      <td>10.493086</td>\n",
       "      <td>1.168429e+01</td>\n",
       "    </tr>\n",
       "    <tr>\n",
       "      <th>entropy_text</th>\n",
       "      <td>11109.0</td>\n",
       "      <td>0.000004</td>\n",
       "      <td>1.077466e-05</td>\n",
       "      <td>1.321162e-07</td>\n",
       "      <td>2.710693e-07</td>\n",
       "      <td>7.782775e-07</td>\n",
       "      <td>0.000001</td>\n",
       "      <td>6.034723e-05</td>\n",
       "    </tr>\n",
       "    <tr>\n",
       "      <th>mean_inactive_period_length_in_seconds</th>\n",
       "      <td>11109.0</td>\n",
       "      <td>624029.182517</td>\n",
       "      <td>3.884880e+06</td>\n",
       "      <td>4.300000e+01</td>\n",
       "      <td>5.757338e+04</td>\n",
       "      <td>1.116038e+05</td>\n",
       "      <td>284110.826087</td>\n",
       "      <td>1.182533e+08</td>\n",
       "    </tr>\n",
       "    <tr>\n",
       "      <th>median_inactive_period_length_in_seconds</th>\n",
       "      <td>11109.0</td>\n",
       "      <td>319196.157710</td>\n",
       "      <td>3.609929e+06</td>\n",
       "      <td>0.000000e+00</td>\n",
       "      <td>2.400000e+01</td>\n",
       "      <td>8.410000e+02</td>\n",
       "      <td>51001.000000</td>\n",
       "      <td>1.182533e+08</td>\n",
       "    </tr>\n",
       "    <tr>\n",
       "      <th>mode_inactive_period_length_in_seconds</th>\n",
       "      <td>11109.0</td>\n",
       "      <td>165688.674318</td>\n",
       "      <td>3.235014e+06</td>\n",
       "      <td>0.000000e+00</td>\n",
       "      <td>0.000000e+00</td>\n",
       "      <td>0.000000e+00</td>\n",
       "      <td>0.000000</td>\n",
       "      <td>1.182533e+08</td>\n",
       "    </tr>\n",
       "    <tr>\n",
       "      <th>mode_count</th>\n",
       "      <td>11109.0</td>\n",
       "      <td>75.159600</td>\n",
       "      <td>1.196334e+02</td>\n",
       "      <td>1.000000e+00</td>\n",
       "      <td>5.000000e+00</td>\n",
       "      <td>1.100000e+01</td>\n",
       "      <td>128.000000</td>\n",
       "      <td>2.634000e+03</td>\n",
       "    </tr>\n",
       "    <tr>\n",
       "      <th>lang_num</th>\n",
       "      <td>11109.0</td>\n",
       "      <td>5.889009</td>\n",
       "      <td>2.504266e+00</td>\n",
       "      <td>0.000000e+00</td>\n",
       "      <td>5.000000e+00</td>\n",
       "      <td>5.000000e+00</td>\n",
       "      <td>5.000000</td>\n",
       "      <td>2.300000e+01</td>\n",
       "    </tr>\n",
       "  </tbody>\n",
       "</table>\n",
       "</div>"
      ],
      "text/plain": [
       "                                            count           mean  \\\n",
       "statuses_count                            11109.0     486.128364   \n",
       "account_age_in_days                       11109.0    1827.599874   \n",
       "number_of_tweets                          11109.0     941.636241   \n",
       "account_average_tweets_per_day            11109.0       0.262958   \n",
       "avg_tweets_per_actual_day                 11109.0      13.376648   \n",
       "max_number_of_tweets_in_a_day             11109.0      52.172383   \n",
       "entropy_for_day                           11109.0       2.795355   \n",
       "entropy_for_hour                          11109.0       1.995941   \n",
       "entropy_for_minute                        11109.0       1.017305   \n",
       "avg_hashtags                              11109.0       0.156578   \n",
       "avg_text_length                           11109.0      70.369896   \n",
       "avg_mentions                              11109.0       0.366564   \n",
       "avg_special_char_in_text                  11109.0      15.984273   \n",
       "total_likes                               11109.0    3207.102980   \n",
       "avt_favorite_count                        11109.0      17.719387   \n",
       "total_replies                             11109.0     935.653974   \n",
       "avt_reply_count                           11109.0       0.603060   \n",
       "total_retweet_count                       11109.0  526429.450626   \n",
       "account_discussion_creation_ratio         11109.0      19.514334   \n",
       "tweet_num_likes_ratio                     11109.0      17.394735   \n",
       "tweet_num_replies_ratio                   11109.0       4.133898   \n",
       "entropy_original_text                     11109.0       7.732036   \n",
       "entropy_text                              11109.0       0.000004   \n",
       "mean_inactive_period_length_in_seconds    11109.0  624029.182517   \n",
       "median_inactive_period_length_in_seconds  11109.0  319196.157710   \n",
       "mode_inactive_period_length_in_seconds    11109.0  165688.674318   \n",
       "mode_count                                11109.0      75.159600   \n",
       "lang_num                                  11109.0       5.889009   \n",
       "\n",
       "                                                   std           min  \\\n",
       "statuses_count                            1.240441e+03  0.000000e+00   \n",
       "account_age_in_days                       5.550895e+02  8.910000e+02   \n",
       "number_of_tweets                          1.199367e+03  1.000000e+00   \n",
       "account_average_tweets_per_day            6.808833e-01  0.000000e+00   \n",
       "avg_tweets_per_actual_day                 3.797705e+01  1.000000e+00   \n",
       "max_number_of_tweets_in_a_day             8.794356e+01  1.000000e+00   \n",
       "entropy_for_day                           1.460038e+00  0.000000e+00   \n",
       "entropy_for_hour                          1.086827e+00  0.000000e+00   \n",
       "entropy_for_minute                        6.785934e-01  0.000000e+00   \n",
       "avg_hashtags                              2.333411e-01  0.000000e+00   \n",
       "avg_text_length                           1.667397e+01  3.000000e+00   \n",
       "avg_mentions                              3.724675e-01  0.000000e+00   \n",
       "avg_special_char_in_text                  5.572540e+00  0.000000e+00   \n",
       "total_likes                               9.749422e+04  0.000000e+00   \n",
       "avt_favorite_count                        3.357488e+02  0.000000e+00   \n",
       "total_replies                             2.983748e+04  0.000000e+00   \n",
       "avt_reply_count                           1.240579e+01  0.000000e+00   \n",
       "total_retweet_count                       2.931097e+06  0.000000e+00   \n",
       "account_discussion_creation_ratio         8.096288e+01  0.000000e+00   \n",
       "tweet_num_likes_ratio                     4.641659e+01  0.000000e+00   \n",
       "tweet_num_replies_ratio                   2.905334e+01  0.000000e+00   \n",
       "entropy_original_text                     2.656718e+00  4.394970e-01   \n",
       "entropy_text                              1.077466e-05  1.321162e-07   \n",
       "mean_inactive_period_length_in_seconds    3.884880e+06  4.300000e+01   \n",
       "median_inactive_period_length_in_seconds  3.609929e+06  0.000000e+00   \n",
       "mode_inactive_period_length_in_seconds    3.235014e+06  0.000000e+00   \n",
       "mode_count                                1.196334e+02  1.000000e+00   \n",
       "lang_num                                  2.504266e+00  0.000000e+00   \n",
       "\n",
       "                                                   25%           50%  \\\n",
       "statuses_count                            4.100000e+01  6.800000e+01   \n",
       "account_age_in_days                       1.312000e+03  1.702000e+03   \n",
       "number_of_tweets                          6.700000e+01  1.320000e+02   \n",
       "account_average_tweets_per_day            2.247191e-02  3.508772e-02   \n",
       "avg_tweets_per_actual_day                 1.846154e+00  4.777778e+00   \n",
       "max_number_of_tweets_in_a_day             6.000000e+00  1.800000e+01   \n",
       "entropy_for_day                           1.426345e+00  2.921107e+00   \n",
       "entropy_for_hour                          1.032784e+00  2.234517e+00   \n",
       "entropy_for_minute                        4.854608e-01  7.215676e-01   \n",
       "avg_hashtags                              5.000000e-02  8.571429e-02   \n",
       "avg_text_length                           6.139626e+01  6.762712e+01   \n",
       "avg_mentions                              1.086219e-02  3.185841e-01   \n",
       "avg_special_char_in_text                  1.364013e+01  1.517532e+01   \n",
       "total_likes                               3.000000e+00  1.000000e+01   \n",
       "avt_favorite_count                        2.383655e-02  6.481481e-02   \n",
       "total_replies                             0.000000e+00  0.000000e+00   \n",
       "avt_reply_count                           0.000000e+00  0.000000e+00   \n",
       "total_retweet_count                       3.000000e+00  7.700000e+01   \n",
       "account_discussion_creation_ratio         1.644298e-03  4.090153e-02   \n",
       "tweet_num_likes_ratio                     9.579809e-01  7.500000e+00   \n",
       "tweet_num_replies_ratio                   0.000000e+00  0.000000e+00   \n",
       "entropy_original_text                     6.058814e+00  6.886985e+00   \n",
       "entropy_text                              2.710693e-07  7.782775e-07   \n",
       "mean_inactive_period_length_in_seconds    5.757338e+04  1.116038e+05   \n",
       "median_inactive_period_length_in_seconds  2.400000e+01  8.410000e+02   \n",
       "mode_inactive_period_length_in_seconds    0.000000e+00  0.000000e+00   \n",
       "mode_count                                5.000000e+00  1.100000e+01   \n",
       "lang_num                                  5.000000e+00  5.000000e+00   \n",
       "\n",
       "                                                    75%           max  \n",
       "statuses_count                                81.000000  7.226000e+03  \n",
       "account_age_in_days                         2080.000000  3.901000e+03  \n",
       "number_of_tweets                            1703.000000  3.668000e+03  \n",
       "account_average_tweets_per_day                 0.058267  6.792821e+00  \n",
       "avg_tweets_per_actual_day                      8.058511  1.759500e+03  \n",
       "max_number_of_tweets_in_a_day                 75.000000  2.131000e+03  \n",
       "entropy_for_day                                3.710199  5.706424e+00  \n",
       "entropy_for_hour                               2.789275  5.705947e+00  \n",
       "entropy_for_minute                             1.856961  4.017732e+00  \n",
       "avg_hashtags                                   0.173913  6.441050e+00  \n",
       "avg_text_length                               80.206897  2.450000e+02  \n",
       "avg_mentions                                   0.553221  5.701754e+00  \n",
       "avg_special_char_in_text                      17.797753  1.490000e+02  \n",
       "total_likes                                  390.000000  7.006348e+06  \n",
       "avt_favorite_count                             0.267796  1.354280e+04  \n",
       "total_replies                                  0.000000  2.000000e+06  \n",
       "avt_reply_count                                0.000000  6.033183e+02  \n",
       "total_retweet_count                        64737.000000  9.638758e+07  \n",
       "account_discussion_creation_ratio             20.000000  3.519000e+03  \n",
       "tweet_num_likes_ratio                         20.800000  2.877000e+03  \n",
       "tweet_num_replies_ratio                        0.000000  1.762000e+03  \n",
       "entropy_original_text                         10.493086  1.168429e+01  \n",
       "entropy_text                                   0.000001  6.034723e-05  \n",
       "mean_inactive_period_length_in_seconds    284110.826087  1.182533e+08  \n",
       "median_inactive_period_length_in_seconds   51001.000000  1.182533e+08  \n",
       "mode_inactive_period_length_in_seconds         0.000000  1.182533e+08  \n",
       "mode_count                                   128.000000  2.634000e+03  \n",
       "lang_num                                       5.000000  2.300000e+01  "
      ]
     },
     "execution_count": 7,
     "metadata": {},
     "output_type": "execute_result"
    }
   ],
   "source": [
    "df.describe().transpose()"
   ]
  },
  {
   "attachments": {},
   "cell_type": "markdown",
   "metadata": {},
   "source": [
    "Seeing as some of our values differ by many orders of magnitude, we must standardize our data. Choosing the standardscaler for this job, and only scaling non-categorical data."
   ]
  },
  {
   "cell_type": "code",
   "execution_count": 8,
   "metadata": {},
   "outputs": [],
   "source": [
    "categoric_col_names = df.columns.values.tolist()\n",
    "del categoric_col_names[:-1]\n",
    "numeric_col_names = df.columns.values.tolist()\n",
    "del numeric_col_names[-1]"
   ]
  },
  {
   "cell_type": "code",
   "execution_count": 9,
   "metadata": {},
   "outputs": [],
   "source": [
    "standard_scaler = StandardScaler().fit(df[numeric_col_names])\n",
    "\n",
    "df[numeric_col_names] = standard_scaler.transform(df[numeric_col_names])"
   ]
  },
  {
   "cell_type": "code",
   "execution_count": 10,
   "metadata": {},
   "outputs": [
    {
     "data": {
      "text/html": [
       "<div>\n",
       "<style scoped>\n",
       "    .dataframe tbody tr th:only-of-type {\n",
       "        vertical-align: middle;\n",
       "    }\n",
       "\n",
       "    .dataframe tbody tr th {\n",
       "        vertical-align: top;\n",
       "    }\n",
       "\n",
       "    .dataframe thead th {\n",
       "        text-align: right;\n",
       "    }\n",
       "</style>\n",
       "<table border=\"1\" class=\"dataframe\">\n",
       "  <thead>\n",
       "    <tr style=\"text-align: right;\">\n",
       "      <th></th>\n",
       "      <th>count</th>\n",
       "      <th>mean</th>\n",
       "      <th>std</th>\n",
       "      <th>min</th>\n",
       "      <th>25%</th>\n",
       "      <th>50%</th>\n",
       "      <th>75%</th>\n",
       "      <th>max</th>\n",
       "    </tr>\n",
       "  </thead>\n",
       "  <tbody>\n",
       "    <tr>\n",
       "      <th>statuses_count</th>\n",
       "      <td>11109.0</td>\n",
       "      <td>-1.343181e-17</td>\n",
       "      <td>1.000045</td>\n",
       "      <td>-0.391917</td>\n",
       "      <td>-0.358863</td>\n",
       "      <td>-0.337096</td>\n",
       "      <td>-0.326615</td>\n",
       "      <td>5.433691</td>\n",
       "    </tr>\n",
       "    <tr>\n",
       "      <th>account_age_in_days</th>\n",
       "      <td>11109.0</td>\n",
       "      <td>-9.434247e-17</td>\n",
       "      <td>1.000045</td>\n",
       "      <td>-1.687371</td>\n",
       "      <td>-0.928901</td>\n",
       "      <td>-0.226280</td>\n",
       "      <td>0.454722</td>\n",
       "      <td>3.735422</td>\n",
       "    </tr>\n",
       "    <tr>\n",
       "      <th>number_of_tweets</th>\n",
       "      <td>11109.0</td>\n",
       "      <td>-2.750323e-17</td>\n",
       "      <td>1.000045</td>\n",
       "      <td>-0.784313</td>\n",
       "      <td>-0.729281</td>\n",
       "      <td>-0.675083</td>\n",
       "      <td>0.634833</td>\n",
       "      <td>2.273271</td>\n",
       "    </tr>\n",
       "    <tr>\n",
       "      <th>account_average_tweets_per_day</th>\n",
       "      <td>11109.0</td>\n",
       "      <td>6.396100e-18</td>\n",
       "      <td>1.000045</td>\n",
       "      <td>-0.386219</td>\n",
       "      <td>-0.353213</td>\n",
       "      <td>-0.334684</td>\n",
       "      <td>-0.300639</td>\n",
       "      <td>9.590714</td>\n",
       "    </tr>\n",
       "    <tr>\n",
       "      <th>avg_tweets_per_actual_day</th>\n",
       "      <td>11109.0</td>\n",
       "      <td>6.875807e-18</td>\n",
       "      <td>1.000045</td>\n",
       "      <td>-0.325913</td>\n",
       "      <td>-0.303631</td>\n",
       "      <td>-0.226433</td>\n",
       "      <td>-0.140042</td>\n",
       "      <td>45.980453</td>\n",
       "    </tr>\n",
       "    <tr>\n",
       "      <th>max_number_of_tweets_in_a_day</th>\n",
       "      <td>11109.0</td>\n",
       "      <td>-7.675320e-18</td>\n",
       "      <td>1.000045</td>\n",
       "      <td>-0.581904</td>\n",
       "      <td>-0.525047</td>\n",
       "      <td>-0.388589</td>\n",
       "      <td>0.259583</td>\n",
       "      <td>23.639265</td>\n",
       "    </tr>\n",
       "    <tr>\n",
       "      <th>entropy_for_day</th>\n",
       "      <td>11109.0</td>\n",
       "      <td>8.826618e-17</td>\n",
       "      <td>1.000045</td>\n",
       "      <td>-1.914663</td>\n",
       "      <td>-0.937696</td>\n",
       "      <td>0.086134</td>\n",
       "      <td>0.626618</td>\n",
       "      <td>1.993922</td>\n",
       "    </tr>\n",
       "    <tr>\n",
       "      <th>entropy_for_hour</th>\n",
       "      <td>11109.0</td>\n",
       "      <td>-1.624609e-16</td>\n",
       "      <td>1.000045</td>\n",
       "      <td>-1.836567</td>\n",
       "      <td>-0.886250</td>\n",
       "      <td>0.219526</td>\n",
       "      <td>0.729987</td>\n",
       "      <td>3.413765</td>\n",
       "    </tr>\n",
       "    <tr>\n",
       "      <th>entropy_for_minute</th>\n",
       "      <td>11109.0</td>\n",
       "      <td>-7.291554e-17</td>\n",
       "      <td>1.000045</td>\n",
       "      <td>-1.499206</td>\n",
       "      <td>-0.783781</td>\n",
       "      <td>-0.435830</td>\n",
       "      <td>1.237403</td>\n",
       "      <td>4.421738</td>\n",
       "    </tr>\n",
       "    <tr>\n",
       "      <th>avg_hashtags</th>\n",
       "      <td>11109.0</td>\n",
       "      <td>-2.686362e-17</td>\n",
       "      <td>1.000045</td>\n",
       "      <td>-0.671058</td>\n",
       "      <td>-0.456769</td>\n",
       "      <td>-0.303706</td>\n",
       "      <td>0.074293</td>\n",
       "      <td>26.933767</td>\n",
       "    </tr>\n",
       "    <tr>\n",
       "      <th>avg_text_length</th>\n",
       "      <td>11109.0</td>\n",
       "      <td>-2.238635e-18</td>\n",
       "      <td>1.000045</td>\n",
       "      <td>-4.040605</td>\n",
       "      <td>-0.538206</td>\n",
       "      <td>-0.164502</td>\n",
       "      <td>0.589988</td>\n",
       "      <td>10.473689</td>\n",
       "    </tr>\n",
       "    <tr>\n",
       "      <th>avg_mentions</th>\n",
       "      <td>11109.0</td>\n",
       "      <td>-1.176882e-16</td>\n",
       "      <td>1.000045</td>\n",
       "      <td>-0.984193</td>\n",
       "      <td>-0.955029</td>\n",
       "      <td>-0.128821</td>\n",
       "      <td>0.501161</td>\n",
       "      <td>14.324553</td>\n",
       "    </tr>\n",
       "    <tr>\n",
       "      <th>avg_special_char_in_text</th>\n",
       "      <td>11109.0</td>\n",
       "      <td>-1.164090e-16</td>\n",
       "      <td>1.000045</td>\n",
       "      <td>-2.868529</td>\n",
       "      <td>-0.420679</td>\n",
       "      <td>-0.145173</td>\n",
       "      <td>0.325446</td>\n",
       "      <td>23.870931</td>\n",
       "    </tr>\n",
       "    <tr>\n",
       "      <th>total_likes</th>\n",
       "      <td>11109.0</td>\n",
       "      <td>-6.396100e-19</td>\n",
       "      <td>1.000045</td>\n",
       "      <td>-0.032897</td>\n",
       "      <td>-0.032866</td>\n",
       "      <td>-0.032794</td>\n",
       "      <td>-0.028896</td>\n",
       "      <td>71.834575</td>\n",
       "    </tr>\n",
       "    <tr>\n",
       "      <th>avt_favorite_count</th>\n",
       "      <td>11109.0</td>\n",
       "      <td>7.675320e-18</td>\n",
       "      <td>1.000045</td>\n",
       "      <td>-0.052778</td>\n",
       "      <td>-0.052707</td>\n",
       "      <td>-0.052585</td>\n",
       "      <td>-0.051980</td>\n",
       "      <td>40.285142</td>\n",
       "    </tr>\n",
       "    <tr>\n",
       "      <th>total_replies</th>\n",
       "      <td>11109.0</td>\n",
       "      <td>6.715905e-18</td>\n",
       "      <td>1.000045</td>\n",
       "      <td>-0.031360</td>\n",
       "      <td>-0.031360</td>\n",
       "      <td>-0.031360</td>\n",
       "      <td>-0.031360</td>\n",
       "      <td>67.001439</td>\n",
       "    </tr>\n",
       "    <tr>\n",
       "      <th>avt_reply_count</th>\n",
       "      <td>11109.0</td>\n",
       "      <td>1.279220e-18</td>\n",
       "      <td>1.000045</td>\n",
       "      <td>-0.048613</td>\n",
       "      <td>-0.048613</td>\n",
       "      <td>-0.048613</td>\n",
       "      <td>-0.048613</td>\n",
       "      <td>48.585559</td>\n",
       "    </tr>\n",
       "    <tr>\n",
       "      <th>total_retweet_count</th>\n",
       "      <td>11109.0</td>\n",
       "      <td>-2.110713e-17</td>\n",
       "      <td>1.000045</td>\n",
       "      <td>-0.179610</td>\n",
       "      <td>-0.179609</td>\n",
       "      <td>-0.179583</td>\n",
       "      <td>-0.157522</td>\n",
       "      <td>32.706341</td>\n",
       "    </tr>\n",
       "    <tr>\n",
       "      <th>account_discussion_creation_ratio</th>\n",
       "      <td>11109.0</td>\n",
       "      <td>3.325972e-17</td>\n",
       "      <td>1.000045</td>\n",
       "      <td>-0.241039</td>\n",
       "      <td>-0.241019</td>\n",
       "      <td>-0.240534</td>\n",
       "      <td>0.005999</td>\n",
       "      <td>43.225281</td>\n",
       "    </tr>\n",
       "    <tr>\n",
       "      <th>tweet_num_likes_ratio</th>\n",
       "      <td>11109.0</td>\n",
       "      <td>5.820451e-17</td>\n",
       "      <td>1.000045</td>\n",
       "      <td>-0.374769</td>\n",
       "      <td>-0.354130</td>\n",
       "      <td>-0.213182</td>\n",
       "      <td>0.073366</td>\n",
       "      <td>61.610173</td>\n",
       "    </tr>\n",
       "    <tr>\n",
       "      <th>tweet_num_replies_ratio</th>\n",
       "      <td>11109.0</td>\n",
       "      <td>-1.471103e-17</td>\n",
       "      <td>1.000045</td>\n",
       "      <td>-0.142293</td>\n",
       "      <td>-0.142293</td>\n",
       "      <td>-0.142293</td>\n",
       "      <td>-0.142293</td>\n",
       "      <td>60.507517</td>\n",
       "    </tr>\n",
       "    <tr>\n",
       "      <th>entropy_original_text</th>\n",
       "      <td>11109.0</td>\n",
       "      <td>5.884412e-17</td>\n",
       "      <td>1.000045</td>\n",
       "      <td>-2.745066</td>\n",
       "      <td>-0.629836</td>\n",
       "      <td>-0.318095</td>\n",
       "      <td>1.039318</td>\n",
       "      <td>1.487712</td>\n",
       "    </tr>\n",
       "    <tr>\n",
       "      <th>entropy_text</th>\n",
       "      <td>11109.0</td>\n",
       "      <td>-2.110713e-17</td>\n",
       "      <td>1.000045</td>\n",
       "      <td>-0.403598</td>\n",
       "      <td>-0.390701</td>\n",
       "      <td>-0.343625</td>\n",
       "      <td>-0.276780</td>\n",
       "      <td>5.185238</td>\n",
       "    </tr>\n",
       "    <tr>\n",
       "      <th>mean_inactive_period_length_in_seconds</th>\n",
       "      <td>11109.0</td>\n",
       "      <td>-6.476051e-18</td>\n",
       "      <td>1.000045</td>\n",
       "      <td>-0.160626</td>\n",
       "      <td>-0.145817</td>\n",
       "      <td>-0.131908</td>\n",
       "      <td>-0.087502</td>\n",
       "      <td>30.280109</td>\n",
       "    </tr>\n",
       "    <tr>\n",
       "      <th>median_inactive_period_length_in_seconds</th>\n",
       "      <td>11109.0</td>\n",
       "      <td>-1.279220e-18</td>\n",
       "      <td>1.000045</td>\n",
       "      <td>-0.088426</td>\n",
       "      <td>-0.088419</td>\n",
       "      <td>-0.088193</td>\n",
       "      <td>-0.074297</td>\n",
       "      <td>32.670842</td>\n",
       "    </tr>\n",
       "    <tr>\n",
       "      <th>mode_inactive_period_length_in_seconds</th>\n",
       "      <td>11109.0</td>\n",
       "      <td>-2.302596e-17</td>\n",
       "      <td>1.000045</td>\n",
       "      <td>-0.051220</td>\n",
       "      <td>-0.051220</td>\n",
       "      <td>-0.051220</td>\n",
       "      <td>-0.051220</td>\n",
       "      <td>36.504619</td>\n",
       "    </tr>\n",
       "    <tr>\n",
       "      <th>mode_count</th>\n",
       "      <td>11109.0</td>\n",
       "      <td>2.094723e-17</td>\n",
       "      <td>1.000045</td>\n",
       "      <td>-0.619918</td>\n",
       "      <td>-0.586481</td>\n",
       "      <td>-0.536326</td>\n",
       "      <td>0.441706</td>\n",
       "      <td>21.389969</td>\n",
       "    </tr>\n",
       "    <tr>\n",
       "      <th>lang_num</th>\n",
       "      <td>11109.0</td>\n",
       "      <td>5.889009e+00</td>\n",
       "      <td>2.504266</td>\n",
       "      <td>0.000000</td>\n",
       "      <td>5.000000</td>\n",
       "      <td>5.000000</td>\n",
       "      <td>5.000000</td>\n",
       "      <td>23.000000</td>\n",
       "    </tr>\n",
       "  </tbody>\n",
       "</table>\n",
       "</div>"
      ],
      "text/plain": [
       "                                            count          mean       std  \\\n",
       "statuses_count                            11109.0 -1.343181e-17  1.000045   \n",
       "account_age_in_days                       11109.0 -9.434247e-17  1.000045   \n",
       "number_of_tweets                          11109.0 -2.750323e-17  1.000045   \n",
       "account_average_tweets_per_day            11109.0  6.396100e-18  1.000045   \n",
       "avg_tweets_per_actual_day                 11109.0  6.875807e-18  1.000045   \n",
       "max_number_of_tweets_in_a_day             11109.0 -7.675320e-18  1.000045   \n",
       "entropy_for_day                           11109.0  8.826618e-17  1.000045   \n",
       "entropy_for_hour                          11109.0 -1.624609e-16  1.000045   \n",
       "entropy_for_minute                        11109.0 -7.291554e-17  1.000045   \n",
       "avg_hashtags                              11109.0 -2.686362e-17  1.000045   \n",
       "avg_text_length                           11109.0 -2.238635e-18  1.000045   \n",
       "avg_mentions                              11109.0 -1.176882e-16  1.000045   \n",
       "avg_special_char_in_text                  11109.0 -1.164090e-16  1.000045   \n",
       "total_likes                               11109.0 -6.396100e-19  1.000045   \n",
       "avt_favorite_count                        11109.0  7.675320e-18  1.000045   \n",
       "total_replies                             11109.0  6.715905e-18  1.000045   \n",
       "avt_reply_count                           11109.0  1.279220e-18  1.000045   \n",
       "total_retweet_count                       11109.0 -2.110713e-17  1.000045   \n",
       "account_discussion_creation_ratio         11109.0  3.325972e-17  1.000045   \n",
       "tweet_num_likes_ratio                     11109.0  5.820451e-17  1.000045   \n",
       "tweet_num_replies_ratio                   11109.0 -1.471103e-17  1.000045   \n",
       "entropy_original_text                     11109.0  5.884412e-17  1.000045   \n",
       "entropy_text                              11109.0 -2.110713e-17  1.000045   \n",
       "mean_inactive_period_length_in_seconds    11109.0 -6.476051e-18  1.000045   \n",
       "median_inactive_period_length_in_seconds  11109.0 -1.279220e-18  1.000045   \n",
       "mode_inactive_period_length_in_seconds    11109.0 -2.302596e-17  1.000045   \n",
       "mode_count                                11109.0  2.094723e-17  1.000045   \n",
       "lang_num                                  11109.0  5.889009e+00  2.504266   \n",
       "\n",
       "                                               min       25%       50%  \\\n",
       "statuses_count                           -0.391917 -0.358863 -0.337096   \n",
       "account_age_in_days                      -1.687371 -0.928901 -0.226280   \n",
       "number_of_tweets                         -0.784313 -0.729281 -0.675083   \n",
       "account_average_tweets_per_day           -0.386219 -0.353213 -0.334684   \n",
       "avg_tweets_per_actual_day                -0.325913 -0.303631 -0.226433   \n",
       "max_number_of_tweets_in_a_day            -0.581904 -0.525047 -0.388589   \n",
       "entropy_for_day                          -1.914663 -0.937696  0.086134   \n",
       "entropy_for_hour                         -1.836567 -0.886250  0.219526   \n",
       "entropy_for_minute                       -1.499206 -0.783781 -0.435830   \n",
       "avg_hashtags                             -0.671058 -0.456769 -0.303706   \n",
       "avg_text_length                          -4.040605 -0.538206 -0.164502   \n",
       "avg_mentions                             -0.984193 -0.955029 -0.128821   \n",
       "avg_special_char_in_text                 -2.868529 -0.420679 -0.145173   \n",
       "total_likes                              -0.032897 -0.032866 -0.032794   \n",
       "avt_favorite_count                       -0.052778 -0.052707 -0.052585   \n",
       "total_replies                            -0.031360 -0.031360 -0.031360   \n",
       "avt_reply_count                          -0.048613 -0.048613 -0.048613   \n",
       "total_retweet_count                      -0.179610 -0.179609 -0.179583   \n",
       "account_discussion_creation_ratio        -0.241039 -0.241019 -0.240534   \n",
       "tweet_num_likes_ratio                    -0.374769 -0.354130 -0.213182   \n",
       "tweet_num_replies_ratio                  -0.142293 -0.142293 -0.142293   \n",
       "entropy_original_text                    -2.745066 -0.629836 -0.318095   \n",
       "entropy_text                             -0.403598 -0.390701 -0.343625   \n",
       "mean_inactive_period_length_in_seconds   -0.160626 -0.145817 -0.131908   \n",
       "median_inactive_period_length_in_seconds -0.088426 -0.088419 -0.088193   \n",
       "mode_inactive_period_length_in_seconds   -0.051220 -0.051220 -0.051220   \n",
       "mode_count                               -0.619918 -0.586481 -0.536326   \n",
       "lang_num                                  0.000000  5.000000  5.000000   \n",
       "\n",
       "                                               75%        max  \n",
       "statuses_count                           -0.326615   5.433691  \n",
       "account_age_in_days                       0.454722   3.735422  \n",
       "number_of_tweets                          0.634833   2.273271  \n",
       "account_average_tweets_per_day           -0.300639   9.590714  \n",
       "avg_tweets_per_actual_day                -0.140042  45.980453  \n",
       "max_number_of_tweets_in_a_day             0.259583  23.639265  \n",
       "entropy_for_day                           0.626618   1.993922  \n",
       "entropy_for_hour                          0.729987   3.413765  \n",
       "entropy_for_minute                        1.237403   4.421738  \n",
       "avg_hashtags                              0.074293  26.933767  \n",
       "avg_text_length                           0.589988  10.473689  \n",
       "avg_mentions                              0.501161  14.324553  \n",
       "avg_special_char_in_text                  0.325446  23.870931  \n",
       "total_likes                              -0.028896  71.834575  \n",
       "avt_favorite_count                       -0.051980  40.285142  \n",
       "total_replies                            -0.031360  67.001439  \n",
       "avt_reply_count                          -0.048613  48.585559  \n",
       "total_retweet_count                      -0.157522  32.706341  \n",
       "account_discussion_creation_ratio         0.005999  43.225281  \n",
       "tweet_num_likes_ratio                     0.073366  61.610173  \n",
       "tweet_num_replies_ratio                  -0.142293  60.507517  \n",
       "entropy_original_text                     1.039318   1.487712  \n",
       "entropy_text                             -0.276780   5.185238  \n",
       "mean_inactive_period_length_in_seconds   -0.087502  30.280109  \n",
       "median_inactive_period_length_in_seconds -0.074297  32.670842  \n",
       "mode_inactive_period_length_in_seconds   -0.051220  36.504619  \n",
       "mode_count                                0.441706  21.389969  \n",
       "lang_num                                  5.000000  23.000000  "
      ]
     },
     "execution_count": 10,
     "metadata": {},
     "output_type": "execute_result"
    }
   ],
   "source": [
    "df.describe().transpose()"
   ]
  },
  {
   "attachments": {},
   "cell_type": "markdown",
   "metadata": {},
   "source": [
    "### Feature Selection / Dimensionality reduction\n",
    "\n",
    "Now that our data is standardized, we can take a look at what features provide the most information to our desicionmaking process."
   ]
  },
  {
   "cell_type": "code",
   "execution_count": 11,
   "metadata": {},
   "outputs": [
    {
     "data": {
      "application/vnd.plotly.v1+json": {
       "config": {
        "plotlyServerURL": "https://plot.ly"
       },
       "data": [
        {
         "alignmentgroup": "True",
         "hovertemplate": "feature_name=%{x}<br>feature_importance=%{y}<extra></extra>",
         "legendgroup": "",
         "marker": {
          "color": "#636efa",
          "pattern": {
           "shape": ""
          }
         },
         "name": "",
         "offsetgroup": "",
         "orientation": "v",
         "showlegend": false,
         "textposition": "auto",
         "type": "bar",
         "x": [
          "total_retweet_count",
          "entropy_text",
          "avg_mentions",
          "account_average_tweets_per_day",
          "entropy_original_text",
          "entropy_for_hour",
          "tweet_num_replies_ratio",
          "tweet_num_likes_ratio",
          "lang_num",
          "account_age_in_days",
          "avg_special_char_in_text",
          "avg_hashtags",
          "avt_reply_count",
          "number_of_tweets",
          "avg_tweets_per_actual_day",
          "max_number_of_tweets_in_a_day",
          "avg_text_length",
          "statuses_count",
          "avt_favorite_count",
          "median_inactive_period_length_in_seconds",
          "entropy_for_day",
          "entropy_for_minute",
          "total_replies",
          "mode_inactive_period_length_in_seconds",
          "account_discussion_creation_ratio",
          "mode_count",
          "total_likes"
         ],
         "xaxis": "x",
         "y": [
          0.6425467538509747,
          0.08459185971701992,
          0.07267497631925145,
          0.023115103192640405,
          0.017574420456995032,
          0.017162192810411567,
          0.016024687856854344,
          0.01558790419946726,
          0.015428918798239632,
          0.012362727260869162,
          0.011343576482184228,
          0.011087327070099814,
          0.00869403305630761,
          0.00792410754048371,
          0.007696532914475117,
          0.005364565304889713,
          0.0051387501829672465,
          0.004450897643768713,
          0.004096869418909627,
          0.003129274807156808,
          0.0024962267913189768,
          0.002288671110996132,
          0.002204725006836217,
          0.0020180428854056336,
          0.001937041117900072,
          0.0017272927698324173,
          0.0013325214337444784
         ],
         "yaxis": "y"
        }
       ],
       "layout": {
        "barmode": "relative",
        "legend": {
         "tracegroupgap": 0
        },
        "template": {
         "data": {
          "bar": [
           {
            "error_x": {
             "color": "#2a3f5f"
            },
            "error_y": {
             "color": "#2a3f5f"
            },
            "marker": {
             "line": {
              "color": "#E5ECF6",
              "width": 0.5
             },
             "pattern": {
              "fillmode": "overlay",
              "size": 10,
              "solidity": 0.2
             }
            },
            "type": "bar"
           }
          ],
          "barpolar": [
           {
            "marker": {
             "line": {
              "color": "#E5ECF6",
              "width": 0.5
             },
             "pattern": {
              "fillmode": "overlay",
              "size": 10,
              "solidity": 0.2
             }
            },
            "type": "barpolar"
           }
          ],
          "carpet": [
           {
            "aaxis": {
             "endlinecolor": "#2a3f5f",
             "gridcolor": "white",
             "linecolor": "white",
             "minorgridcolor": "white",
             "startlinecolor": "#2a3f5f"
            },
            "baxis": {
             "endlinecolor": "#2a3f5f",
             "gridcolor": "white",
             "linecolor": "white",
             "minorgridcolor": "white",
             "startlinecolor": "#2a3f5f"
            },
            "type": "carpet"
           }
          ],
          "choropleth": [
           {
            "colorbar": {
             "outlinewidth": 0,
             "ticks": ""
            },
            "type": "choropleth"
           }
          ],
          "contour": [
           {
            "colorbar": {
             "outlinewidth": 0,
             "ticks": ""
            },
            "colorscale": [
             [
              0,
              "#0d0887"
             ],
             [
              0.1111111111111111,
              "#46039f"
             ],
             [
              0.2222222222222222,
              "#7201a8"
             ],
             [
              0.3333333333333333,
              "#9c179e"
             ],
             [
              0.4444444444444444,
              "#bd3786"
             ],
             [
              0.5555555555555556,
              "#d8576b"
             ],
             [
              0.6666666666666666,
              "#ed7953"
             ],
             [
              0.7777777777777778,
              "#fb9f3a"
             ],
             [
              0.8888888888888888,
              "#fdca26"
             ],
             [
              1,
              "#f0f921"
             ]
            ],
            "type": "contour"
           }
          ],
          "contourcarpet": [
           {
            "colorbar": {
             "outlinewidth": 0,
             "ticks": ""
            },
            "type": "contourcarpet"
           }
          ],
          "heatmap": [
           {
            "colorbar": {
             "outlinewidth": 0,
             "ticks": ""
            },
            "colorscale": [
             [
              0,
              "#0d0887"
             ],
             [
              0.1111111111111111,
              "#46039f"
             ],
             [
              0.2222222222222222,
              "#7201a8"
             ],
             [
              0.3333333333333333,
              "#9c179e"
             ],
             [
              0.4444444444444444,
              "#bd3786"
             ],
             [
              0.5555555555555556,
              "#d8576b"
             ],
             [
              0.6666666666666666,
              "#ed7953"
             ],
             [
              0.7777777777777778,
              "#fb9f3a"
             ],
             [
              0.8888888888888888,
              "#fdca26"
             ],
             [
              1,
              "#f0f921"
             ]
            ],
            "type": "heatmap"
           }
          ],
          "heatmapgl": [
           {
            "colorbar": {
             "outlinewidth": 0,
             "ticks": ""
            },
            "colorscale": [
             [
              0,
              "#0d0887"
             ],
             [
              0.1111111111111111,
              "#46039f"
             ],
             [
              0.2222222222222222,
              "#7201a8"
             ],
             [
              0.3333333333333333,
              "#9c179e"
             ],
             [
              0.4444444444444444,
              "#bd3786"
             ],
             [
              0.5555555555555556,
              "#d8576b"
             ],
             [
              0.6666666666666666,
              "#ed7953"
             ],
             [
              0.7777777777777778,
              "#fb9f3a"
             ],
             [
              0.8888888888888888,
              "#fdca26"
             ],
             [
              1,
              "#f0f921"
             ]
            ],
            "type": "heatmapgl"
           }
          ],
          "histogram": [
           {
            "marker": {
             "pattern": {
              "fillmode": "overlay",
              "size": 10,
              "solidity": 0.2
             }
            },
            "type": "histogram"
           }
          ],
          "histogram2d": [
           {
            "colorbar": {
             "outlinewidth": 0,
             "ticks": ""
            },
            "colorscale": [
             [
              0,
              "#0d0887"
             ],
             [
              0.1111111111111111,
              "#46039f"
             ],
             [
              0.2222222222222222,
              "#7201a8"
             ],
             [
              0.3333333333333333,
              "#9c179e"
             ],
             [
              0.4444444444444444,
              "#bd3786"
             ],
             [
              0.5555555555555556,
              "#d8576b"
             ],
             [
              0.6666666666666666,
              "#ed7953"
             ],
             [
              0.7777777777777778,
              "#fb9f3a"
             ],
             [
              0.8888888888888888,
              "#fdca26"
             ],
             [
              1,
              "#f0f921"
             ]
            ],
            "type": "histogram2d"
           }
          ],
          "histogram2dcontour": [
           {
            "colorbar": {
             "outlinewidth": 0,
             "ticks": ""
            },
            "colorscale": [
             [
              0,
              "#0d0887"
             ],
             [
              0.1111111111111111,
              "#46039f"
             ],
             [
              0.2222222222222222,
              "#7201a8"
             ],
             [
              0.3333333333333333,
              "#9c179e"
             ],
             [
              0.4444444444444444,
              "#bd3786"
             ],
             [
              0.5555555555555556,
              "#d8576b"
             ],
             [
              0.6666666666666666,
              "#ed7953"
             ],
             [
              0.7777777777777778,
              "#fb9f3a"
             ],
             [
              0.8888888888888888,
              "#fdca26"
             ],
             [
              1,
              "#f0f921"
             ]
            ],
            "type": "histogram2dcontour"
           }
          ],
          "mesh3d": [
           {
            "colorbar": {
             "outlinewidth": 0,
             "ticks": ""
            },
            "type": "mesh3d"
           }
          ],
          "parcoords": [
           {
            "line": {
             "colorbar": {
              "outlinewidth": 0,
              "ticks": ""
             }
            },
            "type": "parcoords"
           }
          ],
          "pie": [
           {
            "automargin": true,
            "type": "pie"
           }
          ],
          "scatter": [
           {
            "fillpattern": {
             "fillmode": "overlay",
             "size": 10,
             "solidity": 0.2
            },
            "type": "scatter"
           }
          ],
          "scatter3d": [
           {
            "line": {
             "colorbar": {
              "outlinewidth": 0,
              "ticks": ""
             }
            },
            "marker": {
             "colorbar": {
              "outlinewidth": 0,
              "ticks": ""
             }
            },
            "type": "scatter3d"
           }
          ],
          "scattercarpet": [
           {
            "marker": {
             "colorbar": {
              "outlinewidth": 0,
              "ticks": ""
             }
            },
            "type": "scattercarpet"
           }
          ],
          "scattergeo": [
           {
            "marker": {
             "colorbar": {
              "outlinewidth": 0,
              "ticks": ""
             }
            },
            "type": "scattergeo"
           }
          ],
          "scattergl": [
           {
            "marker": {
             "colorbar": {
              "outlinewidth": 0,
              "ticks": ""
             }
            },
            "type": "scattergl"
           }
          ],
          "scattermapbox": [
           {
            "marker": {
             "colorbar": {
              "outlinewidth": 0,
              "ticks": ""
             }
            },
            "type": "scattermapbox"
           }
          ],
          "scatterpolar": [
           {
            "marker": {
             "colorbar": {
              "outlinewidth": 0,
              "ticks": ""
             }
            },
            "type": "scatterpolar"
           }
          ],
          "scatterpolargl": [
           {
            "marker": {
             "colorbar": {
              "outlinewidth": 0,
              "ticks": ""
             }
            },
            "type": "scatterpolargl"
           }
          ],
          "scatterternary": [
           {
            "marker": {
             "colorbar": {
              "outlinewidth": 0,
              "ticks": ""
             }
            },
            "type": "scatterternary"
           }
          ],
          "surface": [
           {
            "colorbar": {
             "outlinewidth": 0,
             "ticks": ""
            },
            "colorscale": [
             [
              0,
              "#0d0887"
             ],
             [
              0.1111111111111111,
              "#46039f"
             ],
             [
              0.2222222222222222,
              "#7201a8"
             ],
             [
              0.3333333333333333,
              "#9c179e"
             ],
             [
              0.4444444444444444,
              "#bd3786"
             ],
             [
              0.5555555555555556,
              "#d8576b"
             ],
             [
              0.6666666666666666,
              "#ed7953"
             ],
             [
              0.7777777777777778,
              "#fb9f3a"
             ],
             [
              0.8888888888888888,
              "#fdca26"
             ],
             [
              1,
              "#f0f921"
             ]
            ],
            "type": "surface"
           }
          ],
          "table": [
           {
            "cells": {
             "fill": {
              "color": "#EBF0F8"
             },
             "line": {
              "color": "white"
             }
            },
            "header": {
             "fill": {
              "color": "#C8D4E3"
             },
             "line": {
              "color": "white"
             }
            },
            "type": "table"
           }
          ]
         },
         "layout": {
          "annotationdefaults": {
           "arrowcolor": "#2a3f5f",
           "arrowhead": 0,
           "arrowwidth": 1
          },
          "autotypenumbers": "strict",
          "coloraxis": {
           "colorbar": {
            "outlinewidth": 0,
            "ticks": ""
           }
          },
          "colorscale": {
           "diverging": [
            [
             0,
             "#8e0152"
            ],
            [
             0.1,
             "#c51b7d"
            ],
            [
             0.2,
             "#de77ae"
            ],
            [
             0.3,
             "#f1b6da"
            ],
            [
             0.4,
             "#fde0ef"
            ],
            [
             0.5,
             "#f7f7f7"
            ],
            [
             0.6,
             "#e6f5d0"
            ],
            [
             0.7,
             "#b8e186"
            ],
            [
             0.8,
             "#7fbc41"
            ],
            [
             0.9,
             "#4d9221"
            ],
            [
             1,
             "#276419"
            ]
           ],
           "sequential": [
            [
             0,
             "#0d0887"
            ],
            [
             0.1111111111111111,
             "#46039f"
            ],
            [
             0.2222222222222222,
             "#7201a8"
            ],
            [
             0.3333333333333333,
             "#9c179e"
            ],
            [
             0.4444444444444444,
             "#bd3786"
            ],
            [
             0.5555555555555556,
             "#d8576b"
            ],
            [
             0.6666666666666666,
             "#ed7953"
            ],
            [
             0.7777777777777778,
             "#fb9f3a"
            ],
            [
             0.8888888888888888,
             "#fdca26"
            ],
            [
             1,
             "#f0f921"
            ]
           ],
           "sequentialminus": [
            [
             0,
             "#0d0887"
            ],
            [
             0.1111111111111111,
             "#46039f"
            ],
            [
             0.2222222222222222,
             "#7201a8"
            ],
            [
             0.3333333333333333,
             "#9c179e"
            ],
            [
             0.4444444444444444,
             "#bd3786"
            ],
            [
             0.5555555555555556,
             "#d8576b"
            ],
            [
             0.6666666666666666,
             "#ed7953"
            ],
            [
             0.7777777777777778,
             "#fb9f3a"
            ],
            [
             0.8888888888888888,
             "#fdca26"
            ],
            [
             1,
             "#f0f921"
            ]
           ]
          },
          "colorway": [
           "#636efa",
           "#EF553B",
           "#00cc96",
           "#ab63fa",
           "#FFA15A",
           "#19d3f3",
           "#FF6692",
           "#B6E880",
           "#FF97FF",
           "#FECB52"
          ],
          "font": {
           "color": "#2a3f5f"
          },
          "geo": {
           "bgcolor": "white",
           "lakecolor": "white",
           "landcolor": "#E5ECF6",
           "showlakes": true,
           "showland": true,
           "subunitcolor": "white"
          },
          "hoverlabel": {
           "align": "left"
          },
          "hovermode": "closest",
          "mapbox": {
           "style": "light"
          },
          "paper_bgcolor": "white",
          "plot_bgcolor": "#E5ECF6",
          "polar": {
           "angularaxis": {
            "gridcolor": "white",
            "linecolor": "white",
            "ticks": ""
           },
           "bgcolor": "#E5ECF6",
           "radialaxis": {
            "gridcolor": "white",
            "linecolor": "white",
            "ticks": ""
           }
          },
          "scene": {
           "xaxis": {
            "backgroundcolor": "#E5ECF6",
            "gridcolor": "white",
            "gridwidth": 2,
            "linecolor": "white",
            "showbackground": true,
            "ticks": "",
            "zerolinecolor": "white"
           },
           "yaxis": {
            "backgroundcolor": "#E5ECF6",
            "gridcolor": "white",
            "gridwidth": 2,
            "linecolor": "white",
            "showbackground": true,
            "ticks": "",
            "zerolinecolor": "white"
           },
           "zaxis": {
            "backgroundcolor": "#E5ECF6",
            "gridcolor": "white",
            "gridwidth": 2,
            "linecolor": "white",
            "showbackground": true,
            "ticks": "",
            "zerolinecolor": "white"
           }
          },
          "shapedefaults": {
           "line": {
            "color": "#2a3f5f"
           }
          },
          "ternary": {
           "aaxis": {
            "gridcolor": "white",
            "linecolor": "white",
            "ticks": ""
           },
           "baxis": {
            "gridcolor": "white",
            "linecolor": "white",
            "ticks": ""
           },
           "bgcolor": "#E5ECF6",
           "caxis": {
            "gridcolor": "white",
            "linecolor": "white",
            "ticks": ""
           }
          },
          "title": {
           "x": 0.05
          },
          "xaxis": {
           "automargin": true,
           "gridcolor": "white",
           "linecolor": "white",
           "ticks": "",
           "title": {
            "standoff": 15
           },
           "zerolinecolor": "white",
           "zerolinewidth": 2
          },
          "yaxis": {
           "automargin": true,
           "gridcolor": "white",
           "linecolor": "white",
           "ticks": "",
           "title": {
            "standoff": 15
           },
           "zerolinecolor": "white",
           "zerolinewidth": 2
          }
         }
        },
        "title": {
         "text": "Feature importance"
        },
        "xaxis": {
         "anchor": "y",
         "domain": [
          0,
          1
         ],
         "title": {
          "text": "feature_name"
         }
        },
        "yaxis": {
         "anchor": "x",
         "domain": [
          0,
          1
         ],
         "title": {
          "text": "feature_importance"
         },
         "type": "log"
        }
       }
      }
     },
     "metadata": {},
     "output_type": "display_data"
    },
    {
     "name": "stdout",
     "output_type": "stream",
     "text": [
      "The following features were dropped:\n",
      "['mean_inactive_period_length_in_seconds']\n"
     ]
    }
   ],
   "source": [
    "useless_features = plot_feature_importance(df, label, max_tree_depth=10)"
   ]
  },
  {
   "cell_type": "code",
   "execution_count": 12,
   "metadata": {},
   "outputs": [
    {
     "data": {
      "application/vnd.plotly.v1+json": {
       "config": {
        "plotlyServerURL": "https://plot.ly"
       },
       "data": [
        {
         "alignmentgroup": "True",
         "hovertemplate": "feature_name=%{x}<br>feature_importance=%{y}<extra></extra>",
         "legendgroup": "",
         "marker": {
          "color": "#636efa",
          "pattern": {
           "shape": ""
          }
         },
         "name": "",
         "offsetgroup": "",
         "orientation": "v",
         "showlegend": false,
         "textposition": "auto",
         "type": "bar",
         "x": [
          "total_retweet_count",
          "entropy_text",
          "avg_mentions",
          "account_average_tweets_per_day",
          "entropy_original_text",
          "entropy_for_hour",
          "tweet_num_likes_ratio",
          "tweet_num_replies_ratio",
          "avg_special_char_in_text",
          "account_age_in_days",
          "avt_reply_count",
          "lang_num",
          "number_of_tweets",
          "avg_hashtags",
          "avt_favorite_count",
          "median_inactive_period_length_in_seconds"
         ],
         "xaxis": "x",
         "y": [
          0.7145012658985077,
          0.0834493195431324,
          0.07542833130567878,
          0.02469077057456144,
          0.01657560126770284,
          0.015264320100481463,
          0.01337909945857805,
          0.012495764493580266,
          0.010598419336217427,
          0.010159547023092472,
          0.007861447176604537,
          0.007618135590358054,
          0.003171127255696059,
          0.0028574682028730427,
          0.0013156474905423024,
          0.000633735282393221
         ],
         "yaxis": "y"
        }
       ],
       "layout": {
        "barmode": "relative",
        "legend": {
         "tracegroupgap": 0
        },
        "template": {
         "data": {
          "bar": [
           {
            "error_x": {
             "color": "#2a3f5f"
            },
            "error_y": {
             "color": "#2a3f5f"
            },
            "marker": {
             "line": {
              "color": "#E5ECF6",
              "width": 0.5
             },
             "pattern": {
              "fillmode": "overlay",
              "size": 10,
              "solidity": 0.2
             }
            },
            "type": "bar"
           }
          ],
          "barpolar": [
           {
            "marker": {
             "line": {
              "color": "#E5ECF6",
              "width": 0.5
             },
             "pattern": {
              "fillmode": "overlay",
              "size": 10,
              "solidity": 0.2
             }
            },
            "type": "barpolar"
           }
          ],
          "carpet": [
           {
            "aaxis": {
             "endlinecolor": "#2a3f5f",
             "gridcolor": "white",
             "linecolor": "white",
             "minorgridcolor": "white",
             "startlinecolor": "#2a3f5f"
            },
            "baxis": {
             "endlinecolor": "#2a3f5f",
             "gridcolor": "white",
             "linecolor": "white",
             "minorgridcolor": "white",
             "startlinecolor": "#2a3f5f"
            },
            "type": "carpet"
           }
          ],
          "choropleth": [
           {
            "colorbar": {
             "outlinewidth": 0,
             "ticks": ""
            },
            "type": "choropleth"
           }
          ],
          "contour": [
           {
            "colorbar": {
             "outlinewidth": 0,
             "ticks": ""
            },
            "colorscale": [
             [
              0,
              "#0d0887"
             ],
             [
              0.1111111111111111,
              "#46039f"
             ],
             [
              0.2222222222222222,
              "#7201a8"
             ],
             [
              0.3333333333333333,
              "#9c179e"
             ],
             [
              0.4444444444444444,
              "#bd3786"
             ],
             [
              0.5555555555555556,
              "#d8576b"
             ],
             [
              0.6666666666666666,
              "#ed7953"
             ],
             [
              0.7777777777777778,
              "#fb9f3a"
             ],
             [
              0.8888888888888888,
              "#fdca26"
             ],
             [
              1,
              "#f0f921"
             ]
            ],
            "type": "contour"
           }
          ],
          "contourcarpet": [
           {
            "colorbar": {
             "outlinewidth": 0,
             "ticks": ""
            },
            "type": "contourcarpet"
           }
          ],
          "heatmap": [
           {
            "colorbar": {
             "outlinewidth": 0,
             "ticks": ""
            },
            "colorscale": [
             [
              0,
              "#0d0887"
             ],
             [
              0.1111111111111111,
              "#46039f"
             ],
             [
              0.2222222222222222,
              "#7201a8"
             ],
             [
              0.3333333333333333,
              "#9c179e"
             ],
             [
              0.4444444444444444,
              "#bd3786"
             ],
             [
              0.5555555555555556,
              "#d8576b"
             ],
             [
              0.6666666666666666,
              "#ed7953"
             ],
             [
              0.7777777777777778,
              "#fb9f3a"
             ],
             [
              0.8888888888888888,
              "#fdca26"
             ],
             [
              1,
              "#f0f921"
             ]
            ],
            "type": "heatmap"
           }
          ],
          "heatmapgl": [
           {
            "colorbar": {
             "outlinewidth": 0,
             "ticks": ""
            },
            "colorscale": [
             [
              0,
              "#0d0887"
             ],
             [
              0.1111111111111111,
              "#46039f"
             ],
             [
              0.2222222222222222,
              "#7201a8"
             ],
             [
              0.3333333333333333,
              "#9c179e"
             ],
             [
              0.4444444444444444,
              "#bd3786"
             ],
             [
              0.5555555555555556,
              "#d8576b"
             ],
             [
              0.6666666666666666,
              "#ed7953"
             ],
             [
              0.7777777777777778,
              "#fb9f3a"
             ],
             [
              0.8888888888888888,
              "#fdca26"
             ],
             [
              1,
              "#f0f921"
             ]
            ],
            "type": "heatmapgl"
           }
          ],
          "histogram": [
           {
            "marker": {
             "pattern": {
              "fillmode": "overlay",
              "size": 10,
              "solidity": 0.2
             }
            },
            "type": "histogram"
           }
          ],
          "histogram2d": [
           {
            "colorbar": {
             "outlinewidth": 0,
             "ticks": ""
            },
            "colorscale": [
             [
              0,
              "#0d0887"
             ],
             [
              0.1111111111111111,
              "#46039f"
             ],
             [
              0.2222222222222222,
              "#7201a8"
             ],
             [
              0.3333333333333333,
              "#9c179e"
             ],
             [
              0.4444444444444444,
              "#bd3786"
             ],
             [
              0.5555555555555556,
              "#d8576b"
             ],
             [
              0.6666666666666666,
              "#ed7953"
             ],
             [
              0.7777777777777778,
              "#fb9f3a"
             ],
             [
              0.8888888888888888,
              "#fdca26"
             ],
             [
              1,
              "#f0f921"
             ]
            ],
            "type": "histogram2d"
           }
          ],
          "histogram2dcontour": [
           {
            "colorbar": {
             "outlinewidth": 0,
             "ticks": ""
            },
            "colorscale": [
             [
              0,
              "#0d0887"
             ],
             [
              0.1111111111111111,
              "#46039f"
             ],
             [
              0.2222222222222222,
              "#7201a8"
             ],
             [
              0.3333333333333333,
              "#9c179e"
             ],
             [
              0.4444444444444444,
              "#bd3786"
             ],
             [
              0.5555555555555556,
              "#d8576b"
             ],
             [
              0.6666666666666666,
              "#ed7953"
             ],
             [
              0.7777777777777778,
              "#fb9f3a"
             ],
             [
              0.8888888888888888,
              "#fdca26"
             ],
             [
              1,
              "#f0f921"
             ]
            ],
            "type": "histogram2dcontour"
           }
          ],
          "mesh3d": [
           {
            "colorbar": {
             "outlinewidth": 0,
             "ticks": ""
            },
            "type": "mesh3d"
           }
          ],
          "parcoords": [
           {
            "line": {
             "colorbar": {
              "outlinewidth": 0,
              "ticks": ""
             }
            },
            "type": "parcoords"
           }
          ],
          "pie": [
           {
            "automargin": true,
            "type": "pie"
           }
          ],
          "scatter": [
           {
            "fillpattern": {
             "fillmode": "overlay",
             "size": 10,
             "solidity": 0.2
            },
            "type": "scatter"
           }
          ],
          "scatter3d": [
           {
            "line": {
             "colorbar": {
              "outlinewidth": 0,
              "ticks": ""
             }
            },
            "marker": {
             "colorbar": {
              "outlinewidth": 0,
              "ticks": ""
             }
            },
            "type": "scatter3d"
           }
          ],
          "scattercarpet": [
           {
            "marker": {
             "colorbar": {
              "outlinewidth": 0,
              "ticks": ""
             }
            },
            "type": "scattercarpet"
           }
          ],
          "scattergeo": [
           {
            "marker": {
             "colorbar": {
              "outlinewidth": 0,
              "ticks": ""
             }
            },
            "type": "scattergeo"
           }
          ],
          "scattergl": [
           {
            "marker": {
             "colorbar": {
              "outlinewidth": 0,
              "ticks": ""
             }
            },
            "type": "scattergl"
           }
          ],
          "scattermapbox": [
           {
            "marker": {
             "colorbar": {
              "outlinewidth": 0,
              "ticks": ""
             }
            },
            "type": "scattermapbox"
           }
          ],
          "scatterpolar": [
           {
            "marker": {
             "colorbar": {
              "outlinewidth": 0,
              "ticks": ""
             }
            },
            "type": "scatterpolar"
           }
          ],
          "scatterpolargl": [
           {
            "marker": {
             "colorbar": {
              "outlinewidth": 0,
              "ticks": ""
             }
            },
            "type": "scatterpolargl"
           }
          ],
          "scatterternary": [
           {
            "marker": {
             "colorbar": {
              "outlinewidth": 0,
              "ticks": ""
             }
            },
            "type": "scatterternary"
           }
          ],
          "surface": [
           {
            "colorbar": {
             "outlinewidth": 0,
             "ticks": ""
            },
            "colorscale": [
             [
              0,
              "#0d0887"
             ],
             [
              0.1111111111111111,
              "#46039f"
             ],
             [
              0.2222222222222222,
              "#7201a8"
             ],
             [
              0.3333333333333333,
              "#9c179e"
             ],
             [
              0.4444444444444444,
              "#bd3786"
             ],
             [
              0.5555555555555556,
              "#d8576b"
             ],
             [
              0.6666666666666666,
              "#ed7953"
             ],
             [
              0.7777777777777778,
              "#fb9f3a"
             ],
             [
              0.8888888888888888,
              "#fdca26"
             ],
             [
              1,
              "#f0f921"
             ]
            ],
            "type": "surface"
           }
          ],
          "table": [
           {
            "cells": {
             "fill": {
              "color": "#EBF0F8"
             },
             "line": {
              "color": "white"
             }
            },
            "header": {
             "fill": {
              "color": "#C8D4E3"
             },
             "line": {
              "color": "white"
             }
            },
            "type": "table"
           }
          ]
         },
         "layout": {
          "annotationdefaults": {
           "arrowcolor": "#2a3f5f",
           "arrowhead": 0,
           "arrowwidth": 1
          },
          "autotypenumbers": "strict",
          "coloraxis": {
           "colorbar": {
            "outlinewidth": 0,
            "ticks": ""
           }
          },
          "colorscale": {
           "diverging": [
            [
             0,
             "#8e0152"
            ],
            [
             0.1,
             "#c51b7d"
            ],
            [
             0.2,
             "#de77ae"
            ],
            [
             0.3,
             "#f1b6da"
            ],
            [
             0.4,
             "#fde0ef"
            ],
            [
             0.5,
             "#f7f7f7"
            ],
            [
             0.6,
             "#e6f5d0"
            ],
            [
             0.7,
             "#b8e186"
            ],
            [
             0.8,
             "#7fbc41"
            ],
            [
             0.9,
             "#4d9221"
            ],
            [
             1,
             "#276419"
            ]
           ],
           "sequential": [
            [
             0,
             "#0d0887"
            ],
            [
             0.1111111111111111,
             "#46039f"
            ],
            [
             0.2222222222222222,
             "#7201a8"
            ],
            [
             0.3333333333333333,
             "#9c179e"
            ],
            [
             0.4444444444444444,
             "#bd3786"
            ],
            [
             0.5555555555555556,
             "#d8576b"
            ],
            [
             0.6666666666666666,
             "#ed7953"
            ],
            [
             0.7777777777777778,
             "#fb9f3a"
            ],
            [
             0.8888888888888888,
             "#fdca26"
            ],
            [
             1,
             "#f0f921"
            ]
           ],
           "sequentialminus": [
            [
             0,
             "#0d0887"
            ],
            [
             0.1111111111111111,
             "#46039f"
            ],
            [
             0.2222222222222222,
             "#7201a8"
            ],
            [
             0.3333333333333333,
             "#9c179e"
            ],
            [
             0.4444444444444444,
             "#bd3786"
            ],
            [
             0.5555555555555556,
             "#d8576b"
            ],
            [
             0.6666666666666666,
             "#ed7953"
            ],
            [
             0.7777777777777778,
             "#fb9f3a"
            ],
            [
             0.8888888888888888,
             "#fdca26"
            ],
            [
             1,
             "#f0f921"
            ]
           ]
          },
          "colorway": [
           "#636efa",
           "#EF553B",
           "#00cc96",
           "#ab63fa",
           "#FFA15A",
           "#19d3f3",
           "#FF6692",
           "#B6E880",
           "#FF97FF",
           "#FECB52"
          ],
          "font": {
           "color": "#2a3f5f"
          },
          "geo": {
           "bgcolor": "white",
           "lakecolor": "white",
           "landcolor": "#E5ECF6",
           "showlakes": true,
           "showland": true,
           "subunitcolor": "white"
          },
          "hoverlabel": {
           "align": "left"
          },
          "hovermode": "closest",
          "mapbox": {
           "style": "light"
          },
          "paper_bgcolor": "white",
          "plot_bgcolor": "#E5ECF6",
          "polar": {
           "angularaxis": {
            "gridcolor": "white",
            "linecolor": "white",
            "ticks": ""
           },
           "bgcolor": "#E5ECF6",
           "radialaxis": {
            "gridcolor": "white",
            "linecolor": "white",
            "ticks": ""
           }
          },
          "scene": {
           "xaxis": {
            "backgroundcolor": "#E5ECF6",
            "gridcolor": "white",
            "gridwidth": 2,
            "linecolor": "white",
            "showbackground": true,
            "ticks": "",
            "zerolinecolor": "white"
           },
           "yaxis": {
            "backgroundcolor": "#E5ECF6",
            "gridcolor": "white",
            "gridwidth": 2,
            "linecolor": "white",
            "showbackground": true,
            "ticks": "",
            "zerolinecolor": "white"
           },
           "zaxis": {
            "backgroundcolor": "#E5ECF6",
            "gridcolor": "white",
            "gridwidth": 2,
            "linecolor": "white",
            "showbackground": true,
            "ticks": "",
            "zerolinecolor": "white"
           }
          },
          "shapedefaults": {
           "line": {
            "color": "#2a3f5f"
           }
          },
          "ternary": {
           "aaxis": {
            "gridcolor": "white",
            "linecolor": "white",
            "ticks": ""
           },
           "baxis": {
            "gridcolor": "white",
            "linecolor": "white",
            "ticks": ""
           },
           "bgcolor": "#E5ECF6",
           "caxis": {
            "gridcolor": "white",
            "linecolor": "white",
            "ticks": ""
           }
          },
          "title": {
           "x": 0.05
          },
          "xaxis": {
           "automargin": true,
           "gridcolor": "white",
           "linecolor": "white",
           "ticks": "",
           "title": {
            "standoff": 15
           },
           "zerolinecolor": "white",
           "zerolinewidth": 2
          },
          "yaxis": {
           "automargin": true,
           "gridcolor": "white",
           "linecolor": "white",
           "ticks": "",
           "title": {
            "standoff": 15
           },
           "zerolinecolor": "white",
           "zerolinewidth": 2
          }
         }
        },
        "title": {
         "text": "Feature importance"
        },
        "xaxis": {
         "anchor": "y",
         "domain": [
          0,
          1
         ],
         "title": {
          "text": "feature_name"
         }
        },
        "yaxis": {
         "anchor": "x",
         "domain": [
          0,
          1
         ],
         "title": {
          "text": "feature_importance"
         },
         "type": "log"
        }
       }
      }
     },
     "metadata": {},
     "output_type": "display_data"
    },
    {
     "name": "stdout",
     "output_type": "stream",
     "text": [
      "The following features were dropped:\n",
      "['total_replies', 'total_likes', 'avg_text_length', 'account_discussion_creation_ratio', 'entropy_for_minute', 'entropy_for_day', 'max_number_of_tweets_in_a_day', 'avg_tweets_per_actual_day', 'mean_inactive_period_length_in_seconds', 'mode_inactive_period_length_in_seconds', 'mode_count', 'statuses_count']\n"
     ]
    }
   ],
   "source": [
    "useless_features = plot_feature_importance(df, label, max_tree_depth=5)"
   ]
  },
  {
   "attachments": {},
   "cell_type": "markdown",
   "metadata": {},
   "source": [
    "With a shallower desicion tree, we can see that more features will be dropped."
   ]
  },
  {
   "cell_type": "code",
   "execution_count": 13,
   "metadata": {},
   "outputs": [
    {
     "name": "stderr",
     "output_type": "stream",
     "text": [
      "c:\\Users\\admin\\AppData\\Local\\Programs\\Python\\Python310\\lib\\site-packages\\sklearn\\base.py:450: UserWarning:\n",
      "\n",
      "X does not have valid feature names, but DecisionTreeClassifier was fitted with feature names\n",
      "\n"
     ]
    }
   ],
   "source": [
    "clf = DecisionTreeClassifier(max_depth=5)\n",
    "X = df\n",
    "y = label\n",
    "clf = clf.fit(X, y)\n",
    "\n",
    "feature_names = X.columns.tolist()\n",
    "class_names = [\"human\", \"bot\"]\n",
    "plot_tree(clf, X, y, feature_names, class_names)"
   ]
  },
  {
   "attachments": {},
   "cell_type": "markdown",
   "metadata": {},
   "source": [
    "## Applying the Decision tree classification method and the K-fold cross validation\n",
    "\n",
    "We split the dataset into K-folds. Starting with a typical K of 10."
   ]
  },
  {
   "cell_type": "code",
   "execution_count": 14,
   "metadata": {},
   "outputs": [
    {
     "name": "stdout",
     "output_type": "stream",
     "text": [
      "{'Training Accuracy scores': array([0.86267253, 0.85997199, 0.86387277, 0.86317263, 0.85927185,\n",
      "       0.86687337, 0.86557311, 0.86277255, 0.86557311, 0.86428643]), 'Mean Training Accuracy': 86.34040379433023, 'Training Precision scores': array([0.80424216, 0.80141011, 0.80584674, 0.80393886, 0.79961972,\n",
      "       0.80906532, 0.80936803, 0.80537905, 0.81365898, 0.80725926]), 'Mean Training Precision': 0.8059788218218177, 'Training Recall scores': array([0.99200581, 0.99127907, 0.99164244, 0.99382267, 0.99327762,\n",
      "       0.99236919, 0.98873751, 0.99000908, 0.98038147, 0.98982743]), 'Mean Training Recall': 0.9903352297330124, 'Training F1 scores': array([0.88831042, 0.8862898 , 0.8891423 , 0.88885278, 0.88598979,\n",
      "       0.89139127, 0.8901063 , 0.88820078, 0.88927336, 0.88926969]), 'Mean Training F1 Score': 0.8886826475928977, 'Validation Accuracy scores': array([0.83438344, 0.83348335, 0.84968497, 0.8379838 , 0.84788479,\n",
      "       0.81548155, 0.84068407, 0.84158416, 0.83438344, 0.84054054]), 'Mean Validation Accuracy': 83.76094095896077, 'Validation Precision scores': array([0.77792208, 0.77763329, 0.80026991, 0.788     , 0.79183136,\n",
      "       0.76190476, 0.7847769 , 0.79753762, 0.78968792, 0.79644809]), 'Mean Validation Precision': 0.7866011926429806, 'Validation Recall scores': array([0.97875817, 0.97712418, 0.96895425, 0.96568627, 0.98202614,\n",
      "       0.96732026, 0.9787234 , 0.95417349, 0.95253682, 0.95417349]), 'Mean Validation Recall': 0.9679476482355082, 'Validation F1 scores': array([0.86685962, 0.8660391 , 0.87657058, 0.86784141, 0.87673231,\n",
      "       0.85241181, 0.87108521, 0.86885246, 0.86350148, 0.86820551]), 'Mean Validation F1 Score': 0.8678099506255276}\n"
     ]
    },
    {
     "data": {
      "application/vnd.plotly.v1+json": {
       "config": {
        "plotlyServerURL": "https://plot.ly"
       },
       "data": [
        {
         "alignmentgroup": "True",
         "hovertemplate": "feature_name=%{x}<br>feature_importance=%{y}<extra></extra>",
         "legendgroup": "",
         "marker": {
          "color": "#636efa",
          "pattern": {
           "shape": ""
          }
         },
         "name": "",
         "offsetgroup": "",
         "orientation": "v",
         "showlegend": false,
         "textposition": "auto",
         "type": "bar",
         "x": [
          "total_retweet_count",
          "entropy_text",
          "avg_mentions",
          "account_average_tweets_per_day",
          "tweet_num_replies_ratio",
          "entropy_original_text",
          "entropy_for_hour",
          "lang_num",
          "tweet_num_likes_ratio",
          "avg_special_char_in_text",
          "account_age_in_days",
          "avg_hashtags",
          "avg_tweets_per_actual_day",
          "avt_reply_count",
          "number_of_tweets",
          "avt_favorite_count",
          "avg_text_length",
          "max_number_of_tweets_in_a_day",
          "statuses_count",
          "median_inactive_period_length_in_seconds",
          "account_discussion_creation_ratio",
          "entropy_for_day",
          "mode_count",
          "entropy_for_minute",
          "total_replies",
          "mode_inactive_period_length_in_seconds",
          "mean_inactive_period_length_in_seconds",
          "total_likes"
         ],
         "xaxis": "x",
         "y": [
          0.6408018983695023,
          0.08376875968047262,
          0.07125382846481433,
          0.023310868160718572,
          0.01824590755784784,
          0.016373676275823555,
          0.015804900928685476,
          0.015480672633597361,
          0.015099076001900259,
          0.013051204481992743,
          0.011469026112774956,
          0.010456519948021664,
          0.009370479788104213,
          0.008150841118401518,
          0.00734969663332703,
          0.006476169535614742,
          0.0058342730189472405,
          0.005359136408604079,
          0.004756186790502721,
          0.003999661811268786,
          0.0027734093339621554,
          0.0027041345351202844,
          0.0017746627346929104,
          0.0016999747717318999,
          0.0016079811942538715,
          0.0013000336301296734,
          0.0008777480199528717,
          0.0008492720592342581
         ],
         "yaxis": "y"
        }
       ],
       "layout": {
        "barmode": "relative",
        "legend": {
         "tracegroupgap": 0
        },
        "template": {
         "data": {
          "bar": [
           {
            "error_x": {
             "color": "#2a3f5f"
            },
            "error_y": {
             "color": "#2a3f5f"
            },
            "marker": {
             "line": {
              "color": "#E5ECF6",
              "width": 0.5
             },
             "pattern": {
              "fillmode": "overlay",
              "size": 10,
              "solidity": 0.2
             }
            },
            "type": "bar"
           }
          ],
          "barpolar": [
           {
            "marker": {
             "line": {
              "color": "#E5ECF6",
              "width": 0.5
             },
             "pattern": {
              "fillmode": "overlay",
              "size": 10,
              "solidity": 0.2
             }
            },
            "type": "barpolar"
           }
          ],
          "carpet": [
           {
            "aaxis": {
             "endlinecolor": "#2a3f5f",
             "gridcolor": "white",
             "linecolor": "white",
             "minorgridcolor": "white",
             "startlinecolor": "#2a3f5f"
            },
            "baxis": {
             "endlinecolor": "#2a3f5f",
             "gridcolor": "white",
             "linecolor": "white",
             "minorgridcolor": "white",
             "startlinecolor": "#2a3f5f"
            },
            "type": "carpet"
           }
          ],
          "choropleth": [
           {
            "colorbar": {
             "outlinewidth": 0,
             "ticks": ""
            },
            "type": "choropleth"
           }
          ],
          "contour": [
           {
            "colorbar": {
             "outlinewidth": 0,
             "ticks": ""
            },
            "colorscale": [
             [
              0,
              "#0d0887"
             ],
             [
              0.1111111111111111,
              "#46039f"
             ],
             [
              0.2222222222222222,
              "#7201a8"
             ],
             [
              0.3333333333333333,
              "#9c179e"
             ],
             [
              0.4444444444444444,
              "#bd3786"
             ],
             [
              0.5555555555555556,
              "#d8576b"
             ],
             [
              0.6666666666666666,
              "#ed7953"
             ],
             [
              0.7777777777777778,
              "#fb9f3a"
             ],
             [
              0.8888888888888888,
              "#fdca26"
             ],
             [
              1,
              "#f0f921"
             ]
            ],
            "type": "contour"
           }
          ],
          "contourcarpet": [
           {
            "colorbar": {
             "outlinewidth": 0,
             "ticks": ""
            },
            "type": "contourcarpet"
           }
          ],
          "heatmap": [
           {
            "colorbar": {
             "outlinewidth": 0,
             "ticks": ""
            },
            "colorscale": [
             [
              0,
              "#0d0887"
             ],
             [
              0.1111111111111111,
              "#46039f"
             ],
             [
              0.2222222222222222,
              "#7201a8"
             ],
             [
              0.3333333333333333,
              "#9c179e"
             ],
             [
              0.4444444444444444,
              "#bd3786"
             ],
             [
              0.5555555555555556,
              "#d8576b"
             ],
             [
              0.6666666666666666,
              "#ed7953"
             ],
             [
              0.7777777777777778,
              "#fb9f3a"
             ],
             [
              0.8888888888888888,
              "#fdca26"
             ],
             [
              1,
              "#f0f921"
             ]
            ],
            "type": "heatmap"
           }
          ],
          "heatmapgl": [
           {
            "colorbar": {
             "outlinewidth": 0,
             "ticks": ""
            },
            "colorscale": [
             [
              0,
              "#0d0887"
             ],
             [
              0.1111111111111111,
              "#46039f"
             ],
             [
              0.2222222222222222,
              "#7201a8"
             ],
             [
              0.3333333333333333,
              "#9c179e"
             ],
             [
              0.4444444444444444,
              "#bd3786"
             ],
             [
              0.5555555555555556,
              "#d8576b"
             ],
             [
              0.6666666666666666,
              "#ed7953"
             ],
             [
              0.7777777777777778,
              "#fb9f3a"
             ],
             [
              0.8888888888888888,
              "#fdca26"
             ],
             [
              1,
              "#f0f921"
             ]
            ],
            "type": "heatmapgl"
           }
          ],
          "histogram": [
           {
            "marker": {
             "pattern": {
              "fillmode": "overlay",
              "size": 10,
              "solidity": 0.2
             }
            },
            "type": "histogram"
           }
          ],
          "histogram2d": [
           {
            "colorbar": {
             "outlinewidth": 0,
             "ticks": ""
            },
            "colorscale": [
             [
              0,
              "#0d0887"
             ],
             [
              0.1111111111111111,
              "#46039f"
             ],
             [
              0.2222222222222222,
              "#7201a8"
             ],
             [
              0.3333333333333333,
              "#9c179e"
             ],
             [
              0.4444444444444444,
              "#bd3786"
             ],
             [
              0.5555555555555556,
              "#d8576b"
             ],
             [
              0.6666666666666666,
              "#ed7953"
             ],
             [
              0.7777777777777778,
              "#fb9f3a"
             ],
             [
              0.8888888888888888,
              "#fdca26"
             ],
             [
              1,
              "#f0f921"
             ]
            ],
            "type": "histogram2d"
           }
          ],
          "histogram2dcontour": [
           {
            "colorbar": {
             "outlinewidth": 0,
             "ticks": ""
            },
            "colorscale": [
             [
              0,
              "#0d0887"
             ],
             [
              0.1111111111111111,
              "#46039f"
             ],
             [
              0.2222222222222222,
              "#7201a8"
             ],
             [
              0.3333333333333333,
              "#9c179e"
             ],
             [
              0.4444444444444444,
              "#bd3786"
             ],
             [
              0.5555555555555556,
              "#d8576b"
             ],
             [
              0.6666666666666666,
              "#ed7953"
             ],
             [
              0.7777777777777778,
              "#fb9f3a"
             ],
             [
              0.8888888888888888,
              "#fdca26"
             ],
             [
              1,
              "#f0f921"
             ]
            ],
            "type": "histogram2dcontour"
           }
          ],
          "mesh3d": [
           {
            "colorbar": {
             "outlinewidth": 0,
             "ticks": ""
            },
            "type": "mesh3d"
           }
          ],
          "parcoords": [
           {
            "line": {
             "colorbar": {
              "outlinewidth": 0,
              "ticks": ""
             }
            },
            "type": "parcoords"
           }
          ],
          "pie": [
           {
            "automargin": true,
            "type": "pie"
           }
          ],
          "scatter": [
           {
            "fillpattern": {
             "fillmode": "overlay",
             "size": 10,
             "solidity": 0.2
            },
            "type": "scatter"
           }
          ],
          "scatter3d": [
           {
            "line": {
             "colorbar": {
              "outlinewidth": 0,
              "ticks": ""
             }
            },
            "marker": {
             "colorbar": {
              "outlinewidth": 0,
              "ticks": ""
             }
            },
            "type": "scatter3d"
           }
          ],
          "scattercarpet": [
           {
            "marker": {
             "colorbar": {
              "outlinewidth": 0,
              "ticks": ""
             }
            },
            "type": "scattercarpet"
           }
          ],
          "scattergeo": [
           {
            "marker": {
             "colorbar": {
              "outlinewidth": 0,
              "ticks": ""
             }
            },
            "type": "scattergeo"
           }
          ],
          "scattergl": [
           {
            "marker": {
             "colorbar": {
              "outlinewidth": 0,
              "ticks": ""
             }
            },
            "type": "scattergl"
           }
          ],
          "scattermapbox": [
           {
            "marker": {
             "colorbar": {
              "outlinewidth": 0,
              "ticks": ""
             }
            },
            "type": "scattermapbox"
           }
          ],
          "scatterpolar": [
           {
            "marker": {
             "colorbar": {
              "outlinewidth": 0,
              "ticks": ""
             }
            },
            "type": "scatterpolar"
           }
          ],
          "scatterpolargl": [
           {
            "marker": {
             "colorbar": {
              "outlinewidth": 0,
              "ticks": ""
             }
            },
            "type": "scatterpolargl"
           }
          ],
          "scatterternary": [
           {
            "marker": {
             "colorbar": {
              "outlinewidth": 0,
              "ticks": ""
             }
            },
            "type": "scatterternary"
           }
          ],
          "surface": [
           {
            "colorbar": {
             "outlinewidth": 0,
             "ticks": ""
            },
            "colorscale": [
             [
              0,
              "#0d0887"
             ],
             [
              0.1111111111111111,
              "#46039f"
             ],
             [
              0.2222222222222222,
              "#7201a8"
             ],
             [
              0.3333333333333333,
              "#9c179e"
             ],
             [
              0.4444444444444444,
              "#bd3786"
             ],
             [
              0.5555555555555556,
              "#d8576b"
             ],
             [
              0.6666666666666666,
              "#ed7953"
             ],
             [
              0.7777777777777778,
              "#fb9f3a"
             ],
             [
              0.8888888888888888,
              "#fdca26"
             ],
             [
              1,
              "#f0f921"
             ]
            ],
            "type": "surface"
           }
          ],
          "table": [
           {
            "cells": {
             "fill": {
              "color": "#EBF0F8"
             },
             "line": {
              "color": "white"
             }
            },
            "header": {
             "fill": {
              "color": "#C8D4E3"
             },
             "line": {
              "color": "white"
             }
            },
            "type": "table"
           }
          ]
         },
         "layout": {
          "annotationdefaults": {
           "arrowcolor": "#2a3f5f",
           "arrowhead": 0,
           "arrowwidth": 1
          },
          "autotypenumbers": "strict",
          "coloraxis": {
           "colorbar": {
            "outlinewidth": 0,
            "ticks": ""
           }
          },
          "colorscale": {
           "diverging": [
            [
             0,
             "#8e0152"
            ],
            [
             0.1,
             "#c51b7d"
            ],
            [
             0.2,
             "#de77ae"
            ],
            [
             0.3,
             "#f1b6da"
            ],
            [
             0.4,
             "#fde0ef"
            ],
            [
             0.5,
             "#f7f7f7"
            ],
            [
             0.6,
             "#e6f5d0"
            ],
            [
             0.7,
             "#b8e186"
            ],
            [
             0.8,
             "#7fbc41"
            ],
            [
             0.9,
             "#4d9221"
            ],
            [
             1,
             "#276419"
            ]
           ],
           "sequential": [
            [
             0,
             "#0d0887"
            ],
            [
             0.1111111111111111,
             "#46039f"
            ],
            [
             0.2222222222222222,
             "#7201a8"
            ],
            [
             0.3333333333333333,
             "#9c179e"
            ],
            [
             0.4444444444444444,
             "#bd3786"
            ],
            [
             0.5555555555555556,
             "#d8576b"
            ],
            [
             0.6666666666666666,
             "#ed7953"
            ],
            [
             0.7777777777777778,
             "#fb9f3a"
            ],
            [
             0.8888888888888888,
             "#fdca26"
            ],
            [
             1,
             "#f0f921"
            ]
           ],
           "sequentialminus": [
            [
             0,
             "#0d0887"
            ],
            [
             0.1111111111111111,
             "#46039f"
            ],
            [
             0.2222222222222222,
             "#7201a8"
            ],
            [
             0.3333333333333333,
             "#9c179e"
            ],
            [
             0.4444444444444444,
             "#bd3786"
            ],
            [
             0.5555555555555556,
             "#d8576b"
            ],
            [
             0.6666666666666666,
             "#ed7953"
            ],
            [
             0.7777777777777778,
             "#fb9f3a"
            ],
            [
             0.8888888888888888,
             "#fdca26"
            ],
            [
             1,
             "#f0f921"
            ]
           ]
          },
          "colorway": [
           "#636efa",
           "#EF553B",
           "#00cc96",
           "#ab63fa",
           "#FFA15A",
           "#19d3f3",
           "#FF6692",
           "#B6E880",
           "#FF97FF",
           "#FECB52"
          ],
          "font": {
           "color": "#2a3f5f"
          },
          "geo": {
           "bgcolor": "white",
           "lakecolor": "white",
           "landcolor": "#E5ECF6",
           "showlakes": true,
           "showland": true,
           "subunitcolor": "white"
          },
          "hoverlabel": {
           "align": "left"
          },
          "hovermode": "closest",
          "mapbox": {
           "style": "light"
          },
          "paper_bgcolor": "white",
          "plot_bgcolor": "#E5ECF6",
          "polar": {
           "angularaxis": {
            "gridcolor": "white",
            "linecolor": "white",
            "ticks": ""
           },
           "bgcolor": "#E5ECF6",
           "radialaxis": {
            "gridcolor": "white",
            "linecolor": "white",
            "ticks": ""
           }
          },
          "scene": {
           "xaxis": {
            "backgroundcolor": "#E5ECF6",
            "gridcolor": "white",
            "gridwidth": 2,
            "linecolor": "white",
            "showbackground": true,
            "ticks": "",
            "zerolinecolor": "white"
           },
           "yaxis": {
            "backgroundcolor": "#E5ECF6",
            "gridcolor": "white",
            "gridwidth": 2,
            "linecolor": "white",
            "showbackground": true,
            "ticks": "",
            "zerolinecolor": "white"
           },
           "zaxis": {
            "backgroundcolor": "#E5ECF6",
            "gridcolor": "white",
            "gridwidth": 2,
            "linecolor": "white",
            "showbackground": true,
            "ticks": "",
            "zerolinecolor": "white"
           }
          },
          "shapedefaults": {
           "line": {
            "color": "#2a3f5f"
           }
          },
          "ternary": {
           "aaxis": {
            "gridcolor": "white",
            "linecolor": "white",
            "ticks": ""
           },
           "baxis": {
            "gridcolor": "white",
            "linecolor": "white",
            "ticks": ""
           },
           "bgcolor": "#E5ECF6",
           "caxis": {
            "gridcolor": "white",
            "linecolor": "white",
            "ticks": ""
           }
          },
          "title": {
           "x": 0.05
          },
          "xaxis": {
           "automargin": true,
           "gridcolor": "white",
           "linecolor": "white",
           "ticks": "",
           "title": {
            "standoff": 15
           },
           "zerolinecolor": "white",
           "zerolinewidth": 2
          },
          "yaxis": {
           "automargin": true,
           "gridcolor": "white",
           "linecolor": "white",
           "ticks": "",
           "title": {
            "standoff": 15
           },
           "zerolinecolor": "white",
           "zerolinewidth": 2
          }
         }
        },
        "title": {
         "text": "Feature importance"
        },
        "xaxis": {
         "anchor": "y",
         "domain": [
          0,
          1
         ],
         "title": {
          "text": "feature_name"
         }
        },
        "yaxis": {
         "anchor": "x",
         "domain": [
          0,
          1
         ],
         "title": {
          "text": "feature_importance"
         },
         "type": "log"
        }
       }
      }
     },
     "metadata": {},
     "output_type": "display_data"
    },
    {
     "name": "stdout",
     "output_type": "stream",
     "text": [
      "The following features were dropped:\n",
      "[]\n"
     ]
    },
    {
     "data": {
      "image/png": "[encoded data removed]",
      "text/plain": [
       "<Figure size 1200x600 with 1 Axes>"
      ]
     },
     "metadata": {},
     "output_type": "display_data"
    },
    {
     "data": {
      "image/png": "[encoded data removed]",
      "text/plain": [
       "<Figure size 1200x600 with 1 Axes>"
      ]
     },
     "metadata": {},
     "output_type": "display_data"
    },
    {
     "data": {
      "image/png": "[encoded data removed]",
      "text/plain": [
       "<Figure size 1200x600 with 1 Axes>"
      ]
     },
     "metadata": {},
     "output_type": "display_data"
    },
    {
     "data": {
      "image/png": "[encoded data removed]",
      "text/plain": [
       "<Figure size 1200x600 with 1 Axes>"
      ]
     },
     "metadata": {},
     "output_type": "display_data"
    }
   ],
   "source": [
    "fold_classify_and_plot1(df, label, cv=10, max_tree_depth=10, criterion=\"gini\")"
   ]
  },
  {
   "cell_type": "code",
   "execution_count": 15,
   "metadata": {},
   "outputs": [
    {
     "name": "stdout",
     "output_type": "stream",
     "text": [
      "{'Training Accuracy scores': array([0.85957191, 0.85987197, 0.85967193, 0.86027205, 0.85967193,\n",
      "       0.86267253, 0.86427285, 0.86227245, 0.85787157, 0.86028603]), 'Mean Training Accuracy': 86.06435258448828, 'Training Precision scores': array([0.79831199, 0.79883467, 0.79816781, 0.80140907, 0.8       ,\n",
      "       0.80370534, 0.8033938 , 0.80255057, 0.79697499, 0.80375629]), 'Mean Training Precision': 0.8007104513170915, 'Training Recall scores': array([0.99672965, 0.99636628, 0.99727471, 0.99200581, 0.9934593 ,\n",
      "       0.99309593, 0.99763851, 0.99455041, 0.99545867, 0.98728429]), 'Mean Training Recall': 0.9943863566155503, 'Training F1 scores': array([0.88655462, 0.88673296, 0.88668121, 0.88657952, 0.88629549,\n",
      "       0.88841934, 0.89004133, 0.88829399, 0.88522736, 0.88611723]), 'Mean Training F1 Score': 0.8870943044233556, 'Validation Accuracy scores': array([0.83168317, 0.83258326, 0.85058506, 0.84248425, 0.83978398,\n",
      "       0.80828083, 0.83438344, 0.83528353, 0.83978398, 0.84594595]), 'Mean Validation Accuracy': 83.60797431094461, 'Validation Precision scores': array([0.77419355, 0.7751938 , 0.79575597, 0.7917223 , 0.78933333,\n",
      "       0.75675676, 0.78055191, 0.78918919, 0.78226858, 0.80054645]), 'Mean Validation Precision': 0.7835511823034771, 'Validation Recall scores': array([0.98039216, 0.98039216, 0.98039216, 0.96895425, 0.96732026,\n",
      "       0.96078431, 0.97217676, 0.95581015, 0.98199673, 0.95908347]), 'Mean Validation Recall': 0.9707302397227302, 'Validation F1 scores': array([0.86517664, 0.86580087, 0.87847731, 0.87141807, 0.86930984,\n",
      "       0.84665227, 0.86588921, 0.86454478, 0.87082729, 0.87267312]), 'Mean Validation F1 Score': 0.8670769393544514}\n"
     ]
    },
    {
     "data": {
      "application/vnd.plotly.v1+json": {
       "config": {
        "plotlyServerURL": "https://plot.ly"
       },
       "data": [
        {
         "alignmentgroup": "True",
         "hovertemplate": "feature_name=%{x}<br>feature_importance=%{y}<extra></extra>",
         "legendgroup": "",
         "marker": {
          "color": "#636efa",
          "pattern": {
           "shape": ""
          }
         },
         "name": "",
         "offsetgroup": "",
         "orientation": "v",
         "showlegend": false,
         "textposition": "auto",
         "type": "bar",
         "x": [
          "total_retweet_count",
          "entropy_text",
          "entropy_original_text",
          "number_of_tweets",
          "lang_num",
          "tweet_num_replies_ratio",
          "account_average_tweets_per_day",
          "account_age_in_days",
          "tweet_num_likes_ratio",
          "avg_special_char_in_text",
          "entropy_for_hour",
          "avg_text_length",
          "account_discussion_creation_ratio",
          "avg_mentions",
          "avg_hashtags",
          "mode_count",
          "avt_reply_count",
          "mean_inactive_period_length_in_seconds",
          "entropy_for_minute",
          "max_number_of_tweets_in_a_day",
          "total_replies",
          "avt_favorite_count",
          "avg_tweets_per_actual_day",
          "median_inactive_period_length_in_seconds",
          "statuses_count",
          "entropy_for_day",
          "mode_inactive_period_length_in_seconds"
         ],
         "xaxis": "x",
         "y": [
          0.5553040799544487,
          0.15681036160497933,
          0.046825117643519,
          0.02924922790424691,
          0.028921337367068825,
          0.02773894398839367,
          0.021350329388269924,
          0.01727749780391478,
          0.015126846116017537,
          0.01297187079696296,
          0.012597278244286405,
          0.011051406906448033,
          0.008547678345030634,
          0.007904085996581071,
          0.006869692429401586,
          0.006389649106184606,
          0.005000201810737708,
          0.00484739032791006,
          0.004302780151824467,
          0.00422460881402948,
          0.004057880696252963,
          0.0035775943832561325,
          0.003168301502459942,
          0.0027061321349469134,
          0.0013841602904545028,
          0.001343004041477552,
          0.00045254225089646263
         ],
         "yaxis": "y"
        }
       ],
       "layout": {
        "barmode": "relative",
        "legend": {
         "tracegroupgap": 0
        },
        "template": {
         "data": {
          "bar": [
           {
            "error_x": {
             "color": "#2a3f5f"
            },
            "error_y": {
             "color": "#2a3f5f"
            },
            "marker": {
             "line": {
              "color": "#E5ECF6",
              "width": 0.5
             },
             "pattern": {
              "fillmode": "overlay",
              "size": 10,
              "solidity": 0.2
             }
            },
            "type": "bar"
           }
          ],
          "barpolar": [
           {
            "marker": {
             "line": {
              "color": "#E5ECF6",
              "width": 0.5
             },
             "pattern": {
              "fillmode": "overlay",
              "size": 10,
              "solidity": 0.2
             }
            },
            "type": "barpolar"
           }
          ],
          "carpet": [
           {
            "aaxis": {
             "endlinecolor": "#2a3f5f",
             "gridcolor": "white",
             "linecolor": "white",
             "minorgridcolor": "white",
             "startlinecolor": "#2a3f5f"
            },
            "baxis": {
             "endlinecolor": "#2a3f5f",
             "gridcolor": "white",
             "linecolor": "white",
             "minorgridcolor": "white",
             "startlinecolor": "#2a3f5f"
            },
            "type": "carpet"
           }
          ],
          "choropleth": [
           {
            "colorbar": {
             "outlinewidth": 0,
             "ticks": ""
            },
            "type": "choropleth"
           }
          ],
          "contour": [
           {
            "colorbar": {
             "outlinewidth": 0,
             "ticks": ""
            },
            "colorscale": [
             [
              0,
              "#0d0887"
             ],
             [
              0.1111111111111111,
              "#46039f"
             ],
             [
              0.2222222222222222,
              "#7201a8"
             ],
             [
              0.3333333333333333,
              "#9c179e"
             ],
             [
              0.4444444444444444,
              "#bd3786"
             ],
             [
              0.5555555555555556,
              "#d8576b"
             ],
             [
              0.6666666666666666,
              "#ed7953"
             ],
             [
              0.7777777777777778,
              "#fb9f3a"
             ],
             [
              0.8888888888888888,
              "#fdca26"
             ],
             [
              1,
              "#f0f921"
             ]
            ],
            "type": "contour"
           }
          ],
          "contourcarpet": [
           {
            "colorbar": {
             "outlinewidth": 0,
             "ticks": ""
            },
            "type": "contourcarpet"
           }
          ],
          "heatmap": [
           {
            "colorbar": {
             "outlinewidth": 0,
             "ticks": ""
            },
            "colorscale": [
             [
              0,
              "#0d0887"
             ],
             [
              0.1111111111111111,
              "#46039f"
             ],
             [
              0.2222222222222222,
              "#7201a8"
             ],
             [
              0.3333333333333333,
              "#9c179e"
             ],
             [
              0.4444444444444444,
              "#bd3786"
             ],
             [
              0.5555555555555556,
              "#d8576b"
             ],
             [
              0.6666666666666666,
              "#ed7953"
             ],
             [
              0.7777777777777778,
              "#fb9f3a"
             ],
             [
              0.8888888888888888,
              "#fdca26"
             ],
             [
              1,
              "#f0f921"
             ]
            ],
            "type": "heatmap"
           }
          ],
          "heatmapgl": [
           {
            "colorbar": {
             "outlinewidth": 0,
             "ticks": ""
            },
            "colorscale": [
             [
              0,
              "#0d0887"
             ],
             [
              0.1111111111111111,
              "#46039f"
             ],
             [
              0.2222222222222222,
              "#7201a8"
             ],
             [
              0.3333333333333333,
              "#9c179e"
             ],
             [
              0.4444444444444444,
              "#bd3786"
             ],
             [
              0.5555555555555556,
              "#d8576b"
             ],
             [
              0.6666666666666666,
              "#ed7953"
             ],
             [
              0.7777777777777778,
              "#fb9f3a"
             ],
             [
              0.8888888888888888,
              "#fdca26"
             ],
             [
              1,
              "#f0f921"
             ]
            ],
            "type": "heatmapgl"
           }
          ],
          "histogram": [
           {
            "marker": {
             "pattern": {
              "fillmode": "overlay",
              "size": 10,
              "solidity": 0.2
             }
            },
            "type": "histogram"
           }
          ],
          "histogram2d": [
           {
            "colorbar": {
             "outlinewidth": 0,
             "ticks": ""
            },
            "colorscale": [
             [
              0,
              "#0d0887"
             ],
             [
              0.1111111111111111,
              "#46039f"
             ],
             [
              0.2222222222222222,
              "#7201a8"
             ],
             [
              0.3333333333333333,
              "#9c179e"
             ],
             [
              0.4444444444444444,
              "#bd3786"
             ],
             [
              0.5555555555555556,
              "#d8576b"
             ],
             [
              0.6666666666666666,
              "#ed7953"
             ],
             [
              0.7777777777777778,
              "#fb9f3a"
             ],
             [
              0.8888888888888888,
              "#fdca26"
             ],
             [
              1,
              "#f0f921"
             ]
            ],
            "type": "histogram2d"
           }
          ],
          "histogram2dcontour": [
           {
            "colorbar": {
             "outlinewidth": 0,
             "ticks": ""
            },
            "colorscale": [
             [
              0,
              "#0d0887"
             ],
             [
              0.1111111111111111,
              "#46039f"
             ],
             [
              0.2222222222222222,
              "#7201a8"
             ],
             [
              0.3333333333333333,
              "#9c179e"
             ],
             [
              0.4444444444444444,
              "#bd3786"
             ],
             [
              0.5555555555555556,
              "#d8576b"
             ],
             [
              0.6666666666666666,
              "#ed7953"
             ],
             [
              0.7777777777777778,
              "#fb9f3a"
             ],
             [
              0.8888888888888888,
              "#fdca26"
             ],
             [
              1,
              "#f0f921"
             ]
            ],
            "type": "histogram2dcontour"
           }
          ],
          "mesh3d": [
           {
            "colorbar": {
             "outlinewidth": 0,
             "ticks": ""
            },
            "type": "mesh3d"
           }
          ],
          "parcoords": [
           {
            "line": {
             "colorbar": {
              "outlinewidth": 0,
              "ticks": ""
             }
            },
            "type": "parcoords"
           }
          ],
          "pie": [
           {
            "automargin": true,
            "type": "pie"
           }
          ],
          "scatter": [
           {
            "fillpattern": {
             "fillmode": "overlay",
             "size": 10,
             "solidity": 0.2
            },
            "type": "scatter"
           }
          ],
          "scatter3d": [
           {
            "line": {
             "colorbar": {
              "outlinewidth": 0,
              "ticks": ""
             }
            },
            "marker": {
             "colorbar": {
              "outlinewidth": 0,
              "ticks": ""
             }
            },
            "type": "scatter3d"
           }
          ],
          "scattercarpet": [
           {
            "marker": {
             "colorbar": {
              "outlinewidth": 0,
              "ticks": ""
             }
            },
            "type": "scattercarpet"
           }
          ],
          "scattergeo": [
           {
            "marker": {
             "colorbar": {
              "outlinewidth": 0,
              "ticks": ""
             }
            },
            "type": "scattergeo"
           }
          ],
          "scattergl": [
           {
            "marker": {
             "colorbar": {
              "outlinewidth": 0,
              "ticks": ""
             }
            },
            "type": "scattergl"
           }
          ],
          "scattermapbox": [
           {
            "marker": {
             "colorbar": {
              "outlinewidth": 0,
              "ticks": ""
             }
            },
            "type": "scattermapbox"
           }
          ],
          "scatterpolar": [
           {
            "marker": {
             "colorbar": {
              "outlinewidth": 0,
              "ticks": ""
             }
            },
            "type": "scatterpolar"
           }
          ],
          "scatterpolargl": [
           {
            "marker": {
             "colorbar": {
              "outlinewidth": 0,
              "ticks": ""
             }
            },
            "type": "scatterpolargl"
           }
          ],
          "scatterternary": [
           {
            "marker": {
             "colorbar": {
              "outlinewidth": 0,
              "ticks": ""
             }
            },
            "type": "scatterternary"
           }
          ],
          "surface": [
           {
            "colorbar": {
             "outlinewidth": 0,
             "ticks": ""
            },
            "colorscale": [
             [
              0,
              "#0d0887"
             ],
             [
              0.1111111111111111,
              "#46039f"
             ],
             [
              0.2222222222222222,
              "#7201a8"
             ],
             [
              0.3333333333333333,
              "#9c179e"
             ],
             [
              0.4444444444444444,
              "#bd3786"
             ],
             [
              0.5555555555555556,
              "#d8576b"
             ],
             [
              0.6666666666666666,
              "#ed7953"
             ],
             [
              0.7777777777777778,
              "#fb9f3a"
             ],
             [
              0.8888888888888888,
              "#fdca26"
             ],
             [
              1,
              "#f0f921"
             ]
            ],
            "type": "surface"
           }
          ],
          "table": [
           {
            "cells": {
             "fill": {
              "color": "#EBF0F8"
             },
             "line": {
              "color": "white"
             }
            },
            "header": {
             "fill": {
              "color": "#C8D4E3"
             },
             "line": {
              "color": "white"
             }
            },
            "type": "table"
           }
          ]
         },
         "layout": {
          "annotationdefaults": {
           "arrowcolor": "#2a3f5f",
           "arrowhead": 0,
           "arrowwidth": 1
          },
          "autotypenumbers": "strict",
          "coloraxis": {
           "colorbar": {
            "outlinewidth": 0,
            "ticks": ""
           }
          },
          "colorscale": {
           "diverging": [
            [
             0,
             "#8e0152"
            ],
            [
             0.1,
             "#c51b7d"
            ],
            [
             0.2,
             "#de77ae"
            ],
            [
             0.3,
             "#f1b6da"
            ],
            [
             0.4,
             "#fde0ef"
            ],
            [
             0.5,
             "#f7f7f7"
            ],
            [
             0.6,
             "#e6f5d0"
            ],
            [
             0.7,
             "#b8e186"
            ],
            [
             0.8,
             "#7fbc41"
            ],
            [
             0.9,
             "#4d9221"
            ],
            [
             1,
             "#276419"
            ]
           ],
           "sequential": [
            [
             0,
             "#0d0887"
            ],
            [
             0.1111111111111111,
             "#46039f"
            ],
            [
             0.2222222222222222,
             "#7201a8"
            ],
            [
             0.3333333333333333,
             "#9c179e"
            ],
            [
             0.4444444444444444,
             "#bd3786"
            ],
            [
             0.5555555555555556,
             "#d8576b"
            ],
            [
             0.6666666666666666,
             "#ed7953"
            ],
            [
             0.7777777777777778,
             "#fb9f3a"
            ],
            [
             0.8888888888888888,
             "#fdca26"
            ],
            [
             1,
             "#f0f921"
            ]
           ],
           "sequentialminus": [
            [
             0,
             "#0d0887"
            ],
            [
             0.1111111111111111,
             "#46039f"
            ],
            [
             0.2222222222222222,
             "#7201a8"
            ],
            [
             0.3333333333333333,
             "#9c179e"
            ],
            [
             0.4444444444444444,
             "#bd3786"
            ],
            [
             0.5555555555555556,
             "#d8576b"
            ],
            [
             0.6666666666666666,
             "#ed7953"
            ],
            [
             0.7777777777777778,
             "#fb9f3a"
            ],
            [
             0.8888888888888888,
             "#fdca26"
            ],
            [
             1,
             "#f0f921"
            ]
           ]
          },
          "colorway": [
           "#636efa",
           "#EF553B",
           "#00cc96",
           "#ab63fa",
           "#FFA15A",
           "#19d3f3",
           "#FF6692",
           "#B6E880",
           "#FF97FF",
           "#FECB52"
          ],
          "font": {
           "color": "#2a3f5f"
          },
          "geo": {
           "bgcolor": "white",
           "lakecolor": "white",
           "landcolor": "#E5ECF6",
           "showlakes": true,
           "showland": true,
           "subunitcolor": "white"
          },
          "hoverlabel": {
           "align": "left"
          },
          "hovermode": "closest",
          "mapbox": {
           "style": "light"
          },
          "paper_bgcolor": "white",
          "plot_bgcolor": "#E5ECF6",
          "polar": {
           "angularaxis": {
            "gridcolor": "white",
            "linecolor": "white",
            "ticks": ""
           },
           "bgcolor": "#E5ECF6",
           "radialaxis": {
            "gridcolor": "white",
            "linecolor": "white",
            "ticks": ""
           }
          },
          "scene": {
           "xaxis": {
            "backgroundcolor": "#E5ECF6",
            "gridcolor": "white",
            "gridwidth": 2,
            "linecolor": "white",
            "showbackground": true,
            "ticks": "",
            "zerolinecolor": "white"
           },
           "yaxis": {
            "backgroundcolor": "#E5ECF6",
            "gridcolor": "white",
            "gridwidth": 2,
            "linecolor": "white",
            "showbackground": true,
            "ticks": "",
            "zerolinecolor": "white"
           },
           "zaxis": {
            "backgroundcolor": "#E5ECF6",
            "gridcolor": "white",
            "gridwidth": 2,
            "linecolor": "white",
            "showbackground": true,
            "ticks": "",
            "zerolinecolor": "white"
           }
          },
          "shapedefaults": {
           "line": {
            "color": "#2a3f5f"
           }
          },
          "ternary": {
           "aaxis": {
            "gridcolor": "white",
            "linecolor": "white",
            "ticks": ""
           },
           "baxis": {
            "gridcolor": "white",
            "linecolor": "white",
            "ticks": ""
           },
           "bgcolor": "#E5ECF6",
           "caxis": {
            "gridcolor": "white",
            "linecolor": "white",
            "ticks": ""
           }
          },
          "title": {
           "x": 0.05
          },
          "xaxis": {
           "automargin": true,
           "gridcolor": "white",
           "linecolor": "white",
           "ticks": "",
           "title": {
            "standoff": 15
           },
           "zerolinecolor": "white",
           "zerolinewidth": 2
          },
          "yaxis": {
           "automargin": true,
           "gridcolor": "white",
           "linecolor": "white",
           "ticks": "",
           "title": {
            "standoff": 15
           },
           "zerolinecolor": "white",
           "zerolinewidth": 2
          }
         }
        },
        "title": {
         "text": "Feature importance"
        },
        "xaxis": {
         "anchor": "y",
         "domain": [
          0,
          1
         ],
         "title": {
          "text": "feature_name"
         }
        },
        "yaxis": {
         "anchor": "x",
         "domain": [
          0,
          1
         ],
         "title": {
          "text": "feature_importance"
         },
         "type": "log"
        }
       }
      }
     },
     "metadata": {},
     "output_type": "display_data"
    },
    {
     "name": "stdout",
     "output_type": "stream",
     "text": [
      "The following features were dropped:\n",
      "['total_likes']\n"
     ]
    },
    {
     "data": {
      "image/png": "[encoded data removed]",
      "text/plain": [
       "<Figure size 1200x600 with 1 Axes>"
      ]
     },
     "metadata": {},
     "output_type": "display_data"
    },
    {
     "data": {
      "image/png": "[encoded data removed]",
      "text/plain": [
       "<Figure size 1200x600 with 1 Axes>"
      ]
     },
     "metadata": {},
     "output_type": "display_data"
    },
    {
     "data": {
      "image/png": "[encoded data removed]",
      "text/plain": [
       "<Figure size 1200x600 with 1 Axes>"
      ]
     },
     "metadata": {},
     "output_type": "display_data"
    },
    {
     "data": {
      "image/png": "[encoded data removed]",
      "text/plain": [
       "<Figure size 1200x600 with 1 Axes>"
      ]
     },
     "metadata": {},
     "output_type": "display_data"
    }
   ],
   "source": [
    "fold_classify_and_plot1(df, label, cv=10, max_tree_depth=10, criterion=\"entropy\")"
   ]
  },
  {
   "cell_type": "code",
   "execution_count": 16,
   "metadata": {},
   "outputs": [
    {
     "name": "stdout",
     "output_type": "stream",
     "text": [
      "{'Training Accuracy scores': array([0.85957191, 0.85987197, 0.85937187, 0.86027205, 0.85917183,\n",
      "       0.86267253, 0.86417283, 0.86257251, 0.85787157, 0.86028603]), 'Mean Training Accuracy': 86.05835138424824, 'Training Precision scores': array([0.79831199, 0.79874763, 0.79781977, 0.80140907, 0.7994152 ,\n",
      "       0.80370534, 0.80363157, 0.80272607, 0.79697499, 0.80375629]), 'Mean Training Precision': 0.800649792015572, 'Training Recall scores': array([0.99672965, 0.99654797, 0.99727471, 0.99200581, 0.9934593 ,\n",
      "       0.99309593, 0.9969119 , 0.99491371, 0.99545867, 0.98728429]), 'Mean Training Recall': 0.9943681946116637, 'Training F1 scores': array([0.88655462, 0.88675127, 0.88646641, 0.88657952, 0.88593649,\n",
      "       0.88841934, 0.88989784, 0.8885464 , 0.88522736, 0.88611723]), 'Mean Training F1 Score': 0.8870496487972279, 'Validation Accuracy scores': array([0.83258326, 0.82988299, 0.85238524, 0.84158416, 0.84068407,\n",
      "       0.80738074, 0.83348335, 0.83708371, 0.84068407, 0.84684685]), 'Mean Validation Accuracy': 83.62598422004362, 'Validation Precision scores': array([0.7751938 , 0.77290323, 0.79708223, 0.79144385, 0.78961385,\n",
      "       0.75578406, 0.77952756, 0.78897849, 0.78181818, 0.80246914]), 'Mean Validation Precision': 0.7834814383838635, 'Validation Recall scores': array([0.98039216, 0.97875817, 0.98202614, 0.96732026, 0.96895425,\n",
      "       0.96078431, 0.97217676, 0.96072013, 0.98527005, 0.95744681]), 'Mean Validation Recall': 0.9713849042071822, 'Validation F1 scores': array([0.86580087, 0.86373468, 0.87994143, 0.87058824, 0.8701394 ,\n",
      "       0.84604317, 0.86525856, 0.86642066, 0.87183201, 0.87313433]), 'Mean Validation F1 Score': 0.8672893335218609}\n"
     ]
    },
    {
     "data": {
      "application/vnd.plotly.v1+json": {
       "config": {
        "plotlyServerURL": "https://plot.ly"
       },
       "data": [
        {
         "alignmentgroup": "True",
         "hovertemplate": "feature_name=%{x}<br>feature_importance=%{y}<extra></extra>",
         "legendgroup": "",
         "marker": {
          "color": "#636efa",
          "pattern": {
           "shape": ""
          }
         },
         "name": "",
         "offsetgroup": "",
         "orientation": "v",
         "showlegend": false,
         "textposition": "auto",
         "type": "bar",
         "x": [
          "total_retweet_count",
          "entropy_text",
          "entropy_original_text",
          "lang_num",
          "number_of_tweets",
          "tweet_num_replies_ratio",
          "account_average_tweets_per_day",
          "account_age_in_days",
          "tweet_num_likes_ratio",
          "entropy_for_hour",
          "avg_special_char_in_text",
          "avg_text_length",
          "account_discussion_creation_ratio",
          "avg_mentions",
          "avt_reply_count",
          "avg_hashtags",
          "mode_count",
          "mean_inactive_period_length_in_seconds",
          "total_replies",
          "max_number_of_tweets_in_a_day",
          "median_inactive_period_length_in_seconds",
          "entropy_for_minute",
          "avg_tweets_per_actual_day",
          "avt_favorite_count",
          "entropy_for_day",
          "statuses_count"
         ],
         "xaxis": "x",
         "y": [
          0.5573620408104327,
          0.15772451004671875,
          0.046825117643519,
          0.02937387961796529,
          0.02924922790424691,
          0.025043796924224142,
          0.0222178235105288,
          0.015829811221725044,
          0.014171172521152284,
          0.013458886935789071,
          0.013424413047859424,
          0.01051833595054515,
          0.008095136094134172,
          0.007790075933606084,
          0.007775877579913661,
          0.007774776931194512,
          0.006389649106184606,
          0.00484739032791006,
          0.004057880696252963,
          0.003960194995728865,
          0.0035598789307791363,
          0.0033285049624549356,
          0.003168301502459942,
          0.0028179124907864966,
          0.0007023333579852412,
          0.0005330709559028831
         ],
         "yaxis": "y"
        }
       ],
       "layout": {
        "barmode": "relative",
        "legend": {
         "tracegroupgap": 0
        },
        "template": {
         "data": {
          "bar": [
           {
            "error_x": {
             "color": "#2a3f5f"
            },
            "error_y": {
             "color": "#2a3f5f"
            },
            "marker": {
             "line": {
              "color": "#E5ECF6",
              "width": 0.5
             },
             "pattern": {
              "fillmode": "overlay",
              "size": 10,
              "solidity": 0.2
             }
            },
            "type": "bar"
           }
          ],
          "barpolar": [
           {
            "marker": {
             "line": {
              "color": "#E5ECF6",
              "width": 0.5
             },
             "pattern": {
              "fillmode": "overlay",
              "size": 10,
              "solidity": 0.2
             }
            },
            "type": "barpolar"
           }
          ],
          "carpet": [
           {
            "aaxis": {
             "endlinecolor": "#2a3f5f",
             "gridcolor": "white",
             "linecolor": "white",
             "minorgridcolor": "white",
             "startlinecolor": "#2a3f5f"
            },
            "baxis": {
             "endlinecolor": "#2a3f5f",
             "gridcolor": "white",
             "linecolor": "white",
             "minorgridcolor": "white",
             "startlinecolor": "#2a3f5f"
            },
            "type": "carpet"
           }
          ],
          "choropleth": [
           {
            "colorbar": {
             "outlinewidth": 0,
             "ticks": ""
            },
            "type": "choropleth"
           }
          ],
          "contour": [
           {
            "colorbar": {
             "outlinewidth": 0,
             "ticks": ""
            },
            "colorscale": [
             [
              0,
              "#0d0887"
             ],
             [
              0.1111111111111111,
              "#46039f"
             ],
             [
              0.2222222222222222,
              "#7201a8"
             ],
             [
              0.3333333333333333,
              "#9c179e"
             ],
             [
              0.4444444444444444,
              "#bd3786"
             ],
             [
              0.5555555555555556,
              "#d8576b"
             ],
             [
              0.6666666666666666,
              "#ed7953"
             ],
             [
              0.7777777777777778,
              "#fb9f3a"
             ],
             [
              0.8888888888888888,
              "#fdca26"
             ],
             [
              1,
              "#f0f921"
             ]
            ],
            "type": "contour"
           }
          ],
          "contourcarpet": [
           {
            "colorbar": {
             "outlinewidth": 0,
             "ticks": ""
            },
            "type": "contourcarpet"
           }
          ],
          "heatmap": [
           {
            "colorbar": {
             "outlinewidth": 0,
             "ticks": ""
            },
            "colorscale": [
             [
              0,
              "#0d0887"
             ],
             [
              0.1111111111111111,
              "#46039f"
             ],
             [
              0.2222222222222222,
              "#7201a8"
             ],
             [
              0.3333333333333333,
              "#9c179e"
             ],
             [
              0.4444444444444444,
              "#bd3786"
             ],
             [
              0.5555555555555556,
              "#d8576b"
             ],
             [
              0.6666666666666666,
              "#ed7953"
             ],
             [
              0.7777777777777778,
              "#fb9f3a"
             ],
             [
              0.8888888888888888,
              "#fdca26"
             ],
             [
              1,
              "#f0f921"
             ]
            ],
            "type": "heatmap"
           }
          ],
          "heatmapgl": [
           {
            "colorbar": {
             "outlinewidth": 0,
             "ticks": ""
            },
            "colorscale": [
             [
              0,
              "#0d0887"
             ],
             [
              0.1111111111111111,
              "#46039f"
             ],
             [
              0.2222222222222222,
              "#7201a8"
             ],
             [
              0.3333333333333333,
              "#9c179e"
             ],
             [
              0.4444444444444444,
              "#bd3786"
             ],
             [
              0.5555555555555556,
              "#d8576b"
             ],
             [
              0.6666666666666666,
              "#ed7953"
             ],
             [
              0.7777777777777778,
              "#fb9f3a"
             ],
             [
              0.8888888888888888,
              "#fdca26"
             ],
             [
              1,
              "#f0f921"
             ]
            ],
            "type": "heatmapgl"
           }
          ],
          "histogram": [
           {
            "marker": {
             "pattern": {
              "fillmode": "overlay",
              "size": 10,
              "solidity": 0.2
             }
            },
            "type": "histogram"
           }
          ],
          "histogram2d": [
           {
            "colorbar": {
             "outlinewidth": 0,
             "ticks": ""
            },
            "colorscale": [
             [
              0,
              "#0d0887"
             ],
             [
              0.1111111111111111,
              "#46039f"
             ],
             [
              0.2222222222222222,
              "#7201a8"
             ],
             [
              0.3333333333333333,
              "#9c179e"
             ],
             [
              0.4444444444444444,
              "#bd3786"
             ],
             [
              0.5555555555555556,
              "#d8576b"
             ],
             [
              0.6666666666666666,
              "#ed7953"
             ],
             [
              0.7777777777777778,
              "#fb9f3a"
             ],
             [
              0.8888888888888888,
              "#fdca26"
             ],
             [
              1,
              "#f0f921"
             ]
            ],
            "type": "histogram2d"
           }
          ],
          "histogram2dcontour": [
           {
            "colorbar": {
             "outlinewidth": 0,
             "ticks": ""
            },
            "colorscale": [
             [
              0,
              "#0d0887"
             ],
             [
              0.1111111111111111,
              "#46039f"
             ],
             [
              0.2222222222222222,
              "#7201a8"
             ],
             [
              0.3333333333333333,
              "#9c179e"
             ],
             [
              0.4444444444444444,
              "#bd3786"
             ],
             [
              0.5555555555555556,
              "#d8576b"
             ],
             [
              0.6666666666666666,
              "#ed7953"
             ],
             [
              0.7777777777777778,
              "#fb9f3a"
             ],
             [
              0.8888888888888888,
              "#fdca26"
             ],
             [
              1,
              "#f0f921"
             ]
            ],
            "type": "histogram2dcontour"
           }
          ],
          "mesh3d": [
           {
            "colorbar": {
             "outlinewidth": 0,
             "ticks": ""
            },
            "type": "mesh3d"
           }
          ],
          "parcoords": [
           {
            "line": {
             "colorbar": {
              "outlinewidth": 0,
              "ticks": ""
             }
            },
            "type": "parcoords"
           }
          ],
          "pie": [
           {
            "automargin": true,
            "type": "pie"
           }
          ],
          "scatter": [
           {
            "fillpattern": {
             "fillmode": "overlay",
             "size": 10,
             "solidity": 0.2
            },
            "type": "scatter"
           }
          ],
          "scatter3d": [
           {
            "line": {
             "colorbar": {
              "outlinewidth": 0,
              "ticks": ""
             }
            },
            "marker": {
             "colorbar": {
              "outlinewidth": 0,
              "ticks": ""
             }
            },
            "type": "scatter3d"
           }
          ],
          "scattercarpet": [
           {
            "marker": {
             "colorbar": {
              "outlinewidth": 0,
              "ticks": ""
             }
            },
            "type": "scattercarpet"
           }
          ],
          "scattergeo": [
           {
            "marker": {
             "colorbar": {
              "outlinewidth": 0,
              "ticks": ""
             }
            },
            "type": "scattergeo"
           }
          ],
          "scattergl": [
           {
            "marker": {
             "colorbar": {
              "outlinewidth": 0,
              "ticks": ""
             }
            },
            "type": "scattergl"
           }
          ],
          "scattermapbox": [
           {
            "marker": {
             "colorbar": {
              "outlinewidth": 0,
              "ticks": ""
             }
            },
            "type": "scattermapbox"
           }
          ],
          "scatterpolar": [
           {
            "marker": {
             "colorbar": {
              "outlinewidth": 0,
              "ticks": ""
             }
            },
            "type": "scatterpolar"
           }
          ],
          "scatterpolargl": [
           {
            "marker": {
             "colorbar": {
              "outlinewidth": 0,
              "ticks": ""
             }
            },
            "type": "scatterpolargl"
           }
          ],
          "scatterternary": [
           {
            "marker": {
             "colorbar": {
              "outlinewidth": 0,
              "ticks": ""
             }
            },
            "type": "scatterternary"
           }
          ],
          "surface": [
           {
            "colorbar": {
             "outlinewidth": 0,
             "ticks": ""
            },
            "colorscale": [
             [
              0,
              "#0d0887"
             ],
             [
              0.1111111111111111,
              "#46039f"
             ],
             [
              0.2222222222222222,
              "#7201a8"
             ],
             [
              0.3333333333333333,
              "#9c179e"
             ],
             [
              0.4444444444444444,
              "#bd3786"
             ],
             [
              0.5555555555555556,
              "#d8576b"
             ],
             [
              0.6666666666666666,
              "#ed7953"
             ],
             [
              0.7777777777777778,
              "#fb9f3a"
             ],
             [
              0.8888888888888888,
              "#fdca26"
             ],
             [
              1,
              "#f0f921"
             ]
            ],
            "type": "surface"
           }
          ],
          "table": [
           {
            "cells": {
             "fill": {
              "color": "#EBF0F8"
             },
             "line": {
              "color": "white"
             }
            },
            "header": {
             "fill": {
              "color": "#C8D4E3"
             },
             "line": {
              "color": "white"
             }
            },
            "type": "table"
           }
          ]
         },
         "layout": {
          "annotationdefaults": {
           "arrowcolor": "#2a3f5f",
           "arrowhead": 0,
           "arrowwidth": 1
          },
          "autotypenumbers": "strict",
          "coloraxis": {
           "colorbar": {
            "outlinewidth": 0,
            "ticks": ""
           }
          },
          "colorscale": {
           "diverging": [
            [
             0,
             "#8e0152"
            ],
            [
             0.1,
             "#c51b7d"
            ],
            [
             0.2,
             "#de77ae"
            ],
            [
             0.3,
             "#f1b6da"
            ],
            [
             0.4,
             "#fde0ef"
            ],
            [
             0.5,
             "#f7f7f7"
            ],
            [
             0.6,
             "#e6f5d0"
            ],
            [
             0.7,
             "#b8e186"
            ],
            [
             0.8,
             "#7fbc41"
            ],
            [
             0.9,
             "#4d9221"
            ],
            [
             1,
             "#276419"
            ]
           ],
           "sequential": [
            [
             0,
             "#0d0887"
            ],
            [
             0.1111111111111111,
             "#46039f"
            ],
            [
             0.2222222222222222,
             "#7201a8"
            ],
            [
             0.3333333333333333,
             "#9c179e"
            ],
            [
             0.4444444444444444,
             "#bd3786"
            ],
            [
             0.5555555555555556,
             "#d8576b"
            ],
            [
             0.6666666666666666,
             "#ed7953"
            ],
            [
             0.7777777777777778,
             "#fb9f3a"
            ],
            [
             0.8888888888888888,
             "#fdca26"
            ],
            [
             1,
             "#f0f921"
            ]
           ],
           "sequentialminus": [
            [
             0,
             "#0d0887"
            ],
            [
             0.1111111111111111,
             "#46039f"
            ],
            [
             0.2222222222222222,
             "#7201a8"
            ],
            [
             0.3333333333333333,
             "#9c179e"
            ],
            [
             0.4444444444444444,
             "#bd3786"
            ],
            [
             0.5555555555555556,
             "#d8576b"
            ],
            [
             0.6666666666666666,
             "#ed7953"
            ],
            [
             0.7777777777777778,
             "#fb9f3a"
            ],
            [
             0.8888888888888888,
             "#fdca26"
            ],
            [
             1,
             "#f0f921"
            ]
           ]
          },
          "colorway": [
           "#636efa",
           "#EF553B",
           "#00cc96",
           "#ab63fa",
           "#FFA15A",
           "#19d3f3",
           "#FF6692",
           "#B6E880",
           "#FF97FF",
           "#FECB52"
          ],
          "font": {
           "color": "#2a3f5f"
          },
          "geo": {
           "bgcolor": "white",
           "lakecolor": "white",
           "landcolor": "#E5ECF6",
           "showlakes": true,
           "showland": true,
           "subunitcolor": "white"
          },
          "hoverlabel": {
           "align": "left"
          },
          "hovermode": "closest",
          "mapbox": {
           "style": "light"
          },
          "paper_bgcolor": "white",
          "plot_bgcolor": "#E5ECF6",
          "polar": {
           "angularaxis": {
            "gridcolor": "white",
            "linecolor": "white",
            "ticks": ""
           },
           "bgcolor": "#E5ECF6",
           "radialaxis": {
            "gridcolor": "white",
            "linecolor": "white",
            "ticks": ""
           }
          },
          "scene": {
           "xaxis": {
            "backgroundcolor": "#E5ECF6",
            "gridcolor": "white",
            "gridwidth": 2,
            "linecolor": "white",
            "showbackground": true,
            "ticks": "",
            "zerolinecolor": "white"
           },
           "yaxis": {
            "backgroundcolor": "#E5ECF6",
            "gridcolor": "white",
            "gridwidth": 2,
            "linecolor": "white",
            "showbackground": true,
            "ticks": "",
            "zerolinecolor": "white"
           },
           "zaxis": {
            "backgroundcolor": "#E5ECF6",
            "gridcolor": "white",
            "gridwidth": 2,
            "linecolor": "white",
            "showbackground": true,
            "ticks": "",
            "zerolinecolor": "white"
           }
          },
          "shapedefaults": {
           "line": {
            "color": "#2a3f5f"
           }
          },
          "ternary": {
           "aaxis": {
            "gridcolor": "white",
            "linecolor": "white",
            "ticks": ""
           },
           "baxis": {
            "gridcolor": "white",
            "linecolor": "white",
            "ticks": ""
           },
           "bgcolor": "#E5ECF6",
           "caxis": {
            "gridcolor": "white",
            "linecolor": "white",
            "ticks": ""
           }
          },
          "title": {
           "x": 0.05
          },
          "xaxis": {
           "automargin": true,
           "gridcolor": "white",
           "linecolor": "white",
           "ticks": "",
           "title": {
            "standoff": 15
           },
           "zerolinecolor": "white",
           "zerolinewidth": 2
          },
          "yaxis": {
           "automargin": true,
           "gridcolor": "white",
           "linecolor": "white",
           "ticks": "",
           "title": {
            "standoff": 15
           },
           "zerolinecolor": "white",
           "zerolinewidth": 2
          }
         }
        },
        "title": {
         "text": "Feature importance"
        },
        "xaxis": {
         "anchor": "y",
         "domain": [
          0,
          1
         ],
         "title": {
          "text": "feature_name"
         }
        },
        "yaxis": {
         "anchor": "x",
         "domain": [
          0,
          1
         ],
         "title": {
          "text": "feature_importance"
         },
         "type": "log"
        }
       }
      }
     },
     "metadata": {},
     "output_type": "display_data"
    },
    {
     "name": "stdout",
     "output_type": "stream",
     "text": [
      "The following features were dropped:\n",
      "['total_likes', 'mode_inactive_period_length_in_seconds']\n"
     ]
    },
    {
     "data": {
      "image/png": "[encoded data removed]",
      "text/plain": [
       "<Figure size 1200x600 with 1 Axes>"
      ]
     },
     "metadata": {},
     "output_type": "display_data"
    },
    {
     "data": {
      "image/png": "[encoded data removed]",
      "text/plain": [
       "<Figure size 1200x600 with 1 Axes>"
      ]
     },
     "metadata": {},
     "output_type": "display_data"
    },
    {
     "data": {
      "image/png": "[encoded data removed]",
      "text/plain": [
       "<Figure size 1200x600 with 1 Axes>"
      ]
     },
     "metadata": {},
     "output_type": "display_data"
    },
    {
     "data": {
      "image/png": "[encoded data removed]",
      "text/plain": [
       "<Figure size 1200x600 with 1 Axes>"
      ]
     },
     "metadata": {},
     "output_type": "display_data"
    }
   ],
   "source": [
    "fold_classify_and_plot2(df, label, cv=10, max_tree_depth= 10, criterion=\"entropy\") # no fit"
   ]
  },
  {
   "cell_type": "code",
   "execution_count": 17,
   "metadata": {},
   "outputs": [
    {
     "ename": "TypeError",
     "evalue": "fold_classify_and_plot1() missing 1 required positional argument: 'criterion'",
     "output_type": "error",
     "traceback": [
      "\u001b[1;31m---------------------------------------------------------------------------\u001b[0m",
      "\u001b[1;31mTypeError\u001b[0m                                 Traceback (most recent call last)",
      "Cell \u001b[1;32mIn [17], line 1\u001b[0m\n\u001b[1;32m----> 1\u001b[0m fold_classify_and_plot1(df, label, cv\u001b[39m=\u001b[39m\u001b[39m10\u001b[39m, max_tree_depth\u001b[39m=\u001b[39m \u001b[39m5\u001b[39m)\n",
      "\u001b[1;31mTypeError\u001b[0m: fold_classify_and_plot1() missing 1 required positional argument: 'criterion'"
     ]
    }
   ],
   "source": [
    "fold_classify_and_plot1(df, label, cv=10, max_tree_depth= 5)"
   ]
  },
  {
   "cell_type": "code",
   "execution_count": null,
   "metadata": {},
   "outputs": [],
   "source": [
    "fold_classify_and_plot2(df, label, cv=10, max_tree_depth= 5)"
   ]
  },
  {
   "cell_type": "code",
   "execution_count": null,
   "metadata": {},
   "outputs": [],
   "source": []
  }
 ],
 "metadata": {
  "kernelspec": {
   "display_name": "Python 3.10.4 64-bit",
   "language": "python",
   "name": "python3"
  },
  "language_info": {
   "codemirror_mode": {
    "name": "ipython",
    "version": 3
   },
   "file_extension": ".py",
   "mimetype": "text/x-python",
   "name": "python",
   "nbconvert_exporter": "python",
   "pygments_lexer": "ipython3",
   "version": "3.10.4"
  },
  "orig_nbformat": 4,
  "vscode": {
   "interpreter": {
    "hash": "beedbe2faf2f7048d727558d0bc3221e7eba2a0b921cac4d4771b2feb8f74b30"
   }
  }
 },
 "nbformat": 4,
 "nbformat_minor": 2
}
